{
 "cells": [
  {
   "cell_type": "code",
   "execution_count": 2,
   "metadata": {},
   "outputs": [],
   "source": [
    "import ndjson\n",
    "import numpy as np\n",
    "from imblearn.under_sampling import RandomUnderSampler\n",
    "from collections import Counter\n",
    "import pandas as pd"
   ]
  },
  {
   "cell_type": "code",
   "execution_count": 14,
   "metadata": {},
   "outputs": [
    {
     "name": "stdout",
     "output_type": "stream",
     "text": [
      "Total errors found:  261\n",
      "Total reviews:  478318\n"
     ]
    }
   ],
   "source": [
    "ratings = []\n",
    "reviews = []\n",
    "summaries = []\n",
    "\n",
    "with open(\"data/Video_Games_5.json\", \"r\") as infile:\n",
    "    reader = ndjson.reader(infile)\n",
    "    errorCount = 0\n",
    "    for review in reader:\n",
    "        try:\n",
    "            rating = review[\"overall\"]\n",
    "            reviewText = review[\"reviewText\"]\n",
    "            reviewSummary = review[\"summary\"]\n",
    "        except Exception as e:\n",
    "            errorCount += 1\n",
    "            continue\n",
    "        \n",
    "        # condition to filter the reviews\n",
    "        if len(reviewText) > 5 and len(reviewSummary) > 3:\n",
    "            ratings.append(rating)\n",
    "            reviews.append(reviewText.replace('\\n',' '))\n",
    "            summaries.append(reviewSummary)\n",
    "    print('Total errors found: ',errorCount)\n",
    "    print('Total reviews: ',len(reviews))"
   ]
  },
  {
   "cell_type": "code",
   "execution_count": 16,
   "metadata": {},
   "outputs": [
    {
     "data": {
      "text/html": [
       "<div>\n",
       "<style scoped>\n",
       "    .dataframe tbody tr th:only-of-type {\n",
       "        vertical-align: middle;\n",
       "    }\n",
       "\n",
       "    .dataframe tbody tr th {\n",
       "        vertical-align: top;\n",
       "    }\n",
       "\n",
       "    .dataframe thead th {\n",
       "        text-align: right;\n",
       "    }\n",
       "</style>\n",
       "<table border=\"1\" class=\"dataframe\">\n",
       "  <thead>\n",
       "    <tr style=\"text-align: right;\">\n",
       "      <th></th>\n",
       "      <th>ratings</th>\n",
       "      <th>reviews</th>\n",
       "      <th>summaries</th>\n",
       "    </tr>\n",
       "  </thead>\n",
       "  <tbody>\n",
       "    <tr>\n",
       "      <th>0</th>\n",
       "      <td>5.0</td>\n",
       "      <td>This game is a bit hard to get the hang of, bu...</td>\n",
       "      <td>but when you do it's great.</td>\n",
       "    </tr>\n",
       "    <tr>\n",
       "      <th>1</th>\n",
       "      <td>4.0</td>\n",
       "      <td>I played it a while but it was alright. The st...</td>\n",
       "      <td>But in spite of that it was fun, I liked it</td>\n",
       "    </tr>\n",
       "    <tr>\n",
       "      <th>2</th>\n",
       "      <td>3.0</td>\n",
       "      <td>ok game.</td>\n",
       "      <td>Three Stars</td>\n",
       "    </tr>\n",
       "    <tr>\n",
       "      <th>3</th>\n",
       "      <td>2.0</td>\n",
       "      <td>found the game a bit too complicated, not what...</td>\n",
       "      <td>Two Stars</td>\n",
       "    </tr>\n",
       "    <tr>\n",
       "      <th>4</th>\n",
       "      <td>5.0</td>\n",
       "      <td>great game, I love it and have played it since...</td>\n",
       "      <td>love this game</td>\n",
       "    </tr>\n",
       "  </tbody>\n",
       "</table>\n",
       "</div>"
      ],
      "text/plain": [
       "   ratings                                            reviews  \\\n",
       "0      5.0  This game is a bit hard to get the hang of, bu...   \n",
       "1      4.0  I played it a while but it was alright. The st...   \n",
       "2      3.0                                           ok game.   \n",
       "3      2.0  found the game a bit too complicated, not what...   \n",
       "4      5.0  great game, I love it and have played it since...   \n",
       "\n",
       "                                     summaries  \n",
       "0                  but when you do it's great.  \n",
       "1  But in spite of that it was fun, I liked it  \n",
       "2                                  Three Stars  \n",
       "3                                    Two Stars  \n",
       "4                               love this game  "
      ]
     },
     "execution_count": 16,
     "metadata": {},
     "output_type": "execute_result"
    }
   ],
   "source": [
    "# Create a dataframe of the data.\n",
    "ratingsDf = pd.DataFrame({'ratings':ratings, 'reviews':reviews, 'summaries':summaries})\n",
    "ratingsDf.head(5)"
   ]
  },
  {
   "cell_type": "code",
   "execution_count": 21,
   "metadata": {},
   "outputs": [
    {
     "data": {
      "text/plain": [
       "array([<AxesSubplot:ylabel='Frequency'>], dtype=object)"
      ]
     },
     "execution_count": 21,
     "metadata": {},
     "output_type": "execute_result"
    },
    {
     "data": {
      "image/png": "[encoded data removed]",
      "text/plain": [
       "<Figure size 432x288 with 1 Axes>"
      ]
     },
     "metadata": {
      "needs_background": "light"
     },
     "output_type": "display_data"
    }
   ],
   "source": [
    "# histogram of ratings\n",
    "#ratingsDf.ratings.hist()\n",
    "ratingsDf.ratings.plot(kind='hist',subplots=True,sharex=True,sharey=True,title='Ratings distribution')"
   ]
  },
  {
   "cell_type": "code",
   "execution_count": 37,
   "metadata": {},
   "outputs": [],
   "source": [
    "# building the sampler\n",
    "seed = 100\n",
    "randomSampler = RandomUnderSampler(\n",
    "    sampling_strategy={1.0: 1500, 2.0: 500, 3.0: 500, 4.0: 500, 5.0: 1500},\n",
    "    random_state=seed,\n",
    ")\n",
    "\n",
    "indices = list(range(len(reviews)))\n",
    "indices_small, ratings_sample = randomSampler.fit_resample(\n",
    "    np.array(indices).reshape(-1, 1), ratingsDf.ratings\n",
    ")"
   ]
  },
  {
   "cell_type": "code",
   "execution_count": 57,
   "metadata": {},
   "outputs": [
    {
     "data": {
      "text/html": [
       "<div>\n",
       "<style scoped>\n",
       "    .dataframe tbody tr th:only-of-type {\n",
       "        vertical-align: middle;\n",
       "    }\n",
       "\n",
       "    .dataframe tbody tr th {\n",
       "        vertical-align: top;\n",
       "    }\n",
       "\n",
       "    .dataframe thead th {\n",
       "        text-align: right;\n",
       "    }\n",
       "</style>\n",
       "<table border=\"1\" class=\"dataframe\">\n",
       "  <thead>\n",
       "    <tr style=\"text-align: right;\">\n",
       "      <th></th>\n",
       "      <th>ratings</th>\n",
       "      <th>reviews</th>\n",
       "      <th>summaries</th>\n",
       "    </tr>\n",
       "  </thead>\n",
       "  <tbody>\n",
       "    <tr>\n",
       "      <th>0</th>\n",
       "      <td>1.0</td>\n",
       "      <td>Very poor effort.  Everyone just jumping aroun...</td>\n",
       "      <td>Terrible</td>\n",
       "    </tr>\n",
       "    <tr>\n",
       "      <th>1</th>\n",
       "      <td>1.0</td>\n",
       "      <td>This one of a bomb.  Nothing worked properly, ...</td>\n",
       "      <td>The Pits</td>\n",
       "    </tr>\n",
       "    <tr>\n",
       "      <th>2</th>\n",
       "      <td>1.0</td>\n",
       "      <td>Give me a freakin break! I go in and buy a box...</td>\n",
       "      <td>Good Game, Lousy distribution</td>\n",
       "    </tr>\n",
       "    <tr>\n",
       "      <th>3</th>\n",
       "      <td>1.0</td>\n",
       "      <td>Dont buy this game . I love the ride at Disney...</td>\n",
       "      <td>Dont buy</td>\n",
       "    </tr>\n",
       "    <tr>\n",
       "      <th>4</th>\n",
       "      <td>1.0</td>\n",
       "      <td>The clip doesn't hold it's position, so the ki...</td>\n",
       "      <td>Not worth the cost of shipping!</td>\n",
       "    </tr>\n",
       "  </tbody>\n",
       "</table>\n",
       "</div>"
      ],
      "text/plain": [
       "   ratings                                            reviews  \\\n",
       "0      1.0  Very poor effort.  Everyone just jumping aroun...   \n",
       "1      1.0  This one of a bomb.  Nothing worked properly, ...   \n",
       "2      1.0  Give me a freakin break! I go in and buy a box...   \n",
       "3      1.0  Dont buy this game . I love the ride at Disney...   \n",
       "4      1.0  The clip doesn't hold it's position, so the ki...   \n",
       "\n",
       "                         summaries  \n",
       "0                         Terrible  \n",
       "1                         The Pits  \n",
       "2    Good Game, Lousy distribution  \n",
       "3                         Dont buy  \n",
       "4  Not worth the cost of shipping!  "
      ]
     },
     "execution_count": 57,
     "metadata": {},
     "output_type": "execute_result"
    },
    {
     "data": {
      "image/png": "[encoded data removed]",
      "text/plain": [
       "<Figure size 432x288 with 1 Axes>"
      ]
     },
     "metadata": {
      "needs_background": "light"
     },
     "output_type": "display_data"
    }
   ],
   "source": [
    "## build a small dataset\n",
    "listOfsmallIndices = np.ndarray.flatten(indices_small).tolist()\n",
    "smallSampleDf = ratingsDf.loc[listOfsmallIndices]\n",
    "smallSample.ratings.plot(kind='hist',subplots=True,sharex=True,sharey=True,title='Ratings distribution')\n",
    "smallSample.head(5)"
   ]
  },
  {
   "cell_type": "code",
   "execution_count": 58,
   "metadata": {},
   "outputs": [
    {
     "name": "stdout",
     "output_type": "stream",
     "text": [
      "473818\n"
     ]
    }
   ],
   "source": [
    "# build large dataset\n",
    "\n",
    "## get indexes other than the ones used to build small dataset\n",
    "largeDataIndexes = [index for index in ratingsDf.index if index not in listOfsmallIndices ]\n",
    "remainingRatingsDf = ratingsDf.loc[largeDataIndexes]\n",
    "print(remainingRatingsDf.ratings.count())\n",
    "\n",
    "## Get randomized large dataset  from the remaining dataset\n",
    "largeSampleIndices = np.random.randint(remainingRatingsDf.ratings.count(), size=100000)\n",
    "langeSampleDf = ratingsDf.loc[largeSampleIndices.tolist()]"
   ]
  },
  {
   "cell_type": "code",
   "execution_count": 61,
   "metadata": {},
   "outputs": [],
   "source": [
    "# Store the dataset in files\n",
    "with open(\"data/data-set/review_corpus_small.tsv\", \"w\") as outfile:\n",
    "    outfile.write(smallSampleDf.to_csv(index=False, sep=\"\\t\"))\n",
    "\n",
    "with open(\"data/data-set/reviews_corpus_large.tsv\", \"w\") as outfile:\n",
    "    outfile.write(langeSampleDf.to_csv(index=False, sep=\"\\t\"))"
   ]
  },
  {
   "cell_type": "code",
   "execution_count": null,
   "metadata": {},
   "outputs": [],
   "source": []
  }
 ],
 "metadata": {
  "kernelspec": {
   "display_name": "Python 3",
   "language": "python",
   "name": "python3"
  },
  "language_info": {
   "codemirror_mode": {
    "name": "ipython",
    "version": 3
   },
   "file_extension": ".py",
   "mimetype": "text/x-python",
   "name": "python",
   "nbconvert_exporter": "python",
   "pygments_lexer": "ipython3",
   "version": "3.7.9"
  }
 },
 "nbformat": 4,
 "nbformat_minor": 4
}

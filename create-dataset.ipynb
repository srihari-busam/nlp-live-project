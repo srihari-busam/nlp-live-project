{
 "cells": [
  {
   "cell_type": "code",
   "execution_count": 61,
   "metadata": {},
   "outputs": [],
   "source": [
    "import ndjson\n",
    "import numpy as np\n",
    "from imblearn.under_sampling import RandomUnderSampler\n",
    "\n",
    "import pandas as pd\n",
    "from collections import Counter\n",
    "\n",
    "import altair as alt\n",
    "# Optional in Jupyter Notebook: requires an up-to-date vega nbextension.\n",
    "alt.renderers.enable('mimetype')\n",
    "\n",
    "import random"
   ]
  },
  {
   "cell_type": "code",
   "execution_count": 62,
   "metadata": {},
   "outputs": [],
   "source": [
    "verified_reviews = []\n",
    "un_verified_reviews = []\n",
    "\n",
    "with open(\"data/Video_Games_5.json\", \"r\") as infile:\n",
    "    reader = ndjson.reader(infile)\n",
    "    \n",
    "    review_dict = {}\n",
    "    \n",
    "    for review in reader:\n",
    "        try:\n",
    "            review_dict['ratings'] = review[\"overall\"]\n",
    "            review_dict['reviewText'] = review[\"reviewText\"]\n",
    "            review_dict['summary'] = review[\"summary\"]\n",
    "            review_dict['asin'] = review[\"asin\"]\n",
    "            review_dict['unixReviewTime'] = review[\"unixReviewTime\"]\n",
    "        except Exception as e:\n",
    "            continue\n",
    "    \n",
    "        # filtering the data set to get reviews with minimum characters\n",
    "        if len(review_dict['reviewText']) > 3 and len(review_dict['summary'])  > 0:\n",
    "            \n",
    "            # Sanitize text\n",
    "            review_dict['reviewText'] = review_dict['reviewText'].replace('\\n', ' ')\n",
    "            review_dict['summary'] = review_dict['summary'].replace('\\n', ' ')\n",
    "            \n",
    "            if review['verified'] == True:\n",
    "                verified_reviews.append(review_dict.copy())\n",
    "            else:\n",
    "                un_verified_reviews.append(review_dict.copy())"
   ]
  },
  {
   "cell_type": "code",
   "execution_count": 63,
   "metadata": {},
   "outputs": [
    {
     "name": "stdout",
     "output_type": "stream",
     "text": [
      "328964\n",
      "164751\n"
     ]
    }
   ],
   "source": [
    "print(len(verified_reviews))\n",
    "print(len(un_verified_reviews))"
   ]
  },
  {
   "cell_type": "markdown",
   "metadata": {},
   "source": [
    "## Save verified and un-verified source data"
   ]
  },
  {
   "cell_type": "code",
   "execution_count": 64,
   "metadata": {},
   "outputs": [],
   "source": [
    "verified_df = pd.DataFrame(verified_reviews)\n",
    "with open(\"data/verified_reviews.tsv\", \"w\") as outfile:\n",
    "    outfile.write(verified_df.to_csv(index=False, sep=\"\\t\"))"
   ]
  },
  {
   "cell_type": "code",
   "execution_count": 65,
   "metadata": {},
   "outputs": [],
   "source": [
    "un_verified_df = pd.DataFrame(un_verified_reviews)\n",
    "with open(\"data/un_verified_reviews.tsv\", \"w\") as outfile:\n",
    "    outfile.write(un_verified_df.to_csv(index=False, sep=\"\\t\"))"
   ]
  },
  {
   "cell_type": "markdown",
   "metadata": {},
   "source": [
    "## Create a random sampler for creating corpus"
   ]
  },
  {
   "cell_type": "code",
   "execution_count": null,
   "metadata": {},
   "outputs": [],
   "source": []
  },
  {
   "cell_type": "code",
   "execution_count": null,
   "metadata": {},
   "outputs": [],
   "source": []
  },
  {
   "cell_type": "markdown",
   "metadata": {},
   "source": [
    "## Create corpus of verified reviews"
   ]
  },
  {
   "cell_type": "code",
   "execution_count": 66,
   "metadata": {},
   "outputs": [
    {
     "data": {
      "application/vnd.vegalite.v4+json": {
       "$schema": "https://vega.github.io/schema/vega-lite/v4.8.1.json",
       "config": {
        "view": {
         "continuousHeight": 300,
         "continuousWidth": 400
        }
       },
       "data": {
        "name": "data-d6c11f95325124be2b97d61eb5b7880f"
       },
       "datasets": {
        "data-d6c11f95325124be2b97d61eb5b7880f": [
         {
          "counts": 219952,
          "ratings": "5.0"
         },
         {
          "counts": 27542,
          "ratings": "3.0"
         },
         {
          "counts": 12054,
          "ratings": "2.0"
         },
         {
          "counts": 54290,
          "ratings": "4.0"
         },
         {
          "counts": 15126,
          "ratings": "1.0"
         }
        ]
       },
       "encoding": {
        "x": {
         "field": "ratings",
         "type": "nominal"
        },
        "y": {
         "field": "counts",
         "type": "quantitative"
        }
       },
       "mark": "bar"
      },
      "image/png": "[encoded data removed]",
      "text/plain": [
       "<VegaLite 4 object>\n",
       "\n",
       "If you see this message, it means the renderer has not been properly enabled\n",
       "for the frontend that you are using. For more information, see\n",
       "https://altair-viz.github.io/user_guide/troubleshooting.html\n"
      ]
     },
     "execution_count": 66,
     "metadata": {},
     "output_type": "execute_result"
    }
   ],
   "source": [
    "# check ratings distribution\n",
    "rating_counts = Counter(verified_df['ratings'])\n",
    "breakout_df = pd.DataFrame(\n",
    "    {\n",
    "        \"ratings\": [str(e) for e in list(rating_counts.keys())],\n",
    "        \"counts\": list(rating_counts.values()),\n",
    "    }\n",
    ")\n",
    "alt.Chart(breakout_df).mark_bar().encode(x=\"ratings\", y=\"counts\")"
   ]
  },
  {
   "cell_type": "code",
   "execution_count": 67,
   "metadata": {},
   "outputs": [],
   "source": [
    "# creating a balanced sampler\n",
    "# setting up seed as 100\n",
    "random_sampler = RandomUnderSampler(\n",
    "    sampling_strategy={1.0: 1000, 2.0: 500, 3.0: 500, 4.0: 1000, 5.0: 1500},\n",
    "    random_state=100,\n",
    ")\n",
    "\n",
    "indices = list(range(len(verified_df)))\n",
    "indices_sample, ratings_sample = random_sampler.fit_resample(\n",
    "    np.array(indices).reshape(-1, 1), np.array(verified_df['ratings']).reshape(-1, 1)\n",
    ")\n",
    "\n",
    "indices_sample = np.ndarray.flatten(indices_sample)\n",
    "indices_other = [i for i in list(range(len(verified_df))) if i not in indices_sample]"
   ]
  },
  {
   "cell_type": "code",
   "execution_count": 68,
   "metadata": {},
   "outputs": [
    {
     "name": "stdout",
     "output_type": "stream",
     "text": [
      "4500\n",
      "324464\n"
     ]
    }
   ],
   "source": [
    "print(len(indices_sample))\n",
    "print(len(indices_other))"
   ]
  },
  {
   "cell_type": "code",
   "execution_count": 69,
   "metadata": {},
   "outputs": [],
   "source": [
    "small_verified_corpus_df = verified_df.iloc[indices_sample]\n",
    "\n",
    "# setting up seed as 100\n",
    "# we dont need to to balanced sample as the randomization of bigger chunk will automatically takes care of it\n",
    "np.random.seed(100)\n",
    "big_sample_indices = random.sample(indices_other, 100000)\n",
    "large_verified_corpus_df = verified_df.iloc[big_sample_indices]\n",
    "\n",
    "## total indices used\n",
    "used_indices = np.append(big_sample_indices, indices_sample)\n",
    "\n",
    "## reaining reviews:\n",
    "reaining_indices =  [i for i in list(range(len(verified_df))) if i not in used_indices]\n",
    "remaining_df = verified_df.iloc[reaining_indices]"
   ]
  },
  {
   "cell_type": "code",
   "execution_count": 70,
   "metadata": {},
   "outputs": [
    {
     "name": "stdout",
     "output_type": "stream",
     "text": [
      "328964\n",
      "4500\n",
      "100000\n",
      "224464\n"
     ]
    }
   ],
   "source": [
    "print(len(verified_df))\n",
    "print(len(small_verified_corpus_df))\n",
    "print(len(large_verified_corpus_df))\n",
    "print(len(remaining_df))"
   ]
  },
  {
   "cell_type": "code",
   "execution_count": 71,
   "metadata": {},
   "outputs": [],
   "source": [
    "with open(\"data/small_verified_corpus.tsv\", \"w\") as outfile:\n",
    "    outfile.write(small_verified_corpus_df.to_csv(index=False, sep=\"\\t\"))\n",
    "\n",
    "with open(\"data/big_verified_corpus.tsv\", \"w\") as outfile:\n",
    "    outfile.write(large_verified_corpus_df.to_csv(index=False, sep=\"\\t\"))\n",
    "\n",
    "with open(\"data/remaining_verified_corpus.tsv\", \"w\") as outfile:\n",
    "    outfile.write(remaining_df.to_csv(index=False, sep=\"\\t\"))"
   ]
  },
  {
   "cell_type": "code",
   "execution_count": null,
   "metadata": {},
   "outputs": [],
   "source": []
  }
 ],
 "metadata": {
  "kernelspec": {
   "display_name": "Python 3",
   "language": "python",
   "name": "python3"
  },
  "language_info": {
   "codemirror_mode": {
    "name": "ipython",
    "version": 3
   },
   "file_extension": ".py",
   "mimetype": "text/x-python",
   "name": "python",
   "nbconvert_exporter": "python",
   "pygments_lexer": "ipython3",
   "version": "3.8.5"
  }
 },
 "nbformat": 4,
 "nbformat_minor": 4
}

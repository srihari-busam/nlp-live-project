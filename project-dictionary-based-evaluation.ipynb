{
 "cells": [
  {
   "cell_type": "code",
   "execution_count": 31,
   "metadata": {},
   "outputs": [
    {
     "data": {
      "text/plain": [
       "RendererRegistry.enable('mimetype')"
      ]
     },
     "execution_count": 31,
     "metadata": {},
     "output_type": "execute_result"
    }
   ],
   "source": [
    "import pandas as pd\n",
    "import numpy as np\n",
    "\n",
    "from sklearn.metrics import accuracy_score\n",
    "from sklearn.metrics import classification_report\n",
    "from sklearn.metrics import confusion_matrix\n",
    "import altair as alt\n",
    "# Optional in Jupyter Notebook: requires an up-to-date vega nbextension.\n",
    "alt.renderers.enable('mimetype')"
   ]
  },
  {
   "cell_type": "code",
   "execution_count": 2,
   "metadata": {},
   "outputs": [],
   "source": [
    "sentiment_by_words = pd.read_csv(\"data/sentiment_by_review_words.tsv\", sep=\"\\t\")"
   ]
  },
  {
   "cell_type": "code",
   "execution_count": 3,
   "metadata": {},
   "outputs": [
    {
     "data": {
      "text/plain": [
       "4500"
      ]
     },
     "execution_count": 3,
     "metadata": {},
     "output_type": "execute_result"
    }
   ],
   "source": [
    "len(sentiment_by_words)"
   ]
  },
  {
   "cell_type": "code",
   "execution_count": 4,
   "metadata": {},
   "outputs": [],
   "source": [
    "ratings = list(sentiment_by_words[\"rating\"])\n",
    "reviews = list(sentiment_by_words[\"review\"])\n",
    "reviews = [str(e) for e in reviews]\n",
    "sentiment = list(sentiment_by_words[\"sentiment_by_review_words\"])"
   ]
  },
  {
   "cell_type": "code",
   "execution_count": 7,
   "metadata": {},
   "outputs": [
    {
     "data": {
      "text/plain": [
       "4500"
      ]
     },
     "execution_count": 7,
     "metadata": {},
     "output_type": "execute_result"
    }
   ],
   "source": []
  },
  {
   "cell_type": "code",
   "execution_count": 9,
   "metadata": {},
   "outputs": [],
   "source": [
    "# classifying rating\n",
    "# 4,5 treated as positive\n",
    "# 1,2  treated as negative\n",
    "# 3 treated as neutral\n",
    "def classify_rating(rating):\n",
    "    if rating >= 4:\n",
    "        return \"positive\"\n",
    "    elif rating == 3:\n",
    "        return \"neutral\"\n",
    "    else:\n",
    "        return \"negative\"\n",
    "\n",
    "\n",
    "# classify sentiment\n",
    "# greater than 0.2 -> positive\n",
    "# -.2 to .2 -> neutral\n",
    "# less than -.2 negative\n",
    "def classify_sentiment(sentiment):\n",
    "    if sentiment > 0.2:\n",
    "        return \"positive\"\n",
    "    elif -0.2 <= sentiment <= 0.2:\n",
    "        return \"neutral\"\n",
    "    else:\n",
    "        return \"negative\""
   ]
  },
  {
   "cell_type": "code",
   "execution_count": 10,
   "metadata": {},
   "outputs": [],
   "source": [
    "rating_classes = [classify_rating(rating) for rating in ratings]\n",
    "sentiment_values = [classify_sentiment(sent) for sent in sentiment]"
   ]
  },
  {
   "cell_type": "code",
   "execution_count": 17,
   "metadata": {},
   "outputs": [
    {
     "name": "stdout",
     "output_type": "stream",
     "text": [
      "0.1922222222222222\n"
     ]
    }
   ],
   "source": [
    "acc = accuracy_score(rating_classes, sentiment_values)\n",
    "print(acc)"
   ]
  },
  {
   "cell_type": "code",
   "execution_count": 20,
   "metadata": {},
   "outputs": [
    {
     "name": "stdout",
     "output_type": "stream",
     "text": [
      "              precision    recall  f1-score   support\n",
      "\n",
      "    negative       0.83      0.03      0.06      1500\n",
      "     neutral       0.12      0.95      0.21       500\n",
      "    positive       0.84      0.14      0.23      2500\n",
      "\n",
      "    accuracy                           0.19      4500\n",
      "   macro avg       0.60      0.37      0.17      4500\n",
      "weighted avg       0.76      0.19      0.17      4500\n",
      "\n"
     ]
    }
   ],
   "source": [
    "target_names = [\"negative\", \"neutral\", \"positive\"]\n",
    "print(\n",
    "    classification_report(rating_classes, sentiment_values, target_names=target_names)\n",
    ")"
   ]
  },
  {
   "cell_type": "code",
   "execution_count": 29,
   "metadata": {},
   "outputs": [
    {
     "data": {
      "text/plain": [
       "array([[  50, 1405,   45],\n",
       "       [   3,  477,   20],\n",
       "       [   7, 2155,  338]], dtype=int64)"
      ]
     },
     "execution_count": 29,
     "metadata": {},
     "output_type": "execute_result"
    }
   ],
   "source": [
    "cm = confusion_matrix(rating_classes, sentiment_values, labels=target_names)\n",
    "cm"
   ]
  },
  {
   "cell_type": "code",
   "execution_count": 33,
   "metadata": {},
   "outputs": [
    {
     "data": {
      "application/vnd.vegalite.v4+json": {
       "$schema": "https://vega.github.io/schema/vega-lite/v4.8.1.json",
       "config": {
        "view": {
         "continuousHeight": 300,
         "continuousWidth": 400
        }
       },
       "data": {
        "name": "data-0bd2e55e7a7e1ea98bea055704c0e95f"
       },
       "datasets": {
        "data-0bd2e55e7a7e1ea98bea055704c0e95f": [
         {
          "number": 50,
          "predicted": 0,
          "true": 0
         },
         {
          "number": 1405,
          "predicted": 0,
          "true": 1
         },
         {
          "number": 45,
          "predicted": 0,
          "true": 2
         },
         {
          "number": 3,
          "predicted": 1,
          "true": 0
         },
         {
          "number": 477,
          "predicted": 1,
          "true": 1
         },
         {
          "number": 20,
          "predicted": 1,
          "true": 2
         },
         {
          "number": 7,
          "predicted": 2,
          "true": 0
         },
         {
          "number": 2155,
          "predicted": 2,
          "true": 1
         },
         {
          "number": 338,
          "predicted": 2,
          "true": 2
         }
        ]
       },
       "encoding": {
        "color": {
         "field": "number",
         "type": "quantitative"
        },
        "tooltip": [
         {
          "field": "number",
          "type": "quantitative"
         }
        ],
        "x": {
         "field": "true",
         "type": "ordinal"
        },
        "y": {
         "field": "predicted",
         "type": "ordinal"
        }
       },
       "height": 500,
       "mark": "rect",
       "selection": {
        "selector001": {
         "bind": "scales",
         "encodings": [
          "x",
          "y"
         ],
         "type": "interval"
        }
       },
       "width": 800
      },
      "image/png": "[encoded data removed]",
      "text/plain": [
       "<VegaLite 4 object>\n",
       "\n",
       "If you see this message, it means the renderer has not been properly enabled\n",
       "for the frontend that you are using. For more information, see\n",
       "https://altair-viz.github.io/user_guide/troubleshooting.html\n"
      ]
     },
     "execution_count": 33,
     "metadata": {},
     "output_type": "execute_result"
    }
   ],
   "source": [
    "x, y = np.meshgrid(range(0, 3), range(0, 3))\n",
    "source = pd.DataFrame({\"true\": x.ravel(), \"predicted\": y.ravel(), \"number\": cm.ravel()})\n",
    "chart = (\n",
    "    alt.Chart(source)\n",
    "    .mark_rect()\n",
    "    .encode(x=\"true:O\", y=\"predicted:O\", color=\"number:Q\", tooltip=[\"number\"])\n",
    "    .interactive()\n",
    "    .properties(width=800, height=500)\n",
    ")\n",
    "chart"
   ]
  },
  {
   "cell_type": "markdown",
   "metadata": {},
   "source": [
    "## Analysis with negative workds marking"
   ]
  },
  {
   "cell_type": "code",
   "execution_count": 36,
   "metadata": {},
   "outputs": [],
   "source": [
    "sentiment_by_words_with_negation = pd.read_csv(\"data/sentiment_by_review_words_with_negation.tsv\", sep=\"\\t\")"
   ]
  },
  {
   "cell_type": "code",
   "execution_count": 38,
   "metadata": {},
   "outputs": [],
   "source": [
    "ratings = list(sentiment_by_words_with_negation[\"rating\"])\n",
    "reviews = list(sentiment_by_words_with_negation[\"review\"])\n",
    "reviews = [str(e) for e in reviews]\n",
    "sentiment = list(sentiment_by_words_with_negation[\"sentiment_by_review_words_with_negation\"])"
   ]
  },
  {
   "cell_type": "code",
   "execution_count": 39,
   "metadata": {},
   "outputs": [],
   "source": [
    "rating_classes = [classify_rating(rating) for rating in ratings]\n",
    "sentiment_values = [classify_sentiment(sent) for sent in sentiment]"
   ]
  },
  {
   "cell_type": "code",
   "execution_count": 40,
   "metadata": {},
   "outputs": [
    {
     "name": "stdout",
     "output_type": "stream",
     "text": [
      "0.21755555555555556\n"
     ]
    }
   ],
   "source": [
    "acc = accuracy_score(rating_classes, sentiment_values)\n",
    "print(acc)"
   ]
  },
  {
   "cell_type": "code",
   "execution_count": 41,
   "metadata": {},
   "outputs": [
    {
     "name": "stdout",
     "output_type": "stream",
     "text": [
      "              precision    recall  f1-score   support\n",
      "\n",
      "    negative       0.67      0.11      0.19      1500\n",
      "     neutral       0.12      0.88      0.21       500\n",
      "    positive       0.82      0.15      0.25      2500\n",
      "\n",
      "    accuracy                           0.22      4500\n",
      "   macro avg       0.54      0.38      0.22      4500\n",
      "weighted avg       0.69      0.22      0.23      4500\n",
      "\n"
     ]
    }
   ],
   "source": [
    "target_names = [\"negative\", \"neutral\", \"positive\"]\n",
    "print(\n",
    "    classification_report(rating_classes, sentiment_values, target_names=target_names)\n",
    ")"
   ]
  },
  {
   "cell_type": "code",
   "execution_count": 42,
   "metadata": {},
   "outputs": [
    {
     "data": {
      "text/plain": [
       "array([[ 171, 1275,   54],\n",
       "       [  31,  442,   27],\n",
       "       [  52, 2082,  366]], dtype=int64)"
      ]
     },
     "execution_count": 42,
     "metadata": {},
     "output_type": "execute_result"
    }
   ],
   "source": [
    "cm = confusion_matrix(rating_classes, sentiment_values, labels=target_names)\n",
    "cm"
   ]
  },
  {
   "cell_type": "code",
   "execution_count": 43,
   "metadata": {},
   "outputs": [
    {
     "data": {
      "application/vnd.vegalite.v4+json": {
       "$schema": "https://vega.github.io/schema/vega-lite/v4.8.1.json",
       "config": {
        "view": {
         "continuousHeight": 300,
         "continuousWidth": 400
        }
       },
       "data": {
        "name": "data-eff5276d006b99f677b4b2dad8f57ff1"
       },
       "datasets": {
        "data-eff5276d006b99f677b4b2dad8f57ff1": [
         {
          "number": 171,
          "predicted": 0,
          "true": 0
         },
         {
          "number": 1275,
          "predicted": 0,
          "true": 1
         },
         {
          "number": 54,
          "predicted": 0,
          "true": 2
         },
         {
          "number": 31,
          "predicted": 1,
          "true": 0
         },
         {
          "number": 442,
          "predicted": 1,
          "true": 1
         },
         {
          "number": 27,
          "predicted": 1,
          "true": 2
         },
         {
          "number": 52,
          "predicted": 2,
          "true": 0
         },
         {
          "number": 2082,
          "predicted": 2,
          "true": 1
         },
         {
          "number": 366,
          "predicted": 2,
          "true": 2
         }
        ]
       },
       "encoding": {
        "color": {
         "field": "number",
         "type": "quantitative"
        },
        "tooltip": [
         {
          "field": "number",
          "type": "quantitative"
         }
        ],
        "x": {
         "field": "true",
         "type": "ordinal"
        },
        "y": {
         "field": "predicted",
         "type": "ordinal"
        }
       },
       "height": 500,
       "mark": "rect",
       "selection": {
        "selector002": {
         "bind": "scales",
         "encodings": [
          "x",
          "y"
         ],
         "type": "interval"
        }
       },
       "width": 800
      },
      "image/png": "[encoded data removed]",
      "text/plain": [
       "<VegaLite 4 object>\n",
       "\n",
       "If you see this message, it means the renderer has not been properly enabled\n",
       "for the frontend that you are using. For more information, see\n",
       "https://altair-viz.github.io/user_guide/troubleshooting.html\n"
      ]
     },
     "execution_count": 43,
     "metadata": {},
     "output_type": "execute_result"
    }
   ],
   "source": [
    "x, y = np.meshgrid(range(0, 3), range(0, 3))\n",
    "source = pd.DataFrame({\"true\": x.ravel(), \"predicted\": y.ravel(), \"number\": cm.ravel()})\n",
    "chart = (\n",
    "    alt.Chart(source)\n",
    "    .mark_rect()\n",
    "    .encode(x=\"true:O\", y=\"predicted:O\", color=\"number:Q\", tooltip=[\"number\"])\n",
    "    .interactive()\n",
    "    .properties(width=800, height=500)\n",
    ")\n",
    "chart"
   ]
  },
  {
   "cell_type": "markdown",
   "metadata": {},
   "source": [
    "## Report\n",
    "\n",
    "* Sentiment just based on words gave about 0.19 accuracy and with negation usage its increased to 0.21\n",
    "* Sentiment calcualton for the neutral is poor for both word based an words with negation dictionary based sentiment analysis\n",
    "* In both scenarios recall is very low for negative and positive classes while precision is low for neutral class\n",
    "* Overall I think the dictionary based sentiment analysis is poor considering the accuracy measure itself."
   ]
  },
  {
   "cell_type": "code",
   "execution_count": null,
   "metadata": {},
   "outputs": [],
   "source": []
  }
 ],
 "metadata": {
  "kernelspec": {
   "display_name": "Python 3",
   "language": "python",
   "name": "python3"
  },
  "language_info": {
   "codemirror_mode": {
    "name": "ipython",
    "version": 3
   },
   "file_extension": ".py",
   "mimetype": "text/x-python",
   "name": "python",
   "nbconvert_exporter": "python",
   "pygments_lexer": "ipython3",
   "version": "3.8.5"
  }
 },
 "nbformat": 4,
 "nbformat_minor": 4
}

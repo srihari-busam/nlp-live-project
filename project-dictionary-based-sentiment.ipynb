{
 "cells": [
  {
   "cell_type": "code",
   "execution_count": 25,
   "metadata": {},
   "outputs": [],
   "source": [
    "from collections import Counter\n",
    "import pandas as pd\n",
    "import numpy as np\n",
    "\n",
    "from nltk.corpus import opinion_lexicon\n",
    "from nltk.tokenize import sent_tokenize\n",
    "from nltk.tokenize import word_tokenize\n",
    "\n",
    "import altair as alt\n",
    "# Optional in Jupyter Notebook: requires an up-to-date vega nbextension.\n",
    "alt.renderers.enable('mimetype')\n",
    "\n",
    "import random"
   ]
  },
  {
   "cell_type": "code",
   "execution_count": 5,
   "metadata": {},
   "outputs": [],
   "source": [
    "df = pd.read_csv(\"data/small_verified_corpus.tsv\", sep=\"\\t\")\n",
    "\n",
    "ratings = list(df[\"ratings\"])\n",
    "reviews = list(df[\"reviewText\"])"
   ]
  },
  {
   "cell_type": "code",
   "execution_count": 6,
   "metadata": {},
   "outputs": [
    {
     "data": {
      "text/plain": [
       "4500"
      ]
     },
     "execution_count": 6,
     "metadata": {},
     "output_type": "execute_result"
    }
   ],
   "source": [
    "len(ratings)"
   ]
  },
  {
   "cell_type": "code",
   "execution_count": 7,
   "metadata": {},
   "outputs": [
    {
     "data": {
      "text/plain": [
       "4500"
      ]
     },
     "execution_count": 7,
     "metadata": {},
     "output_type": "execute_result"
    }
   ],
   "source": [
    "len(reviews)"
   ]
  },
  {
   "cell_type": "code",
   "execution_count": 35,
   "metadata": {},
   "outputs": [],
   "source": [
    "positive_words = set(opinion_lexicon.positive())\n",
    "negative_words = set(opinion_lexicon.negative())"
   ]
  },
  {
   "cell_type": "code",
   "execution_count": 36,
   "metadata": {},
   "outputs": [],
   "source": [
    "# Returns a score between -1 to 1\n",
    "def score_sentence(sentence, pos_words, neg_words):\n",
    "    words = [e.lower() for e in sentence if e.isalnum()]\n",
    "    total = len(words)\n",
    "    pos = len([e for e in sentence if e in pos_words])\n",
    "    neg = len([e for e in sentence if e in neg_words])\n",
    "    if total > 0:\n",
    "        return (pos - neg) / total\n",
    "    else:\n",
    "        return 0"
   ]
  },
  {
   "cell_type": "code",
   "execution_count": 37,
   "metadata": {},
   "outputs": [],
   "source": [
    "# Returns a score between -1 to 1\n",
    "def score_review(review):\n",
    "    sentiment_scores = []\n",
    "    sents = sent_tokenize(review)\n",
    "    for sent in sents:\n",
    "        wds = word_tokenize(sent)\n",
    "        sent_scores = score_sentence(wds, positive_words, negative_words)\n",
    "        sentiment_scores.append(sent_scores)\n",
    "    return sum(sentiment_scores) / len(sentiment_scores)"
   ]
  },
  {
   "cell_type": "markdown",
   "metadata": {},
   "source": [
    "## Calcuate the sentiment based on the workds in the reviews"
   ]
  },
  {
   "cell_type": "code",
   "execution_count": 38,
   "metadata": {},
   "outputs": [],
   "source": [
    "review_sentiments = [score_review(review) for review in reviews]"
   ]
  },
  {
   "cell_type": "code",
   "execution_count": 39,
   "metadata": {},
   "outputs": [],
   "source": [
    "small_corpus_df = pd.DataFrame(\n",
    "    {\n",
    "        \"rating\": ratings,\n",
    "        \"review\": reviews,\n",
    "        \"sentiment_by_review_words\": review_sentiments,\n",
    "    }\n",
    ")"
   ]
  },
  {
   "cell_type": "markdown",
   "metadata": {},
   "source": [
    "### Analysis"
   ]
  },
  {
   "cell_type": "code",
   "execution_count": 40,
   "metadata": {},
   "outputs": [
    {
     "data": {
      "application/vnd.vegalite.v4+json": {
       "$schema": "https://vega.github.io/schema/vega-lite/v4.8.1.json",
       "config": {
        "view": {
         "continuousHeight": 300,
         "continuousWidth": 400
        }
       },
       "data": {
        "name": "data-e97ee8873035a4f1d4bcaa14a27781f9"
       },
       "datasets": {
        "data-e97ee8873035a4f1d4bcaa14a27781f9": [
         {
          "counts": 1000,
          "ratings": "1.0"
         },
         {
          "counts": 500,
          "ratings": "2.0"
         },
         {
          "counts": 500,
          "ratings": "3.0"
         },
         {
          "counts": 1000,
          "ratings": "4.0"
         },
         {
          "counts": 1500,
          "ratings": "5.0"
         }
        ]
       },
       "encoding": {
        "x": {
         "field": "ratings",
         "type": "nominal"
        },
        "y": {
         "field": "counts",
         "type": "quantitative"
        }
       },
       "mark": "bar"
      },
      "image/png": "[encoded data removed]",
      "text/plain": [
       "<VegaLite 4 object>\n",
       "\n",
       "If you see this message, it means the renderer has not been properly enabled\n",
       "for the frontend that you are using. For more information, see\n",
       "https://altair-viz.github.io/user_guide/troubleshooting.html\n"
      ]
     },
     "execution_count": 40,
     "metadata": {},
     "output_type": "execute_result"
    }
   ],
   "source": [
    "# let's see the distributions\n",
    "\n",
    "# the distribution of review scores\n",
    "rating_counts = Counter(ratings)\n",
    "data1 = pd.DataFrame(\n",
    "    {\n",
    "        \"ratings\": [str(e) for e in list(rating_counts.keys())],\n",
    "        \"counts\": list(rating_counts.values()),\n",
    "    }\n",
    ")\n",
    "\n",
    "alt.Chart(data1).mark_bar().encode(x=\"ratings\", y=\"counts\")"
   ]
  },
  {
   "cell_type": "code",
   "execution_count": 41,
   "metadata": {},
   "outputs": [
    {
     "data": {
      "application/vnd.vegalite.v4+json": {
       "$schema": "https://vega.github.io/schema/vega-lite/v4.8.1.json",
       "config": {
        "view": {
         "continuousHeight": 300,
         "continuousWidth": 400
        }
       },
       "data": {
        "name": "data-11df509e0543de61aca616e551652155"
       },
       "datasets": {
        "data-11df509e0543de61aca616e551652155": [
         {
          "counts": 0.0055555555555555575,
          "sentiment scores": "-1.0 -0.8"
         },
         {
          "counts": 0,
          "sentiment scores": "-0.8 -0.6"
         },
         {
          "counts": 0.01555555555555555,
          "sentiment scores": "-0.6 -0.3999999999999999"
         },
         {
          "counts": 0.053333333333333344,
          "sentiment scores": "-0.3999999999999999 -0.19999999999999996"
         },
         {
          "counts": 1.0700000000000003,
          "sentiment scores": "-0.19999999999999996 0.0"
         },
         {
          "counts": 3.407777777777775,
          "sentiment scores": "0.0 0.20000000000000018"
         },
         {
          "counts": 0.23777777777777784,
          "sentiment scores": "0.20000000000000018 0.40000000000000013"
         },
         {
          "counts": 0.1166666666666667,
          "sentiment scores": "0.40000000000000013 0.6000000000000001"
         },
         {
          "counts": 0.012222222222222225,
          "sentiment scores": "0.6000000000000001 0.8"
         },
         {
          "counts": 0.08111111111111112,
          "sentiment scores": "0.8 1.0"
         }
        ]
       },
       "encoding": {
        "x": {
         "field": "sentiment scores",
         "sort": [
          "-1.0 -0.8",
          "-0.8 -0.6",
          "-0.6 -0.3999999999999999",
          "-0.3999999999999999 -0.19999999999999996",
          "-0.19999999999999996 0.0",
          "0.0 0.20000000000000018",
          "0.20000000000000018 0.40000000000000013",
          "0.40000000000000013 0.6000000000000001",
          "0.6000000000000001 0.8",
          "0.8 1.0"
         ],
         "type": "nominal"
        },
        "y": {
         "field": "counts",
         "type": "quantitative"
        }
       },
       "mark": "bar"
      },
      "image/png": "[encoded data removed]",
      "text/plain": [
       "<VegaLite 4 object>\n",
       "\n",
       "If you see this message, it means the renderer has not been properly enabled\n",
       "for the frontend that you are using. For more information, see\n",
       "https://altair-viz.github.io/user_guide/troubleshooting.html\n"
      ]
     },
     "execution_count": 41,
     "metadata": {},
     "output_type": "execute_result"
    }
   ],
   "source": [
    "# the distribution of sentiment scores\n",
    "hist, bin_edges = np.histogram(review_sentiments, density=True)\n",
    "labels = list(zip(bin_edges, bin_edges[1:]))\n",
    "labels = [(str(e[0]), str(e[1])) for e in labels]\n",
    "labels = [\" \".join(e) for e in labels]\n",
    "\n",
    "\n",
    "data2 = pd.DataFrame({\"sentiment scores\": labels, \"counts\": hist})\n",
    "\n",
    "chart2 = (\n",
    "    alt.Chart(data2)\n",
    "    .mark_bar()\n",
    "    .encode(x=alt.X(\"sentiment scores\", sort=labels), y=\"counts\")\n",
    ")\n",
    "chart2"
   ]
  },
  {
   "cell_type": "code",
   "execution_count": 42,
   "metadata": {},
   "outputs": [
    {
     "data": {
      "application/vnd.vegalite.v4+json": {
       "$schema": "https://vega.github.io/schema/vega-lite/v4.8.1.json",
       "config": {
        "view": {
         "continuousHeight": 300,
         "continuousWidth": 400
        }
       },
       "data": {
        "name": "data-609a30af4d0480ded25e9869766a8dc1"
       },
       "datasets": {
        "data-609a30af4d0480ded25e9869766a8dc1": [
         {
          "ratings": "1.0",
          "sentiments": -0.058823529411764705
         },
         {
          "ratings": "1.0",
          "sentiments": -0.041666666666666664
         },
         {
          "ratings": "1.0",
          "sentiments": -0.011247982610541805
         },
         {
          "ratings": "1.0",
          "sentiments": -0.03125
         },
         {
          "ratings": "1.0",
          "sentiments": 0.06794871794871794
         },
         {
          "ratings": "1.0",
          "sentiments": -0.04523809523809523
         },
         {
          "ratings": "1.0",
          "sentiments": 0.0787037037037037
         },
         {
          "ratings": "1.0",
          "sentiments": -0.03615612648221344
         },
         {
          "ratings": "1.0",
          "sentiments": 0.011803410493250066
         },
         {
          "ratings": "1.0",
          "sentiments": 0.034756097560975606
         },
         {
          "ratings": "1.0",
          "sentiments": -0.02702702702702703
         },
         {
          "ratings": "1.0",
          "sentiments": 0.06556058320764202
         },
         {
          "ratings": "1.0",
          "sentiments": 0
         },
         {
          "ratings": "1.0",
          "sentiments": 0.08333333333333333
         },
         {
          "ratings": "1.0",
          "sentiments": -0.04540912989980422
         },
         {
          "ratings": "1.0",
          "sentiments": -0.041666666666666664
         },
         {
          "ratings": "1.0",
          "sentiments": 0.05
         },
         {
          "ratings": "1.0",
          "sentiments": -0.025373788005366948
         },
         {
          "ratings": "1.0",
          "sentiments": -0.013032106782106782
         },
         {
          "ratings": "1.0",
          "sentiments": -0.25555555555555554
         },
         {
          "ratings": "1.0",
          "sentiments": -0.018793706293706296
         },
         {
          "ratings": "1.0",
          "sentiments": 0
         },
         {
          "ratings": "1.0",
          "sentiments": -0.022727272727272728
         },
         {
          "ratings": "1.0",
          "sentiments": -0.03586463788056306
         },
         {
          "ratings": "1.0",
          "sentiments": -0.030303030303030304
         },
         {
          "ratings": "1.0",
          "sentiments": -0.016825396825396827
         },
         {
          "ratings": "1.0",
          "sentiments": 0.15
         },
         {
          "ratings": "1.0",
          "sentiments": 0
         },
         {
          "ratings": "1.0",
          "sentiments": 0.003496503496503498
         },
         {
          "ratings": "1.0",
          "sentiments": 0.1
         },
         {
          "ratings": "1.0",
          "sentiments": 0
         },
         {
          "ratings": "1.0",
          "sentiments": -0.08465608465608465
         },
         {
          "ratings": "1.0",
          "sentiments": -0.10648148148148147
         },
         {
          "ratings": "1.0",
          "sentiments": -0.05
         },
         {
          "ratings": "1.0",
          "sentiments": 0
         },
         {
          "ratings": "1.0",
          "sentiments": -0.2
         },
         {
          "ratings": "1.0",
          "sentiments": -0.08035714285714285
         },
         {
          "ratings": "1.0",
          "sentiments": 0.10101010101010101
         },
         {
          "ratings": "1.0",
          "sentiments": 0
         },
         {
          "ratings": "1.0",
          "sentiments": -0.04319727891156462
         },
         {
          "ratings": "1.0",
          "sentiments": 0.25
         },
         {
          "ratings": "1.0",
          "sentiments": -0.08333333333333334
         },
         {
          "ratings": "1.0",
          "sentiments": -0.0007461804191680353
         },
         {
          "ratings": "1.0",
          "sentiments": -0.3333333333333333
         },
         {
          "ratings": "1.0",
          "sentiments": -0.007487370463776997
         },
         {
          "ratings": "1.0",
          "sentiments": -0.020833333333333332
         },
         {
          "ratings": "1.0",
          "sentiments": 0
         },
         {
          "ratings": "1.0",
          "sentiments": 0.3333333333333333
         },
         {
          "ratings": "1.0",
          "sentiments": 0.003357753357753358
         },
         {
          "ratings": "1.0",
          "sentiments": -0.125
         },
         {
          "ratings": "1.0",
          "sentiments": -0.16666666666666666
         },
         {
          "ratings": "1.0",
          "sentiments": -0.013762626262626263
         },
         {
          "ratings": "1.0",
          "sentiments": 0
         },
         {
          "ratings": "1.0",
          "sentiments": 0.14285714285714285
         },
         {
          "ratings": "1.0",
          "sentiments": 0.025637362637362635
         },
         {
          "ratings": "1.0",
          "sentiments": -0.05747612176183605
         },
         {
          "ratings": "1.0",
          "sentiments": -0.03333333333333333
         },
         {
          "ratings": "1.0",
          "sentiments": 0
         },
         {
          "ratings": "1.0",
          "sentiments": -0.04677960927960928
         },
         {
          "ratings": "1.0",
          "sentiments": 0
         },
         {
          "ratings": "1.0",
          "sentiments": -0.17647058823529413
         },
         {
          "ratings": "1.0",
          "sentiments": 0
         },
         {
          "ratings": "1.0",
          "sentiments": 0.03067851130351131
         },
         {
          "ratings": "1.0",
          "sentiments": 0.05616605616605617
         },
         {
          "ratings": "1.0",
          "sentiments": -0.022660818713450288
         },
         {
          "ratings": "1.0",
          "sentiments": -0.05671850079744817
         },
         {
          "ratings": "1.0",
          "sentiments": -0.05787811222593831
         },
         {
          "ratings": "1.0",
          "sentiments": -0.02017819706498952
         },
         {
          "ratings": "1.0",
          "sentiments": -0.02991452991452991
         },
         {
          "ratings": "1.0",
          "sentiments": 0
         },
         {
          "ratings": "1.0",
          "sentiments": -0.03070175438596491
         },
         {
          "ratings": "1.0",
          "sentiments": -0.04346264367816092
         },
         {
          "ratings": "1.0",
          "sentiments": -0.075
         },
         {
          "ratings": "1.0",
          "sentiments": -0.026666666666666665
         },
         {
          "ratings": "1.0",
          "sentiments": -0.016666666666666666
         },
         {
          "ratings": "1.0",
          "sentiments": -0.02631578947368421
         },
         {
          "ratings": "1.0",
          "sentiments": -0.3333333333333333
         },
         {
          "ratings": "1.0",
          "sentiments": 0.005555555555555557
         },
         {
          "ratings": "1.0",
          "sentiments": 0
         },
         {
          "ratings": "1.0",
          "sentiments": -0.05131578947368421
         },
         {
          "ratings": "1.0",
          "sentiments": 0
         },
         {
          "ratings": "1.0",
          "sentiments": 0
         },
         {
          "ratings": "1.0",
          "sentiments": 0.1
         },
         {
          "ratings": "1.0",
          "sentiments": 0.06196072446072446
         },
         {
          "ratings": "1.0",
          "sentiments": -0.1333835089059547
         },
         {
          "ratings": "1.0",
          "sentiments": 0.05376039304610732
         },
         {
          "ratings": "1.0",
          "sentiments": -0.07720588235294118
         },
         {
          "ratings": "1.0",
          "sentiments": -0.035095484872270585
         },
         {
          "ratings": "1.0",
          "sentiments": 0
         },
         {
          "ratings": "1.0",
          "sentiments": -0.005238095238095237
         },
         {
          "ratings": "1.0",
          "sentiments": 0
         },
         {
          "ratings": "1.0",
          "sentiments": -0.004166666666666666
         },
         {
          "ratings": "1.0",
          "sentiments": 0.02676665439823335
         },
         {
          "ratings": "1.0",
          "sentiments": -0.04050925925925926
         },
         {
          "ratings": "1.0",
          "sentiments": -0.06818181818181818
         },
         {
          "ratings": "1.0",
          "sentiments": 0.00779220779220779
         },
         {
          "ratings": "1.0",
          "sentiments": 0.013888888888888886
         },
         {
          "ratings": "1.0",
          "sentiments": 0.2857142857142857
         },
         {
          "ratings": "1.0",
          "sentiments": 0.05874620275975697
         },
         {
          "ratings": "1.0",
          "sentiments": 0.04804881109228935
         },
         {
          "ratings": "1.0",
          "sentiments": 0.08333333333333333
         },
         {
          "ratings": "1.0",
          "sentiments": 0
         },
         {
          "ratings": "1.0",
          "sentiments": 0.014285714285714285
         },
         {
          "ratings": "1.0",
          "sentiments": 0.034482758620689655
         },
         {
          "ratings": "1.0",
          "sentiments": 0.03333333333333333
         },
         {
          "ratings": "1.0",
          "sentiments": 0
         },
         {
          "ratings": "1.0",
          "sentiments": 0.0016666666666666635
         },
         {
          "ratings": "1.0",
          "sentiments": 0.03125
         },
         {
          "ratings": "1.0",
          "sentiments": -0.011078238001314923
         },
         {
          "ratings": "1.0",
          "sentiments": 0.2708333333333333
         },
         {
          "ratings": "1.0",
          "sentiments": -0.011586452762923347
         },
         {
          "ratings": "1.0",
          "sentiments": 0.03125
         },
         {
          "ratings": "1.0",
          "sentiments": -0.041666666666666664
         },
         {
          "ratings": "1.0",
          "sentiments": 0
         },
         {
          "ratings": "1.0",
          "sentiments": 0.1111111111111111
         },
         {
          "ratings": "1.0",
          "sentiments": -0.03931451612903226
         },
         {
          "ratings": "1.0",
          "sentiments": -0.04563492063492063
         },
         {
          "ratings": "1.0",
          "sentiments": 0.029629629629629627
         },
         {
          "ratings": "1.0",
          "sentiments": 0.25
         },
         {
          "ratings": "1.0",
          "sentiments": -0.5
         },
         {
          "ratings": "1.0",
          "sentiments": 0.026666666666666665
         },
         {
          "ratings": "1.0",
          "sentiments": -0.05824175824175824
         },
         {
          "ratings": "1.0",
          "sentiments": 0
         },
         {
          "ratings": "1.0",
          "sentiments": 0.029239766081871343
         },
         {
          "ratings": "1.0",
          "sentiments": -0.05031151866821203
         },
         {
          "ratings": "1.0",
          "sentiments": 0
         },
         {
          "ratings": "1.0",
          "sentiments": 0.03333333333333333
         },
         {
          "ratings": "1.0",
          "sentiments": 0.041666666666666664
         },
         {
          "ratings": "1.0",
          "sentiments": 0.03125
         },
         {
          "ratings": "1.0",
          "sentiments": -0.06923076923076923
         },
         {
          "ratings": "1.0",
          "sentiments": 0
         },
         {
          "ratings": "1.0",
          "sentiments": 0.09090909090909091
         },
         {
          "ratings": "1.0",
          "sentiments": -0.0022486772486772478
         },
         {
          "ratings": "1.0",
          "sentiments": 0
         },
         {
          "ratings": "1.0",
          "sentiments": 0.045840457178395716
         },
         {
          "ratings": "1.0",
          "sentiments": -0.047758235916130654
         },
         {
          "ratings": "1.0",
          "sentiments": -0.19940476190476192
         },
         {
          "ratings": "1.0",
          "sentiments": 0.06244343891402715
         },
         {
          "ratings": "1.0",
          "sentiments": -0.004999999999999999
         },
         {
          "ratings": "1.0",
          "sentiments": 0.009672619047619048
         },
         {
          "ratings": "1.0",
          "sentiments": 0.0017921584588251249
         },
         {
          "ratings": "1.0",
          "sentiments": 0
         },
         {
          "ratings": "1.0",
          "sentiments": 0.03808745720510426
         },
         {
          "ratings": "1.0",
          "sentiments": 0.041666666666666664
         },
         {
          "ratings": "1.0",
          "sentiments": -0.02857142857142857
         },
         {
          "ratings": "1.0",
          "sentiments": -0.13333333333333333
         },
         {
          "ratings": "1.0",
          "sentiments": -0.12775997150997154
         },
         {
          "ratings": "1.0",
          "sentiments": -0.1530448717948718
         },
         {
          "ratings": "1.0",
          "sentiments": 0.14285714285714285
         },
         {
          "ratings": "1.0",
          "sentiments": 0
         },
         {
          "ratings": "1.0",
          "sentiments": -0.01050317155063579
         },
         {
          "ratings": "1.0",
          "sentiments": -0.10648148148148147
         },
         {
          "ratings": "1.0",
          "sentiments": 0.017857142857142856
         },
         {
          "ratings": "1.0",
          "sentiments": -0.125
         },
         {
          "ratings": "1.0",
          "sentiments": -0.0598669623059867
         },
         {
          "ratings": "1.0",
          "sentiments": -0.0136504909232182
         },
         {
          "ratings": "1.0",
          "sentiments": 0.025058275058275053
         },
         {
          "ratings": "1.0",
          "sentiments": 0.06666666666666667
         },
         {
          "ratings": "1.0",
          "sentiments": 0.013888888888888886
         },
         {
          "ratings": "1.0",
          "sentiments": -0.00909090909090909
         },
         {
          "ratings": "1.0",
          "sentiments": 0.1
         },
         {
          "ratings": "1.0",
          "sentiments": -0.25
         },
         {
          "ratings": "1.0",
          "sentiments": -0.012594225051803853
         },
         {
          "ratings": "1.0",
          "sentiments": -0.17142857142857143
         },
         {
          "ratings": "1.0",
          "sentiments": 0.028231663035584605
         },
         {
          "ratings": "1.0",
          "sentiments": 0.09054054054054055
         },
         {
          "ratings": "1.0",
          "sentiments": 0.018969979296066253
         },
         {
          "ratings": "1.0",
          "sentiments": -0.03333333333333333
         },
         {
          "ratings": "1.0",
          "sentiments": 0.0018033855931964974
         },
         {
          "ratings": "1.0",
          "sentiments": -0.07985455090718249
         },
         {
          "ratings": "1.0",
          "sentiments": -0.0015255530129672003
         },
         {
          "ratings": "1.0",
          "sentiments": 0.2
         },
         {
          "ratings": "1.0",
          "sentiments": -0.06960408684546615
         },
         {
          "ratings": "1.0",
          "sentiments": 0.012109522171441678
         },
         {
          "ratings": "1.0",
          "sentiments": -0.07732683982683983
         },
         {
          "ratings": "1.0",
          "sentiments": 0
         },
         {
          "ratings": "1.0",
          "sentiments": -0.015625
         },
         {
          "ratings": "1.0",
          "sentiments": 0.1468253968253968
         },
         {
          "ratings": "1.0",
          "sentiments": -0.0025132275132275167
         },
         {
          "ratings": "1.0",
          "sentiments": 0.0011870404727547573
         },
         {
          "ratings": "1.0",
          "sentiments": -0.03125
         },
         {
          "ratings": "1.0",
          "sentiments": 0.05555555555555555
         },
         {
          "ratings": "1.0",
          "sentiments": -0.028428478715950105
         },
         {
          "ratings": "1.0",
          "sentiments": -0.09851851851851852
         },
         {
          "ratings": "1.0",
          "sentiments": 0.0032407407407407432
         },
         {
          "ratings": "1.0",
          "sentiments": 0.008447750167635009
         },
         {
          "ratings": "1.0",
          "sentiments": 0.04036281179138322
         },
         {
          "ratings": "1.0",
          "sentiments": -0.030303030303030304
         },
         {
          "ratings": "1.0",
          "sentiments": 0.3333333333333333
         },
         {
          "ratings": "1.0",
          "sentiments": -0.11764705882352941
         },
         {
          "ratings": "1.0",
          "sentiments": -0.029411764705882353
         },
         {
          "ratings": "1.0",
          "sentiments": -0.25
         },
         {
          "ratings": "1.0",
          "sentiments": -0.04404761904761905
         },
         {
          "ratings": "1.0",
          "sentiments": -0.20512820512820512
         },
         {
          "ratings": "1.0",
          "sentiments": 0
         },
         {
          "ratings": "1.0",
          "sentiments": 0
         },
         {
          "ratings": "1.0",
          "sentiments": -0.025
         },
         {
          "ratings": "1.0",
          "sentiments": -0.2708333333333333
         },
         {
          "ratings": "1.0",
          "sentiments": -0.1
         },
         {
          "ratings": "1.0",
          "sentiments": 0
         },
         {
          "ratings": "1.0",
          "sentiments": 0.3333333333333333
         },
         {
          "ratings": "1.0",
          "sentiments": -0.038530465949820784
         },
         {
          "ratings": "1.0",
          "sentiments": -0.05
         },
         {
          "ratings": "1.0",
          "sentiments": 0
         },
         {
          "ratings": "1.0",
          "sentiments": -0.011620957836634152
         },
         {
          "ratings": "1.0",
          "sentiments": -0.02702702702702703
         },
         {
          "ratings": "1.0",
          "sentiments": 0.043152462829882186
         },
         {
          "ratings": "1.0",
          "sentiments": -0.019322344322344323
         },
         {
          "ratings": "1.0",
          "sentiments": 0.25
         },
         {
          "ratings": "1.0",
          "sentiments": -0.03828324808184143
         },
         {
          "ratings": "1.0",
          "sentiments": -0.05555555555555555
         },
         {
          "ratings": "1.0",
          "sentiments": -0.07142857142857142
         },
         {
          "ratings": "1.0",
          "sentiments": 0.016666666666666663
         },
         {
          "ratings": "1.0",
          "sentiments": -0.03623015873015873
         },
         {
          "ratings": "1.0",
          "sentiments": 0.2
         },
         {
          "ratings": "1.0",
          "sentiments": 0.005654307224355532
         },
         {
          "ratings": "1.0",
          "sentiments": -0.25
         },
         {
          "ratings": "1.0",
          "sentiments": -0.05555555555555555
         },
         {
          "ratings": "1.0",
          "sentiments": 0
         },
         {
          "ratings": "1.0",
          "sentiments": 0
         },
         {
          "ratings": "1.0",
          "sentiments": 0.0625
         },
         {
          "ratings": "1.0",
          "sentiments": -0.015705838876570583
         },
         {
          "ratings": "1.0",
          "sentiments": -0.14285714285714285
         },
         {
          "ratings": "1.0",
          "sentiments": 0.020833333333333332
         },
         {
          "ratings": "1.0",
          "sentiments": 0.2
         },
         {
          "ratings": "1.0",
          "sentiments": -0.16666666666666666
         },
         {
          "ratings": "1.0",
          "sentiments": 0.023255813953488372
         },
         {
          "ratings": "1.0",
          "sentiments": -0.047619047619047616
         },
         {
          "ratings": "1.0",
          "sentiments": -0.057809627548471375
         },
         {
          "ratings": "1.0",
          "sentiments": 0
         },
         {
          "ratings": "1.0",
          "sentiments": 0.11111111111111112
         },
         {
          "ratings": "1.0",
          "sentiments": -0.09090909090909091
         },
         {
          "ratings": "1.0",
          "sentiments": -0.14166666666666666
         },
         {
          "ratings": "1.0",
          "sentiments": -0.04107142857142858
         },
         {
          "ratings": "1.0",
          "sentiments": 0
         },
         {
          "ratings": "1.0",
          "sentiments": 0
         },
         {
          "ratings": "1.0",
          "sentiments": 0.01
         },
         {
          "ratings": "1.0",
          "sentiments": 0
         },
         {
          "ratings": "1.0",
          "sentiments": 0.005009319664492079
         },
         {
          "ratings": "1.0",
          "sentiments": 0.013741285988079444
         },
         {
          "ratings": "1.0",
          "sentiments": -0.025
         },
         {
          "ratings": "1.0",
          "sentiments": 0.075
         },
         {
          "ratings": "1.0",
          "sentiments": -0.015618661257606492
         },
         {
          "ratings": "1.0",
          "sentiments": 0
         },
         {
          "ratings": "1.0",
          "sentiments": 0
         },
         {
          "ratings": "1.0",
          "sentiments": 0.05
         },
         {
          "ratings": "1.0",
          "sentiments": 0.5
         },
         {
          "ratings": "1.0",
          "sentiments": 0
         },
         {
          "ratings": "1.0",
          "sentiments": -0.025497230042684595
         },
         {
          "ratings": "1.0",
          "sentiments": 0.003075711786119026
         },
         {
          "ratings": "1.0",
          "sentiments": -0.0625
         },
         {
          "ratings": "1.0",
          "sentiments": 0
         },
         {
          "ratings": "1.0",
          "sentiments": 0.009872281418770982
         },
         {
          "ratings": "1.0",
          "sentiments": 0.05813953488372093
         },
         {
          "ratings": "1.0",
          "sentiments": -0.07786905601988385
         },
         {
          "ratings": "1.0",
          "sentiments": -0.25
         },
         {
          "ratings": "1.0",
          "sentiments": -0.1
         },
         {
          "ratings": "1.0",
          "sentiments": 0.015151515151515152
         },
         {
          "ratings": "1.0",
          "sentiments": 0.029411764705882353
         },
         {
          "ratings": "1.0",
          "sentiments": -0.006713889418291933
         },
         {
          "ratings": "1.0",
          "sentiments": -0.05
         },
         {
          "ratings": "1.0",
          "sentiments": -0.004839852607709751
         },
         {
          "ratings": "1.0",
          "sentiments": 0
         },
         {
          "ratings": "1.0",
          "sentiments": -0.05271672771672772
         },
         {
          "ratings": "1.0",
          "sentiments": -0.041666666666666664
         },
         {
          "ratings": "1.0",
          "sentiments": -0.2
         },
         {
          "ratings": "1.0",
          "sentiments": 0.09294871794871795
         },
         {
          "ratings": "1.0",
          "sentiments": 0
         },
         {
          "ratings": "1.0",
          "sentiments": 0.03888888888888889
         },
         {
          "ratings": "1.0",
          "sentiments": -0.5
         },
         {
          "ratings": "1.0",
          "sentiments": -0.15625
         },
         {
          "ratings": "1.0",
          "sentiments": -0.06230392156862745
         },
         {
          "ratings": "1.0",
          "sentiments": -0.04608585858585859
         },
         {
          "ratings": "1.0",
          "sentiments": 0.020833333333333332
         },
         {
          "ratings": "1.0",
          "sentiments": -0.020833333333333332
         },
         {
          "ratings": "1.0",
          "sentiments": 0
         },
         {
          "ratings": "1.0",
          "sentiments": 0.041666666666666664
         },
         {
          "ratings": "1.0",
          "sentiments": 0.04054406850459481
         },
         {
          "ratings": "1.0",
          "sentiments": -0.029411764705882353
         },
         {
          "ratings": "1.0",
          "sentiments": 0
         },
         {
          "ratings": "1.0",
          "sentiments": 0
         },
         {
          "ratings": "1.0",
          "sentiments": -0.1106060606060606
         },
         {
          "ratings": "1.0",
          "sentiments": 0.04864532019704433
         },
         {
          "ratings": "1.0",
          "sentiments": -0.2222222222222222
         },
         {
          "ratings": "1.0",
          "sentiments": -0.005918560606060604
         },
         {
          "ratings": "1.0",
          "sentiments": 0
         },
         {
          "ratings": "1.0",
          "sentiments": 0.009259259259259259
         },
         {
          "ratings": "1.0",
          "sentiments": -0.012608057577097825
         },
         {
          "ratings": "1.0",
          "sentiments": 0.01472770828761612
         },
         {
          "ratings": "1.0",
          "sentiments": 0.028125
         },
         {
          "ratings": "1.0",
          "sentiments": -0.009046927914852444
         },
         {
          "ratings": "1.0",
          "sentiments": 0
         },
         {
          "ratings": "1.0",
          "sentiments": -0.2222222222222222
         },
         {
          "ratings": "1.0",
          "sentiments": -0.060838348643226695
         },
         {
          "ratings": "1.0",
          "sentiments": 0.026369086957958757
         },
         {
          "ratings": "1.0",
          "sentiments": 0.026893939393939397
         },
         {
          "ratings": "1.0",
          "sentiments": 0.027777777777777776
         },
         {
          "ratings": "1.0",
          "sentiments": -0.03333333333333333
         },
         {
          "ratings": "1.0",
          "sentiments": 0.007751937984496124
         },
         {
          "ratings": "1.0",
          "sentiments": -0.125
         },
         {
          "ratings": "1.0",
          "sentiments": -0.09545454545454546
         },
         {
          "ratings": "1.0",
          "sentiments": 0.005978148835291692
         },
         {
          "ratings": "1.0",
          "sentiments": 0.010672514619883042
         },
         {
          "ratings": "1.0",
          "sentiments": 0
         },
         {
          "ratings": "1.0",
          "sentiments": 0.012179487179487178
         },
         {
          "ratings": "1.0",
          "sentiments": 0.02040816326530612
         },
         {
          "ratings": "1.0",
          "sentiments": -0.023809523809523808
         },
         {
          "ratings": "1.0",
          "sentiments": 0.02029963500551736
         },
         {
          "ratings": "1.0",
          "sentiments": 0
         },
         {
          "ratings": "1.0",
          "sentiments": 0
         },
         {
          "ratings": "1.0",
          "sentiments": 0.03395420846401239
         },
         {
          "ratings": "1.0",
          "sentiments": 0.041666666666666664
         },
         {
          "ratings": "1.0",
          "sentiments": -0.11111111111111112
         },
         {
          "ratings": "1.0",
          "sentiments": 0
         },
         {
          "ratings": "1.0",
          "sentiments": 0
         },
         {
          "ratings": "1.0",
          "sentiments": 0.005633476327449617
         },
         {
          "ratings": "1.0",
          "sentiments": 0.02103494623655914
         },
         {
          "ratings": "1.0",
          "sentiments": 0
         },
         {
          "ratings": "1.0",
          "sentiments": 0.041666666666666664
         },
         {
          "ratings": "1.0",
          "sentiments": 0
         },
         {
          "ratings": "1.0",
          "sentiments": 0.024489795918367346
         },
         {
          "ratings": "1.0",
          "sentiments": -0.09090909090909091
         },
         {
          "ratings": "1.0",
          "sentiments": 0.04941212111092896
         },
         {
          "ratings": "1.0",
          "sentiments": -0.045454545454545456
         },
         {
          "ratings": "1.0",
          "sentiments": -0.04365079365079364
         },
         {
          "ratings": "1.0",
          "sentiments": 0.25
         },
         {
          "ratings": "1.0",
          "sentiments": 0
         },
         {
          "ratings": "1.0",
          "sentiments": -0.07692307692307693
         },
         {
          "ratings": "1.0",
          "sentiments": 0.2
         },
         {
          "ratings": "1.0",
          "sentiments": -0.041872909698996666
         },
         {
          "ratings": "1.0",
          "sentiments": -0.026120448179271706
         },
         {
          "ratings": "1.0",
          "sentiments": -0.014492753623188406
         },
         {
          "ratings": "1.0",
          "sentiments": 0
         },
         {
          "ratings": "1.0",
          "sentiments": 0.005108650856531633
         },
         {
          "ratings": "1.0",
          "sentiments": 0
         },
         {
          "ratings": "1.0",
          "sentiments": -0.06547619047619048
         },
         {
          "ratings": "1.0",
          "sentiments": 0.25
         },
         {
          "ratings": "1.0",
          "sentiments": 0.04718271187037312
         },
         {
          "ratings": "1.0",
          "sentiments": 0.012777346110679441
         },
         {
          "ratings": "1.0",
          "sentiments": 0
         },
         {
          "ratings": "1.0",
          "sentiments": -0.0625
         },
         {
          "ratings": "1.0",
          "sentiments": -0.03125
         },
         {
          "ratings": "1.0",
          "sentiments": -0.001785714285714285
         },
         {
          "ratings": "1.0",
          "sentiments": -0.08571428571428572
         },
         {
          "ratings": "1.0",
          "sentiments": -0.0490755419443944
         },
         {
          "ratings": "1.0",
          "sentiments": 0
         },
         {
          "ratings": "1.0",
          "sentiments": 0
         },
         {
          "ratings": "1.0",
          "sentiments": 0.08333333333333333
         },
         {
          "ratings": "1.0",
          "sentiments": 0
         },
         {
          "ratings": "1.0",
          "sentiments": 0.5
         },
         {
          "ratings": "1.0",
          "sentiments": 0
         },
         {
          "ratings": "1.0",
          "sentiments": 1
         },
         {
          "ratings": "1.0",
          "sentiments": -0.08694083694083693
         },
         {
          "ratings": "1.0",
          "sentiments": 0.2
         },
         {
          "ratings": "1.0",
          "sentiments": 0
         },
         {
          "ratings": "1.0",
          "sentiments": -0.00185185185185185
         },
         {
          "ratings": "1.0",
          "sentiments": 0.04365079365079364
         },
         {
          "ratings": "1.0",
          "sentiments": 0
         },
         {
          "ratings": "1.0",
          "sentiments": 0.3333333333333333
         },
         {
          "ratings": "1.0",
          "sentiments": 0.0196078431372549
         },
         {
          "ratings": "1.0",
          "sentiments": 0
         },
         {
          "ratings": "1.0",
          "sentiments": -0.013953484650661395
         },
         {
          "ratings": "1.0",
          "sentiments": -0.023076923076923078
         },
         {
          "ratings": "1.0",
          "sentiments": 0
         },
         {
          "ratings": "1.0",
          "sentiments": -0.07774243300559089
         },
         {
          "ratings": "1.0",
          "sentiments": -0.003421536398050987
         },
         {
          "ratings": "1.0",
          "sentiments": -0.025210084033613443
         },
         {
          "ratings": "1.0",
          "sentiments": 0.16666666666666666
         },
         {
          "ratings": "1.0",
          "sentiments": -0.25
         },
         {
          "ratings": "1.0",
          "sentiments": -0.05959595959595959
         },
         {
          "ratings": "1.0",
          "sentiments": -0.05545454545454546
         },
         {
          "ratings": "1.0",
          "sentiments": -0.0590909090909091
         },
         {
          "ratings": "1.0",
          "sentiments": 0
         },
         {
          "ratings": "1.0",
          "sentiments": -0.10193719064686807
         },
         {
          "ratings": "1.0",
          "sentiments": -0.5
         },
         {
          "ratings": "1.0",
          "sentiments": -0.04882154882154882
         },
         {
          "ratings": "1.0",
          "sentiments": 0.047619047619047616
         },
         {
          "ratings": "1.0",
          "sentiments": 0.05133928571428571
         },
         {
          "ratings": "1.0",
          "sentiments": 0
         },
         {
          "ratings": "1.0",
          "sentiments": 0.1875
         },
         {
          "ratings": "1.0",
          "sentiments": 0
         },
         {
          "ratings": "1.0",
          "sentiments": -0.037037037037037035
         },
         {
          "ratings": "1.0",
          "sentiments": -0.08333333333333333
         },
         {
          "ratings": "1.0",
          "sentiments": 0.041666666666666664
         },
         {
          "ratings": "1.0",
          "sentiments": 0
         },
         {
          "ratings": "1.0",
          "sentiments": -0.025815508021390383
         },
         {
          "ratings": "1.0",
          "sentiments": -0.012774725274725276
         },
         {
          "ratings": "1.0",
          "sentiments": -0.011286400525122328
         },
         {
          "ratings": "1.0",
          "sentiments": -0.10714285714285714
         },
         {
          "ratings": "1.0",
          "sentiments": 0.0625
         },
         {
          "ratings": "1.0",
          "sentiments": -0.2
         },
         {
          "ratings": "1.0",
          "sentiments": -0.0016809116809116814
         },
         {
          "ratings": "1.0",
          "sentiments": 0.012525788387857352
         },
         {
          "ratings": "1.0",
          "sentiments": -0.125
         },
         {
          "ratings": "1.0",
          "sentiments": 0.058823529411764705
         },
         {
          "ratings": "1.0",
          "sentiments": 0.05
         },
         {
          "ratings": "1.0",
          "sentiments": 0
         },
         {
          "ratings": "1.0",
          "sentiments": -0.046753246753246755
         },
         {
          "ratings": "1.0",
          "sentiments": -0.03333333333333333
         },
         {
          "ratings": "1.0",
          "sentiments": 0.04285714285714286
         },
         {
          "ratings": "1.0",
          "sentiments": -0.10163059163059163
         },
         {
          "ratings": "1.0",
          "sentiments": -0.037037037037037035
         },
         {
          "ratings": "1.0",
          "sentiments": -0.03238095238095238
         },
         {
          "ratings": "1.0",
          "sentiments": -0.041666666666666664
         },
         {
          "ratings": "1.0",
          "sentiments": 0
         },
         {
          "ratings": "1.0",
          "sentiments": 0
         },
         {
          "ratings": "1.0",
          "sentiments": 0.1111111111111111
         },
         {
          "ratings": "1.0",
          "sentiments": 0.01594017094017094
         },
         {
          "ratings": "1.0",
          "sentiments": 0.0034016860332649807
         },
         {
          "ratings": "1.0",
          "sentiments": 0.23333333333333334
         },
         {
          "ratings": "1.0",
          "sentiments": 0.03284215784215784
         },
         {
          "ratings": "1.0",
          "sentiments": -0.08333333333333333
         },
         {
          "ratings": "1.0",
          "sentiments": 0.5
         },
         {
          "ratings": "1.0",
          "sentiments": 0
         },
         {
          "ratings": "1.0",
          "sentiments": 0.047435897435897434
         },
         {
          "ratings": "1.0",
          "sentiments": -0.031045145330859617
         },
         {
          "ratings": "1.0",
          "sentiments": 0
         },
         {
          "ratings": "1.0",
          "sentiments": 0.009713423831070888
         },
         {
          "ratings": "1.0",
          "sentiments": 0.04722222222222222
         },
         {
          "ratings": "1.0",
          "sentiments": 0.10101010101010101
         },
         {
          "ratings": "1.0",
          "sentiments": -0.046969696969696974
         },
         {
          "ratings": "1.0",
          "sentiments": -0.035678827345494005
         },
         {
          "ratings": "1.0",
          "sentiments": 0.002525252525252524
         },
         {
          "ratings": "1.0",
          "sentiments": 0.1875
         },
         {
          "ratings": "1.0",
          "sentiments": 0.03597942604478552
         },
         {
          "ratings": "1.0",
          "sentiments": -0.013425925925925928
         },
         {
          "ratings": "1.0",
          "sentiments": -0.0625
         },
         {
          "ratings": "1.0",
          "sentiments": -0.058823529411764705
         },
         {
          "ratings": "1.0",
          "sentiments": -0.04300881794724159
         },
         {
          "ratings": "1.0",
          "sentiments": 0
         },
         {
          "ratings": "1.0",
          "sentiments": 0.009803921568627449
         },
         {
          "ratings": "1.0",
          "sentiments": -0.16666666666666666
         },
         {
          "ratings": "1.0",
          "sentiments": 0.04684210526315789
         },
         {
          "ratings": "1.0",
          "sentiments": -0.06463046757164405
         },
         {
          "ratings": "1.0",
          "sentiments": -0.057692307692307696
         },
         {
          "ratings": "1.0",
          "sentiments": 0
         },
         {
          "ratings": "1.0",
          "sentiments": 0.04583333333333334
         },
         {
          "ratings": "1.0",
          "sentiments": 0
         },
         {
          "ratings": "1.0",
          "sentiments": 0
         },
         {
          "ratings": "1.0",
          "sentiments": -0.09090909090909091
         },
         {
          "ratings": "1.0",
          "sentiments": 0
         },
         {
          "ratings": "1.0",
          "sentiments": 0.02525064503285919
         },
         {
          "ratings": "1.0",
          "sentiments": 0.008088235294117653
         },
         {
          "ratings": "1.0",
          "sentiments": 0.14285714285714285
         },
         {
          "ratings": "1.0",
          "sentiments": 0
         },
         {
          "ratings": "1.0",
          "sentiments": -0.018382352941176468
         },
         {
          "ratings": "1.0",
          "sentiments": 0.011009550018837945
         },
         {
          "ratings": "1.0",
          "sentiments": -0.009523809523809523
         },
         {
          "ratings": "1.0",
          "sentiments": -0.08333333333333333
         },
         {
          "ratings": "1.0",
          "sentiments": -0.1898148148148148
         },
         {
          "ratings": "1.0",
          "sentiments": -0.06666666666666667
         },
         {
          "ratings": "1.0",
          "sentiments": -0.005258607681585858
         },
         {
          "ratings": "1.0",
          "sentiments": -0.019675925925925923
         },
         {
          "ratings": "1.0",
          "sentiments": -0.08888888888888889
         },
         {
          "ratings": "1.0",
          "sentiments": -0.02564102564102564
         },
         {
          "ratings": "1.0",
          "sentiments": -0.0007448032448032459
         },
         {
          "ratings": "1.0",
          "sentiments": -0.08333333333333333
         },
         {
          "ratings": "1.0",
          "sentiments": -0.041666666666666664
         },
         {
          "ratings": "1.0",
          "sentiments": 0.05
         },
         {
          "ratings": "1.0",
          "sentiments": -0.013907269552430842
         },
         {
          "ratings": "1.0",
          "sentiments": 0
         },
         {
          "ratings": "1.0",
          "sentiments": -0.008547008547008544
         },
         {
          "ratings": "1.0",
          "sentiments": -0.0017106357964804496
         },
         {
          "ratings": "1.0",
          "sentiments": -0.020955882352941175
         },
         {
          "ratings": "1.0",
          "sentiments": -0.02631578947368421
         },
         {
          "ratings": "1.0",
          "sentiments": 0.030303030303030304
         },
         {
          "ratings": "1.0",
          "sentiments": -1
         },
         {
          "ratings": "1.0",
          "sentiments": 0.03184523809523809
         },
         {
          "ratings": "1.0",
          "sentiments": -0.06349206349206349
         },
         {
          "ratings": "1.0",
          "sentiments": 0.5
         },
         {
          "ratings": "1.0",
          "sentiments": -0.07291666666666667
         },
         {
          "ratings": "1.0",
          "sentiments": -0.037037037037037035
         },
         {
          "ratings": "1.0",
          "sentiments": 0
         },
         {
          "ratings": "1.0",
          "sentiments": -0.027777777777777776
         },
         {
          "ratings": "1.0",
          "sentiments": -0.0625
         },
         {
          "ratings": "1.0",
          "sentiments": -0.020618556701030927
         },
         {
          "ratings": "1.0",
          "sentiments": -0.09935897435897437
         },
         {
          "ratings": "1.0",
          "sentiments": -0.14285714285714285
         },
         {
          "ratings": "1.0",
          "sentiments": 0.03125
         },
         {
          "ratings": "1.0",
          "sentiments": -0.09515306122448981
         },
         {
          "ratings": "1.0",
          "sentiments": -0.058823529411764705
         },
         {
          "ratings": "1.0",
          "sentiments": -0.039697457930540636
         },
         {
          "ratings": "1.0",
          "sentiments": 0.5
         },
         {
          "ratings": "1.0",
          "sentiments": -0.010101010101010102
         },
         {
          "ratings": "1.0",
          "sentiments": -0.5
         },
         {
          "ratings": "1.0",
          "sentiments": -0.07291666666666667
         },
         {
          "ratings": "1.0",
          "sentiments": 0
         },
         {
          "ratings": "1.0",
          "sentiments": 0.16666666666666666
         },
         {
          "ratings": "1.0",
          "sentiments": 0
         },
         {
          "ratings": "1.0",
          "sentiments": 0.014814814814814814
         },
         {
          "ratings": "1.0",
          "sentiments": -0.04412810042347247
         },
         {
          "ratings": "1.0",
          "sentiments": -0.125
         },
         {
          "ratings": "1.0",
          "sentiments": -0.14285714285714285
         },
         {
          "ratings": "1.0",
          "sentiments": 0
         },
         {
          "ratings": "1.0",
          "sentiments": -0.1627450980392157
         },
         {
          "ratings": "1.0",
          "sentiments": 0.018518518518518517
         },
         {
          "ratings": "1.0",
          "sentiments": -0.047916666666666656
         },
         {
          "ratings": "1.0",
          "sentiments": -0.08695652173913043
         },
         {
          "ratings": "1.0",
          "sentiments": -0.025454545454545455
         },
         {
          "ratings": "1.0",
          "sentiments": 0.0022727272727272735
         },
         {
          "ratings": "1.0",
          "sentiments": 0
         },
         {
          "ratings": "1.0",
          "sentiments": -0.04409356725146198
         },
         {
          "ratings": "1.0",
          "sentiments": 0
         },
         {
          "ratings": "1.0",
          "sentiments": 0.027777777777777776
         },
         {
          "ratings": "1.0",
          "sentiments": 0.011111111111111108
         },
         {
          "ratings": "1.0",
          "sentiments": 0.01864368796186978
         },
         {
          "ratings": "1.0",
          "sentiments": -0.02995098039215686
         },
         {
          "ratings": "1.0",
          "sentiments": -0.09375
         },
         {
          "ratings": "1.0",
          "sentiments": 0
         },
         {
          "ratings": "1.0",
          "sentiments": 0
         },
         {
          "ratings": "1.0",
          "sentiments": -0.125
         },
         {
          "ratings": "1.0",
          "sentiments": -0.003266136790330331
         },
         {
          "ratings": "1.0",
          "sentiments": 0.004511884773708199
         },
         {
          "ratings": "1.0",
          "sentiments": 0.03519061583577712
         },
         {
          "ratings": "1.0",
          "sentiments": 0.015625
         },
         {
          "ratings": "1.0",
          "sentiments": 0.024999999999999998
         },
         {
          "ratings": "1.0",
          "sentiments": 0
         },
         {
          "ratings": "1.0",
          "sentiments": -0.058823529411764705
         },
         {
          "ratings": "1.0",
          "sentiments": -0.02727272727272727
         },
         {
          "ratings": "1.0",
          "sentiments": 0
         },
         {
          "ratings": "1.0",
          "sentiments": 0.007575757575757576
         },
         {
          "ratings": "1.0",
          "sentiments": -0.14285714285714285
         },
         {
          "ratings": "1.0",
          "sentiments": -0.10714285714285715
         },
         {
          "ratings": "1.0",
          "sentiments": -0.01103896103896104
         },
         {
          "ratings": "1.0",
          "sentiments": 0
         },
         {
          "ratings": "1.0",
          "sentiments": -0.029203216374269005
         },
         {
          "ratings": "1.0",
          "sentiments": 0.0325
         },
         {
          "ratings": "1.0",
          "sentiments": 0
         },
         {
          "ratings": "1.0",
          "sentiments": -0.07692307692307693
         },
         {
          "ratings": "1.0",
          "sentiments": 0.028231663035584605
         },
         {
          "ratings": "1.0",
          "sentiments": -0.011111111111111118
         },
         {
          "ratings": "1.0",
          "sentiments": -0.065
         },
         {
          "ratings": "1.0",
          "sentiments": 0
         },
         {
          "ratings": "1.0",
          "sentiments": -0.01111111111111111
         },
         {
          "ratings": "1.0",
          "sentiments": 0.125
         },
         {
          "ratings": "1.0",
          "sentiments": 0
         },
         {
          "ratings": "1.0",
          "sentiments": -0.010683760683760687
         },
         {
          "ratings": "1.0",
          "sentiments": -0.007173202614379083
         },
         {
          "ratings": "1.0",
          "sentiments": -0.04120617944147356
         },
         {
          "ratings": "1.0",
          "sentiments": -0.030434434619231447
         },
         {
          "ratings": "1.0",
          "sentiments": 0.25
         },
         {
          "ratings": "1.0",
          "sentiments": 0.1
         },
         {
          "ratings": "1.0",
          "sentiments": 0
         },
         {
          "ratings": "1.0",
          "sentiments": -0.003968253968253968
         },
         {
          "ratings": "1.0",
          "sentiments": -0.014805194805194807
         },
         {
          "ratings": "1.0",
          "sentiments": -0.10132275132275131
         },
         {
          "ratings": "1.0",
          "sentiments": -0.016666666666666666
         },
         {
          "ratings": "1.0",
          "sentiments": -0.01955012077294686
         },
         {
          "ratings": "1.0",
          "sentiments": -0.009722222222222222
         },
         {
          "ratings": "1.0",
          "sentiments": 0
         },
         {
          "ratings": "1.0",
          "sentiments": 0
         },
         {
          "ratings": "1.0",
          "sentiments": -0.18611111111111112
         },
         {
          "ratings": "1.0",
          "sentiments": 0
         },
         {
          "ratings": "1.0",
          "sentiments": 0
         },
         {
          "ratings": "1.0",
          "sentiments": 0.021291337770211013
         },
         {
          "ratings": "1.0",
          "sentiments": 0
         },
         {
          "ratings": "1.0",
          "sentiments": 0.05000000000000001
         },
         {
          "ratings": "1.0",
          "sentiments": -0.013227513227513227
         },
         {
          "ratings": "1.0",
          "sentiments": -0.0365079365079365
         },
         {
          "ratings": "1.0",
          "sentiments": -0.3333333333333333
         },
         {
          "ratings": "1.0",
          "sentiments": 0.05874620275975697
         },
         {
          "ratings": "1.0",
          "sentiments": -0.23188405797101447
         },
         {
          "ratings": "1.0",
          "sentiments": -0.0625
         },
         {
          "ratings": "1.0",
          "sentiments": 0
         },
         {
          "ratings": "1.0",
          "sentiments": -0.027777777777777776
         },
         {
          "ratings": "1.0",
          "sentiments": -0.02702702702702703
         },
         {
          "ratings": "1.0",
          "sentiments": 0.030478100331041504
         },
         {
          "ratings": "1.0",
          "sentiments": -0.03225806451612903
         },
         {
          "ratings": "1.0",
          "sentiments": -0.4
         },
         {
          "ratings": "1.0",
          "sentiments": 0.08928571428571429
         },
         {
          "ratings": "1.0",
          "sentiments": 0
         },
         {
          "ratings": "1.0",
          "sentiments": 0.034482758620689655
         },
         {
          "ratings": "1.0",
          "sentiments": 0
         },
         {
          "ratings": "1.0",
          "sentiments": 0
         },
         {
          "ratings": "1.0",
          "sentiments": 0.006660168940870695
         },
         {
          "ratings": "1.0",
          "sentiments": 0.0537037037037037
         },
         {
          "ratings": "1.0",
          "sentiments": -0.008284632034632033
         },
         {
          "ratings": "1.0",
          "sentiments": 0.019444444444444448
         },
         {
          "ratings": "1.0",
          "sentiments": 0.05411255411255411
         },
         {
          "ratings": "1.0",
          "sentiments": -0.0013457255616361825
         },
         {
          "ratings": "1.0",
          "sentiments": 0.06409774436090225
         },
         {
          "ratings": "1.0",
          "sentiments": -0.12152777777777778
         },
         {
          "ratings": "1.0",
          "sentiments": 0
         },
         {
          "ratings": "1.0",
          "sentiments": -0.0744047619047619
         },
         {
          "ratings": "1.0",
          "sentiments": -0.14285714285714285
         },
         {
          "ratings": "1.0",
          "sentiments": 0.0611453883879133
         },
         {
          "ratings": "1.0",
          "sentiments": 0.0625
         },
         {
          "ratings": "1.0",
          "sentiments": 0.10025865946918579
         },
         {
          "ratings": "1.0",
          "sentiments": 0
         },
         {
          "ratings": "1.0",
          "sentiments": 0.023809523809523808
         },
         {
          "ratings": "1.0",
          "sentiments": -0.017574544238477298
         },
         {
          "ratings": "1.0",
          "sentiments": 0.041666666666666664
         },
         {
          "ratings": "1.0",
          "sentiments": -0.16666666666666666
         },
         {
          "ratings": "1.0",
          "sentiments": -0.262310606060606
         },
         {
          "ratings": "1.0",
          "sentiments": 0.030334249084249084
         },
         {
          "ratings": "1.0",
          "sentiments": -0.047619047619047616
         },
         {
          "ratings": "1.0",
          "sentiments": 0.18181818181818182
         },
         {
          "ratings": "1.0",
          "sentiments": 0.03125
         },
         {
          "ratings": "1.0",
          "sentiments": 0.2857142857142857
         },
         {
          "ratings": "1.0",
          "sentiments": 0
         },
         {
          "ratings": "1.0",
          "sentiments": 0.036980448745154625
         },
         {
          "ratings": "1.0",
          "sentiments": 0.09090909090909091
         },
         {
          "ratings": "1.0",
          "sentiments": -0.027777777777777776
         },
         {
          "ratings": "1.0",
          "sentiments": -0.125
         },
         {
          "ratings": "1.0",
          "sentiments": 0.0234375
         },
         {
          "ratings": "1.0",
          "sentiments": 0.0375
         },
         {
          "ratings": "1.0",
          "sentiments": 0.05
         },
         {
          "ratings": "1.0",
          "sentiments": 0.021591970121381886
         },
         {
          "ratings": "1.0",
          "sentiments": -0.023237179487179488
         },
         {
          "ratings": "1.0",
          "sentiments": -0.019875776397515525
         },
         {
          "ratings": "1.0",
          "sentiments": 0.02583333333333333
         },
         {
          "ratings": "1.0",
          "sentiments": 0.0017361111111111119
         },
         {
          "ratings": "1.0",
          "sentiments": -0.18333333333333335
         },
         {
          "ratings": "1.0",
          "sentiments": 0.5
         },
         {
          "ratings": "1.0",
          "sentiments": -0.14285714285714285
         },
         {
          "ratings": "1.0",
          "sentiments": 0.2
         },
         {
          "ratings": "1.0",
          "sentiments": 0.06944444444444445
         },
         {
          "ratings": "1.0",
          "sentiments": -0.04545454545454545
         },
         {
          "ratings": "1.0",
          "sentiments": -0.02846482309528222
         },
         {
          "ratings": "1.0",
          "sentiments": 0.08452380952380951
         },
         {
          "ratings": "1.0",
          "sentiments": 0.10721747388414055
         },
         {
          "ratings": "1.0",
          "sentiments": -0.08363636363636362
         },
         {
          "ratings": "1.0",
          "sentiments": 0.07692307692307693
         },
         {
          "ratings": "1.0",
          "sentiments": -0.05541847041847041
         },
         {
          "ratings": "1.0",
          "sentiments": 0.009469696969696968
         },
         {
          "ratings": "1.0",
          "sentiments": -0.10344827586206896
         },
         {
          "ratings": "1.0",
          "sentiments": 0
         },
         {
          "ratings": "1.0",
          "sentiments": 0.07380952380952381
         },
         {
          "ratings": "1.0",
          "sentiments": -0.25
         },
         {
          "ratings": "1.0",
          "sentiments": -0.010449816699816705
         },
         {
          "ratings": "1.0",
          "sentiments": 0
         },
         {
          "ratings": "1.0",
          "sentiments": -0.05482391482391482
         },
         {
          "ratings": "1.0",
          "sentiments": -0.07040149393090571
         },
         {
          "ratings": "1.0",
          "sentiments": -0.02112068603665242
         },
         {
          "ratings": "1.0",
          "sentiments": 0.25
         },
         {
          "ratings": "1.0",
          "sentiments": -0.12074314574314574
         },
         {
          "ratings": "1.0",
          "sentiments": 0
         },
         {
          "ratings": "1.0",
          "sentiments": -0.038235294117647055
         },
         {
          "ratings": "1.0",
          "sentiments": 0.005013736263736264
         },
         {
          "ratings": "1.0",
          "sentiments": -0.0017243328810493015
         },
         {
          "ratings": "1.0",
          "sentiments": 0.00452374422962658
         },
         {
          "ratings": "1.0",
          "sentiments": -0.2
         },
         {
          "ratings": "1.0",
          "sentiments": 0.03409090909090909
         },
         {
          "ratings": "1.0",
          "sentiments": -0.3333333333333333
         },
         {
          "ratings": "1.0",
          "sentiments": -0.047619047619047616
         },
         {
          "ratings": "1.0",
          "sentiments": 0.16666666666666666
         },
         {
          "ratings": "1.0",
          "sentiments": -0.011270616624406697
         },
         {
          "ratings": "1.0",
          "sentiments": 0.1484848484848485
         },
         {
          "ratings": "1.0",
          "sentiments": 0.0125
         },
         {
          "ratings": "1.0",
          "sentiments": -0.01410888260225493
         },
         {
          "ratings": "1.0",
          "sentiments": -0.06666666666666667
         },
         {
          "ratings": "1.0",
          "sentiments": 0.06428571428571428
         },
         {
          "ratings": "1.0",
          "sentiments": -0.06153846153846154
         },
         {
          "ratings": "1.0",
          "sentiments": -0.042539682539682544
         },
         {
          "ratings": "1.0",
          "sentiments": -0.0505050505050505
         },
         {
          "ratings": "1.0",
          "sentiments": -0.06349206349206349
         },
         {
          "ratings": "1.0",
          "sentiments": 0.012820512820512822
         },
         {
          "ratings": "1.0",
          "sentiments": 0.006430671083302661
         },
         {
          "ratings": "1.0",
          "sentiments": -0.07500000000000001
         },
         {
          "ratings": "1.0",
          "sentiments": -0.023936987973811417
         },
         {
          "ratings": "1.0",
          "sentiments": -0.022233201581027668
         },
         {
          "ratings": "1.0",
          "sentiments": 0.1111111111111111
         },
         {
          "ratings": "1.0",
          "sentiments": 0.0061403508771929825
         },
         {
          "ratings": "1.0",
          "sentiments": 0
         },
         {
          "ratings": "1.0",
          "sentiments": 0.08421052631578947
         },
         {
          "ratings": "1.0",
          "sentiments": 0.06884057971014493
         },
         {
          "ratings": "1.0",
          "sentiments": 0.02976827094474153
         },
         {
          "ratings": "1.0",
          "sentiments": 0.03125
         },
         {
          "ratings": "1.0",
          "sentiments": 0.014814814814814814
         },
         {
          "ratings": "1.0",
          "sentiments": 0.03051948051948052
         },
         {
          "ratings": "1.0",
          "sentiments": -0.014814814814814817
         },
         {
          "ratings": "1.0",
          "sentiments": -0.016657169990503325
         },
         {
          "ratings": "1.0",
          "sentiments": 0.047619047619047616
         },
         {
          "ratings": "1.0",
          "sentiments": -0.060242518059855525
         },
         {
          "ratings": "1.0",
          "sentiments": -0.015813447989918576
         },
         {
          "ratings": "1.0",
          "sentiments": 0.07309941520467836
         },
         {
          "ratings": "1.0",
          "sentiments": 0.013238095238095238
         },
         {
          "ratings": "1.0",
          "sentiments": 0.2
         },
         {
          "ratings": "1.0",
          "sentiments": -0.3333333333333333
         },
         {
          "ratings": "1.0",
          "sentiments": 0.04920634920634921
         },
         {
          "ratings": "1.0",
          "sentiments": -0.08333333333333333
         },
         {
          "ratings": "1.0",
          "sentiments": 0.14285714285714285
         },
         {
          "ratings": "1.0",
          "sentiments": -0.06764069264069263
         },
         {
          "ratings": "1.0",
          "sentiments": -0.03571428571428571
         },
         {
          "ratings": "1.0",
          "sentiments": 0
         },
         {
          "ratings": "1.0",
          "sentiments": -0.0068497384967973205
         },
         {
          "ratings": "1.0",
          "sentiments": -0.1
         },
         {
          "ratings": "1.0",
          "sentiments": -0.09090909090909091
         },
         {
          "ratings": "1.0",
          "sentiments": -0.19298245614035087
         },
         {
          "ratings": "1.0",
          "sentiments": 0.09583333333333333
         },
         {
          "ratings": "1.0",
          "sentiments": 0.0038916492863861297
         },
         {
          "ratings": "1.0",
          "sentiments": 0.005952380952380954
         },
         {
          "ratings": "1.0",
          "sentiments": 0.033628681247808996
         },
         {
          "ratings": "1.0",
          "sentiments": 0.08994708994708994
         },
         {
          "ratings": "1.0",
          "sentiments": 0.030000000000000006
         },
         {
          "ratings": "1.0",
          "sentiments": 0
         },
         {
          "ratings": "1.0",
          "sentiments": -0.14285714285714285
         },
         {
          "ratings": "1.0",
          "sentiments": -0.125
         },
         {
          "ratings": "1.0",
          "sentiments": 0.25
         },
         {
          "ratings": "1.0",
          "sentiments": 0.045454545454545456
         },
         {
          "ratings": "1.0",
          "sentiments": -0.03487654320987656
         },
         {
          "ratings": "1.0",
          "sentiments": -0.040103740103740106
         },
         {
          "ratings": "1.0",
          "sentiments": -0.5
         },
         {
          "ratings": "1.0",
          "sentiments": 0
         },
         {
          "ratings": "1.0",
          "sentiments": 0.09090909090909091
         },
         {
          "ratings": "1.0",
          "sentiments": 0
         },
         {
          "ratings": "1.0",
          "sentiments": 0.07692307692307693
         },
         {
          "ratings": "1.0",
          "sentiments": -0.04722222222222222
         },
         {
          "ratings": "1.0",
          "sentiments": 0.015625
         },
         {
          "ratings": "1.0",
          "sentiments": -0.023333333333333338
         },
         {
          "ratings": "1.0",
          "sentiments": -0.041328629962170335
         },
         {
          "ratings": "1.0",
          "sentiments": 0
         },
         {
          "ratings": "1.0",
          "sentiments": 0.06060606060606061
         },
         {
          "ratings": "1.0",
          "sentiments": -0.16666666666666666
         },
         {
          "ratings": "1.0",
          "sentiments": 0.14285714285714285
         },
         {
          "ratings": "1.0",
          "sentiments": -0.036865079365079365
         },
         {
          "ratings": "1.0",
          "sentiments": 0
         },
         {
          "ratings": "1.0",
          "sentiments": -0.03888888888888889
         },
         {
          "ratings": "1.0",
          "sentiments": 0
         },
         {
          "ratings": "1.0",
          "sentiments": -0.01766233766233766
         },
         {
          "ratings": "1.0",
          "sentiments": -0.0196078431372549
         },
         {
          "ratings": "1.0",
          "sentiments": 0
         },
         {
          "ratings": "1.0",
          "sentiments": 0
         },
         {
          "ratings": "1.0",
          "sentiments": 0.0838827838827839
         },
         {
          "ratings": "1.0",
          "sentiments": -0.08690476190476189
         },
         {
          "ratings": "1.0",
          "sentiments": 0.047619047619047616
         },
         {
          "ratings": "1.0",
          "sentiments": -0.044407894736842105
         },
         {
          "ratings": "1.0",
          "sentiments": -0.027777777777777776
         },
         {
          "ratings": "1.0",
          "sentiments": -0.14285714285714285
         },
         {
          "ratings": "1.0",
          "sentiments": 0.08472222222222221
         },
         {
          "ratings": "1.0",
          "sentiments": 0.029415954415954414
         },
         {
          "ratings": "1.0",
          "sentiments": -0.0625
         },
         {
          "ratings": "1.0",
          "sentiments": 0
         },
         {
          "ratings": "1.0",
          "sentiments": -0.125
         },
         {
          "ratings": "1.0",
          "sentiments": -0.03474747474747475
         },
         {
          "ratings": "1.0",
          "sentiments": 0.05084745762711865
         },
         {
          "ratings": "1.0",
          "sentiments": 0.005465051517683096
         },
         {
          "ratings": "1.0",
          "sentiments": -0.014705882352941176
         },
         {
          "ratings": "1.0",
          "sentiments": -0.009781167108753316
         },
         {
          "ratings": "1.0",
          "sentiments": 0
         },
         {
          "ratings": "1.0",
          "sentiments": -0.14814814814814814
         },
         {
          "ratings": "1.0",
          "sentiments": 0
         },
         {
          "ratings": "1.0",
          "sentiments": 0.022222222222222223
         },
         {
          "ratings": "1.0",
          "sentiments": -0.0063517999792509616
         },
         {
          "ratings": "1.0",
          "sentiments": -0.1
         },
         {
          "ratings": "1.0",
          "sentiments": 0
         },
         {
          "ratings": "1.0",
          "sentiments": -0.032407407407407406
         },
         {
          "ratings": "1.0",
          "sentiments": 0
         },
         {
          "ratings": "1.0",
          "sentiments": 0.030909090909090907
         },
         {
          "ratings": "1.0",
          "sentiments": 1
         },
         {
          "ratings": "1.0",
          "sentiments": 0.06777777777777777
         },
         {
          "ratings": "1.0",
          "sentiments": -0.5
         },
         {
          "ratings": "1.0",
          "sentiments": -0.05665204678362573
         },
         {
          "ratings": "1.0",
          "sentiments": 0.0089126559714795
         },
         {
          "ratings": "1.0",
          "sentiments": -0.019230769230769232
         },
         {
          "ratings": "1.0",
          "sentiments": -0.08604012244985874
         },
         {
          "ratings": "1.0",
          "sentiments": -0.02435897435897436
         },
         {
          "ratings": "1.0",
          "sentiments": 0.25
         },
         {
          "ratings": "1.0",
          "sentiments": -0.006818181818181818
         },
         {
          "ratings": "1.0",
          "sentiments": 0
         },
         {
          "ratings": "1.0",
          "sentiments": 0.0014826839826839848
         },
         {
          "ratings": "1.0",
          "sentiments": -0.045454545454545456
         },
         {
          "ratings": "1.0",
          "sentiments": -0.047619047619047616
         },
         {
          "ratings": "1.0",
          "sentiments": -0.5
         },
         {
          "ratings": "1.0",
          "sentiments": 0.01666666666666667
         },
         {
          "ratings": "1.0",
          "sentiments": -0.04415478312537136
         },
         {
          "ratings": "1.0",
          "sentiments": 0.012847446670976082
         },
         {
          "ratings": "1.0",
          "sentiments": -0.00909090909090909
         },
         {
          "ratings": "1.0",
          "sentiments": -0.08333333333333333
         },
         {
          "ratings": "1.0",
          "sentiments": 0.018518518518518517
         },
         {
          "ratings": "1.0",
          "sentiments": 0
         },
         {
          "ratings": "1.0",
          "sentiments": 0
         },
         {
          "ratings": "1.0",
          "sentiments": -0.040998217468805706
         },
         {
          "ratings": "1.0",
          "sentiments": 0.25
         },
         {
          "ratings": "1.0",
          "sentiments": 0
         },
         {
          "ratings": "1.0",
          "sentiments": 0.5
         },
         {
          "ratings": "1.0",
          "sentiments": -0.0641025641025641
         },
         {
          "ratings": "1.0",
          "sentiments": -0.09090909090909091
         },
         {
          "ratings": "1.0",
          "sentiments": -0.3333333333333333
         },
         {
          "ratings": "1.0",
          "sentiments": -0.015151515151515157
         },
         {
          "ratings": "1.0",
          "sentiments": -0.10611408199643493
         },
         {
          "ratings": "1.0",
          "sentiments": 0.16666666666666666
         },
         {
          "ratings": "1.0",
          "sentiments": -0.18181818181818182
         },
         {
          "ratings": "1.0",
          "sentiments": 0.1
         },
         {
          "ratings": "1.0",
          "sentiments": 0.016666666666666666
         },
         {
          "ratings": "1.0",
          "sentiments": -0.1607142857142857
         },
         {
          "ratings": "1.0",
          "sentiments": -0.02222222222222222
         },
         {
          "ratings": "1.0",
          "sentiments": 0.006573583585967489
         },
         {
          "ratings": "1.0",
          "sentiments": -0.08333333333333333
         },
         {
          "ratings": "1.0",
          "sentiments": -0.018867924528301886
         },
         {
          "ratings": "1.0",
          "sentiments": 0.00029761904761904797
         },
         {
          "ratings": "1.0",
          "sentiments": 0.05064460393407762
         },
         {
          "ratings": "1.0",
          "sentiments": 0.0029688517386089477
         },
         {
          "ratings": "1.0",
          "sentiments": 0.3333333333333333
         },
         {
          "ratings": "1.0",
          "sentiments": 0
         },
         {
          "ratings": "1.0",
          "sentiments": 0.027777777777777776
         },
         {
          "ratings": "1.0",
          "sentiments": -0.03571428571428571
         },
         {
          "ratings": "1.0",
          "sentiments": -0.07915940766550522
         },
         {
          "ratings": "1.0",
          "sentiments": -0.09444444444444444
         },
         {
          "ratings": "1.0",
          "sentiments": 0.020833333333333332
         },
         {
          "ratings": "1.0",
          "sentiments": -0.05500000000000001
         },
         {
          "ratings": "1.0",
          "sentiments": 0
         },
         {
          "ratings": "1.0",
          "sentiments": 0
         },
         {
          "ratings": "1.0",
          "sentiments": -0.03814935064935065
         },
         {
          "ratings": "1.0",
          "sentiments": 0.08333333333333333
         },
         {
          "ratings": "1.0",
          "sentiments": -0.15277777777777776
         },
         {
          "ratings": "1.0",
          "sentiments": 0.02631578947368421
         },
         {
          "ratings": "1.0",
          "sentiments": 0.2916666666666667
         },
         {
          "ratings": "1.0",
          "sentiments": -0.08888888888888889
         },
         {
          "ratings": "1.0",
          "sentiments": -0.017420695246782202
         },
         {
          "ratings": "1.0",
          "sentiments": -0.25
         },
         {
          "ratings": "1.0",
          "sentiments": 0
         },
         {
          "ratings": "1.0",
          "sentiments": -0.011666666666666669
         },
         {
          "ratings": "1.0",
          "sentiments": 0.038638663967611335
         },
         {
          "ratings": "1.0",
          "sentiments": 0.06318181818181819
         },
         {
          "ratings": "1.0",
          "sentiments": -0.06451612903225806
         },
         {
          "ratings": "1.0",
          "sentiments": -0.023809523809523808
         },
         {
          "ratings": "1.0",
          "sentiments": 0.0017253278122843338
         },
         {
          "ratings": "1.0",
          "sentiments": 0.16666666666666666
         },
         {
          "ratings": "1.0",
          "sentiments": 0
         },
         {
          "ratings": "1.0",
          "sentiments": -0.13888888888888887
         },
         {
          "ratings": "1.0",
          "sentiments": 0
         },
         {
          "ratings": "1.0",
          "sentiments": 0
         },
         {
          "ratings": "1.0",
          "sentiments": 0.010578529657477027
         },
         {
          "ratings": "1.0",
          "sentiments": 0
         },
         {
          "ratings": "1.0",
          "sentiments": 0
         },
         {
          "ratings": "1.0",
          "sentiments": 0.07216791979949874
         },
         {
          "ratings": "1.0",
          "sentiments": -0.0021476219736135845
         },
         {
          "ratings": "1.0",
          "sentiments": 0
         },
         {
          "ratings": "1.0",
          "sentiments": -0.10845295055821373
         },
         {
          "ratings": "1.0",
          "sentiments": -0.005940238834332807
         },
         {
          "ratings": "1.0",
          "sentiments": 0.07428571428571429
         },
         {
          "ratings": "1.0",
          "sentiments": 0
         },
         {
          "ratings": "1.0",
          "sentiments": 0.08333333333333333
         },
         {
          "ratings": "1.0",
          "sentiments": -0.00817285247432306
         },
         {
          "ratings": "1.0",
          "sentiments": 0.023809523809523808
         },
         {
          "ratings": "1.0",
          "sentiments": -0.03949285310841375
         },
         {
          "ratings": "1.0",
          "sentiments": 0.03571428571428571
         },
         {
          "ratings": "1.0",
          "sentiments": 0
         },
         {
          "ratings": "1.0",
          "sentiments": -0.0632996632996633
         },
         {
          "ratings": "1.0",
          "sentiments": -0.014285714285714285
         },
         {
          "ratings": "1.0",
          "sentiments": 0
         },
         {
          "ratings": "1.0",
          "sentiments": -0.019230769230769232
         },
         {
          "ratings": "1.0",
          "sentiments": -0.027205882352941177
         },
         {
          "ratings": "1.0",
          "sentiments": -0.025242948139190362
         },
         {
          "ratings": "1.0",
          "sentiments": 0.08075477154424524
         },
         {
          "ratings": "1.0",
          "sentiments": 0.02390955872737249
         },
         {
          "ratings": "1.0",
          "sentiments": 0.0007832080200501247
         },
         {
          "ratings": "1.0",
          "sentiments": 0.007074420677361854
         },
         {
          "ratings": "1.0",
          "sentiments": 0.04878048780487805
         },
         {
          "ratings": "1.0",
          "sentiments": 0
         },
         {
          "ratings": "1.0",
          "sentiments": -0.059523809523809514
         },
         {
          "ratings": "1.0",
          "sentiments": -0.02626262626262627
         },
         {
          "ratings": "1.0",
          "sentiments": -0.0625
         },
         {
          "ratings": "1.0",
          "sentiments": -0.18181818181818182
         },
         {
          "ratings": "1.0",
          "sentiments": 0.10185185185185185
         },
         {
          "ratings": "1.0",
          "sentiments": 0.039383753501400554
         },
         {
          "ratings": "1.0",
          "sentiments": -0.09090909090909091
         },
         {
          "ratings": "1.0",
          "sentiments": -0.047619047619047616
         },
         {
          "ratings": "1.0",
          "sentiments": -0.14166666666666666
         },
         {
          "ratings": "1.0",
          "sentiments": 0
         },
         {
          "ratings": "1.0",
          "sentiments": -0.3333333333333333
         },
         {
          "ratings": "1.0",
          "sentiments": -0.07173382173382174
         },
         {
          "ratings": "1.0",
          "sentiments": 0.033017533936651584
         },
         {
          "ratings": "1.0",
          "sentiments": -0.029999999999999992
         },
         {
          "ratings": "1.0",
          "sentiments": -0.011111111111111112
         },
         {
          "ratings": "1.0",
          "sentiments": -0.013919767284957757
         },
         {
          "ratings": "1.0",
          "sentiments": 0.026618711401320095
         },
         {
          "ratings": "1.0",
          "sentiments": -0.02706442727026475
         },
         {
          "ratings": "1.0",
          "sentiments": -0.125
         },
         {
          "ratings": "1.0",
          "sentiments": 0.11666666666666665
         },
         {
          "ratings": "1.0",
          "sentiments": -0.5
         },
         {
          "ratings": "1.0",
          "sentiments": 0.018037518037518036
         },
         {
          "ratings": "1.0",
          "sentiments": 0.0027777777777777775
         },
         {
          "ratings": "1.0",
          "sentiments": -0.00888888888888889
         },
         {
          "ratings": "1.0",
          "sentiments": -0.2
         },
         {
          "ratings": "1.0",
          "sentiments": -0.5
         },
         {
          "ratings": "1.0",
          "sentiments": 0.012019230769230768
         },
         {
          "ratings": "1.0",
          "sentiments": -0.024166666666666666
         },
         {
          "ratings": "1.0",
          "sentiments": 0.03946169772256728
         },
         {
          "ratings": "1.0",
          "sentiments": 1
         },
         {
          "ratings": "1.0",
          "sentiments": -0.19444444444444442
         },
         {
          "ratings": "1.0",
          "sentiments": 0.07326007326007326
         },
         {
          "ratings": "1.0",
          "sentiments": -0.10526315789473684
         },
         {
          "ratings": "1.0",
          "sentiments": 0.1
         },
         {
          "ratings": "1.0",
          "sentiments": 0.04317460317460318
         },
         {
          "ratings": "1.0",
          "sentiments": -0.25
         },
         {
          "ratings": "1.0",
          "sentiments": 0.017241379310344827
         },
         {
          "ratings": "1.0",
          "sentiments": -0.07341269841269842
         },
         {
          "ratings": "1.0",
          "sentiments": 0.0425531914893617
         },
         {
          "ratings": "1.0",
          "sentiments": 0.034482758620689655
         },
         {
          "ratings": "1.0",
          "sentiments": 0.1
         },
         {
          "ratings": "1.0",
          "sentiments": -0.020833333333333336
         },
         {
          "ratings": "1.0",
          "sentiments": -1
         },
         {
          "ratings": "1.0",
          "sentiments": -0.02109173126614987
         },
         {
          "ratings": "1.0",
          "sentiments": -0.005781090254774466
         },
         {
          "ratings": "1.0",
          "sentiments": 0.02606951871657754
         },
         {
          "ratings": "1.0",
          "sentiments": 0.03333333333333333
         },
         {
          "ratings": "1.0",
          "sentiments": 0
         },
         {
          "ratings": "1.0",
          "sentiments": 0.125
         },
         {
          "ratings": "1.0",
          "sentiments": -0.038761238761238756
         },
         {
          "ratings": "1.0",
          "sentiments": -0.027021187427111973
         },
         {
          "ratings": "1.0",
          "sentiments": 0.008294483294483294
         },
         {
          "ratings": "1.0",
          "sentiments": 0.017788461538461538
         },
         {
          "ratings": "1.0",
          "sentiments": -0.020382800833136275
         },
         {
          "ratings": "1.0",
          "sentiments": 0.3333333333333333
         },
         {
          "ratings": "1.0",
          "sentiments": -0.03607503607503607
         },
         {
          "ratings": "1.0",
          "sentiments": 0.0468975468975469
         },
         {
          "ratings": "1.0",
          "sentiments": -0.060340802987861805
         },
         {
          "ratings": "1.0",
          "sentiments": 0.009047619047619046
         },
         {
          "ratings": "1.0",
          "sentiments": 0.12083333333333333
         },
         {
          "ratings": "1.0",
          "sentiments": 0.05
         },
         {
          "ratings": "1.0",
          "sentiments": -0.004464285714285715
         },
         {
          "ratings": "1.0",
          "sentiments": -0.01283846872082166
         },
         {
          "ratings": "1.0",
          "sentiments": 0
         },
         {
          "ratings": "1.0",
          "sentiments": 0.04686285936285936
         },
         {
          "ratings": "1.0",
          "sentiments": 0.03333333333333333
         },
         {
          "ratings": "1.0",
          "sentiments": 0
         },
         {
          "ratings": "1.0",
          "sentiments": -0.05555555555555555
         },
         {
          "ratings": "1.0",
          "sentiments": -0.25
         },
         {
          "ratings": "1.0",
          "sentiments": 0.011704780726519853
         },
         {
          "ratings": "1.0",
          "sentiments": -0.07133786848072562
         },
         {
          "ratings": "1.0",
          "sentiments": -1
         },
         {
          "ratings": "1.0",
          "sentiments": 0.0861344537815126
         },
         {
          "ratings": "1.0",
          "sentiments": -0.09782810391363023
         },
         {
          "ratings": "1.0",
          "sentiments": -0.03571428571428571
         },
         {
          "ratings": "1.0",
          "sentiments": 0
         },
         {
          "ratings": "1.0",
          "sentiments": -0.025
         },
         {
          "ratings": "1.0",
          "sentiments": -0.011598930481283425
         },
         {
          "ratings": "1.0",
          "sentiments": -0.03339517625231911
         },
         {
          "ratings": "1.0",
          "sentiments": -0.05437062937062936
         },
         {
          "ratings": "1.0",
          "sentiments": -0.09090909090909091
         },
         {
          "ratings": "1.0",
          "sentiments": -0.022732916344554554
         },
         {
          "ratings": "1.0",
          "sentiments": -0.008695652173913044
         },
         {
          "ratings": "1.0",
          "sentiments": 0.07539682539682539
         },
         {
          "ratings": "1.0",
          "sentiments": -0.14
         },
         {
          "ratings": "1.0",
          "sentiments": -0.024797892166313222
         },
         {
          "ratings": "1.0",
          "sentiments": 0.030303030303030304
         },
         {
          "ratings": "1.0",
          "sentiments": 0
         },
         {
          "ratings": "1.0",
          "sentiments": -0.11160714285714285
         },
         {
          "ratings": "1.0",
          "sentiments": 0.014439079725457434
         },
         {
          "ratings": "1.0",
          "sentiments": 0.026785714285714284
         },
         {
          "ratings": "1.0",
          "sentiments": 0.001024130190796858
         },
         {
          "ratings": "1.0",
          "sentiments": 0.2857142857142857
         },
         {
          "ratings": "1.0",
          "sentiments": 0.018635484492869888
         },
         {
          "ratings": "1.0",
          "sentiments": 0.07142857142857142
         },
         {
          "ratings": "1.0",
          "sentiments": -0.01495726495726496
         },
         {
          "ratings": "1.0",
          "sentiments": 0
         },
         {
          "ratings": "1.0",
          "sentiments": -0.10526315789473684
         },
         {
          "ratings": "1.0",
          "sentiments": 0.09090909090909091
         },
         {
          "ratings": "1.0",
          "sentiments": 0.3333333333333333
         },
         {
          "ratings": "1.0",
          "sentiments": 0.004427272654826834
         },
         {
          "ratings": "1.0",
          "sentiments": -0.1619047619047619
         },
         {
          "ratings": "1.0",
          "sentiments": 0.036506831983805665
         },
         {
          "ratings": "1.0",
          "sentiments": 0.08333333333333333
         },
         {
          "ratings": "1.0",
          "sentiments": -0.013536425417724407
         },
         {
          "ratings": "1.0",
          "sentiments": -0.02556818181818182
         },
         {
          "ratings": "1.0",
          "sentiments": 0.0015624999999999962
         },
         {
          "ratings": "1.0",
          "sentiments": -0.0024304239821481216
         },
         {
          "ratings": "1.0",
          "sentiments": -0.057539682539682536
         },
         {
          "ratings": "1.0",
          "sentiments": 0
         },
         {
          "ratings": "1.0",
          "sentiments": 0.012345679012345678
         },
         {
          "ratings": "1.0",
          "sentiments": -0.04716008001510761
         },
         {
          "ratings": "1.0",
          "sentiments": 0
         },
         {
          "ratings": "1.0",
          "sentiments": -0.01921641042087653
         },
         {
          "ratings": "1.0",
          "sentiments": 0.0016666666666666663
         },
         {
          "ratings": "1.0",
          "sentiments": -0.031249999999999997
         },
         {
          "ratings": "1.0",
          "sentiments": 0.16883116883116886
         },
         {
          "ratings": "1.0",
          "sentiments": 0.042735042735042736
         },
         {
          "ratings": "1.0",
          "sentiments": -0.047619047619047616
         },
         {
          "ratings": "1.0",
          "sentiments": 0.05
         },
         {
          "ratings": "1.0",
          "sentiments": 0.1875
         },
         {
          "ratings": "1.0",
          "sentiments": 0
         },
         {
          "ratings": "1.0",
          "sentiments": -0.10707070707070707
         },
         {
          "ratings": "1.0",
          "sentiments": -0.025
         },
         {
          "ratings": "1.0",
          "sentiments": -0.083245455044763
         },
         {
          "ratings": "1.0",
          "sentiments": -0.0052371375900787664
         },
         {
          "ratings": "1.0",
          "sentiments": -0.028846153846153844
         },
         {
          "ratings": "1.0",
          "sentiments": 0.0024475524475524478
         },
         {
          "ratings": "1.0",
          "sentiments": -0.010416666666666657
         },
         {
          "ratings": "1.0",
          "sentiments": -0.028079710144927533
         },
         {
          "ratings": "1.0",
          "sentiments": -0.03790041657688717
         },
         {
          "ratings": "1.0",
          "sentiments": 0.022727272727272728
         },
         {
          "ratings": "1.0",
          "sentiments": 0.03333333333333333
         },
         {
          "ratings": "1.0",
          "sentiments": 0.061818181818181814
         },
         {
          "ratings": "1.0",
          "sentiments": 0.03497305354890494
         },
         {
          "ratings": "1.0",
          "sentiments": -0.15694444444444444
         },
         {
          "ratings": "1.0",
          "sentiments": -0.010582010582010581
         },
         {
          "ratings": "1.0",
          "sentiments": -0.0066862587305643205
         },
         {
          "ratings": "1.0",
          "sentiments": -0.1109628026294693
         },
         {
          "ratings": "1.0",
          "sentiments": -0.0654040404040404
         },
         {
          "ratings": "1.0",
          "sentiments": -0.2
         },
         {
          "ratings": "1.0",
          "sentiments": -0.024390243902439025
         },
         {
          "ratings": "1.0",
          "sentiments": 0.012847446670976082
         },
         {
          "ratings": "1.0",
          "sentiments": -0.009866522366522362
         },
         {
          "ratings": "1.0",
          "sentiments": 0.011215049041135997
         },
         {
          "ratings": "1.0",
          "sentiments": -0.060119047619047614
         },
         {
          "ratings": "1.0",
          "sentiments": -0.047619047619047616
         },
         {
          "ratings": "1.0",
          "sentiments": 0.025676371558724497
         },
         {
          "ratings": "1.0",
          "sentiments": -0.0026258116883116885
         },
         {
          "ratings": "2.0",
          "sentiments": 0
         },
         {
          "ratings": "2.0",
          "sentiments": 0.01125831512828417
         },
         {
          "ratings": "2.0",
          "sentiments": -0.00396825396825397
         },
         {
          "ratings": "2.0",
          "sentiments": 0.09079365079365079
         },
         {
          "ratings": "2.0",
          "sentiments": 0
         },
         {
          "ratings": "2.0",
          "sentiments": 0
         },
         {
          "ratings": "2.0",
          "sentiments": -0.002563514323949895
         },
         {
          "ratings": "2.0",
          "sentiments": -0.02441077441077441
         },
         {
          "ratings": "2.0",
          "sentiments": 0.008507925897631783
         },
         {
          "ratings": "2.0",
          "sentiments": 0.06666666666666667
         },
         {
          "ratings": "2.0",
          "sentiments": -0.005149758454106284
         },
         {
          "ratings": "2.0",
          "sentiments": 0.017712445002315693
         },
         {
          "ratings": "2.0",
          "sentiments": 0
         },
         {
          "ratings": "2.0",
          "sentiments": 0.012010423359748699
         },
         {
          "ratings": "2.0",
          "sentiments": -0.25
         },
         {
          "ratings": "2.0",
          "sentiments": -0.09090909090909091
         },
         {
          "ratings": "2.0",
          "sentiments": -0.010869565217391304
         },
         {
          "ratings": "2.0",
          "sentiments": -0.011155511155511158
         },
         {
          "ratings": "2.0",
          "sentiments": 0.3333333333333333
         },
         {
          "ratings": "2.0",
          "sentiments": -0.011363636363636364
         },
         {
          "ratings": "2.0",
          "sentiments": -0.026821558071558074
         },
         {
          "ratings": "2.0",
          "sentiments": -0.04285714285714286
         },
         {
          "ratings": "2.0",
          "sentiments": -0.01849013559539875
         },
         {
          "ratings": "2.0",
          "sentiments": 0.002777777777777775
         },
         {
          "ratings": "2.0",
          "sentiments": 0.1
         },
         {
          "ratings": "2.0",
          "sentiments": 0.047619047619047616
         },
         {
          "ratings": "2.0",
          "sentiments": 0.041275510204081635
         },
         {
          "ratings": "2.0",
          "sentiments": -0.006556245686680469
         },
         {
          "ratings": "2.0",
          "sentiments": 0.009259259259259259
         },
         {
          "ratings": "2.0",
          "sentiments": 0.033833333333333326
         },
         {
          "ratings": "2.0",
          "sentiments": -0.03313851110861339
         },
         {
          "ratings": "2.0",
          "sentiments": 0.12301587301587301
         },
         {
          "ratings": "2.0",
          "sentiments": -0.013737373737373743
         },
         {
          "ratings": "2.0",
          "sentiments": 0.15277777777777776
         },
         {
          "ratings": "2.0",
          "sentiments": 0.1111111111111111
         },
         {
          "ratings": "2.0",
          "sentiments": -0.006072874493927127
         },
         {
          "ratings": "2.0",
          "sentiments": -0.028058608058608065
         },
         {
          "ratings": "2.0",
          "sentiments": 0
         },
         {
          "ratings": "2.0",
          "sentiments": 0
         },
         {
          "ratings": "2.0",
          "sentiments": -0.0603513231099438
         },
         {
          "ratings": "2.0",
          "sentiments": 0
         },
         {
          "ratings": "2.0",
          "sentiments": -0.020454545454545454
         },
         {
          "ratings": "2.0",
          "sentiments": 0.05465838509316769
         },
         {
          "ratings": "2.0",
          "sentiments": -0.005166240409207162
         },
         {
          "ratings": "2.0",
          "sentiments": 0
         },
         {
          "ratings": "2.0",
          "sentiments": -0.037037037037037035
         },
         {
          "ratings": "2.0",
          "sentiments": 0
         },
         {
          "ratings": "2.0",
          "sentiments": 0.0625
         },
         {
          "ratings": "2.0",
          "sentiments": 0.027777777777777776
         },
         {
          "ratings": "2.0",
          "sentiments": 0
         },
         {
          "ratings": "2.0",
          "sentiments": 0.003812722428217406
         },
         {
          "ratings": "2.0",
          "sentiments": 0
         },
         {
          "ratings": "2.0",
          "sentiments": -0.06666666666666667
         },
         {
          "ratings": "2.0",
          "sentiments": 0.16666666666666666
         },
         {
          "ratings": "2.0",
          "sentiments": 0.059343434343434344
         },
         {
          "ratings": "2.0",
          "sentiments": -0.03144377409083291
         },
         {
          "ratings": "2.0",
          "sentiments": -0.07692307692307693
         },
         {
          "ratings": "2.0",
          "sentiments": -0.06925675675675676
         },
         {
          "ratings": "2.0",
          "sentiments": 0
         },
         {
          "ratings": "2.0",
          "sentiments": -0.027972027972027972
         },
         {
          "ratings": "2.0",
          "sentiments": 0.025
         },
         {
          "ratings": "2.0",
          "sentiments": 0.001428571428571429
         },
         {
          "ratings": "2.0",
          "sentiments": 0.03281733746130031
         },
         {
          "ratings": "2.0",
          "sentiments": -0.022023809523809522
         },
         {
          "ratings": "2.0",
          "sentiments": 0
         },
         {
          "ratings": "2.0",
          "sentiments": 0.015714285714285712
         },
         {
          "ratings": "2.0",
          "sentiments": -0.027777777777777776
         },
         {
          "ratings": "2.0",
          "sentiments": 0.14285714285714285
         },
         {
          "ratings": "2.0",
          "sentiments": 0.08333333333333333
         },
         {
          "ratings": "2.0",
          "sentiments": -0.03398692810457517
         },
         {
          "ratings": "2.0",
          "sentiments": -0.023488856822190155
         },
         {
          "ratings": "2.0",
          "sentiments": -0.08970588235294118
         },
         {
          "ratings": "2.0",
          "sentiments": 0.007936507936507936
         },
         {
          "ratings": "2.0",
          "sentiments": -0.01717298761609907
         },
         {
          "ratings": "2.0",
          "sentiments": 0.008403361344537813
         },
         {
          "ratings": "2.0",
          "sentiments": -0.1111111111111111
         },
         {
          "ratings": "2.0",
          "sentiments": 0.06984126984126983
         },
         {
          "ratings": "2.0",
          "sentiments": -0.059158473105841526
         },
         {
          "ratings": "2.0",
          "sentiments": 0
         },
         {
          "ratings": "2.0",
          "sentiments": 0.020697167755991286
         },
         {
          "ratings": "2.0",
          "sentiments": -0.02328441284390765
         },
         {
          "ratings": "2.0",
          "sentiments": 0.2692307692307692
         },
         {
          "ratings": "2.0",
          "sentiments": -0.00769980506822612
         },
         {
          "ratings": "2.0",
          "sentiments": 0.0028822055137844604
         },
         {
          "ratings": "2.0",
          "sentiments": 0.024080228298142735
         },
         {
          "ratings": "2.0",
          "sentiments": 0.02818070818070818
         },
         {
          "ratings": "2.0",
          "sentiments": -0.017179894179894177
         },
         {
          "ratings": "2.0",
          "sentiments": -0.1
         },
         {
          "ratings": "2.0",
          "sentiments": 0.014285714285714287
         },
         {
          "ratings": "2.0",
          "sentiments": -0.010522366101949007
         },
         {
          "ratings": "2.0",
          "sentiments": 0.05
         },
         {
          "ratings": "2.0",
          "sentiments": 0.043397435897435895
         },
         {
          "ratings": "2.0",
          "sentiments": 0.020384388573243064
         },
         {
          "ratings": "2.0",
          "sentiments": 0.04018144127677597
         },
         {
          "ratings": "2.0",
          "sentiments": -0.022967013650375276
         },
         {
          "ratings": "2.0",
          "sentiments": 0
         },
         {
          "ratings": "2.0",
          "sentiments": -0.013180813439434131
         },
         {
          "ratings": "2.0",
          "sentiments": 0.1111111111111111
         },
         {
          "ratings": "2.0",
          "sentiments": 0.05103359173126615
         },
         {
          "ratings": "2.0",
          "sentiments": -0.08333333333333333
         },
         {
          "ratings": "2.0",
          "sentiments": -0.001854664942900238
         },
         {
          "ratings": "2.0",
          "sentiments": 0.045454545454545456
         },
         {
          "ratings": "2.0",
          "sentiments": 0.03333333333333333
         },
         {
          "ratings": "2.0",
          "sentiments": -0.05555555555555555
         },
         {
          "ratings": "2.0",
          "sentiments": 0.1411111111111111
         },
         {
          "ratings": "2.0",
          "sentiments": 0.03455032658639117
         },
         {
          "ratings": "2.0",
          "sentiments": 0
         },
         {
          "ratings": "2.0",
          "sentiments": 0
         },
         {
          "ratings": "2.0",
          "sentiments": 0.0038647342995169085
         },
         {
          "ratings": "2.0",
          "sentiments": 0.08666437335167985
         },
         {
          "ratings": "2.0",
          "sentiments": 0.15384615384615385
         },
         {
          "ratings": "2.0",
          "sentiments": 0.16666666666666666
         },
         {
          "ratings": "2.0",
          "sentiments": 0
         },
         {
          "ratings": "2.0",
          "sentiments": -0.0178984810615879
         },
         {
          "ratings": "2.0",
          "sentiments": 0
         },
         {
          "ratings": "2.0",
          "sentiments": -0.06118881118881119
         },
         {
          "ratings": "2.0",
          "sentiments": -0.013829139610389611
         },
         {
          "ratings": "2.0",
          "sentiments": 0.037037037037037035
         },
         {
          "ratings": "2.0",
          "sentiments": -0.01336898395721925
         },
         {
          "ratings": "2.0",
          "sentiments": 0.029417989417989416
         },
         {
          "ratings": "2.0",
          "sentiments": -0.00816326530612245
         },
         {
          "ratings": "2.0",
          "sentiments": 0.01157407407407407
         },
         {
          "ratings": "2.0",
          "sentiments": -0.1111111111111111
         },
         {
          "ratings": "2.0",
          "sentiments": 0.013513513513513514
         },
         {
          "ratings": "2.0",
          "sentiments": 0.1367724867724868
         },
         {
          "ratings": "2.0",
          "sentiments": -0.017089937221468093
         },
         {
          "ratings": "2.0",
          "sentiments": 0.06666666666666667
         },
         {
          "ratings": "2.0",
          "sentiments": 0.01549899146172438
         },
         {
          "ratings": "2.0",
          "sentiments": -0.06856060606060606
         },
         {
          "ratings": "2.0",
          "sentiments": 0.045454545454545456
         },
         {
          "ratings": "2.0",
          "sentiments": -0.0403734763013445
         },
         {
          "ratings": "2.0",
          "sentiments": -0.022406605739939068
         },
         {
          "ratings": "2.0",
          "sentiments": 0
         },
         {
          "ratings": "2.0",
          "sentiments": 0.042105263157894736
         },
         {
          "ratings": "2.0",
          "sentiments": -0.01972042205431055
         },
         {
          "ratings": "2.0",
          "sentiments": -0.10502622377622377
         },
         {
          "ratings": "2.0",
          "sentiments": -0.02711464614071882
         },
         {
          "ratings": "2.0",
          "sentiments": 0.09696969696969697
         },
         {
          "ratings": "2.0",
          "sentiments": -4.832626143748584e-05
         },
         {
          "ratings": "2.0",
          "sentiments": 0
         },
         {
          "ratings": "2.0",
          "sentiments": 0.02922077922077922
         },
         {
          "ratings": "2.0",
          "sentiments": -0.04648484848484848
         },
         {
          "ratings": "2.0",
          "sentiments": 0.07023809523809524
         },
         {
          "ratings": "2.0",
          "sentiments": 0.0525719059553646
         },
         {
          "ratings": "2.0",
          "sentiments": -0.09027777777777778
         },
         {
          "ratings": "2.0",
          "sentiments": -0.4
         },
         {
          "ratings": "2.0",
          "sentiments": -0.02961432506887052
         },
         {
          "ratings": "2.0",
          "sentiments": 0.06349206349206349
         },
         {
          "ratings": "2.0",
          "sentiments": 0.045454545454545456
         },
         {
          "ratings": "2.0",
          "sentiments": 0.02385045844021113
         },
         {
          "ratings": "2.0",
          "sentiments": -0.1551113360323887
         },
         {
          "ratings": "2.0",
          "sentiments": 0
         },
         {
          "ratings": "2.0",
          "sentiments": -0.009169884169884172
         },
         {
          "ratings": "2.0",
          "sentiments": -0.09090909090909091
         },
         {
          "ratings": "2.0",
          "sentiments": 0.030555555555555558
         },
         {
          "ratings": "2.0",
          "sentiments": 0.02325733343735372
         },
         {
          "ratings": "2.0",
          "sentiments": 0.027777777777777776
         },
         {
          "ratings": "2.0",
          "sentiments": -0.015625
         },
         {
          "ratings": "2.0",
          "sentiments": 0.017407407407407406
         },
         {
          "ratings": "2.0",
          "sentiments": 0.02631578947368421
         },
         {
          "ratings": "2.0",
          "sentiments": -0.09318181818181819
         },
         {
          "ratings": "2.0",
          "sentiments": 0
         },
         {
          "ratings": "2.0",
          "sentiments": -0.030575326049565504
         },
         {
          "ratings": "2.0",
          "sentiments": 0.045454545454545456
         },
         {
          "ratings": "2.0",
          "sentiments": -0.041035353535353536
         },
         {
          "ratings": "2.0",
          "sentiments": -0.29166666666666663
         },
         {
          "ratings": "2.0",
          "sentiments": 0.014300334168755221
         },
         {
          "ratings": "2.0",
          "sentiments": 0.08762461213441605
         },
         {
          "ratings": "2.0",
          "sentiments": 0.5
         },
         {
          "ratings": "2.0",
          "sentiments": 0.005661231884057972
         },
         {
          "ratings": "2.0",
          "sentiments": -0.0625
         },
         {
          "ratings": "2.0",
          "sentiments": -0.023184988702230076
         },
         {
          "ratings": "2.0",
          "sentiments": 0
         },
         {
          "ratings": "2.0",
          "sentiments": 0.004765909728062799
         },
         {
          "ratings": "2.0",
          "sentiments": 0.06341463414634146
         },
         {
          "ratings": "2.0",
          "sentiments": 0.025313620071684587
         },
         {
          "ratings": "2.0",
          "sentiments": -0.08055555555555556
         },
         {
          "ratings": "2.0",
          "sentiments": -0.012603850050658552
         },
         {
          "ratings": "2.0",
          "sentiments": 0.006374243754779492
         },
         {
          "ratings": "2.0",
          "sentiments": -0.018958274554061256
         },
         {
          "ratings": "2.0",
          "sentiments": 0.023809523809523815
         },
         {
          "ratings": "2.0",
          "sentiments": -0.009259259259259259
         },
         {
          "ratings": "2.0",
          "sentiments": 0.11494252873563218
         },
         {
          "ratings": "2.0",
          "sentiments": -0.07844516594516594
         },
         {
          "ratings": "2.0",
          "sentiments": 0.062244897959183663
         },
         {
          "ratings": "2.0",
          "sentiments": 0.04798822829030454
         },
         {
          "ratings": "2.0",
          "sentiments": -0.024515392015392018
         },
         {
          "ratings": "2.0",
          "sentiments": 0.016801075268817207
         },
         {
          "ratings": "2.0",
          "sentiments": 0
         },
         {
          "ratings": "2.0",
          "sentiments": 0.023109243697478993
         },
         {
          "ratings": "2.0",
          "sentiments": 0.01089765626350992
         },
         {
          "ratings": "2.0",
          "sentiments": 0.12666666666666665
         },
         {
          "ratings": "2.0",
          "sentiments": 0.049873737373737376
         },
         {
          "ratings": "2.0",
          "sentiments": 0.04350490196078431
         },
         {
          "ratings": "2.0",
          "sentiments": 0.045
         },
         {
          "ratings": "2.0",
          "sentiments": -0.008333333333333331
         },
         {
          "ratings": "2.0",
          "sentiments": 0
         },
         {
          "ratings": "2.0",
          "sentiments": 0.030296296296296293
         },
         {
          "ratings": "2.0",
          "sentiments": -0.07689393939393939
         },
         {
          "ratings": "2.0",
          "sentiments": 0.10416666666666666
         },
         {
          "ratings": "2.0",
          "sentiments": -0.0010753589184961726
         },
         {
          "ratings": "2.0",
          "sentiments": 0
         },
         {
          "ratings": "2.0",
          "sentiments": -0.06659836065573771
         },
         {
          "ratings": "2.0",
          "sentiments": 0.0054112554112554076
         },
         {
          "ratings": "2.0",
          "sentiments": -0.013576248313090422
         },
         {
          "ratings": "2.0",
          "sentiments": -0.004956427015250544
         },
         {
          "ratings": "2.0",
          "sentiments": -0.011752136752136754
         },
         {
          "ratings": "2.0",
          "sentiments": 0.15384615384615385
         },
         {
          "ratings": "2.0",
          "sentiments": -0.03109378769661509
         },
         {
          "ratings": "2.0",
          "sentiments": 0.011784511784511786
         },
         {
          "ratings": "2.0",
          "sentiments": 0.0777047146401985
         },
         {
          "ratings": "2.0",
          "sentiments": 0
         },
         {
          "ratings": "2.0",
          "sentiments": -0.00790375334851662
         },
         {
          "ratings": "2.0",
          "sentiments": 0.25
         },
         {
          "ratings": "2.0",
          "sentiments": -0.02006146659290676
         },
         {
          "ratings": "2.0",
          "sentiments": 0
         },
         {
          "ratings": "2.0",
          "sentiments": 0.002605484184431552
         },
         {
          "ratings": "2.0",
          "sentiments": -0.125
         },
         {
          "ratings": "2.0",
          "sentiments": 0.09375
         },
         {
          "ratings": "2.0",
          "sentiments": 0.010451876890233053
         },
         {
          "ratings": "2.0",
          "sentiments": 0
         },
         {
          "ratings": "2.0",
          "sentiments": -0.013761467889908258
         },
         {
          "ratings": "2.0",
          "sentiments": 0.1437908496732026
         },
         {
          "ratings": "2.0",
          "sentiments": -0.1
         },
         {
          "ratings": "2.0",
          "sentiments": 0.0711951447245565
         },
         {
          "ratings": "2.0",
          "sentiments": 0
         },
         {
          "ratings": "2.0",
          "sentiments": 0
         },
         {
          "ratings": "2.0",
          "sentiments": -0.08361904761904762
         },
         {
          "ratings": "2.0",
          "sentiments": 0.021164021164021163
         },
         {
          "ratings": "2.0",
          "sentiments": -0.014705882352941176
         },
         {
          "ratings": "2.0",
          "sentiments": 0.019048533229819777
         },
         {
          "ratings": "2.0",
          "sentiments": 0.010416666666666666
         },
         {
          "ratings": "2.0",
          "sentiments": -0.04549407114624506
         },
         {
          "ratings": "2.0",
          "sentiments": -0.05
         },
         {
          "ratings": "2.0",
          "sentiments": -0.010662177328843994
         },
         {
          "ratings": "2.0",
          "sentiments": -0.005962897068739483
         },
         {
          "ratings": "2.0",
          "sentiments": 0.038461538461538464
         },
         {
          "ratings": "2.0",
          "sentiments": 0.01263705430372097
         },
         {
          "ratings": "2.0",
          "sentiments": 0.06666666666666667
         },
         {
          "ratings": "2.0",
          "sentiments": 0.3333333333333333
         },
         {
          "ratings": "2.0",
          "sentiments": -0.5
         },
         {
          "ratings": "2.0",
          "sentiments": 0
         },
         {
          "ratings": "2.0",
          "sentiments": 0.05064102564102565
         },
         {
          "ratings": "2.0",
          "sentiments": 0
         },
         {
          "ratings": "2.0",
          "sentiments": -0.1
         },
         {
          "ratings": "2.0",
          "sentiments": 0.006265676355631379
         },
         {
          "ratings": "2.0",
          "sentiments": 0.06216931216931217
         },
         {
          "ratings": "2.0",
          "sentiments": -0.05062636165577342
         },
         {
          "ratings": "2.0",
          "sentiments": -0.1111111111111111
         },
         {
          "ratings": "2.0",
          "sentiments": 0.07142857142857142
         },
         {
          "ratings": "2.0",
          "sentiments": 0
         },
         {
          "ratings": "2.0",
          "sentiments": -0.03794757033248082
         },
         {
          "ratings": "2.0",
          "sentiments": 0
         },
         {
          "ratings": "2.0",
          "sentiments": 0.07142857142857142
         },
         {
          "ratings": "2.0",
          "sentiments": 0.08333333333333333
         },
         {
          "ratings": "2.0",
          "sentiments": 0.08411680911680912
         },
         {
          "ratings": "2.0",
          "sentiments": -0.18181818181818182
         },
         {
          "ratings": "2.0",
          "sentiments": 0.05833333333333334
         },
         {
          "ratings": "2.0",
          "sentiments": 0.041666666666666664
         },
         {
          "ratings": "2.0",
          "sentiments": -0.0044047619047619
         },
         {
          "ratings": "2.0",
          "sentiments": 0.03666666666666667
         },
         {
          "ratings": "2.0",
          "sentiments": 0
         },
         {
          "ratings": "2.0",
          "sentiments": 0.01961177859573581
         },
         {
          "ratings": "2.0",
          "sentiments": 0.02882205513784461
         },
         {
          "ratings": "2.0",
          "sentiments": 0.029411764705882353
         },
         {
          "ratings": "2.0",
          "sentiments": 0.1417124542124542
         },
         {
          "ratings": "2.0",
          "sentiments": 0.03888888888888889
         },
         {
          "ratings": "2.0",
          "sentiments": -0.02
         },
         {
          "ratings": "2.0",
          "sentiments": 0.075
         },
         {
          "ratings": "2.0",
          "sentiments": 0
         },
         {
          "ratings": "2.0",
          "sentiments": -0.010869565217391304
         },
         {
          "ratings": "2.0",
          "sentiments": 0
         },
         {
          "ratings": "2.0",
          "sentiments": 0.11805555555555555
         },
         {
          "ratings": "2.0",
          "sentiments": -0.05165407509157509
         },
         {
          "ratings": "2.0",
          "sentiments": -0.041666666666666664
         },
         {
          "ratings": "2.0",
          "sentiments": 0.020748299319727888
         },
         {
          "ratings": "2.0",
          "sentiments": 0
         },
         {
          "ratings": "2.0",
          "sentiments": 0.42857142857142855
         },
         {
          "ratings": "2.0",
          "sentiments": 0.05172413793103448
         },
         {
          "ratings": "2.0",
          "sentiments": 0
         },
         {
          "ratings": "2.0",
          "sentiments": -0.0641729581331503
         },
         {
          "ratings": "2.0",
          "sentiments": 0.06666666666666667
         },
         {
          "ratings": "2.0",
          "sentiments": -0.005798006695839515
         },
         {
          "ratings": "2.0",
          "sentiments": 0.00707070707070707
         },
         {
          "ratings": "2.0",
          "sentiments": -0.0625
         },
         {
          "ratings": "2.0",
          "sentiments": 0.5
         },
         {
          "ratings": "2.0",
          "sentiments": -0.041666666666666664
         },
         {
          "ratings": "2.0",
          "sentiments": -0.025384615384615384
         },
         {
          "ratings": "2.0",
          "sentiments": -0.1111111111111111
         },
         {
          "ratings": "2.0",
          "sentiments": -0.005492895539841426
         },
         {
          "ratings": "2.0",
          "sentiments": 0.006993006993006992
         },
         {
          "ratings": "2.0",
          "sentiments": 0.011701388888888888
         },
         {
          "ratings": "2.0",
          "sentiments": 0.3333333333333333
         },
         {
          "ratings": "2.0",
          "sentiments": 0
         },
         {
          "ratings": "2.0",
          "sentiments": 0.004089365588083659
         },
         {
          "ratings": "2.0",
          "sentiments": 0.058403361344537816
         },
         {
          "ratings": "2.0",
          "sentiments": 0
         },
         {
          "ratings": "2.0",
          "sentiments": -0.00487012987012987
         },
         {
          "ratings": "2.0",
          "sentiments": 0.013087606837606841
         },
         {
          "ratings": "2.0",
          "sentiments": 0.01335263835263835
         },
         {
          "ratings": "2.0",
          "sentiments": 0.15384615384615385
         },
         {
          "ratings": "2.0",
          "sentiments": -0.1111111111111111
         },
         {
          "ratings": "2.0",
          "sentiments": -0.0013227513227513227
         },
         {
          "ratings": "2.0",
          "sentiments": 0.16666666666666666
         },
         {
          "ratings": "2.0",
          "sentiments": 0.023809523809523808
         },
         {
          "ratings": "2.0",
          "sentiments": 0
         },
         {
          "ratings": "2.0",
          "sentiments": -0.05555555555555555
         },
         {
          "ratings": "2.0",
          "sentiments": 0.05555555555555555
         },
         {
          "ratings": "2.0",
          "sentiments": 0.0030953957105272893
         },
         {
          "ratings": "2.0",
          "sentiments": -0.08333333333333333
         },
         {
          "ratings": "2.0",
          "sentiments": 0.038461538461538464
         },
         {
          "ratings": "2.0",
          "sentiments": -0.0037490090200254385
         },
         {
          "ratings": "2.0",
          "sentiments": 0.10176548089591568
         },
         {
          "ratings": "2.0",
          "sentiments": -0.023024193548387098
         },
         {
          "ratings": "2.0",
          "sentiments": 0.0020186335403726704
         },
         {
          "ratings": "2.0",
          "sentiments": 0.03571428571428571
         },
         {
          "ratings": "2.0",
          "sentiments": 0.003864734299516908
         },
         {
          "ratings": "2.0",
          "sentiments": 0.029411764705882353
         },
         {
          "ratings": "2.0",
          "sentiments": -0.1
         },
         {
          "ratings": "2.0",
          "sentiments": -0.11346153846153846
         },
         {
          "ratings": "2.0",
          "sentiments": 0.05
         },
         {
          "ratings": "2.0",
          "sentiments": -0.1
         },
         {
          "ratings": "2.0",
          "sentiments": -0.023809523809523808
         },
         {
          "ratings": "2.0",
          "sentiments": -0.2222222222222222
         },
         {
          "ratings": "2.0",
          "sentiments": -0.009259259259259259
         },
         {
          "ratings": "2.0",
          "sentiments": -0.014492753623188406
         },
         {
          "ratings": "2.0",
          "sentiments": 0
         },
         {
          "ratings": "2.0",
          "sentiments": 0.013653926482873849
         },
         {
          "ratings": "2.0",
          "sentiments": 0
         },
         {
          "ratings": "2.0",
          "sentiments": -0.055577122153209105
         },
         {
          "ratings": "2.0",
          "sentiments": 0
         },
         {
          "ratings": "2.0",
          "sentiments": 0.041666666666666664
         },
         {
          "ratings": "2.0",
          "sentiments": 0
         },
         {
          "ratings": "2.0",
          "sentiments": -0.03452708907254362
         },
         {
          "ratings": "2.0",
          "sentiments": -0.00498688774465771
         },
         {
          "ratings": "2.0",
          "sentiments": 0.020061728395061727
         },
         {
          "ratings": "2.0",
          "sentiments": -0.25
         },
         {
          "ratings": "2.0",
          "sentiments": -0.013513513513513514
         },
         {
          "ratings": "2.0",
          "sentiments": -0.05076923076923077
         },
         {
          "ratings": "2.0",
          "sentiments": -0.07142857142857142
         },
         {
          "ratings": "2.0",
          "sentiments": 0.009009009009009009
         },
         {
          "ratings": "2.0",
          "sentiments": -0.010416666666666664
         },
         {
          "ratings": "2.0",
          "sentiments": -0.038461538461538464
         },
         {
          "ratings": "2.0",
          "sentiments": 0.020061728395061727
         },
         {
          "ratings": "2.0",
          "sentiments": 0.04563492063492063
         },
         {
          "ratings": "2.0",
          "sentiments": 0.10416666666666666
         },
         {
          "ratings": "2.0",
          "sentiments": 0.0019461697722567273
         },
         {
          "ratings": "2.0",
          "sentiments": -0.061111111111111116
         },
         {
          "ratings": "2.0",
          "sentiments": -0.02960927960927961
         },
         {
          "ratings": "2.0",
          "sentiments": 0.012577633234323588
         },
         {
          "ratings": "2.0",
          "sentiments": 0.044749139749139744
         },
         {
          "ratings": "2.0",
          "sentiments": 0
         },
         {
          "ratings": "2.0",
          "sentiments": 0.2222222222222222
         },
         {
          "ratings": "2.0",
          "sentiments": -0.2222222222222222
         },
         {
          "ratings": "2.0",
          "sentiments": 0.0222985347985348
         },
         {
          "ratings": "2.0",
          "sentiments": 0
         },
         {
          "ratings": "2.0",
          "sentiments": 0.08035714285714285
         },
         {
          "ratings": "2.0",
          "sentiments": -0.12554112554112554
         },
         {
          "ratings": "2.0",
          "sentiments": -0.09803921568627451
         },
         {
          "ratings": "2.0",
          "sentiments": -0.012478283963679256
         },
         {
          "ratings": "2.0",
          "sentiments": -0.15384615384615385
         },
         {
          "ratings": "2.0",
          "sentiments": 0.007350806919772433
         },
         {
          "ratings": "2.0",
          "sentiments": 0.1
         },
         {
          "ratings": "2.0",
          "sentiments": 0.03125
         },
         {
          "ratings": "2.0",
          "sentiments": -0.16666666666666666
         },
         {
          "ratings": "2.0",
          "sentiments": 0.0246031746031746
         },
         {
          "ratings": "2.0",
          "sentiments": 0.1111111111111111
         },
         {
          "ratings": "2.0",
          "sentiments": 0
         },
         {
          "ratings": "2.0",
          "sentiments": 0.25
         },
         {
          "ratings": "2.0",
          "sentiments": -0.045454545454545456
         },
         {
          "ratings": "2.0",
          "sentiments": -0.04
         },
         {
          "ratings": "2.0",
          "sentiments": -0.02525252525252525
         },
         {
          "ratings": "2.0",
          "sentiments": -0.033482142857142856
         },
         {
          "ratings": "2.0",
          "sentiments": -0.08039961013645225
         },
         {
          "ratings": "2.0",
          "sentiments": 0.006746031746031746
         },
         {
          "ratings": "2.0",
          "sentiments": 0.025641025641025644
         },
         {
          "ratings": "2.0",
          "sentiments": 0.008097165991902836
         },
         {
          "ratings": "2.0",
          "sentiments": -0.03958333333333334
         },
         {
          "ratings": "2.0",
          "sentiments": -0.014182043673876708
         },
         {
          "ratings": "2.0",
          "sentiments": -0.03708791208791209
         },
         {
          "ratings": "2.0",
          "sentiments": 0.021296296296296296
         },
         {
          "ratings": "2.0",
          "sentiments": 0.05918300653594771
         },
         {
          "ratings": "2.0",
          "sentiments": 0.002777777777777768
         },
         {
          "ratings": "2.0",
          "sentiments": -0.011539684703102994
         },
         {
          "ratings": "2.0",
          "sentiments": -0.05454545454545455
         },
         {
          "ratings": "2.0",
          "sentiments": 0.011277056277056278
         },
         {
          "ratings": "2.0",
          "sentiments": 0.054563492063492064
         },
         {
          "ratings": "2.0",
          "sentiments": -0.253968253968254
         },
         {
          "ratings": "2.0",
          "sentiments": 0.14285714285714285
         },
         {
          "ratings": "2.0",
          "sentiments": 0
         },
         {
          "ratings": "2.0",
          "sentiments": -0.01883878551420568
         },
         {
          "ratings": "2.0",
          "sentiments": 0.04195804195804196
         },
         {
          "ratings": "2.0",
          "sentiments": -0.015873015873015872
         },
         {
          "ratings": "2.0",
          "sentiments": -0.06944444444444445
         },
         {
          "ratings": "2.0",
          "sentiments": 0
         },
         {
          "ratings": "2.0",
          "sentiments": -0.02224694104560623
         },
         {
          "ratings": "2.0",
          "sentiments": -0.038461538461538464
         },
         {
          "ratings": "2.0",
          "sentiments": 0.02631578947368421
         },
         {
          "ratings": "2.0",
          "sentiments": -0.02224694104560623
         },
         {
          "ratings": "2.0",
          "sentiments": 0.04285714285714286
         },
         {
          "ratings": "2.0",
          "sentiments": -0.06246050450210044
         },
         {
          "ratings": "2.0",
          "sentiments": 0
         },
         {
          "ratings": "2.0",
          "sentiments": 0.009377869605142329
         },
         {
          "ratings": "2.0",
          "sentiments": 0.2222222222222222
         },
         {
          "ratings": "2.0",
          "sentiments": 0.25
         },
         {
          "ratings": "2.0",
          "sentiments": 0.020136566332218508
         },
         {
          "ratings": "2.0",
          "sentiments": -0.07142857142857142
         },
         {
          "ratings": "2.0",
          "sentiments": 0.025735294117647058
         },
         {
          "ratings": "2.0",
          "sentiments": 0
         },
         {
          "ratings": "2.0",
          "sentiments": 0.08695652173913043
         },
         {
          "ratings": "2.0",
          "sentiments": -0.023255813953488372
         },
         {
          "ratings": "2.0",
          "sentiments": 0.125
         },
         {
          "ratings": "2.0",
          "sentiments": -0.038461538461538464
         },
         {
          "ratings": "2.0",
          "sentiments": 0.003077878048309499
         },
         {
          "ratings": "2.0",
          "sentiments": -0.0361111111111111
         },
         {
          "ratings": "2.0",
          "sentiments": 0
         },
         {
          "ratings": "2.0",
          "sentiments": 0.011903021442495124
         },
         {
          "ratings": "2.0",
          "sentiments": 0.037037037037037035
         },
         {
          "ratings": "2.0",
          "sentiments": -0.028715728715728726
         },
         {
          "ratings": "2.0",
          "sentiments": -0.018975468975468975
         },
         {
          "ratings": "2.0",
          "sentiments": -0.025657593404436303
         },
         {
          "ratings": "2.0",
          "sentiments": 0
         },
         {
          "ratings": "2.0",
          "sentiments": 0.2
         },
         {
          "ratings": "2.0",
          "sentiments": 0.015151515151515152
         },
         {
          "ratings": "2.0",
          "sentiments": -0.3333333333333333
         },
         {
          "ratings": "2.0",
          "sentiments": -0.044139194139194135
         },
         {
          "ratings": "2.0",
          "sentiments": -0.04669061097632526
         },
         {
          "ratings": "2.0",
          "sentiments": -0.031862745098039214
         },
         {
          "ratings": "2.0",
          "sentiments": -0.013888888888888888
         },
         {
          "ratings": "2.0",
          "sentiments": -0.013131313131313133
         },
         {
          "ratings": "2.0",
          "sentiments": 0.007004429678848283
         },
         {
          "ratings": "2.0",
          "sentiments": 0.08522727272727273
         },
         {
          "ratings": "2.0",
          "sentiments": 0
         },
         {
          "ratings": "2.0",
          "sentiments": 0.015744650086755352
         },
         {
          "ratings": "2.0",
          "sentiments": 0.03324460218870156
         },
         {
          "ratings": "2.0",
          "sentiments": 0.012485242030696574
         },
         {
          "ratings": "2.0",
          "sentiments": 0.03006715506715507
         },
         {
          "ratings": "2.0",
          "sentiments": -0.02527191863180078
         },
         {
          "ratings": "2.0",
          "sentiments": -0.08
         },
         {
          "ratings": "2.0",
          "sentiments": 0.027192982456140345
         },
         {
          "ratings": "2.0",
          "sentiments": 0.015006385696040866
         },
         {
          "ratings": "2.0",
          "sentiments": -0.030188124632569074
         },
         {
          "ratings": "2.0",
          "sentiments": -0.023809523809523808
         },
         {
          "ratings": "2.0",
          "sentiments": -0.03125
         },
         {
          "ratings": "2.0",
          "sentiments": 0.0625
         },
         {
          "ratings": "2.0",
          "sentiments": -0.02395131683144223
         },
         {
          "ratings": "2.0",
          "sentiments": 0.021568627450980392
         },
         {
          "ratings": "2.0",
          "sentiments": 0.03149350649350649
         },
         {
          "ratings": "2.0",
          "sentiments": 0.020249069112705475
         },
         {
          "ratings": "2.0",
          "sentiments": 0.039662189662189665
         },
         {
          "ratings": "2.0",
          "sentiments": -0.10526315789473684
         },
         {
          "ratings": "2.0",
          "sentiments": -0.008526976495726493
         },
         {
          "ratings": "2.0",
          "sentiments": 0.0020202577345434483
         },
         {
          "ratings": "2.0",
          "sentiments": -0.047619047619047616
         },
         {
          "ratings": "2.0",
          "sentiments": 0
         },
         {
          "ratings": "2.0",
          "sentiments": -0.019230769230769232
         },
         {
          "ratings": "2.0",
          "sentiments": 0.061319966583124476
         },
         {
          "ratings": "2.0",
          "sentiments": -0.05158730158730158
         },
         {
          "ratings": "2.0",
          "sentiments": 0.14285714285714285
         },
         {
          "ratings": "2.0",
          "sentiments": -0.05555555555555555
         },
         {
          "ratings": "2.0",
          "sentiments": 0.017592592592592594
         },
         {
          "ratings": "2.0",
          "sentiments": 0.010823124062744854
         },
         {
          "ratings": "2.0",
          "sentiments": -0.0814636752136752
         },
         {
          "ratings": "2.0",
          "sentiments": -0.2333333333333333
         },
         {
          "ratings": "2.0",
          "sentiments": 0.03571428571428571
         },
         {
          "ratings": "2.0",
          "sentiments": -0.023310548499805895
         },
         {
          "ratings": "2.0",
          "sentiments": -0.011813186813186815
         },
         {
          "ratings": "2.0",
          "sentiments": 0
         },
         {
          "ratings": "2.0",
          "sentiments": -0.023376623376623377
         },
         {
          "ratings": "2.0",
          "sentiments": -0.038461538461538464
         },
         {
          "ratings": "2.0",
          "sentiments": 0.023809523809523808
         },
         {
          "ratings": "2.0",
          "sentiments": -0.037698412698412696
         },
         {
          "ratings": "2.0",
          "sentiments": -0.08708333333333332
         },
         {
          "ratings": "2.0",
          "sentiments": 0
         },
         {
          "ratings": "2.0",
          "sentiments": 0.05087719298245614
         },
         {
          "ratings": "2.0",
          "sentiments": -0.2857142857142857
         },
         {
          "ratings": "2.0",
          "sentiments": 0.022988505747126436
         },
         {
          "ratings": "2.0",
          "sentiments": -0.03125
         },
         {
          "ratings": "2.0",
          "sentiments": -0.25
         },
         {
          "ratings": "2.0",
          "sentiments": 0.006060606060606062
         },
         {
          "ratings": "2.0",
          "sentiments": 0.04444444444444444
         },
         {
          "ratings": "2.0",
          "sentiments": 0.125
         },
         {
          "ratings": "2.0",
          "sentiments": -0.25
         },
         {
          "ratings": "2.0",
          "sentiments": -0.01564832632804983
         },
         {
          "ratings": "2.0",
          "sentiments": 0
         },
         {
          "ratings": "2.0",
          "sentiments": -0.0010416666666666664
         },
         {
          "ratings": "2.0",
          "sentiments": 0
         },
         {
          "ratings": "2.0",
          "sentiments": -0.16025641025641024
         },
         {
          "ratings": "2.0",
          "sentiments": 0.07174372502738309
         },
         {
          "ratings": "2.0",
          "sentiments": -0.016666666666666666
         },
         {
          "ratings": "2.0",
          "sentiments": 0.03331043956043956
         },
         {
          "ratings": "2.0",
          "sentiments": 0.015547083443007873
         },
         {
          "ratings": "2.0",
          "sentiments": 0.01035360179662816
         },
         {
          "ratings": "2.0",
          "sentiments": 0.05
         },
         {
          "ratings": "2.0",
          "sentiments": -1
         },
         {
          "ratings": "2.0",
          "sentiments": -0.0038510101010100994
         },
         {
          "ratings": "2.0",
          "sentiments": 0.05701754385964912
         },
         {
          "ratings": "2.0",
          "sentiments": 0.013020795313171832
         },
         {
          "ratings": "2.0",
          "sentiments": -0.02703373015873016
         },
         {
          "ratings": "2.0",
          "sentiments": -0.02857142857142857
         },
         {
          "ratings": "3.0",
          "sentiments": -0.1
         },
         {
          "ratings": "3.0",
          "sentiments": 0.14285714285714285
         },
         {
          "ratings": "3.0",
          "sentiments": -0.03821382959313994
         },
         {
          "ratings": "3.0",
          "sentiments": 0
         },
         {
          "ratings": "3.0",
          "sentiments": -0.030059857837635613
         },
         {
          "ratings": "3.0",
          "sentiments": 0.005747126436781609
         },
         {
          "ratings": "3.0",
          "sentiments": 0.043478260869565216
         },
         {
          "ratings": "3.0",
          "sentiments": 0.002083333333333333
         },
         {
          "ratings": "3.0",
          "sentiments": 0.08333333333333333
         },
         {
          "ratings": "3.0",
          "sentiments": -0.07692307692307693
         },
         {
          "ratings": "3.0",
          "sentiments": -0.0005515483425721855
         },
         {
          "ratings": "3.0",
          "sentiments": 0.04258602705657845
         },
         {
          "ratings": "3.0",
          "sentiments": 0.022727272727272728
         },
         {
          "ratings": "3.0",
          "sentiments": 0
         },
         {
          "ratings": "3.0",
          "sentiments": 0.14285714285714285
         },
         {
          "ratings": "3.0",
          "sentiments": -0.03571428571428571
         },
         {
          "ratings": "3.0",
          "sentiments": 0.018642904698720823
         },
         {
          "ratings": "3.0",
          "sentiments": 0.03125
         },
         {
          "ratings": "3.0",
          "sentiments": 0.19230769230769232
         },
         {
          "ratings": "3.0",
          "sentiments": -0.041666666666666664
         },
         {
          "ratings": "3.0",
          "sentiments": -0.14545454545454545
         },
         {
          "ratings": "3.0",
          "sentiments": 0.1625
         },
         {
          "ratings": "3.0",
          "sentiments": -0.015819500742361894
         },
         {
          "ratings": "3.0",
          "sentiments": -0.004272609199079789
         },
         {
          "ratings": "3.0",
          "sentiments": 0
         },
         {
          "ratings": "3.0",
          "sentiments": 0.019642939405785258
         },
         {
          "ratings": "3.0",
          "sentiments": 0.4
         },
         {
          "ratings": "3.0",
          "sentiments": 0
         },
         {
          "ratings": "3.0",
          "sentiments": 0.038461538461538464
         },
         {
          "ratings": "3.0",
          "sentiments": 0.09090909090909091
         },
         {
          "ratings": "3.0",
          "sentiments": 0.004391743522178304
         },
         {
          "ratings": "3.0",
          "sentiments": -0.05877825877825878
         },
         {
          "ratings": "3.0",
          "sentiments": -0.023878270512297437
         },
         {
          "ratings": "3.0",
          "sentiments": 0.06777210884353742
         },
         {
          "ratings": "3.0",
          "sentiments": 0.0098428704161867
         },
         {
          "ratings": "3.0",
          "sentiments": 0.03181818181818182
         },
         {
          "ratings": "3.0",
          "sentiments": 0.012193053859720526
         },
         {
          "ratings": "3.0",
          "sentiments": 0.12179487179487179
         },
         {
          "ratings": "3.0",
          "sentiments": 0.05663261030908089
         },
         {
          "ratings": "3.0",
          "sentiments": 0
         },
         {
          "ratings": "3.0",
          "sentiments": 0
         },
         {
          "ratings": "3.0",
          "sentiments": 0.011581655059915926
         },
         {
          "ratings": "3.0",
          "sentiments": 0.07142857142857142
         },
         {
          "ratings": "3.0",
          "sentiments": 0.2222222222222222
         },
         {
          "ratings": "3.0",
          "sentiments": 0.022084195997239476
         },
         {
          "ratings": "3.0",
          "sentiments": 0.2
         },
         {
          "ratings": "3.0",
          "sentiments": 0.05959595959595959
         },
         {
          "ratings": "3.0",
          "sentiments": 0.03947802197802198
         },
         {
          "ratings": "3.0",
          "sentiments": 0.05555555555555555
         },
         {
          "ratings": "3.0",
          "sentiments": -0.018074296185240712
         },
         {
          "ratings": "3.0",
          "sentiments": 0.06391117052881759
         },
         {
          "ratings": "3.0",
          "sentiments": 0
         },
         {
          "ratings": "3.0",
          "sentiments": 0
         },
         {
          "ratings": "3.0",
          "sentiments": 0.038461538461538464
         },
         {
          "ratings": "3.0",
          "sentiments": 0.05820418688065746
         },
         {
          "ratings": "3.0",
          "sentiments": 0.03250517598343685
         },
         {
          "ratings": "3.0",
          "sentiments": 0.06666666666666667
         },
         {
          "ratings": "3.0",
          "sentiments": -0.013888888888888886
         },
         {
          "ratings": "3.0",
          "sentiments": 0
         },
         {
          "ratings": "3.0",
          "sentiments": -0.14285714285714285
         },
         {
          "ratings": "3.0",
          "sentiments": 0.027777777777777776
         },
         {
          "ratings": "3.0",
          "sentiments": 0.006372549019607841
         },
         {
          "ratings": "3.0",
          "sentiments": 0.03333333333333333
         },
         {
          "ratings": "3.0",
          "sentiments": 0.05555555555555555
         },
         {
          "ratings": "3.0",
          "sentiments": 0.016129032258064516
         },
         {
          "ratings": "3.0",
          "sentiments": 0.16666666666666666
         },
         {
          "ratings": "3.0",
          "sentiments": 0.037037037037037035
         },
         {
          "ratings": "3.0",
          "sentiments": -0.038461538461538464
         },
         {
          "ratings": "3.0",
          "sentiments": 0.06399273315414475
         },
         {
          "ratings": "3.0",
          "sentiments": -0.04043728602552132
         },
         {
          "ratings": "3.0",
          "sentiments": 0.5
         },
         {
          "ratings": "3.0",
          "sentiments": -0.031262066951328805
         },
         {
          "ratings": "3.0",
          "sentiments": -0.014705882352941176
         },
         {
          "ratings": "3.0",
          "sentiments": 0.04134587251828631
         },
         {
          "ratings": "3.0",
          "sentiments": 0.029878151517936467
         },
         {
          "ratings": "3.0",
          "sentiments": 0
         },
         {
          "ratings": "3.0",
          "sentiments": 0.016548566800582934
         },
         {
          "ratings": "3.0",
          "sentiments": 0.06901709401709402
         },
         {
          "ratings": "3.0",
          "sentiments": 0.09523809523809523
         },
         {
          "ratings": "3.0",
          "sentiments": 0.004613846801346803
         },
         {
          "ratings": "3.0",
          "sentiments": -0.028737373737373735
         },
         {
          "ratings": "3.0",
          "sentiments": 0.022607022607022607
         },
         {
          "ratings": "3.0",
          "sentiments": 0.05575311302681992
         },
         {
          "ratings": "3.0",
          "sentiments": 0
         },
         {
          "ratings": "3.0",
          "sentiments": 0.08284493284493284
         },
         {
          "ratings": "3.0",
          "sentiments": -0.009130444821980407
         },
         {
          "ratings": "3.0",
          "sentiments": -0.0006535947712418306
         },
         {
          "ratings": "3.0",
          "sentiments": 0.01111111111111111
         },
         {
          "ratings": "3.0",
          "sentiments": -0.007533670033670031
         },
         {
          "ratings": "3.0",
          "sentiments": 0.25
         },
         {
          "ratings": "3.0",
          "sentiments": 0
         },
         {
          "ratings": "3.0",
          "sentiments": 0.06303263966307444
         },
         {
          "ratings": "3.0",
          "sentiments": 0.0026190476190476215
         },
         {
          "ratings": "3.0",
          "sentiments": 0.0611111111111111
         },
         {
          "ratings": "3.0",
          "sentiments": -0.022222222222222216
         },
         {
          "ratings": "3.0",
          "sentiments": 0.11904761904761904
         },
         {
          "ratings": "3.0",
          "sentiments": 0.07194456730060446
         },
         {
          "ratings": "3.0",
          "sentiments": 0
         },
         {
          "ratings": "3.0",
          "sentiments": 0.023809523809523808
         },
         {
          "ratings": "3.0",
          "sentiments": 0
         },
         {
          "ratings": "3.0",
          "sentiments": -0.07142857142857142
         },
         {
          "ratings": "3.0",
          "sentiments": -0.03985347985347985
         },
         {
          "ratings": "3.0",
          "sentiments": -0.041666666666666664
         },
         {
          "ratings": "3.0",
          "sentiments": 0.1111111111111111
         },
         {
          "ratings": "3.0",
          "sentiments": 0.03111111111111111
         },
         {
          "ratings": "3.0",
          "sentiments": 0.14285714285714285
         },
         {
          "ratings": "3.0",
          "sentiments": 0.0603448275862069
         },
         {
          "ratings": "3.0",
          "sentiments": 0.07198142414860681
         },
         {
          "ratings": "3.0",
          "sentiments": 0.03414600758101549
         },
         {
          "ratings": "3.0",
          "sentiments": 0.09953703703703703
         },
         {
          "ratings": "3.0",
          "sentiments": 0
         },
         {
          "ratings": "3.0",
          "sentiments": 0.014114723062636876
         },
         {
          "ratings": "3.0",
          "sentiments": 0.030303030303030304
         },
         {
          "ratings": "3.0",
          "sentiments": 0.008333333333333335
         },
         {
          "ratings": "3.0",
          "sentiments": -0.030555555555555558
         },
         {
          "ratings": "3.0",
          "sentiments": 0.0497140654031403
         },
         {
          "ratings": "3.0",
          "sentiments": 0.043478260869565216
         },
         {
          "ratings": "3.0",
          "sentiments": -0.11212121212121212
         },
         {
          "ratings": "3.0",
          "sentiments": 0.06363243968507125
         },
         {
          "ratings": "3.0",
          "sentiments": 0.05555555555555555
         },
         {
          "ratings": "3.0",
          "sentiments": 0.08872549019607844
         },
         {
          "ratings": "3.0",
          "sentiments": 0.059601397377132666
         },
         {
          "ratings": "3.0",
          "sentiments": 0.03125
         },
         {
          "ratings": "3.0",
          "sentiments": 0.032705082032813124
         },
         {
          "ratings": "3.0",
          "sentiments": 0
         },
         {
          "ratings": "3.0",
          "sentiments": -0.04967554479418887
         },
         {
          "ratings": "3.0",
          "sentiments": 0.014492753623188406
         },
         {
          "ratings": "3.0",
          "sentiments": 0.25
         },
         {
          "ratings": "3.0",
          "sentiments": 0
         },
         {
          "ratings": "3.0",
          "sentiments": 0.07692307692307693
         },
         {
          "ratings": "3.0",
          "sentiments": 0.03397309062129007
         },
         {
          "ratings": "3.0",
          "sentiments": 0.16964285714285715
         },
         {
          "ratings": "3.0",
          "sentiments": -0.022223570148018366
         },
         {
          "ratings": "3.0",
          "sentiments": 0
         },
         {
          "ratings": "3.0",
          "sentiments": 0.17777777777777778
         },
         {
          "ratings": "3.0",
          "sentiments": -0.05
         },
         {
          "ratings": "3.0",
          "sentiments": -0.029239766081871343
         },
         {
          "ratings": "3.0",
          "sentiments": 0
         },
         {
          "ratings": "3.0",
          "sentiments": -0.04356060606060605
         },
         {
          "ratings": "3.0",
          "sentiments": 0.03197134594096404
         },
         {
          "ratings": "3.0",
          "sentiments": -0.010531135531135528
         },
         {
          "ratings": "3.0",
          "sentiments": 0.00025580873879550654
         },
         {
          "ratings": "3.0",
          "sentiments": -0.013429233806787417
         },
         {
          "ratings": "3.0",
          "sentiments": 0.05636363636363637
         },
         {
          "ratings": "3.0",
          "sentiments": -0.09523809523809523
         },
         {
          "ratings": "3.0",
          "sentiments": 0.020833333333333332
         },
         {
          "ratings": "3.0",
          "sentiments": 0.03225806451612903
         },
         {
          "ratings": "3.0",
          "sentiments": -0.11211807800043094
         },
         {
          "ratings": "3.0",
          "sentiments": 0
         },
         {
          "ratings": "3.0",
          "sentiments": 0
         },
         {
          "ratings": "3.0",
          "sentiments": 0.01730420404494435
         },
         {
          "ratings": "3.0",
          "sentiments": 0
         },
         {
          "ratings": "3.0",
          "sentiments": -0.0024384469696969707
         },
         {
          "ratings": "3.0",
          "sentiments": 0.15178571428571427
         },
         {
          "ratings": "3.0",
          "sentiments": 0.03669184845655434
         },
         {
          "ratings": "3.0",
          "sentiments": 0.01475569884660794
         },
         {
          "ratings": "3.0",
          "sentiments": 0.0023809523809523794
         },
         {
          "ratings": "3.0",
          "sentiments": 0.041666666666666664
         },
         {
          "ratings": "3.0",
          "sentiments": 0
         },
         {
          "ratings": "3.0",
          "sentiments": -0.041353383458646614
         },
         {
          "ratings": "3.0",
          "sentiments": -0.005147058823529411
         },
         {
          "ratings": "3.0",
          "sentiments": -0.008085317460317458
         },
         {
          "ratings": "3.0",
          "sentiments": 0.2
         },
         {
          "ratings": "3.0",
          "sentiments": -0.05555555555555555
         },
         {
          "ratings": "3.0",
          "sentiments": 0
         },
         {
          "ratings": "3.0",
          "sentiments": 0.047619047619047616
         },
         {
          "ratings": "3.0",
          "sentiments": 0.006441223832528181
         },
         {
          "ratings": "3.0",
          "sentiments": 0.0425531914893617
         },
         {
          "ratings": "3.0",
          "sentiments": 0.08809523809523809
         },
         {
          "ratings": "3.0",
          "sentiments": 0.02636244236151286
         },
         {
          "ratings": "3.0",
          "sentiments": -0.07142857142857142
         },
         {
          "ratings": "3.0",
          "sentiments": 0.018569893979730048
         },
         {
          "ratings": "3.0",
          "sentiments": -0.008333333333333331
         },
         {
          "ratings": "3.0",
          "sentiments": -0.038461538461538464
         },
         {
          "ratings": "3.0",
          "sentiments": 0.20833333333333331
         },
         {
          "ratings": "3.0",
          "sentiments": 0.0037421035754369096
         },
         {
          "ratings": "3.0",
          "sentiments": 0
         },
         {
          "ratings": "3.0",
          "sentiments": 0.0019980019980019976
         },
         {
          "ratings": "3.0",
          "sentiments": 0.14285714285714285
         },
         {
          "ratings": "3.0",
          "sentiments": 0.020148981309695595
         },
         {
          "ratings": "3.0",
          "sentiments": 0.04895104895104895
         },
         {
          "ratings": "3.0",
          "sentiments": -0.028735701054040157
         },
         {
          "ratings": "3.0",
          "sentiments": 0
         },
         {
          "ratings": "3.0",
          "sentiments": 0.002987382987382987
         },
         {
          "ratings": "3.0",
          "sentiments": 0.14166666666666666
         },
         {
          "ratings": "3.0",
          "sentiments": 0.07692307692307693
         },
         {
          "ratings": "3.0",
          "sentiments": 0.05262345679012345
         },
         {
          "ratings": "3.0",
          "sentiments": 0.05
         },
         {
          "ratings": "3.0",
          "sentiments": -0.001184832907521979
         },
         {
          "ratings": "3.0",
          "sentiments": 0.14540816326530612
         },
         {
          "ratings": "3.0",
          "sentiments": 0.014297385620915032
         },
         {
          "ratings": "3.0",
          "sentiments": 0.0027397260273972603
         },
         {
          "ratings": "3.0",
          "sentiments": 0.0014909781576448223
         },
         {
          "ratings": "3.0",
          "sentiments": 0.5
         },
         {
          "ratings": "3.0",
          "sentiments": -0.25
         },
         {
          "ratings": "3.0",
          "sentiments": 0.020294073742349605
         },
         {
          "ratings": "3.0",
          "sentiments": -0.009072259204205303
         },
         {
          "ratings": "3.0",
          "sentiments": 0
         },
         {
          "ratings": "3.0",
          "sentiments": 0
         },
         {
          "ratings": "3.0",
          "sentiments": -0.038461538461538464
         },
         {
          "ratings": "3.0",
          "sentiments": -0.02565982404692082
         },
         {
          "ratings": "3.0",
          "sentiments": 0.14285714285714285
         },
         {
          "ratings": "3.0",
          "sentiments": 0.0434173669467787
         },
         {
          "ratings": "3.0",
          "sentiments": -0.09722222222222221
         },
         {
          "ratings": "3.0",
          "sentiments": 0.040584795321637425
         },
         {
          "ratings": "3.0",
          "sentiments": 0
         },
         {
          "ratings": "3.0",
          "sentiments": 0.027481383499902014
         },
         {
          "ratings": "3.0",
          "sentiments": -0.05
         },
         {
          "ratings": "3.0",
          "sentiments": 0.05079057786971093
         },
         {
          "ratings": "3.0",
          "sentiments": 0.10256410256410256
         },
         {
          "ratings": "3.0",
          "sentiments": -0.021754385964912276
         },
         {
          "ratings": "3.0",
          "sentiments": 0.05297492163009404
         },
         {
          "ratings": "3.0",
          "sentiments": -0.029761904761904764
         },
         {
          "ratings": "3.0",
          "sentiments": 0.053418803418803416
         },
         {
          "ratings": "3.0",
          "sentiments": 0.046969696969696974
         },
         {
          "ratings": "3.0",
          "sentiments": 0.125
         },
         {
          "ratings": "3.0",
          "sentiments": 0.06238655462184874
         },
         {
          "ratings": "3.0",
          "sentiments": 0.044871794871794865
         },
         {
          "ratings": "3.0",
          "sentiments": 0.09523809523809523
         },
         {
          "ratings": "3.0",
          "sentiments": 0.125
         },
         {
          "ratings": "3.0",
          "sentiments": 0.04429271708683473
         },
         {
          "ratings": "3.0",
          "sentiments": 0.18095238095238092
         },
         {
          "ratings": "3.0",
          "sentiments": 0.041666666666666664
         },
         {
          "ratings": "3.0",
          "sentiments": 0.6666666666666666
         },
         {
          "ratings": "3.0",
          "sentiments": 0.125
         },
         {
          "ratings": "3.0",
          "sentiments": 0.06666666666666667
         },
         {
          "ratings": "3.0",
          "sentiments": 0
         },
         {
          "ratings": "3.0",
          "sentiments": 0.00946969696969697
         },
         {
          "ratings": "3.0",
          "sentiments": 0.04395604395604395
         },
         {
          "ratings": "3.0",
          "sentiments": 0.18333333333333335
         },
         {
          "ratings": "3.0",
          "sentiments": 0.0625
         },
         {
          "ratings": "3.0",
          "sentiments": 0.05713207025358681
         },
         {
          "ratings": "3.0",
          "sentiments": 0.07865168539325842
         },
         {
          "ratings": "3.0",
          "sentiments": -0.003896103896103895
         },
         {
          "ratings": "3.0",
          "sentiments": 0
         },
         {
          "ratings": "3.0",
          "sentiments": 0.012631578947368417
         },
         {
          "ratings": "3.0",
          "sentiments": 0.06613756613756613
         },
         {
          "ratings": "3.0",
          "sentiments": -0.022580645161290325
         },
         {
          "ratings": "3.0",
          "sentiments": 0
         },
         {
          "ratings": "3.0",
          "sentiments": -0.007936507936507936
         },
         {
          "ratings": "3.0",
          "sentiments": -0.005849333257817466
         },
         {
          "ratings": "3.0",
          "sentiments": 0.047619047619047616
         },
         {
          "ratings": "3.0",
          "sentiments": 0.25
         },
         {
          "ratings": "3.0",
          "sentiments": 0.08121265361084365
         },
         {
          "ratings": "3.0",
          "sentiments": 1
         },
         {
          "ratings": "3.0",
          "sentiments": 0.030303030303030304
         },
         {
          "ratings": "3.0",
          "sentiments": 0.09090909090909091
         },
         {
          "ratings": "3.0",
          "sentiments": 0.06620553359683795
         },
         {
          "ratings": "3.0",
          "sentiments": 0
         },
         {
          "ratings": "3.0",
          "sentiments": 0.11764705882352941
         },
         {
          "ratings": "3.0",
          "sentiments": 0.02276246170983013
         },
         {
          "ratings": "3.0",
          "sentiments": 0.5
         },
         {
          "ratings": "3.0",
          "sentiments": 0.14285714285714285
         },
         {
          "ratings": "3.0",
          "sentiments": -0.0725
         },
         {
          "ratings": "3.0",
          "sentiments": 0
         },
         {
          "ratings": "3.0",
          "sentiments": 0.12941176470588237
         },
         {
          "ratings": "3.0",
          "sentiments": 0.04567550505050505
         },
         {
          "ratings": "3.0",
          "sentiments": 0
         },
         {
          "ratings": "3.0",
          "sentiments": -0.011274509803921567
         },
         {
          "ratings": "3.0",
          "sentiments": 0
         },
         {
          "ratings": "3.0",
          "sentiments": 0.047619047619047616
         },
         {
          "ratings": "3.0",
          "sentiments": 0
         },
         {
          "ratings": "3.0",
          "sentiments": -1
         },
         {
          "ratings": "3.0",
          "sentiments": -0.04047619047619047
         },
         {
          "ratings": "3.0",
          "sentiments": -0.030303030303030304
         },
         {
          "ratings": "3.0",
          "sentiments": 0.1111111111111111
         },
         {
          "ratings": "3.0",
          "sentiments": 0
         },
         {
          "ratings": "3.0",
          "sentiments": 0.038461538461538464
         },
         {
          "ratings": "3.0",
          "sentiments": 0.016666666666666666
         },
         {
          "ratings": "3.0",
          "sentiments": 0
         },
         {
          "ratings": "3.0",
          "sentiments": 0
         },
         {
          "ratings": "3.0",
          "sentiments": 0.03890950319521748
         },
         {
          "ratings": "3.0",
          "sentiments": 0
         },
         {
          "ratings": "3.0",
          "sentiments": 0.05236408972041156
         },
         {
          "ratings": "3.0",
          "sentiments": 0.003473582796605111
         },
         {
          "ratings": "3.0",
          "sentiments": 0.04433760683760683
         },
         {
          "ratings": "3.0",
          "sentiments": -0.15384615384615385
         },
         {
          "ratings": "3.0",
          "sentiments": 0
         },
         {
          "ratings": "3.0",
          "sentiments": 0.15277777777777776
         },
         {
          "ratings": "3.0",
          "sentiments": 0.35
         },
         {
          "ratings": "3.0",
          "sentiments": 0.08333333333333333
         },
         {
          "ratings": "3.0",
          "sentiments": -0.007246376811594203
         },
         {
          "ratings": "3.0",
          "sentiments": 0
         },
         {
          "ratings": "3.0",
          "sentiments": 0.0015331890331890322
         },
         {
          "ratings": "3.0",
          "sentiments": -0.004008219449395921
         },
         {
          "ratings": "3.0",
          "sentiments": -0.0009163155513556138
         },
         {
          "ratings": "3.0",
          "sentiments": 0
         },
         {
          "ratings": "3.0",
          "sentiments": 0
         },
         {
          "ratings": "3.0",
          "sentiments": 0.5
         },
         {
          "ratings": "3.0",
          "sentiments": -0.005066189848798544
         },
         {
          "ratings": "3.0",
          "sentiments": 0.0017543859649122827
         },
         {
          "ratings": "3.0",
          "sentiments": -0.024390243902439025
         },
         {
          "ratings": "3.0",
          "sentiments": 0.06608585858585858
         },
         {
          "ratings": "3.0",
          "sentiments": 1
         },
         {
          "ratings": "3.0",
          "sentiments": -0.006101190476190475
         },
         {
          "ratings": "3.0",
          "sentiments": 0.04791666666666666
         },
         {
          "ratings": "3.0",
          "sentiments": 0
         },
         {
          "ratings": "3.0",
          "sentiments": 0
         },
         {
          "ratings": "3.0",
          "sentiments": 0.08666666666666667
         },
         {
          "ratings": "3.0",
          "sentiments": 0
         },
         {
          "ratings": "3.0",
          "sentiments": 0.03555555555555555
         },
         {
          "ratings": "3.0",
          "sentiments": 0.07087486157253599
         },
         {
          "ratings": "3.0",
          "sentiments": 0.1111111111111111
         },
         {
          "ratings": "3.0",
          "sentiments": -0.03225806451612903
         },
         {
          "ratings": "3.0",
          "sentiments": 0.008745720510426394
         },
         {
          "ratings": "3.0",
          "sentiments": -0.058823529411764705
         },
         {
          "ratings": "3.0",
          "sentiments": -0.03765506202480993
         },
         {
          "ratings": "3.0",
          "sentiments": 0
         },
         {
          "ratings": "3.0",
          "sentiments": 0
         },
         {
          "ratings": "3.0",
          "sentiments": 0
         },
         {
          "ratings": "3.0",
          "sentiments": 0.03349543629229718
         },
         {
          "ratings": "3.0",
          "sentiments": 0.0625
         },
         {
          "ratings": "3.0",
          "sentiments": 0.004417187750521082
         },
         {
          "ratings": "3.0",
          "sentiments": 0
         },
         {
          "ratings": "3.0",
          "sentiments": 0.041666666666666664
         },
         {
          "ratings": "3.0",
          "sentiments": 0.044117647058823525
         },
         {
          "ratings": "3.0",
          "sentiments": 0.5
         },
         {
          "ratings": "3.0",
          "sentiments": 0
         },
         {
          "ratings": "3.0",
          "sentiments": 0
         },
         {
          "ratings": "3.0",
          "sentiments": 0.04940476190476191
         },
         {
          "ratings": "3.0",
          "sentiments": -0.02631578947368421
         },
         {
          "ratings": "3.0",
          "sentiments": -0.03799182299182299
         },
         {
          "ratings": "3.0",
          "sentiments": 0
         },
         {
          "ratings": "3.0",
          "sentiments": -0.005208333333333333
         },
         {
          "ratings": "3.0",
          "sentiments": 0.05555555555555555
         },
         {
          "ratings": "3.0",
          "sentiments": 0.03403446668199547
         },
         {
          "ratings": "3.0",
          "sentiments": -0.15555555555555553
         },
         {
          "ratings": "3.0",
          "sentiments": -0.09649122807017543
         },
         {
          "ratings": "3.0",
          "sentiments": -0.02158730158730159
         },
         {
          "ratings": "3.0",
          "sentiments": 0
         },
         {
          "ratings": "3.0",
          "sentiments": 0.06845238095238095
         },
         {
          "ratings": "3.0",
          "sentiments": 0.25
         },
         {
          "ratings": "3.0",
          "sentiments": 0.023002754820936642
         },
         {
          "ratings": "3.0",
          "sentiments": 0
         },
         {
          "ratings": "3.0",
          "sentiments": 0
         },
         {
          "ratings": "3.0",
          "sentiments": 0.15
         },
         {
          "ratings": "3.0",
          "sentiments": 0.050671550671550665
         },
         {
          "ratings": "3.0",
          "sentiments": 1
         },
         {
          "ratings": "3.0",
          "sentiments": 0.07727272727272727
         },
         {
          "ratings": "3.0",
          "sentiments": -0.2
         },
         {
          "ratings": "3.0",
          "sentiments": 0.06060606060606061
         },
         {
          "ratings": "3.0",
          "sentiments": 0.08518518518518518
         },
         {
          "ratings": "3.0",
          "sentiments": 0.010107440661281155
         },
         {
          "ratings": "3.0",
          "sentiments": 0.014652014652014655
         },
         {
          "ratings": "3.0",
          "sentiments": -0.009444444444444446
         },
         {
          "ratings": "3.0",
          "sentiments": 0.08333333333333333
         },
         {
          "ratings": "3.0",
          "sentiments": 0
         },
         {
          "ratings": "3.0",
          "sentiments": 0
         },
         {
          "ratings": "3.0",
          "sentiments": 0
         },
         {
          "ratings": "3.0",
          "sentiments": -0.047619047619047616
         },
         {
          "ratings": "3.0",
          "sentiments": 0.0032051282051282007
         },
         {
          "ratings": "3.0",
          "sentiments": 0.03333333333333333
         },
         {
          "ratings": "3.0",
          "sentiments": 0.06904761904761905
         },
         {
          "ratings": "3.0",
          "sentiments": 0.09722222222222221
         },
         {
          "ratings": "3.0",
          "sentiments": 0
         },
         {
          "ratings": "3.0",
          "sentiments": -0.00555555555555555
         },
         {
          "ratings": "3.0",
          "sentiments": 0.027296777296777295
         },
         {
          "ratings": "3.0",
          "sentiments": 0.05692744755244755
         },
         {
          "ratings": "3.0",
          "sentiments": 0.03571428571428571
         },
         {
          "ratings": "3.0",
          "sentiments": 0
         },
         {
          "ratings": "3.0",
          "sentiments": -0.011417748917748924
         },
         {
          "ratings": "3.0",
          "sentiments": -0.034098639455782315
         },
         {
          "ratings": "3.0",
          "sentiments": 0.030303030303030304
         },
         {
          "ratings": "3.0",
          "sentiments": -0.08173076923076923
         },
         {
          "ratings": "3.0",
          "sentiments": -0.03196349105440015
         },
         {
          "ratings": "3.0",
          "sentiments": 0.044207674659434835
         },
         {
          "ratings": "3.0",
          "sentiments": 0.00014739302249958675
         },
         {
          "ratings": "3.0",
          "sentiments": 0.03418531962089131
         },
         {
          "ratings": "3.0",
          "sentiments": 0.051051417718084385
         },
         {
          "ratings": "3.0",
          "sentiments": 0.056538661501896806
         },
         {
          "ratings": "3.0",
          "sentiments": -0.041666666666666664
         },
         {
          "ratings": "3.0",
          "sentiments": 0.0625
         },
         {
          "ratings": "3.0",
          "sentiments": 0
         },
         {
          "ratings": "3.0",
          "sentiments": -0.017857142857142856
         },
         {
          "ratings": "3.0",
          "sentiments": 0
         },
         {
          "ratings": "3.0",
          "sentiments": 0
         },
         {
          "ratings": "3.0",
          "sentiments": 0.13095238095238096
         },
         {
          "ratings": "3.0",
          "sentiments": -0.040584415584415584
         },
         {
          "ratings": "3.0",
          "sentiments": -0.125
         },
         {
          "ratings": "3.0",
          "sentiments": 0.008333333333333338
         },
         {
          "ratings": "3.0",
          "sentiments": -0.16666666666666666
         },
         {
          "ratings": "3.0",
          "sentiments": 0.1865079365079365
         },
         {
          "ratings": "3.0",
          "sentiments": 0.06976076555023923
         },
         {
          "ratings": "3.0",
          "sentiments": 0.02631578947368421
         },
         {
          "ratings": "3.0",
          "sentiments": 0
         },
         {
          "ratings": "3.0",
          "sentiments": -0.030140056022408955
         },
         {
          "ratings": "3.0",
          "sentiments": -0.017261904761904763
         },
         {
          "ratings": "3.0",
          "sentiments": 0.06538461538461539
         },
         {
          "ratings": "3.0",
          "sentiments": 0.08298319327731091
         },
         {
          "ratings": "3.0",
          "sentiments": 0
         },
         {
          "ratings": "3.0",
          "sentiments": 0.010865487383576736
         },
         {
          "ratings": "3.0",
          "sentiments": 0.010231064397731067
         },
         {
          "ratings": "3.0",
          "sentiments": 0.1
         },
         {
          "ratings": "3.0",
          "sentiments": 0.005502398658376769
         },
         {
          "ratings": "3.0",
          "sentiments": 0.05322128851540616
         },
         {
          "ratings": "3.0",
          "sentiments": -0.03869047619047619
         },
         {
          "ratings": "3.0",
          "sentiments": -0.09172600127145582
         },
         {
          "ratings": "3.0",
          "sentiments": 0.09090909090909091
         },
         {
          "ratings": "3.0",
          "sentiments": 0.22435897435897437
         },
         {
          "ratings": "3.0",
          "sentiments": 0
         },
         {
          "ratings": "3.0",
          "sentiments": 0.04583333333333332
         },
         {
          "ratings": "3.0",
          "sentiments": 0.06666666666666667
         },
         {
          "ratings": "3.0",
          "sentiments": 0.058823529411764705
         },
         {
          "ratings": "3.0",
          "sentiments": 0.07482517482517484
         },
         {
          "ratings": "3.0",
          "sentiments": 0.034965471036899606
         },
         {
          "ratings": "3.0",
          "sentiments": 0.1
         },
         {
          "ratings": "3.0",
          "sentiments": 0.12142857142857143
         },
         {
          "ratings": "3.0",
          "sentiments": -0.004986723316915808
         },
         {
          "ratings": "3.0",
          "sentiments": 0.01628001628001628
         },
         {
          "ratings": "3.0",
          "sentiments": 0.007549152787248025
         },
         {
          "ratings": "3.0",
          "sentiments": 0.021103896103896104
         },
         {
          "ratings": "3.0",
          "sentiments": -0.0625
         },
         {
          "ratings": "3.0",
          "sentiments": -0.00019945060357938598
         },
         {
          "ratings": "3.0",
          "sentiments": 0.043826467762573235
         },
         {
          "ratings": "3.0",
          "sentiments": 0.03308823529411765
         },
         {
          "ratings": "3.0",
          "sentiments": 0.0024528518675675836
         },
         {
          "ratings": "3.0",
          "sentiments": 0
         },
         {
          "ratings": "3.0",
          "sentiments": 0.004885531135531137
         },
         {
          "ratings": "3.0",
          "sentiments": 0
         },
         {
          "ratings": "3.0",
          "sentiments": 0.018890412874916166
         },
         {
          "ratings": "3.0",
          "sentiments": 0.059259259259259255
         },
         {
          "ratings": "3.0",
          "sentiments": 0.030937400318979263
         },
         {
          "ratings": "3.0",
          "sentiments": 0.040584415584415584
         },
         {
          "ratings": "3.0",
          "sentiments": 0.047619047619047616
         },
         {
          "ratings": "3.0",
          "sentiments": -0.02530364372469636
         },
         {
          "ratings": "3.0",
          "sentiments": 0.010695187165775402
         },
         {
          "ratings": "3.0",
          "sentiments": 0
         },
         {
          "ratings": "3.0",
          "sentiments": 0.006734006734006731
         },
         {
          "ratings": "3.0",
          "sentiments": 0.05263157894736842
         },
         {
          "ratings": "3.0",
          "sentiments": 0.047619047619047616
         },
         {
          "ratings": "3.0",
          "sentiments": 0.3333333333333333
         },
         {
          "ratings": "3.0",
          "sentiments": 0.05555555555555555
         },
         {
          "ratings": "3.0",
          "sentiments": 0.04688888888888888
         },
         {
          "ratings": "3.0",
          "sentiments": 0.009591529328371432
         },
         {
          "ratings": "3.0",
          "sentiments": 0
         },
         {
          "ratings": "3.0",
          "sentiments": 0.0038177381927381945
         },
         {
          "ratings": "3.0",
          "sentiments": 0.03803352444656792
         },
         {
          "ratings": "3.0",
          "sentiments": 0.07894736842105263
         },
         {
          "ratings": "3.0",
          "sentiments": 0
         },
         {
          "ratings": "3.0",
          "sentiments": 0.12314814814814816
         },
         {
          "ratings": "3.0",
          "sentiments": 0.008333333333333333
         },
         {
          "ratings": "3.0",
          "sentiments": 0
         },
         {
          "ratings": "3.0",
          "sentiments": -0.11607142857142858
         },
         {
          "ratings": "3.0",
          "sentiments": -0.016885928900305196
         },
         {
          "ratings": "3.0",
          "sentiments": -0.0012008883783909592
         },
         {
          "ratings": "3.0",
          "sentiments": 0.007840729485974451
         },
         {
          "ratings": "3.0",
          "sentiments": 0.1093828320802005
         },
         {
          "ratings": "3.0",
          "sentiments": 0.009663865546218488
         },
         {
          "ratings": "3.0",
          "sentiments": 0.004166666666666666
         },
         {
          "ratings": "3.0",
          "sentiments": 0.009199134199134198
         },
         {
          "ratings": "3.0",
          "sentiments": 0
         },
         {
          "ratings": "3.0",
          "sentiments": 0.01816933638443936
         },
         {
          "ratings": "3.0",
          "sentiments": 0.025
         },
         {
          "ratings": "3.0",
          "sentiments": 0.009925216431601878
         },
         {
          "ratings": "3.0",
          "sentiments": -0.006481481481481484
         },
         {
          "ratings": "3.0",
          "sentiments": 0.047619047619047616
         },
         {
          "ratings": "3.0",
          "sentiments": 0.06810496267018006
         },
         {
          "ratings": "3.0",
          "sentiments": 0
         },
         {
          "ratings": "3.0",
          "sentiments": -0.037037037037037035
         },
         {
          "ratings": "3.0",
          "sentiments": -0.03333333333333333
         },
         {
          "ratings": "3.0",
          "sentiments": 0.011494252873563218
         },
         {
          "ratings": "3.0",
          "sentiments": 0.03856806276161114
         },
         {
          "ratings": "3.0",
          "sentiments": -0.024342891278375148
         },
         {
          "ratings": "3.0",
          "sentiments": 0.05769721506563612
         },
         {
          "ratings": "3.0",
          "sentiments": 0.19047619047619047
         },
         {
          "ratings": "3.0",
          "sentiments": 0.0285988308366825
         },
         {
          "ratings": "3.0",
          "sentiments": -0.011469534050179211
         },
         {
          "ratings": "3.0",
          "sentiments": 0.01871794871794872
         },
         {
          "ratings": "3.0",
          "sentiments": 0
         },
         {
          "ratings": "3.0",
          "sentiments": 0.0046195652173913054
         },
         {
          "ratings": "3.0",
          "sentiments": 0.2
         },
         {
          "ratings": "3.0",
          "sentiments": 0.007184801495947007
         },
         {
          "ratings": "3.0",
          "sentiments": 0.01934575086749
         },
         {
          "ratings": "3.0",
          "sentiments": -0.017150384337884336
         },
         {
          "ratings": "3.0",
          "sentiments": -0.03636363636363636
         },
         {
          "ratings": "3.0",
          "sentiments": 0
         },
         {
          "ratings": "3.0",
          "sentiments": 0
         },
         {
          "ratings": "3.0",
          "sentiments": -0.3333333333333333
         },
         {
          "ratings": "3.0",
          "sentiments": 0.02372020301082086
         },
         {
          "ratings": "3.0",
          "sentiments": 0
         },
         {
          "ratings": "3.0",
          "sentiments": -0.041666666666666664
         },
         {
          "ratings": "3.0",
          "sentiments": 0
         },
         {
          "ratings": "3.0",
          "sentiments": -0.03225806451612903
         },
         {
          "ratings": "3.0",
          "sentiments": 0.04920796594709638
         },
         {
          "ratings": "3.0",
          "sentiments": 0
         },
         {
          "ratings": "3.0",
          "sentiments": 0.08333333333333333
         },
         {
          "ratings": "3.0",
          "sentiments": 0.10714285714285714
         },
         {
          "ratings": "3.0",
          "sentiments": -0.029239766081871343
         },
         {
          "ratings": "3.0",
          "sentiments": 0
         },
         {
          "ratings": "3.0",
          "sentiments": 0.01291162541162541
         },
         {
          "ratings": "3.0",
          "sentiments": -0.003580309388671654
         },
         {
          "ratings": "3.0",
          "sentiments": 0
         },
         {
          "ratings": "3.0",
          "sentiments": 0.12878787878787878
         },
         {
          "ratings": "3.0",
          "sentiments": 0.25
         },
         {
          "ratings": "3.0",
          "sentiments": 0
         },
         {
          "ratings": "3.0",
          "sentiments": 0.00239300531483194
         },
         {
          "ratings": "3.0",
          "sentiments": 0.008537432066843832
         },
         {
          "ratings": "3.0",
          "sentiments": -0.047619047619047616
         },
         {
          "ratings": "3.0",
          "sentiments": 0.016312253498849447
         },
         {
          "ratings": "3.0",
          "sentiments": 0.09523809523809523
         },
         {
          "ratings": "4.0",
          "sentiments": 0.0869047619047619
         },
         {
          "ratings": "4.0",
          "sentiments": -0.006944444444444444
         },
         {
          "ratings": "4.0",
          "sentiments": -0.06971153846153846
         },
         {
          "ratings": "4.0",
          "sentiments": 0.07939194577352471
         },
         {
          "ratings": "4.0",
          "sentiments": 0.005704821494295183
         },
         {
          "ratings": "4.0",
          "sentiments": 0.4
         },
         {
          "ratings": "4.0",
          "sentiments": 0.1111111111111111
         },
         {
          "ratings": "4.0",
          "sentiments": 0.1
         },
         {
          "ratings": "4.0",
          "sentiments": 0.16041666666666665
         },
         {
          "ratings": "4.0",
          "sentiments": -0.004861111111111108
         },
         {
          "ratings": "4.0",
          "sentiments": 0
         },
         {
          "ratings": "4.0",
          "sentiments": 0.031018518518518518
         },
         {
          "ratings": "4.0",
          "sentiments": 0.008093440200213589
         },
         {
          "ratings": "4.0",
          "sentiments": 0.0643060643060643
         },
         {
          "ratings": "4.0",
          "sentiments": 0.5
         },
         {
          "ratings": "4.0",
          "sentiments": 0
         },
         {
          "ratings": "4.0",
          "sentiments": 0
         },
         {
          "ratings": "4.0",
          "sentiments": 0.25
         },
         {
          "ratings": "4.0",
          "sentiments": 0.002474134053081417
         },
         {
          "ratings": "4.0",
          "sentiments": -0.02564102564102564
         },
         {
          "ratings": "4.0",
          "sentiments": 0.041666666666666664
         },
         {
          "ratings": "4.0",
          "sentiments": 0.08184158312447785
         },
         {
          "ratings": "4.0",
          "sentiments": 0.045454545454545456
         },
         {
          "ratings": "4.0",
          "sentiments": 0.03078708669429863
         },
         {
          "ratings": "4.0",
          "sentiments": 0.16269841269841268
         },
         {
          "ratings": "4.0",
          "sentiments": 0.010395775376851912
         },
         {
          "ratings": "4.0",
          "sentiments": 0
         },
         {
          "ratings": "4.0",
          "sentiments": 0.05698412698412698
         },
         {
          "ratings": "4.0",
          "sentiments": 0.013605442176870748
         },
         {
          "ratings": "4.0",
          "sentiments": 0.04994265435507402
         },
         {
          "ratings": "4.0",
          "sentiments": 0.058266488413547236
         },
         {
          "ratings": "4.0",
          "sentiments": 0.029779191115398007
         },
         {
          "ratings": "4.0",
          "sentiments": 0.047619047619047616
         },
         {
          "ratings": "4.0",
          "sentiments": -0.00416666666666667
         },
         {
          "ratings": "4.0",
          "sentiments": 0.08333333333333333
         },
         {
          "ratings": "4.0",
          "sentiments": 0.11626984126984127
         },
         {
          "ratings": "4.0",
          "sentiments": 0.07381228260677648
         },
         {
          "ratings": "4.0",
          "sentiments": -0.029411764705882353
         },
         {
          "ratings": "4.0",
          "sentiments": 0.026570095686642807
         },
         {
          "ratings": "4.0",
          "sentiments": 0.00897072977745449
         },
         {
          "ratings": "4.0",
          "sentiments": 0.016666666666666666
         },
         {
          "ratings": "4.0",
          "sentiments": 0.01497365612911831
         },
         {
          "ratings": "4.0",
          "sentiments": 0.07222222222222223
         },
         {
          "ratings": "4.0",
          "sentiments": 0
         },
         {
          "ratings": "4.0",
          "sentiments": 0.00807849182595633
         },
         {
          "ratings": "4.0",
          "sentiments": -0.02857142857142857
         },
         {
          "ratings": "4.0",
          "sentiments": 0
         },
         {
          "ratings": "4.0",
          "sentiments": 0.1008838383838384
         },
         {
          "ratings": "4.0",
          "sentiments": 0.006349206349206348
         },
         {
          "ratings": "4.0",
          "sentiments": 0
         },
         {
          "ratings": "4.0",
          "sentiments": 0.02222222222222222
         },
         {
          "ratings": "4.0",
          "sentiments": 0.0362288284489423
         },
         {
          "ratings": "4.0",
          "sentiments": 0.09722222222222221
         },
         {
          "ratings": "4.0",
          "sentiments": 0.06845238095238095
         },
         {
          "ratings": "4.0",
          "sentiments": 0.09523809523809523
         },
         {
          "ratings": "4.0",
          "sentiments": 0.2387318563789152
         },
         {
          "ratings": "4.0",
          "sentiments": 0.0032051282051282007
         },
         {
          "ratings": "4.0",
          "sentiments": 0.028392203826479164
         },
         {
          "ratings": "4.0",
          "sentiments": 0.125
         },
         {
          "ratings": "4.0",
          "sentiments": 0
         },
         {
          "ratings": "4.0",
          "sentiments": 0.75
         },
         {
          "ratings": "4.0",
          "sentiments": -0.03492063492063493
         },
         {
          "ratings": "4.0",
          "sentiments": 0.15384615384615385
         },
         {
          "ratings": "4.0",
          "sentiments": 0.0392156862745098
         },
         {
          "ratings": "4.0",
          "sentiments": -0.010683760683760687
         },
         {
          "ratings": "4.0",
          "sentiments": 0.03758169934640523
         },
         {
          "ratings": "4.0",
          "sentiments": -0.041666666666666664
         },
         {
          "ratings": "4.0",
          "sentiments": -0.025821531765270418
         },
         {
          "ratings": "4.0",
          "sentiments": 0.030303030303030304
         },
         {
          "ratings": "4.0",
          "sentiments": 0.24060150375939848
         },
         {
          "ratings": "4.0",
          "sentiments": -0.051515151515151514
         },
         {
          "ratings": "4.0",
          "sentiments": 0.06666666666666667
         },
         {
          "ratings": "4.0",
          "sentiments": 0
         },
         {
          "ratings": "4.0",
          "sentiments": -0.005401234567901234
         },
         {
          "ratings": "4.0",
          "sentiments": 0
         },
         {
          "ratings": "4.0",
          "sentiments": -0.020833333333333332
         },
         {
          "ratings": "4.0",
          "sentiments": 0.012121212121212123
         },
         {
          "ratings": "4.0",
          "sentiments": 0
         },
         {
          "ratings": "4.0",
          "sentiments": 0.5
         },
         {
          "ratings": "4.0",
          "sentiments": 0.08634965524671408
         },
         {
          "ratings": "4.0",
          "sentiments": 0.03409090909090909
         },
         {
          "ratings": "4.0",
          "sentiments": 0.08843537414965986
         },
         {
          "ratings": "4.0",
          "sentiments": 0
         },
         {
          "ratings": "4.0",
          "sentiments": -0.043478260869565216
         },
         {
          "ratings": "4.0",
          "sentiments": 0.060622710622710616
         },
         {
          "ratings": "4.0",
          "sentiments": 0.02851170568561873
         },
         {
          "ratings": "4.0",
          "sentiments": 0.023809523809523808
         },
         {
          "ratings": "4.0",
          "sentiments": 0.01509184400051273
         },
         {
          "ratings": "4.0",
          "sentiments": 0.028736888111888112
         },
         {
          "ratings": "4.0",
          "sentiments": 0.02970899470899471
         },
         {
          "ratings": "4.0",
          "sentiments": -0.020833333333333332
         },
         {
          "ratings": "4.0",
          "sentiments": 0
         },
         {
          "ratings": "4.0",
          "sentiments": 0.012121212121212123
         },
         {
          "ratings": "4.0",
          "sentiments": 0.09999999999999999
         },
         {
          "ratings": "4.0",
          "sentiments": 0.0008857227192280511
         },
         {
          "ratings": "4.0",
          "sentiments": 0
         },
         {
          "ratings": "4.0",
          "sentiments": 0.21296296296296294
         },
         {
          "ratings": "4.0",
          "sentiments": -0.044444444444444446
         },
         {
          "ratings": "4.0",
          "sentiments": 0
         },
         {
          "ratings": "4.0",
          "sentiments": 0
         },
         {
          "ratings": "4.0",
          "sentiments": 0.2
         },
         {
          "ratings": "4.0",
          "sentiments": 1
         },
         {
          "ratings": "4.0",
          "sentiments": 0
         },
         {
          "ratings": "4.0",
          "sentiments": 0.5
         },
         {
          "ratings": "4.0",
          "sentiments": 0.023001274088230616
         },
         {
          "ratings": "4.0",
          "sentiments": 0.09217506631299735
         },
         {
          "ratings": "4.0",
          "sentiments": 0
         },
         {
          "ratings": "4.0",
          "sentiments": -0.021428571428571422
         },
         {
          "ratings": "4.0",
          "sentiments": 0.05845238095238095
         },
         {
          "ratings": "4.0",
          "sentiments": 0.006599478898579349
         },
         {
          "ratings": "4.0",
          "sentiments": 0.008441558441558441
         },
         {
          "ratings": "4.0",
          "sentiments": 0.26644736842105265
         },
         {
          "ratings": "4.0",
          "sentiments": 0.04973118279569892
         },
         {
          "ratings": "4.0",
          "sentiments": 0.2222222222222222
         },
         {
          "ratings": "4.0",
          "sentiments": 0.125
         },
         {
          "ratings": "4.0",
          "sentiments": 0.006572581683806754
         },
         {
          "ratings": "4.0",
          "sentiments": -0.016528239202657804
         },
         {
          "ratings": "4.0",
          "sentiments": 0.039159826140794995
         },
         {
          "ratings": "4.0",
          "sentiments": 0.1111111111111111
         },
         {
          "ratings": "4.0",
          "sentiments": 0.03501695983097444
         },
         {
          "ratings": "4.0",
          "sentiments": 0.04879310344827585
         },
         {
          "ratings": "4.0",
          "sentiments": 0
         },
         {
          "ratings": "4.0",
          "sentiments": 0
         },
         {
          "ratings": "4.0",
          "sentiments": 0.08333333333333333
         },
         {
          "ratings": "4.0",
          "sentiments": 0.049014912907612534
         },
         {
          "ratings": "4.0",
          "sentiments": 0
         },
         {
          "ratings": "4.0",
          "sentiments": 0.09272660818713452
         },
         {
          "ratings": "4.0",
          "sentiments": 0.02417002549871487
         },
         {
          "ratings": "4.0",
          "sentiments": 0
         },
         {
          "ratings": "4.0",
          "sentiments": 0.16666666666666666
         },
         {
          "ratings": "4.0",
          "sentiments": 0.060643939393939396
         },
         {
          "ratings": "4.0",
          "sentiments": 0.25
         },
         {
          "ratings": "4.0",
          "sentiments": 0.06666666666666667
         },
         {
          "ratings": "4.0",
          "sentiments": 1
         },
         {
          "ratings": "4.0",
          "sentiments": 0.037037037037037035
         },
         {
          "ratings": "4.0",
          "sentiments": 0
         },
         {
          "ratings": "4.0",
          "sentiments": 0.6
         },
         {
          "ratings": "4.0",
          "sentiments": 0
         },
         {
          "ratings": "4.0",
          "sentiments": 0.020833333333333332
         },
         {
          "ratings": "4.0",
          "sentiments": 0.5
         },
         {
          "ratings": "4.0",
          "sentiments": 0
         },
         {
          "ratings": "4.0",
          "sentiments": 0.12698412698412698
         },
         {
          "ratings": "4.0",
          "sentiments": -0.002813186813186816
         },
         {
          "ratings": "4.0",
          "sentiments": 0.015151515151515152
         },
         {
          "ratings": "4.0",
          "sentiments": 0.010796882855706385
         },
         {
          "ratings": "4.0",
          "sentiments": 0.10317460317460318
         },
         {
          "ratings": "4.0",
          "sentiments": 0
         },
         {
          "ratings": "4.0",
          "sentiments": 0.2
         },
         {
          "ratings": "4.0",
          "sentiments": 0.5
         },
         {
          "ratings": "4.0",
          "sentiments": 0.03325927544677545
         },
         {
          "ratings": "4.0",
          "sentiments": 0
         },
         {
          "ratings": "4.0",
          "sentiments": 0.07142857142857142
         },
         {
          "ratings": "4.0",
          "sentiments": 0.08333333333333333
         },
         {
          "ratings": "4.0",
          "sentiments": 0.02127659574468085
         },
         {
          "ratings": "4.0",
          "sentiments": 0.08333333333333333
         },
         {
          "ratings": "4.0",
          "sentiments": 0.1079124579124579
         },
         {
          "ratings": "4.0",
          "sentiments": 0.16666666666666666
         },
         {
          "ratings": "4.0",
          "sentiments": 0.25
         },
         {
          "ratings": "4.0",
          "sentiments": 0.05897435897435898
         },
         {
          "ratings": "4.0",
          "sentiments": 0.12215909090909091
         },
         {
          "ratings": "4.0",
          "sentiments": 0.059110361760899385
         },
         {
          "ratings": "4.0",
          "sentiments": 0
         },
         {
          "ratings": "4.0",
          "sentiments": 0
         },
         {
          "ratings": "4.0",
          "sentiments": 0.0462962962962963
         },
         {
          "ratings": "4.0",
          "sentiments": 0.5
         },
         {
          "ratings": "4.0",
          "sentiments": 0.3333333333333333
         },
         {
          "ratings": "4.0",
          "sentiments": 0.0691110236564782
         },
         {
          "ratings": "4.0",
          "sentiments": 0
         },
         {
          "ratings": "4.0",
          "sentiments": 0.08333333333333333
         },
         {
          "ratings": "4.0",
          "sentiments": -0.011996336996336997
         },
         {
          "ratings": "4.0",
          "sentiments": -0.05256410256410257
         },
         {
          "ratings": "4.0",
          "sentiments": 0.003032341142283699
         },
         {
          "ratings": "4.0",
          "sentiments": 0.016666666666666666
         },
         {
          "ratings": "4.0",
          "sentiments": 0.1
         },
         {
          "ratings": "4.0",
          "sentiments": 0.041880341880341884
         },
         {
          "ratings": "4.0",
          "sentiments": 0.042682498100454755
         },
         {
          "ratings": "4.0",
          "sentiments": 0.1474673202614379
         },
         {
          "ratings": "4.0",
          "sentiments": 0.05275930732825938
         },
         {
          "ratings": "4.0",
          "sentiments": 0
         },
         {
          "ratings": "4.0",
          "sentiments": 0.06666666666666667
         },
         {
          "ratings": "4.0",
          "sentiments": 0.028828840241883726
         },
         {
          "ratings": "4.0",
          "sentiments": 0
         },
         {
          "ratings": "4.0",
          "sentiments": 0.02655677655677656
         },
         {
          "ratings": "4.0",
          "sentiments": -0.019047619047619053
         },
         {
          "ratings": "4.0",
          "sentiments": 0.1
         },
         {
          "ratings": "4.0",
          "sentiments": 0.016351241351241348
         },
         {
          "ratings": "4.0",
          "sentiments": 0
         },
         {
          "ratings": "4.0",
          "sentiments": 0
         },
         {
          "ratings": "4.0",
          "sentiments": 0.15257648953301126
         },
         {
          "ratings": "4.0",
          "sentiments": 0.05
         },
         {
          "ratings": "4.0",
          "sentiments": 0.09910402097902099
         },
         {
          "ratings": "4.0",
          "sentiments": 0.027751196172248804
         },
         {
          "ratings": "4.0",
          "sentiments": 0.030365982437456186
         },
         {
          "ratings": "4.0",
          "sentiments": 0.05263157894736842
         },
         {
          "ratings": "4.0",
          "sentiments": -0.025
         },
         {
          "ratings": "4.0",
          "sentiments": 0.010981641754172843
         },
         {
          "ratings": "4.0",
          "sentiments": 0
         },
         {
          "ratings": "4.0",
          "sentiments": 0
         },
         {
          "ratings": "4.0",
          "sentiments": -0.11266025641025641
         },
         {
          "ratings": "4.0",
          "sentiments": 0.06789956125819503
         },
         {
          "ratings": "4.0",
          "sentiments": -0.013492063492063493
         },
         {
          "ratings": "4.0",
          "sentiments": -0.0011904761904761897
         },
         {
          "ratings": "4.0",
          "sentiments": 0.0314935064935065
         },
         {
          "ratings": "4.0",
          "sentiments": 0.04323698879016097
         },
         {
          "ratings": "4.0",
          "sentiments": 1
         },
         {
          "ratings": "4.0",
          "sentiments": 0.5
         },
         {
          "ratings": "4.0",
          "sentiments": 0.5
         },
         {
          "ratings": "4.0",
          "sentiments": 0
         },
         {
          "ratings": "4.0",
          "sentiments": 0.06485260770975057
         },
         {
          "ratings": "4.0",
          "sentiments": 0.06327300150829562
         },
         {
          "ratings": "4.0",
          "sentiments": 0.08333333333333333
         },
         {
          "ratings": "4.0",
          "sentiments": -0.08333333333333333
         },
         {
          "ratings": "4.0",
          "sentiments": 0.10416666666666666
         },
         {
          "ratings": "4.0",
          "sentiments": 0.05
         },
         {
          "ratings": "4.0",
          "sentiments": 0.07954545454545454
         },
         {
          "ratings": "4.0",
          "sentiments": 0.05293040293040293
         },
         {
          "ratings": "4.0",
          "sentiments": 0
         },
         {
          "ratings": "4.0",
          "sentiments": 0.05
         },
         {
          "ratings": "4.0",
          "sentiments": 0.01920178308921627
         },
         {
          "ratings": "4.0",
          "sentiments": 0.14285714285714285
         },
         {
          "ratings": "4.0",
          "sentiments": 0.015308641975308639
         },
         {
          "ratings": "4.0",
          "sentiments": 0.010767208994298793
         },
         {
          "ratings": "4.0",
          "sentiments": 0.12702204228520017
         },
         {
          "ratings": "4.0",
          "sentiments": 0.125
         },
         {
          "ratings": "4.0",
          "sentiments": 0.2
         },
         {
          "ratings": "4.0",
          "sentiments": 0.1527777777777778
         },
         {
          "ratings": "4.0",
          "sentiments": 0.025998006729573548
         },
         {
          "ratings": "4.0",
          "sentiments": 0.12714506855373728
         },
         {
          "ratings": "4.0",
          "sentiments": 0.2
         },
         {
          "ratings": "4.0",
          "sentiments": 0.047619047619047616
         },
         {
          "ratings": "4.0",
          "sentiments": 0.006256234231062606
         },
         {
          "ratings": "4.0",
          "sentiments": 0.10353535353535354
         },
         {
          "ratings": "4.0",
          "sentiments": 0.09405797101449274
         },
         {
          "ratings": "4.0",
          "sentiments": -0.015318007662835248
         },
         {
          "ratings": "4.0",
          "sentiments": -0.00023665482121364433
         },
         {
          "ratings": "4.0",
          "sentiments": -0.02531515863169089
         },
         {
          "ratings": "4.0",
          "sentiments": 0.08482142857142858
         },
         {
          "ratings": "4.0",
          "sentiments": 0
         },
         {
          "ratings": "4.0",
          "sentiments": 0.028996865203761758
         },
         {
          "ratings": "4.0",
          "sentiments": 0.008333333333333335
         },
         {
          "ratings": "4.0",
          "sentiments": 0.08096153846153846
         },
         {
          "ratings": "4.0",
          "sentiments": 0.025641025641025644
         },
         {
          "ratings": "4.0",
          "sentiments": 0.3333333333333333
         },
         {
          "ratings": "4.0",
          "sentiments": 0.005216545749172158
         },
         {
          "ratings": "4.0",
          "sentiments": 0.07037037037037037
         },
         {
          "ratings": "4.0",
          "sentiments": 0
         },
         {
          "ratings": "4.0",
          "sentiments": 0.008297811878374538
         },
         {
          "ratings": "4.0",
          "sentiments": 0
         },
         {
          "ratings": "4.0",
          "sentiments": 0.08571428571428572
         },
         {
          "ratings": "4.0",
          "sentiments": 0.18181818181818182
         },
         {
          "ratings": "4.0",
          "sentiments": -0.015299823633156967
         },
         {
          "ratings": "4.0",
          "sentiments": 0.16666666666666666
         },
         {
          "ratings": "4.0",
          "sentiments": 0.013139801375095494
         },
         {
          "ratings": "4.0",
          "sentiments": -0.009081196581196577
         },
         {
          "ratings": "4.0",
          "sentiments": 0
         },
         {
          "ratings": "4.0",
          "sentiments": -0.041666666666666664
         },
         {
          "ratings": "4.0",
          "sentiments": 0.03981476253215383
         },
         {
          "ratings": "4.0",
          "sentiments": 0.5
         },
         {
          "ratings": "4.0",
          "sentiments": 0.0625
         },
         {
          "ratings": "4.0",
          "sentiments": -0.1
         },
         {
          "ratings": "4.0",
          "sentiments": 0.07857142857142856
         },
         {
          "ratings": "4.0",
          "sentiments": 0.3333333333333333
         },
         {
          "ratings": "4.0",
          "sentiments": 0.02861209054772006
         },
         {
          "ratings": "4.0",
          "sentiments": 0.09986772486772487
         },
         {
          "ratings": "4.0",
          "sentiments": 0.021592442645074223
         },
         {
          "ratings": "4.0",
          "sentiments": 0.02666666666666667
         },
         {
          "ratings": "4.0",
          "sentiments": 0
         },
         {
          "ratings": "4.0",
          "sentiments": 0.5
         },
         {
          "ratings": "4.0",
          "sentiments": 0
         },
         {
          "ratings": "4.0",
          "sentiments": 0.052529761904761905
         },
         {
          "ratings": "4.0",
          "sentiments": 0.04275689223057644
         },
         {
          "ratings": "4.0",
          "sentiments": -0.0023984080435693333
         },
         {
          "ratings": "4.0",
          "sentiments": 0.006630824372759858
         },
         {
          "ratings": "4.0",
          "sentiments": 0.06060606060606061
         },
         {
          "ratings": "4.0",
          "sentiments": 0.08297239285381577
         },
         {
          "ratings": "4.0",
          "sentiments": 0.01991403746266446
         },
         {
          "ratings": "4.0",
          "sentiments": 0
         },
         {
          "ratings": "4.0",
          "sentiments": 0.2222222222222222
         },
         {
          "ratings": "4.0",
          "sentiments": 0.0017316017316017333
         },
         {
          "ratings": "4.0",
          "sentiments": 0.25
         },
         {
          "ratings": "4.0",
          "sentiments": 0
         },
         {
          "ratings": "4.0",
          "sentiments": 0.014285714285714285
         },
         {
          "ratings": "4.0",
          "sentiments": 0.20729166666666665
         },
         {
          "ratings": "4.0",
          "sentiments": 0.015873015873015872
         },
         {
          "ratings": "4.0",
          "sentiments": 0.2916666666666667
         },
         {
          "ratings": "4.0",
          "sentiments": -0.11666666666666665
         },
         {
          "ratings": "4.0",
          "sentiments": 0.0625
         },
         {
          "ratings": "4.0",
          "sentiments": 0.01164021164021164
         },
         {
          "ratings": "4.0",
          "sentiments": 0
         },
         {
          "ratings": "4.0",
          "sentiments": 0.05263157894736842
         },
         {
          "ratings": "4.0",
          "sentiments": 0.2
         },
         {
          "ratings": "4.0",
          "sentiments": 0.10093415571356747
         },
         {
          "ratings": "4.0",
          "sentiments": -0.041666666666666664
         },
         {
          "ratings": "4.0",
          "sentiments": -0.015151515151515152
         },
         {
          "ratings": "4.0",
          "sentiments": 0
         },
         {
          "ratings": "4.0",
          "sentiments": 0.15
         },
         {
          "ratings": "4.0",
          "sentiments": 0.09764309764309764
         },
         {
          "ratings": "4.0",
          "sentiments": 0.14814814814814814
         },
         {
          "ratings": "4.0",
          "sentiments": 0.008333333333333331
         },
         {
          "ratings": "4.0",
          "sentiments": 0.03482664995822891
         },
         {
          "ratings": "4.0",
          "sentiments": -0.05119047619047619
         },
         {
          "ratings": "4.0",
          "sentiments": 0
         },
         {
          "ratings": "4.0",
          "sentiments": 0.041666666666666664
         },
         {
          "ratings": "4.0",
          "sentiments": 0.17391304347826086
         },
         {
          "ratings": "4.0",
          "sentiments": 1
         },
         {
          "ratings": "4.0",
          "sentiments": 0
         },
         {
          "ratings": "4.0",
          "sentiments": 0
         },
         {
          "ratings": "4.0",
          "sentiments": 0.24545454545454548
         },
         {
          "ratings": "4.0",
          "sentiments": 0.017398046973210367
         },
         {
          "ratings": "4.0",
          "sentiments": 0.12222222222222223
         },
         {
          "ratings": "4.0",
          "sentiments": 0
         },
         {
          "ratings": "4.0",
          "sentiments": 0.09285714285714286
         },
         {
          "ratings": "4.0",
          "sentiments": 0.013443725392254803
         },
         {
          "ratings": "4.0",
          "sentiments": 0.125
         },
         {
          "ratings": "4.0",
          "sentiments": 0.07407407407407407
         },
         {
          "ratings": "4.0",
          "sentiments": -0.008226495726495728
         },
         {
          "ratings": "4.0",
          "sentiments": 0.019325681825681826
         },
         {
          "ratings": "4.0",
          "sentiments": 0.05163988672392034
         },
         {
          "ratings": "4.0",
          "sentiments": 0.1111111111111111
         },
         {
          "ratings": "4.0",
          "sentiments": 0.09090909090909091
         },
         {
          "ratings": "4.0",
          "sentiments": 0.17216117216117213
         },
         {
          "ratings": "4.0",
          "sentiments": 0
         },
         {
          "ratings": "4.0",
          "sentiments": 0.02917107583774251
         },
         {
          "ratings": "4.0",
          "sentiments": 0.04720557220557221
         },
         {
          "ratings": "4.0",
          "sentiments": 0
         },
         {
          "ratings": "4.0",
          "sentiments": 0.014258516413688827
         },
         {
          "ratings": "4.0",
          "sentiments": 0.13888888888888887
         },
         {
          "ratings": "4.0",
          "sentiments": 0.1
         },
         {
          "ratings": "4.0",
          "sentiments": 0.14166666666666666
         },
         {
          "ratings": "4.0",
          "sentiments": 0.0379292637187374
         },
         {
          "ratings": "4.0",
          "sentiments": 0.04653698791629826
         },
         {
          "ratings": "4.0",
          "sentiments": 0.01439694564694565
         },
         {
          "ratings": "4.0",
          "sentiments": 0.043338345864661655
         },
         {
          "ratings": "4.0",
          "sentiments": -0.006403617647636786
         },
         {
          "ratings": "4.0",
          "sentiments": 0.0989010989010989
         },
         {
          "ratings": "4.0",
          "sentiments": 0.1361111111111111
         },
         {
          "ratings": "4.0",
          "sentiments": -0.023809523809523808
         },
         {
          "ratings": "4.0",
          "sentiments": 0.06944444444444443
         },
         {
          "ratings": "4.0",
          "sentiments": 0.5
         },
         {
          "ratings": "4.0",
          "sentiments": -0.027777777777777776
         },
         {
          "ratings": "4.0",
          "sentiments": 0.2
         },
         {
          "ratings": "4.0",
          "sentiments": 0
         },
         {
          "ratings": "4.0",
          "sentiments": -0.05958132045088566
         },
         {
          "ratings": "4.0",
          "sentiments": 0
         },
         {
          "ratings": "4.0",
          "sentiments": 0
         },
         {
          "ratings": "4.0",
          "sentiments": 0.09455128205128205
         },
         {
          "ratings": "4.0",
          "sentiments": 0.09821428571428571
         },
         {
          "ratings": "4.0",
          "sentiments": 0.16666666666666666
         },
         {
          "ratings": "4.0",
          "sentiments": 0.08
         },
         {
          "ratings": "4.0",
          "sentiments": 0.09305555555555556
         },
         {
          "ratings": "4.0",
          "sentiments": -0.047619047619047616
         },
         {
          "ratings": "4.0",
          "sentiments": 0.0010827429723750787
         },
         {
          "ratings": "4.0",
          "sentiments": 0.02976190476190476
         },
         {
          "ratings": "4.0",
          "sentiments": 0.060897435897435896
         },
         {
          "ratings": "4.0",
          "sentiments": 0.047426932042316655
         },
         {
          "ratings": "4.0",
          "sentiments": 0.5
         },
         {
          "ratings": "4.0",
          "sentiments": 0.16269841269841268
         },
         {
          "ratings": "4.0",
          "sentiments": 0.038461538461538464
         },
         {
          "ratings": "4.0",
          "sentiments": 0.0951254627725216
         },
         {
          "ratings": "4.0",
          "sentiments": 0
         },
         {
          "ratings": "4.0",
          "sentiments": -0.07264537264537264
         },
         {
          "ratings": "4.0",
          "sentiments": 0.018518518518518517
         },
         {
          "ratings": "4.0",
          "sentiments": 1
         },
         {
          "ratings": "4.0",
          "sentiments": 0.020972969397654116
         },
         {
          "ratings": "4.0",
          "sentiments": 0.2277777777777778
         },
         {
          "ratings": "4.0",
          "sentiments": 0.09967532467532468
         },
         {
          "ratings": "4.0",
          "sentiments": 0.13333333333333333
         },
         {
          "ratings": "4.0",
          "sentiments": -0.03571428571428571
         },
         {
          "ratings": "4.0",
          "sentiments": 0.14646464646464644
         },
         {
          "ratings": "4.0",
          "sentiments": 0.0406439393939394
         },
         {
          "ratings": "4.0",
          "sentiments": 0.17216117216117213
         },
         {
          "ratings": "4.0",
          "sentiments": 0
         },
         {
          "ratings": "4.0",
          "sentiments": 0.07367424242424242
         },
         {
          "ratings": "4.0",
          "sentiments": 0.02793386303669344
         },
         {
          "ratings": "4.0",
          "sentiments": 0.04793663126996461
         },
         {
          "ratings": "4.0",
          "sentiments": 0
         },
         {
          "ratings": "4.0",
          "sentiments": 0
         },
         {
          "ratings": "4.0",
          "sentiments": 0
         },
         {
          "ratings": "4.0",
          "sentiments": 0.03484848484848485
         },
         {
          "ratings": "4.0",
          "sentiments": -0.06746031746031746
         },
         {
          "ratings": "4.0",
          "sentiments": 0.10555555555555556
         },
         {
          "ratings": "4.0",
          "sentiments": 0.017356976528803154
         },
         {
          "ratings": "4.0",
          "sentiments": -0.125
         },
         {
          "ratings": "4.0",
          "sentiments": 0.0382203691612615
         },
         {
          "ratings": "4.0",
          "sentiments": 0.015525383707201891
         },
         {
          "ratings": "4.0",
          "sentiments": 0.05807618889698232
         },
         {
          "ratings": "4.0",
          "sentiments": 0
         },
         {
          "ratings": "4.0",
          "sentiments": 0.125
         },
         {
          "ratings": "4.0",
          "sentiments": -0.045454545454545456
         },
         {
          "ratings": "4.0",
          "sentiments": 0.07316176470588236
         },
         {
          "ratings": "4.0",
          "sentiments": 0.12681159420289856
         },
         {
          "ratings": "4.0",
          "sentiments": 0
         },
         {
          "ratings": "4.0",
          "sentiments": 0.04883215119152998
         },
         {
          "ratings": "4.0",
          "sentiments": 0.0685763888888889
         },
         {
          "ratings": "4.0",
          "sentiments": 0
         },
         {
          "ratings": "4.0",
          "sentiments": 0.07360565193819463
         },
         {
          "ratings": "4.0",
          "sentiments": 0.04464285714285714
         },
         {
          "ratings": "4.0",
          "sentiments": 0
         },
         {
          "ratings": "4.0",
          "sentiments": 0.0165682019130295
         },
         {
          "ratings": "4.0",
          "sentiments": -0.047619047619047616
         },
         {
          "ratings": "4.0",
          "sentiments": 0.05650533676849466
         },
         {
          "ratings": "4.0",
          "sentiments": 0.05263157894736842
         },
         {
          "ratings": "4.0",
          "sentiments": 0.09624756335282651
         },
         {
          "ratings": "4.0",
          "sentiments": 0.09281894576012222
         },
         {
          "ratings": "4.0",
          "sentiments": 0
         },
         {
          "ratings": "4.0",
          "sentiments": 0.012807397281081495
         },
         {
          "ratings": "4.0",
          "sentiments": -0.004362346407800954
         },
         {
          "ratings": "4.0",
          "sentiments": 0.07282539682539682
         },
         {
          "ratings": "4.0",
          "sentiments": 0.3333333333333333
         },
         {
          "ratings": "4.0",
          "sentiments": 0.019230769230769232
         },
         {
          "ratings": "4.0",
          "sentiments": -0.1111111111111111
         },
         {
          "ratings": "4.0",
          "sentiments": 0.08333333333333333
         },
         {
          "ratings": "4.0",
          "sentiments": 1
         },
         {
          "ratings": "4.0",
          "sentiments": 0.09807692307692309
         },
         {
          "ratings": "4.0",
          "sentiments": 0.051090208810797046
         },
         {
          "ratings": "4.0",
          "sentiments": 0.0049244399987544065
         },
         {
          "ratings": "4.0",
          "sentiments": 0
         },
         {
          "ratings": "4.0",
          "sentiments": 0.07015909021178517
         },
         {
          "ratings": "4.0",
          "sentiments": 0.3
         },
         {
          "ratings": "4.0",
          "sentiments": 0.25
         },
         {
          "ratings": "4.0",
          "sentiments": 0.02
         },
         {
          "ratings": "4.0",
          "sentiments": 0.0463579898362507
         },
         {
          "ratings": "4.0",
          "sentiments": 0.04790082267668475
         },
         {
          "ratings": "4.0",
          "sentiments": 0
         },
         {
          "ratings": "4.0",
          "sentiments": 0.04772727272727273
         },
         {
          "ratings": "4.0",
          "sentiments": 0
         },
         {
          "ratings": "4.0",
          "sentiments": -0.014814814814814817
         },
         {
          "ratings": "4.0",
          "sentiments": 0.085
         },
         {
          "ratings": "4.0",
          "sentiments": 0.06042375627937125
         },
         {
          "ratings": "4.0",
          "sentiments": 0.01370502645502646
         },
         {
          "ratings": "4.0",
          "sentiments": 0.09161793372319688
         },
         {
          "ratings": "4.0",
          "sentiments": 0.25
         },
         {
          "ratings": "4.0",
          "sentiments": 0.04478554778554779
         },
         {
          "ratings": "4.0",
          "sentiments": 0.05263157894736842
         },
         {
          "ratings": "4.0",
          "sentiments": 0.042007080610021785
         },
         {
          "ratings": "4.0",
          "sentiments": 0.3333333333333333
         },
         {
          "ratings": "4.0",
          "sentiments": 0.06666666666666667
         },
         {
          "ratings": "4.0",
          "sentiments": 0.07469512195121951
         },
         {
          "ratings": "4.0",
          "sentiments": 0.10526315789473684
         },
         {
          "ratings": "4.0",
          "sentiments": 0.062394272394272386
         },
         {
          "ratings": "4.0",
          "sentiments": 0.1049526862026862
         },
         {
          "ratings": "4.0",
          "sentiments": 0
         },
         {
          "ratings": "4.0",
          "sentiments": 0.0074374577417173765
         },
         {
          "ratings": "4.0",
          "sentiments": 0.03238428273608294
         },
         {
          "ratings": "4.0",
          "sentiments": 0
         },
         {
          "ratings": "4.0",
          "sentiments": 0.18070652173913043
         },
         {
          "ratings": "4.0",
          "sentiments": 0
         },
         {
          "ratings": "4.0",
          "sentiments": 0.0009523809523809517
         },
         {
          "ratings": "4.0",
          "sentiments": 0.045454545454545456
         },
         {
          "ratings": "4.0",
          "sentiments": 0.01648614466596923
         },
         {
          "ratings": "4.0",
          "sentiments": -0.045454545454545456
         },
         {
          "ratings": "4.0",
          "sentiments": 0.008392629082284254
         },
         {
          "ratings": "4.0",
          "sentiments": 0.017857142857142856
         },
         {
          "ratings": "4.0",
          "sentiments": 0.14285714285714285
         },
         {
          "ratings": "4.0",
          "sentiments": 0.08680555555555555
         },
         {
          "ratings": "4.0",
          "sentiments": 0.05527574277574278
         },
         {
          "ratings": "4.0",
          "sentiments": -0.0625
         },
         {
          "ratings": "4.0",
          "sentiments": 0.02878787878787879
         },
         {
          "ratings": "4.0",
          "sentiments": 0.04688995215311005
         },
         {
          "ratings": "4.0",
          "sentiments": -0.0008460040756691438
         },
         {
          "ratings": "4.0",
          "sentiments": 0.05347437602339563
         },
         {
          "ratings": "4.0",
          "sentiments": 0
         },
         {
          "ratings": "4.0",
          "sentiments": 0.17914438502673796
         },
         {
          "ratings": "4.0",
          "sentiments": -0.016369047619047616
         },
         {
          "ratings": "4.0",
          "sentiments": 0.05233821733821733
         },
         {
          "ratings": "4.0",
          "sentiments": 0.0196078431372549
         },
         {
          "ratings": "4.0",
          "sentiments": 0.07142857142857142
         },
         {
          "ratings": "4.0",
          "sentiments": 0.08452380952380953
         },
         {
          "ratings": "4.0",
          "sentiments": 0.05405405405405406
         },
         {
          "ratings": "4.0",
          "sentiments": 0.052380952380952375
         },
         {
          "ratings": "4.0",
          "sentiments": 0.03125
         },
         {
          "ratings": "4.0",
          "sentiments": 0.016016898010132865
         },
         {
          "ratings": "4.0",
          "sentiments": 0.1
         },
         {
          "ratings": "4.0",
          "sentiments": 0.2
         },
         {
          "ratings": "4.0",
          "sentiments": -0.037901843352971164
         },
         {
          "ratings": "4.0",
          "sentiments": 0.10256410256410256
         },
         {
          "ratings": "4.0",
          "sentiments": -0.0032430536836347756
         },
         {
          "ratings": "4.0",
          "sentiments": 0.05773420479302832
         },
         {
          "ratings": "4.0",
          "sentiments": 0.049724222138015244
         },
         {
          "ratings": "4.0",
          "sentiments": 0.09015845265845267
         },
         {
          "ratings": "4.0",
          "sentiments": 0
         },
         {
          "ratings": "4.0",
          "sentiments": 0.05333333333333333
         },
         {
          "ratings": "4.0",
          "sentiments": -0.0132168458781362
         },
         {
          "ratings": "4.0",
          "sentiments": 0.10444874274661509
         },
         {
          "ratings": "4.0",
          "sentiments": 0
         },
         {
          "ratings": "4.0",
          "sentiments": 0.08695652173913043
         },
         {
          "ratings": "4.0",
          "sentiments": 0
         },
         {
          "ratings": "4.0",
          "sentiments": -0.01621148459383753
         },
         {
          "ratings": "4.0",
          "sentiments": 0.037037037037037035
         },
         {
          "ratings": "4.0",
          "sentiments": 1
         },
         {
          "ratings": "4.0",
          "sentiments": 0.10416666666666666
         },
         {
          "ratings": "4.0",
          "sentiments": -0.1
         },
         {
          "ratings": "4.0",
          "sentiments": 0
         },
         {
          "ratings": "4.0",
          "sentiments": 0
         },
         {
          "ratings": "4.0",
          "sentiments": -0.04150326797385621
         },
         {
          "ratings": "4.0",
          "sentiments": 0.060227272727272727
         },
         {
          "ratings": "4.0",
          "sentiments": 0.3333333333333333
         },
         {
          "ratings": "4.0",
          "sentiments": 0.15
         },
         {
          "ratings": "4.0",
          "sentiments": 0
         },
         {
          "ratings": "4.0",
          "sentiments": -0.051068376068376074
         },
         {
          "ratings": "4.0",
          "sentiments": 0.25
         },
         {
          "ratings": "4.0",
          "sentiments": 0.1164021164021164
         },
         {
          "ratings": "4.0",
          "sentiments": 0.031319567960963655
         },
         {
          "ratings": "4.0",
          "sentiments": 0.07142857142857142
         },
         {
          "ratings": "4.0",
          "sentiments": 1
         },
         {
          "ratings": "4.0",
          "sentiments": 0.027777777777777776
         },
         {
          "ratings": "4.0",
          "sentiments": 0.17957420260051837
         },
         {
          "ratings": "4.0",
          "sentiments": 0.06666666666666667
         },
         {
          "ratings": "4.0",
          "sentiments": -0.025
         },
         {
          "ratings": "4.0",
          "sentiments": 0.02976190476190476
         },
         {
          "ratings": "4.0",
          "sentiments": 0
         },
         {
          "ratings": "4.0",
          "sentiments": 0.002616419544065888
         },
         {
          "ratings": "4.0",
          "sentiments": -0.08125
         },
         {
          "ratings": "4.0",
          "sentiments": 0
         },
         {
          "ratings": "4.0",
          "sentiments": 0.02631578947368421
         },
         {
          "ratings": "4.0",
          "sentiments": 0.08973633578896738
         },
         {
          "ratings": "4.0",
          "sentiments": 0.020833333333333332
         },
         {
          "ratings": "4.0",
          "sentiments": 0.16666666666666666
         },
         {
          "ratings": "4.0",
          "sentiments": 0.05440691624968673
         },
         {
          "ratings": "4.0",
          "sentiments": 0.10406349206349205
         },
         {
          "ratings": "4.0",
          "sentiments": 0
         },
         {
          "ratings": "4.0",
          "sentiments": 0.25
         },
         {
          "ratings": "4.0",
          "sentiments": 0.05036630036630037
         },
         {
          "ratings": "4.0",
          "sentiments": 0.0004785631357806276
         },
         {
          "ratings": "4.0",
          "sentiments": -0.014285714285714282
         },
         {
          "ratings": "4.0",
          "sentiments": 0.08680555555555555
         },
         {
          "ratings": "4.0",
          "sentiments": 0
         },
         {
          "ratings": "4.0",
          "sentiments": 0.03952941176470588
         },
         {
          "ratings": "4.0",
          "sentiments": 0.03346364776385061
         },
         {
          "ratings": "4.0",
          "sentiments": -0.029411764705882353
         },
         {
          "ratings": "4.0",
          "sentiments": 0.42857142857142855
         },
         {
          "ratings": "4.0",
          "sentiments": 0.025432439115303563
         },
         {
          "ratings": "4.0",
          "sentiments": 0.014587408913650048
         },
         {
          "ratings": "4.0",
          "sentiments": -0.013157894736842105
         },
         {
          "ratings": "4.0",
          "sentiments": 0.017676767676767676
         },
         {
          "ratings": "4.0",
          "sentiments": 0.009074675324675324
         },
         {
          "ratings": "4.0",
          "sentiments": 0.06971361971361971
         },
         {
          "ratings": "4.0",
          "sentiments": 0.019780219780219783
         },
         {
          "ratings": "4.0",
          "sentiments": 0
         },
         {
          "ratings": "4.0",
          "sentiments": -0.07792207792207792
         },
         {
          "ratings": "4.0",
          "sentiments": 0
         },
         {
          "ratings": "4.0",
          "sentiments": 0.014285714285714285
         },
         {
          "ratings": "4.0",
          "sentiments": 0
         },
         {
          "ratings": "4.0",
          "sentiments": 0.3333333333333333
         },
         {
          "ratings": "4.0",
          "sentiments": 0.125
         },
         {
          "ratings": "4.0",
          "sentiments": 0.03358585858585859
         },
         {
          "ratings": "4.0",
          "sentiments": 0.05041728101574943
         },
         {
          "ratings": "4.0",
          "sentiments": 0.03647783251231527
         },
         {
          "ratings": "4.0",
          "sentiments": 0
         },
         {
          "ratings": "4.0",
          "sentiments": 0.15096153846153848
         },
         {
          "ratings": "4.0",
          "sentiments": 0.043981481481481476
         },
         {
          "ratings": "4.0",
          "sentiments": 0.10853729603729603
         },
         {
          "ratings": "4.0",
          "sentiments": 0.10526315789473684
         },
         {
          "ratings": "4.0",
          "sentiments": 0.023809523809523808
         },
         {
          "ratings": "4.0",
          "sentiments": 0.046036650970861494
         },
         {
          "ratings": "4.0",
          "sentiments": 0.047619047619047616
         },
         {
          "ratings": "4.0",
          "sentiments": 0.03333333333333333
         },
         {
          "ratings": "4.0",
          "sentiments": 0.06684303350970018
         },
         {
          "ratings": "4.0",
          "sentiments": 0
         },
         {
          "ratings": "4.0",
          "sentiments": 0
         },
         {
          "ratings": "4.0",
          "sentiments": 0.043478260869565216
         },
         {
          "ratings": "4.0",
          "sentiments": 0.25
         },
         {
          "ratings": "4.0",
          "sentiments": 0.06666666666666667
         },
         {
          "ratings": "4.0",
          "sentiments": 0.4
         },
         {
          "ratings": "4.0",
          "sentiments": 0
         },
         {
          "ratings": "4.0",
          "sentiments": 0.03779761904761905
         },
         {
          "ratings": "4.0",
          "sentiments": 0.03710233808059895
         },
         {
          "ratings": "4.0",
          "sentiments": 0.10833333333333334
         },
         {
          "ratings": "4.0",
          "sentiments": 0.0984848484848485
         },
         {
          "ratings": "4.0",
          "sentiments": -0.041666666666666664
         },
         {
          "ratings": "4.0",
          "sentiments": 0.016787802840434417
         },
         {
          "ratings": "4.0",
          "sentiments": 0.0025879917184265014
         },
         {
          "ratings": "4.0",
          "sentiments": 0.11666666666666667
         },
         {
          "ratings": "4.0",
          "sentiments": 0.025641025641025644
         },
         {
          "ratings": "4.0",
          "sentiments": 0
         },
         {
          "ratings": "4.0",
          "sentiments": 0
         },
         {
          "ratings": "4.0",
          "sentiments": 0.09622277364212849
         },
         {
          "ratings": "4.0",
          "sentiments": 0.5
         },
         {
          "ratings": "4.0",
          "sentiments": 0.5
         },
         {
          "ratings": "4.0",
          "sentiments": 0.00972222222222222
         },
         {
          "ratings": "4.0",
          "sentiments": -0.07142857142857142
         },
         {
          "ratings": "4.0",
          "sentiments": 0.016047404640109127
         },
         {
          "ratings": "4.0",
          "sentiments": 0.0846153846153846
         },
         {
          "ratings": "4.0",
          "sentiments": 0.12021978021978022
         },
         {
          "ratings": "4.0",
          "sentiments": 0.01428571428571429
         },
         {
          "ratings": "4.0",
          "sentiments": 0.06204710144927535
         },
         {
          "ratings": "4.0",
          "sentiments": -0.037037037037037035
         },
         {
          "ratings": "4.0",
          "sentiments": 0
         },
         {
          "ratings": "4.0",
          "sentiments": -0.023607873607873604
         },
         {
          "ratings": "4.0",
          "sentiments": 0.11851851851851852
         },
         {
          "ratings": "4.0",
          "sentiments": -0.05
         },
         {
          "ratings": "4.0",
          "sentiments": 0.06060606060606061
         },
         {
          "ratings": "4.0",
          "sentiments": 0.16666666666666666
         },
         {
          "ratings": "4.0",
          "sentiments": 0.009859465737514516
         },
         {
          "ratings": "4.0",
          "sentiments": 0.039746959389816525
         },
         {
          "ratings": "4.0",
          "sentiments": 0
         },
         {
          "ratings": "4.0",
          "sentiments": 0.15666666666666665
         },
         {
          "ratings": "4.0",
          "sentiments": 0
         },
         {
          "ratings": "4.0",
          "sentiments": 0.038461538461538464
         },
         {
          "ratings": "4.0",
          "sentiments": 0.5
         },
         {
          "ratings": "4.0",
          "sentiments": -0.1111111111111111
         },
         {
          "ratings": "4.0",
          "sentiments": 0.007637297343179694
         },
         {
          "ratings": "4.0",
          "sentiments": 0
         },
         {
          "ratings": "4.0",
          "sentiments": 0.037037037037037035
         },
         {
          "ratings": "4.0",
          "sentiments": 0.024134199134199133
         },
         {
          "ratings": "4.0",
          "sentiments": 0.18181818181818182
         },
         {
          "ratings": "4.0",
          "sentiments": 0.15202362996480642
         },
         {
          "ratings": "4.0",
          "sentiments": 0.006549356697017619
         },
         {
          "ratings": "4.0",
          "sentiments": 0.05555555555555555
         },
         {
          "ratings": "4.0",
          "sentiments": 0.06439393939393939
         },
         {
          "ratings": "4.0",
          "sentiments": 0.13257575757575757
         },
         {
          "ratings": "4.0",
          "sentiments": 0.03125
         },
         {
          "ratings": "4.0",
          "sentiments": 0
         },
         {
          "ratings": "4.0",
          "sentiments": 0.04799430641821946
         },
         {
          "ratings": "4.0",
          "sentiments": 0.0006729456729456703
         },
         {
          "ratings": "4.0",
          "sentiments": 0.04842071508738175
         },
         {
          "ratings": "4.0",
          "sentiments": 0.025
         },
         {
          "ratings": "4.0",
          "sentiments": 0.020833333333333332
         },
         {
          "ratings": "4.0",
          "sentiments": 0
         },
         {
          "ratings": "4.0",
          "sentiments": 0.020814245768575327
         },
         {
          "ratings": "4.0",
          "sentiments": 0
         },
         {
          "ratings": "4.0",
          "sentiments": 0.1875
         },
         {
          "ratings": "4.0",
          "sentiments": 0.1
         },
         {
          "ratings": "4.0",
          "sentiments": 0
         },
         {
          "ratings": "4.0",
          "sentiments": 0.08333333333333333
         },
         {
          "ratings": "4.0",
          "sentiments": 0.026666666666666672
         },
         {
          "ratings": "4.0",
          "sentiments": 0.04338624338624338
         },
         {
          "ratings": "4.0",
          "sentiments": 0
         },
         {
          "ratings": "4.0",
          "sentiments": -0.058260869565217394
         },
         {
          "ratings": "4.0",
          "sentiments": 0.045454545454545456
         },
         {
          "ratings": "4.0",
          "sentiments": 0.12857142857142856
         },
         {
          "ratings": "4.0",
          "sentiments": 0.05611111111111111
         },
         {
          "ratings": "4.0",
          "sentiments": 0.1
         },
         {
          "ratings": "4.0",
          "sentiments": 0.07619047619047618
         },
         {
          "ratings": "4.0",
          "sentiments": 0.06349206349206349
         },
         {
          "ratings": "4.0",
          "sentiments": 0.16666666666666666
         },
         {
          "ratings": "4.0",
          "sentiments": 0.0625
         },
         {
          "ratings": "4.0",
          "sentiments": 0.12698412698412698
         },
         {
          "ratings": "4.0",
          "sentiments": 0.14013605442176869
         },
         {
          "ratings": "4.0",
          "sentiments": 0.021739130434782608
         },
         {
          "ratings": "4.0",
          "sentiments": 0.07692307692307693
         },
         {
          "ratings": "4.0",
          "sentiments": 0.018139730639730636
         },
         {
          "ratings": "4.0",
          "sentiments": 1
         },
         {
          "ratings": "4.0",
          "sentiments": 0
         },
         {
          "ratings": "4.0",
          "sentiments": 0
         },
         {
          "ratings": "4.0",
          "sentiments": 0.02631578947368421
         },
         {
          "ratings": "4.0",
          "sentiments": -0.0033333333333333353
         },
         {
          "ratings": "4.0",
          "sentiments": 0.13132478632478634
         },
         {
          "ratings": "4.0",
          "sentiments": 0.016666666666666663
         },
         {
          "ratings": "4.0",
          "sentiments": 0
         },
         {
          "ratings": "4.0",
          "sentiments": 0.5
         },
         {
          "ratings": "4.0",
          "sentiments": 0.03125
         },
         {
          "ratings": "4.0",
          "sentiments": 0
         },
         {
          "ratings": "4.0",
          "sentiments": 0.10846560846560845
         },
         {
          "ratings": "4.0",
          "sentiments": 0.08928571428571429
         },
         {
          "ratings": "4.0",
          "sentiments": 0.041666666666666664
         },
         {
          "ratings": "4.0",
          "sentiments": 0.05263157894736842
         },
         {
          "ratings": "4.0",
          "sentiments": 0.05183322357692105
         },
         {
          "ratings": "4.0",
          "sentiments": 0.004960317460317461
         },
         {
          "ratings": "4.0",
          "sentiments": 0.08522727272727273
         },
         {
          "ratings": "4.0",
          "sentiments": 0.5
         },
         {
          "ratings": "4.0",
          "sentiments": 0.07035326856379488
         },
         {
          "ratings": "4.0",
          "sentiments": 0.07142857142857142
         },
         {
          "ratings": "4.0",
          "sentiments": 0.13636363636363635
         },
         {
          "ratings": "4.0",
          "sentiments": 0.21250000000000002
         },
         {
          "ratings": "4.0",
          "sentiments": 0.06666666666666667
         },
         {
          "ratings": "4.0",
          "sentiments": 0.5
         },
         {
          "ratings": "4.0",
          "sentiments": -0.17272727272727273
         },
         {
          "ratings": "4.0",
          "sentiments": 0.012857142857142855
         },
         {
          "ratings": "4.0",
          "sentiments": -0.022115384615384617
         },
         {
          "ratings": "4.0",
          "sentiments": 0.02631578947368421
         },
         {
          "ratings": "4.0",
          "sentiments": 0.15
         },
         {
          "ratings": "4.0",
          "sentiments": 0.0876984126984127
         },
         {
          "ratings": "4.0",
          "sentiments": -0.0625
         },
         {
          "ratings": "4.0",
          "sentiments": 0.12643899310565976
         },
         {
          "ratings": "4.0",
          "sentiments": 0
         },
         {
          "ratings": "4.0",
          "sentiments": 0.0037181020733652306
         },
         {
          "ratings": "4.0",
          "sentiments": -0.03544372294372294
         },
         {
          "ratings": "4.0",
          "sentiments": -0.00021039456516978825
         },
         {
          "ratings": "4.0",
          "sentiments": 0.2
         },
         {
          "ratings": "4.0",
          "sentiments": 0.023368397926766166
         },
         {
          "ratings": "4.0",
          "sentiments": 0.06561789088104877
         },
         {
          "ratings": "4.0",
          "sentiments": 0.047619047619047616
         },
         {
          "ratings": "4.0",
          "sentiments": 0.04476513682396035
         },
         {
          "ratings": "4.0",
          "sentiments": 0.009856035685703885
         },
         {
          "ratings": "4.0",
          "sentiments": 0.050613680187421704
         },
         {
          "ratings": "4.0",
          "sentiments": 0.009496753246753248
         },
         {
          "ratings": "4.0",
          "sentiments": 0.06889204545454546
         },
         {
          "ratings": "4.0",
          "sentiments": 0
         },
         {
          "ratings": "4.0",
          "sentiments": 0.275
         },
         {
          "ratings": "4.0",
          "sentiments": 0.02021553325901152
         },
         {
          "ratings": "4.0",
          "sentiments": 0.16666666666666666
         },
         {
          "ratings": "4.0",
          "sentiments": -0.023809523809523808
         },
         {
          "ratings": "4.0",
          "sentiments": 0.04423192706234619
         },
         {
          "ratings": "4.0",
          "sentiments": 0
         },
         {
          "ratings": "4.0",
          "sentiments": 0.06631578947368422
         },
         {
          "ratings": "4.0",
          "sentiments": -0.038461538461538464
         },
         {
          "ratings": "4.0",
          "sentiments": 0.03333333333333333
         },
         {
          "ratings": "4.0",
          "sentiments": 0.14285714285714285
         },
         {
          "ratings": "4.0",
          "sentiments": 0
         },
         {
          "ratings": "4.0",
          "sentiments": -0.01123737373737374
         },
         {
          "ratings": "4.0",
          "sentiments": 0.13095238095238093
         },
         {
          "ratings": "4.0",
          "sentiments": 0.0583558045964061
         },
         {
          "ratings": "4.0",
          "sentiments": 1
         },
         {
          "ratings": "4.0",
          "sentiments": 0
         },
         {
          "ratings": "4.0",
          "sentiments": 0.125
         },
         {
          "ratings": "4.0",
          "sentiments": -0.017571970421321838
         },
         {
          "ratings": "4.0",
          "sentiments": -0.10606060606060606
         },
         {
          "ratings": "4.0",
          "sentiments": 0.01971253147723736
         },
         {
          "ratings": "4.0",
          "sentiments": -0.003965921140165817
         },
         {
          "ratings": "4.0",
          "sentiments": 0
         },
         {
          "ratings": "4.0",
          "sentiments": 0.03363675341261548
         },
         {
          "ratings": "4.0",
          "sentiments": 0.030362694045558494
         },
         {
          "ratings": "4.0",
          "sentiments": 1
         },
         {
          "ratings": "4.0",
          "sentiments": 0.06875058015408891
         },
         {
          "ratings": "4.0",
          "sentiments": 0
         },
         {
          "ratings": "4.0",
          "sentiments": 0.25
         },
         {
          "ratings": "4.0",
          "sentiments": 0.02339616402116402
         },
         {
          "ratings": "4.0",
          "sentiments": 0
         },
         {
          "ratings": "4.0",
          "sentiments": 0.10840201465201466
         },
         {
          "ratings": "4.0",
          "sentiments": 0.016095559845559847
         },
         {
          "ratings": "4.0",
          "sentiments": -0.003402877183626611
         },
         {
          "ratings": "4.0",
          "sentiments": 0.04579124579124579
         },
         {
          "ratings": "4.0",
          "sentiments": -0.001655179615705932
         },
         {
          "ratings": "4.0",
          "sentiments": 0.049765289058767315
         },
         {
          "ratings": "4.0",
          "sentiments": 1
         },
         {
          "ratings": "4.0",
          "sentiments": 0.14285714285714285
         },
         {
          "ratings": "4.0",
          "sentiments": 0.3333333333333333
         },
         {
          "ratings": "4.0",
          "sentiments": 0.0355571028160455
         },
         {
          "ratings": "4.0",
          "sentiments": 0.5
         },
         {
          "ratings": "4.0",
          "sentiments": 0.005472059302704464
         },
         {
          "ratings": "4.0",
          "sentiments": 0.04613095238095238
         },
         {
          "ratings": "4.0",
          "sentiments": 0.0927020202020202
         },
         {
          "ratings": "4.0",
          "sentiments": 0
         },
         {
          "ratings": "4.0",
          "sentiments": 0.06627511360131683
         },
         {
          "ratings": "4.0",
          "sentiments": -0.018518518518518517
         },
         {
          "ratings": "4.0",
          "sentiments": 0.018048340548340546
         },
         {
          "ratings": "4.0",
          "sentiments": -0.125
         },
         {
          "ratings": "4.0",
          "sentiments": 0.0662593984962406
         },
         {
          "ratings": "4.0",
          "sentiments": 0.125
         },
         {
          "ratings": "4.0",
          "sentiments": 0.014417574762402347
         },
         {
          "ratings": "4.0",
          "sentiments": 0.007670660856935364
         },
         {
          "ratings": "4.0",
          "sentiments": 0.1111111111111111
         },
         {
          "ratings": "4.0",
          "sentiments": -0.012345679012345678
         },
         {
          "ratings": "4.0",
          "sentiments": 0.10526315789473684
         },
         {
          "ratings": "4.0",
          "sentiments": -0.03333333333333333
         },
         {
          "ratings": "4.0",
          "sentiments": 0.14814814814814814
         },
         {
          "ratings": "4.0",
          "sentiments": -0.03125
         },
         {
          "ratings": "4.0",
          "sentiments": 0.03260530033774119
         },
         {
          "ratings": "4.0",
          "sentiments": 0.06199315308332228
         },
         {
          "ratings": "4.0",
          "sentiments": 0.0625
         },
         {
          "ratings": "4.0",
          "sentiments": 0.014825421396628825
         },
         {
          "ratings": "4.0",
          "sentiments": -0.09090909090909091
         },
         {
          "ratings": "4.0",
          "sentiments": 0.139247311827957
         },
         {
          "ratings": "4.0",
          "sentiments": 0.0522734346263758
         },
         {
          "ratings": "4.0",
          "sentiments": 0.05
         },
         {
          "ratings": "4.0",
          "sentiments": 0.2
         },
         {
          "ratings": "4.0",
          "sentiments": 0.058823529411764705
         },
         {
          "ratings": "4.0",
          "sentiments": 0.5
         },
         {
          "ratings": "4.0",
          "sentiments": 0
         },
         {
          "ratings": "4.0",
          "sentiments": 0
         },
         {
          "ratings": "4.0",
          "sentiments": 0.012820512820512822
         },
         {
          "ratings": "4.0",
          "sentiments": 0.3
         },
         {
          "ratings": "4.0",
          "sentiments": 0
         },
         {
          "ratings": "4.0",
          "sentiments": 0.10833333333333334
         },
         {
          "ratings": "4.0",
          "sentiments": -0.05555555555555556
         },
         {
          "ratings": "4.0",
          "sentiments": 1
         },
         {
          "ratings": "4.0",
          "sentiments": -0.06896551724137931
         },
         {
          "ratings": "4.0",
          "sentiments": 0.05973418181267876
         },
         {
          "ratings": "4.0",
          "sentiments": -0.006124802921621484
         },
         {
          "ratings": "4.0",
          "sentiments": 0.14285714285714285
         },
         {
          "ratings": "4.0",
          "sentiments": 0.012785884963304317
         },
         {
          "ratings": "4.0",
          "sentiments": 0.014117826617826615
         },
         {
          "ratings": "4.0",
          "sentiments": 0.125
         },
         {
          "ratings": "4.0",
          "sentiments": 0.0034429135394314046
         },
         {
          "ratings": "4.0",
          "sentiments": 0.07692307692307693
         },
         {
          "ratings": "4.0",
          "sentiments": 0.024844720496894408
         },
         {
          "ratings": "4.0",
          "sentiments": 0.1762820512820513
         },
         {
          "ratings": "4.0",
          "sentiments": 0
         },
         {
          "ratings": "4.0",
          "sentiments": 0.25
         },
         {
          "ratings": "4.0",
          "sentiments": -0.05
         },
         {
          "ratings": "4.0",
          "sentiments": 0.10695526695526696
         },
         {
          "ratings": "4.0",
          "sentiments": 0.0361111111111111
         },
         {
          "ratings": "4.0",
          "sentiments": 0.1527777777777778
         },
         {
          "ratings": "4.0",
          "sentiments": -0.02400248988484283
         },
         {
          "ratings": "4.0",
          "sentiments": 0.6666666666666666
         },
         {
          "ratings": "4.0",
          "sentiments": 0.0594035594035594
         },
         {
          "ratings": "4.0",
          "sentiments": 0.16666666666666666
         },
         {
          "ratings": "4.0",
          "sentiments": 0.5
         },
         {
          "ratings": "4.0",
          "sentiments": 0
         },
         {
          "ratings": "4.0",
          "sentiments": 0.022492509511576195
         },
         {
          "ratings": "4.0",
          "sentiments": 0.21250000000000002
         },
         {
          "ratings": "4.0",
          "sentiments": 0.01585782638414217
         },
         {
          "ratings": "4.0",
          "sentiments": 0.033333333333333326
         },
         {
          "ratings": "4.0",
          "sentiments": -0.03571428571428571
         },
         {
          "ratings": "4.0",
          "sentiments": 0.041353383458646614
         },
         {
          "ratings": "4.0",
          "sentiments": 0.049719280693472735
         },
         {
          "ratings": "4.0",
          "sentiments": -0.018750000000000003
         },
         {
          "ratings": "4.0",
          "sentiments": -0.03404761904761904
         },
         {
          "ratings": "4.0",
          "sentiments": 0.11666666666666667
         },
         {
          "ratings": "4.0",
          "sentiments": 0.027500000000000004
         },
         {
          "ratings": "4.0",
          "sentiments": 0.007575757575757576
         },
         {
          "ratings": "4.0",
          "sentiments": 0.0184569518066624
         },
         {
          "ratings": "4.0",
          "sentiments": 0.1574074074074074
         },
         {
          "ratings": "4.0",
          "sentiments": 0.047619047619047616
         },
         {
          "ratings": "4.0",
          "sentiments": -0.06666666666666667
         },
         {
          "ratings": "4.0",
          "sentiments": 0.2
         },
         {
          "ratings": "4.0",
          "sentiments": 0.09090909090909091
         },
         {
          "ratings": "4.0",
          "sentiments": -0.04680958852414791
         },
         {
          "ratings": "4.0",
          "sentiments": 0.018890889689209014
         },
         {
          "ratings": "4.0",
          "sentiments": 0.029540301422452453
         },
         {
          "ratings": "4.0",
          "sentiments": 0.02469082603146948
         },
         {
          "ratings": "4.0",
          "sentiments": 0
         },
         {
          "ratings": "4.0",
          "sentiments": 0.05555555555555555
         },
         {
          "ratings": "4.0",
          "sentiments": 0.07142857142857142
         },
         {
          "ratings": "4.0",
          "sentiments": 0.10714285714285714
         },
         {
          "ratings": "4.0",
          "sentiments": 0.13095238095238096
         },
         {
          "ratings": "4.0",
          "sentiments": 0
         },
         {
          "ratings": "4.0",
          "sentiments": 0.07666970710448971
         },
         {
          "ratings": "4.0",
          "sentiments": 0.027028985507246372
         },
         {
          "ratings": "4.0",
          "sentiments": 0
         },
         {
          "ratings": "4.0",
          "sentiments": 0.4
         },
         {
          "ratings": "4.0",
          "sentiments": 0.025316187080892963
         },
         {
          "ratings": "4.0",
          "sentiments": 0.04395604395604396
         },
         {
          "ratings": "4.0",
          "sentiments": -0.07142857142857142
         },
         {
          "ratings": "4.0",
          "sentiments": 0.3
         },
         {
          "ratings": "4.0",
          "sentiments": 0.07142857142857142
         },
         {
          "ratings": "4.0",
          "sentiments": 0.08418273645546373
         },
         {
          "ratings": "4.0",
          "sentiments": 0.08012218045112782
         },
         {
          "ratings": "4.0",
          "sentiments": 0
         },
         {
          "ratings": "4.0",
          "sentiments": 0.042775742775742774
         },
         {
          "ratings": "4.0",
          "sentiments": 0.01718360071301248
         },
         {
          "ratings": "4.0",
          "sentiments": 0.07760683760683759
         },
         {
          "ratings": "4.0",
          "sentiments": 0
         },
         {
          "ratings": "4.0",
          "sentiments": 0.14285714285714285
         },
         {
          "ratings": "4.0",
          "sentiments": 0.07142857142857142
         },
         {
          "ratings": "4.0",
          "sentiments": 0.008516483516483521
         },
         {
          "ratings": "4.0",
          "sentiments": -0.02921589688506981
         },
         {
          "ratings": "4.0",
          "sentiments": 0.09558823529411764
         },
         {
          "ratings": "4.0",
          "sentiments": 0.09365079365079365
         },
         {
          "ratings": "4.0",
          "sentiments": -0.010223456227251506
         },
         {
          "ratings": "4.0",
          "sentiments": 0.09401709401709402
         },
         {
          "ratings": "4.0",
          "sentiments": 0.16666666666666666
         },
         {
          "ratings": "4.0",
          "sentiments": 0.03571428571428572
         },
         {
          "ratings": "4.0",
          "sentiments": 0.17045454545454547
         },
         {
          "ratings": "4.0",
          "sentiments": 0.03622922055584594
         },
         {
          "ratings": "4.0",
          "sentiments": 0.02134332863773653
         },
         {
          "ratings": "4.0",
          "sentiments": 0.06203007518796992
         },
         {
          "ratings": "4.0",
          "sentiments": 0.06666666666666667
         },
         {
          "ratings": "4.0",
          "sentiments": 0.04960757788685165
         },
         {
          "ratings": "4.0",
          "sentiments": -0.025641025641025644
         },
         {
          "ratings": "4.0",
          "sentiments": 0.0071428571428571435
         },
         {
          "ratings": "4.0",
          "sentiments": 0.16666666666666666
         },
         {
          "ratings": "4.0",
          "sentiments": 0.0933791698497581
         },
         {
          "ratings": "4.0",
          "sentiments": 0.007113083675583676
         },
         {
          "ratings": "4.0",
          "sentiments": 0.00420875420875421
         },
         {
          "ratings": "4.0",
          "sentiments": 0.0023151677756940918
         },
         {
          "ratings": "4.0",
          "sentiments": -0.0041043421462052315
         },
         {
          "ratings": "4.0",
          "sentiments": 0.047619047619047616
         },
         {
          "ratings": "4.0",
          "sentiments": -0.027087646652864044
         },
         {
          "ratings": "4.0",
          "sentiments": 0.5
         },
         {
          "ratings": "4.0",
          "sentiments": 0.03810881928528988
         },
         {
          "ratings": "4.0",
          "sentiments": 0
         },
         {
          "ratings": "4.0",
          "sentiments": 0.0625
         },
         {
          "ratings": "4.0",
          "sentiments": 0.08444444444444445
         },
         {
          "ratings": "4.0",
          "sentiments": 0
         },
         {
          "ratings": "4.0",
          "sentiments": 0
         },
         {
          "ratings": "4.0",
          "sentiments": 0.03206452485686357
         },
         {
          "ratings": "4.0",
          "sentiments": 0.01920178308921627
         },
         {
          "ratings": "4.0",
          "sentiments": 0.01817479865509422
         },
         {
          "ratings": "4.0",
          "sentiments": 0.045112781954887216
         },
         {
          "ratings": "4.0",
          "sentiments": 0.25
         },
         {
          "ratings": "4.0",
          "sentiments": 0.16346153846153846
         },
         {
          "ratings": "4.0",
          "sentiments": 0.025
         },
         {
          "ratings": "4.0",
          "sentiments": 0.6666666666666666
         },
         {
          "ratings": "4.0",
          "sentiments": 0.06143790849673203
         },
         {
          "ratings": "4.0",
          "sentiments": 0.20833333333333334
         },
         {
          "ratings": "4.0",
          "sentiments": -0.07142857142857142
         },
         {
          "ratings": "4.0",
          "sentiments": 0.009696568452564976
         },
         {
          "ratings": "4.0",
          "sentiments": 0.09791666666666667
         },
         {
          "ratings": "4.0",
          "sentiments": 0.03571428571428571
         },
         {
          "ratings": "4.0",
          "sentiments": 0.017305677222436373
         },
         {
          "ratings": "4.0",
          "sentiments": 0.6666666666666666
         },
         {
          "ratings": "4.0",
          "sentiments": 0.004524886877828056
         },
         {
          "ratings": "4.0",
          "sentiments": 0.01639344262295082
         },
         {
          "ratings": "4.0",
          "sentiments": 0.022922572922572916
         },
         {
          "ratings": "4.0",
          "sentiments": 0.005632493867787985
         },
         {
          "ratings": "4.0",
          "sentiments": 0.02443365690902734
         },
         {
          "ratings": "4.0",
          "sentiments": 0.2
         },
         {
          "ratings": "4.0",
          "sentiments": 0.06964285714285713
         },
         {
          "ratings": "4.0",
          "sentiments": 0.018506493506493513
         },
         {
          "ratings": "4.0",
          "sentiments": 0.022222222222222216
         },
         {
          "ratings": "4.0",
          "sentiments": 0.04737414446900709
         },
         {
          "ratings": "4.0",
          "sentiments": 0.03428571428571429
         },
         {
          "ratings": "4.0",
          "sentiments": 0
         },
         {
          "ratings": "4.0",
          "sentiments": 0.15833333333333335
         },
         {
          "ratings": "4.0",
          "sentiments": -0.015362318840579713
         },
         {
          "ratings": "4.0",
          "sentiments": 0
         },
         {
          "ratings": "4.0",
          "sentiments": -0.02777777777777778
         },
         {
          "ratings": "4.0",
          "sentiments": 0.3333333333333333
         },
         {
          "ratings": "4.0",
          "sentiments": 0.004732512687508708
         },
         {
          "ratings": "4.0",
          "sentiments": 0.025925925925925925
         },
         {
          "ratings": "4.0",
          "sentiments": -0.06990131578947369
         },
         {
          "ratings": "4.0",
          "sentiments": 0.04672813771938447
         },
         {
          "ratings": "4.0",
          "sentiments": 0.05092592592592592
         },
         {
          "ratings": "4.0",
          "sentiments": 0.17216117216117213
         },
         {
          "ratings": "4.0",
          "sentiments": 0.1111111111111111
         },
         {
          "ratings": "4.0",
          "sentiments": 0.06321033044637214
         },
         {
          "ratings": "4.0",
          "sentiments": 0.0331143582493891
         },
         {
          "ratings": "4.0",
          "sentiments": -0.04819277108433735
         },
         {
          "ratings": "4.0",
          "sentiments": 0.022222222222222223
         },
         {
          "ratings": "4.0",
          "sentiments": 0.06666666666666667
         },
         {
          "ratings": "4.0",
          "sentiments": 0.04554655870445344
         },
         {
          "ratings": "4.0",
          "sentiments": 0.053788244766505636
         },
         {
          "ratings": "4.0",
          "sentiments": 0.020229468599033813
         },
         {
          "ratings": "4.0",
          "sentiments": -0.06696428571428571
         },
         {
          "ratings": "4.0",
          "sentiments": 0.05625
         },
         {
          "ratings": "4.0",
          "sentiments": 0.08333333333333333
         },
         {
          "ratings": "4.0",
          "sentiments": 0.04680216395253305
         },
         {
          "ratings": "4.0",
          "sentiments": 0
         },
         {
          "ratings": "4.0",
          "sentiments": 0.6666666666666666
         },
         {
          "ratings": "4.0",
          "sentiments": 0.024528556252939555
         },
         {
          "ratings": "4.0",
          "sentiments": 0.06666666666666667
         },
         {
          "ratings": "4.0",
          "sentiments": 0.011671471586613236
         },
         {
          "ratings": "4.0",
          "sentiments": 0.1314814814814815
         },
         {
          "ratings": "4.0",
          "sentiments": -0.09090909090909091
         },
         {
          "ratings": "4.0",
          "sentiments": 0.02592221234041252
         },
         {
          "ratings": "4.0",
          "sentiments": 0
         },
         {
          "ratings": "4.0",
          "sentiments": 0.0984848484848485
         },
         {
          "ratings": "4.0",
          "sentiments": 0.12378246753246752
         },
         {
          "ratings": "4.0",
          "sentiments": 0.1619047619047619
         },
         {
          "ratings": "4.0",
          "sentiments": 0.125
         },
         {
          "ratings": "4.0",
          "sentiments": 0.06666666666666667
         },
         {
          "ratings": "4.0",
          "sentiments": 0.15789473684210525
         },
         {
          "ratings": "4.0",
          "sentiments": 0
         },
         {
          "ratings": "4.0",
          "sentiments": 0.16666666666666666
         },
         {
          "ratings": "4.0",
          "sentiments": 1
         },
         {
          "ratings": "4.0",
          "sentiments": 0.09523809523809523
         },
         {
          "ratings": "4.0",
          "sentiments": 0
         },
         {
          "ratings": "4.0",
          "sentiments": 0
         },
         {
          "ratings": "4.0",
          "sentiments": -0.022391169906697855
         },
         {
          "ratings": "4.0",
          "sentiments": -0.022435897435897433
         },
         {
          "ratings": "4.0",
          "sentiments": 0
         },
         {
          "ratings": "4.0",
          "sentiments": -0.04
         },
         {
          "ratings": "4.0",
          "sentiments": 0.015827825201226737
         },
         {
          "ratings": "4.0",
          "sentiments": 0.058333333333333334
         },
         {
          "ratings": "4.0",
          "sentiments": 0.12777777777777777
         },
         {
          "ratings": "4.0",
          "sentiments": 0
         },
         {
          "ratings": "4.0",
          "sentiments": -0.14285714285714285
         },
         {
          "ratings": "4.0",
          "sentiments": 0.05555555555555555
         },
         {
          "ratings": "4.0",
          "sentiments": -0.003401360544217687
         },
         {
          "ratings": "4.0",
          "sentiments": 0.038461538461538464
         },
         {
          "ratings": "4.0",
          "sentiments": -0.015238787822821436
         },
         {
          "ratings": "4.0",
          "sentiments": 0.14375
         },
         {
          "ratings": "4.0",
          "sentiments": 0.0803030303030303
         },
         {
          "ratings": "4.0",
          "sentiments": 0.2
         },
         {
          "ratings": "4.0",
          "sentiments": 0.08333333333333333
         },
         {
          "ratings": "4.0",
          "sentiments": 0.25
         },
         {
          "ratings": "4.0",
          "sentiments": 0
         },
         {
          "ratings": "4.0",
          "sentiments": 0.03459595959595958
         },
         {
          "ratings": "4.0",
          "sentiments": 0.13468013468013468
         },
         {
          "ratings": "4.0",
          "sentiments": 0.25
         },
         {
          "ratings": "4.0",
          "sentiments": 0.09755733397037744
         },
         {
          "ratings": "4.0",
          "sentiments": 0.12289377289377289
         },
         {
          "ratings": "4.0",
          "sentiments": 0.08837872653662127
         },
         {
          "ratings": "4.0",
          "sentiments": 0
         },
         {
          "ratings": "4.0",
          "sentiments": 0
         },
         {
          "ratings": "4.0",
          "sentiments": -0.1
         },
         {
          "ratings": "4.0",
          "sentiments": 0.2
         },
         {
          "ratings": "4.0",
          "sentiments": 0.3333333333333333
         },
         {
          "ratings": "4.0",
          "sentiments": 0.04127556204618954
         },
         {
          "ratings": "4.0",
          "sentiments": -0.02708333333333333
         },
         {
          "ratings": "4.0",
          "sentiments": 0.015668716626163436
         },
         {
          "ratings": "4.0",
          "sentiments": 0.08333333333333333
         },
         {
          "ratings": "4.0",
          "sentiments": 0.01245057752796388
         },
         {
          "ratings": "4.0",
          "sentiments": 0.1074074074074074
         },
         {
          "ratings": "4.0",
          "sentiments": 0.09309440559440559
         },
         {
          "ratings": "4.0",
          "sentiments": 0.014145121400023362
         },
         {
          "ratings": "4.0",
          "sentiments": 0.04966329966329966
         },
         {
          "ratings": "4.0",
          "sentiments": 0.1356382978723404
         },
         {
          "ratings": "4.0",
          "sentiments": -0.005143241220091316
         },
         {
          "ratings": "4.0",
          "sentiments": 0.16666666666666666
         },
         {
          "ratings": "4.0",
          "sentiments": 0
         },
         {
          "ratings": "4.0",
          "sentiments": 0.03564937590935844
         },
         {
          "ratings": "4.0",
          "sentiments": 0.024555555555555553
         },
         {
          "ratings": "4.0",
          "sentiments": -0.03492063492063492
         },
         {
          "ratings": "4.0",
          "sentiments": 0.07453529657477026
         },
         {
          "ratings": "4.0",
          "sentiments": -0.01877760765887053
         },
         {
          "ratings": "4.0",
          "sentiments": -0.08333333333333333
         },
         {
          "ratings": "4.0",
          "sentiments": 0.5
         },
         {
          "ratings": "4.0",
          "sentiments": -0.25
         },
         {
          "ratings": "4.0",
          "sentiments": 0.016666666666666677
         },
         {
          "ratings": "4.0",
          "sentiments": 0.047619047619047616
         },
         {
          "ratings": "4.0",
          "sentiments": 0.1
         },
         {
          "ratings": "4.0",
          "sentiments": 0.016625168948698362
         },
         {
          "ratings": "4.0",
          "sentiments": -0.02
         },
         {
          "ratings": "4.0",
          "sentiments": 0.024320987654320992
         },
         {
          "ratings": "4.0",
          "sentiments": 0.003944723050510527
         },
         {
          "ratings": "4.0",
          "sentiments": -0.011904761904761904
         },
         {
          "ratings": "4.0",
          "sentiments": 0.020791245791245788
         },
         {
          "ratings": "5.0",
          "sentiments": 0
         },
         {
          "ratings": "5.0",
          "sentiments": 0.047619047619047616
         },
         {
          "ratings": "5.0",
          "sentiments": 0.10238095238095238
         },
         {
          "ratings": "5.0",
          "sentiments": 0.05
         },
         {
          "ratings": "5.0",
          "sentiments": 0
         },
         {
          "ratings": "5.0",
          "sentiments": 0.2
         },
         {
          "ratings": "5.0",
          "sentiments": 0.3333333333333333
         },
         {
          "ratings": "5.0",
          "sentiments": 0.07346711259754739
         },
         {
          "ratings": "5.0",
          "sentiments": 0.07936507936507936
         },
         {
          "ratings": "5.0",
          "sentiments": 0.027777777777777776
         },
         {
          "ratings": "5.0",
          "sentiments": 0.0286192698495006
         },
         {
          "ratings": "5.0",
          "sentiments": 0.06676554872461304
         },
         {
          "ratings": "5.0",
          "sentiments": 0.05555555555555555
         },
         {
          "ratings": "5.0",
          "sentiments": 0.05555555555555555
         },
         {
          "ratings": "5.0",
          "sentiments": 0.03504273504273504
         },
         {
          "ratings": "5.0",
          "sentiments": 0
         },
         {
          "ratings": "5.0",
          "sentiments": 0
         },
         {
          "ratings": "5.0",
          "sentiments": 0
         },
         {
          "ratings": "5.0",
          "sentiments": 0.125
         },
         {
          "ratings": "5.0",
          "sentiments": 0.16666666666666666
         },
         {
          "ratings": "5.0",
          "sentiments": 0.1111111111111111
         },
         {
          "ratings": "5.0",
          "sentiments": 0.024234693877551023
         },
         {
          "ratings": "5.0",
          "sentiments": 0.10336817653890824
         },
         {
          "ratings": "5.0",
          "sentiments": 0.3333333333333333
         },
         {
          "ratings": "5.0",
          "sentiments": 0.1
         },
         {
          "ratings": "5.0",
          "sentiments": 0.3333333333333333
         },
         {
          "ratings": "5.0",
          "sentiments": 0.041666666666666664
         },
         {
          "ratings": "5.0",
          "sentiments": 0.14285714285714285
         },
         {
          "ratings": "5.0",
          "sentiments": 0
         },
         {
          "ratings": "5.0",
          "sentiments": 1
         },
         {
          "ratings": "5.0",
          "sentiments": 0
         },
         {
          "ratings": "5.0",
          "sentiments": 0.3333333333333333
         },
         {
          "ratings": "5.0",
          "sentiments": 0.5
         },
         {
          "ratings": "5.0",
          "sentiments": 0
         },
         {
          "ratings": "5.0",
          "sentiments": 0.5
         },
         {
          "ratings": "5.0",
          "sentiments": 0.06443431510051426
         },
         {
          "ratings": "5.0",
          "sentiments": 0.08333333333333333
         },
         {
          "ratings": "5.0",
          "sentiments": 0
         },
         {
          "ratings": "5.0",
          "sentiments": 0.14285714285714285
         },
         {
          "ratings": "5.0",
          "sentiments": 0.10833333333333334
         },
         {
          "ratings": "5.0",
          "sentiments": 0
         },
         {
          "ratings": "5.0",
          "sentiments": 0
         },
         {
          "ratings": "5.0",
          "sentiments": 0.3333333333333333
         },
         {
          "ratings": "5.0",
          "sentiments": 0
         },
         {
          "ratings": "5.0",
          "sentiments": 0.06734006734006734
         },
         {
          "ratings": "5.0",
          "sentiments": 0.09090909090909091
         },
         {
          "ratings": "5.0",
          "sentiments": 0
         },
         {
          "ratings": "5.0",
          "sentiments": 0.1111111111111111
         },
         {
          "ratings": "5.0",
          "sentiments": 0
         },
         {
          "ratings": "5.0",
          "sentiments": 0
         },
         {
          "ratings": "5.0",
          "sentiments": 0.011538461538461539
         },
         {
          "ratings": "5.0",
          "sentiments": 0.005175686469423922
         },
         {
          "ratings": "5.0",
          "sentiments": 0
         },
         {
          "ratings": "5.0",
          "sentiments": 0.06197976215116766
         },
         {
          "ratings": "5.0",
          "sentiments": 0.09401709401709402
         },
         {
          "ratings": "5.0",
          "sentiments": 0.25
         },
         {
          "ratings": "5.0",
          "sentiments": 0.06666666666666667
         },
         {
          "ratings": "5.0",
          "sentiments": 0
         },
         {
          "ratings": "5.0",
          "sentiments": 0.125
         },
         {
          "ratings": "5.0",
          "sentiments": 0
         },
         {
          "ratings": "5.0",
          "sentiments": 0.05555555555555555
         },
         {
          "ratings": "5.0",
          "sentiments": 0.041666666666666664
         },
         {
          "ratings": "5.0",
          "sentiments": 0.041666666666666664
         },
         {
          "ratings": "5.0",
          "sentiments": 0.07000207490403569
         },
         {
          "ratings": "5.0",
          "sentiments": 0
         },
         {
          "ratings": "5.0",
          "sentiments": 0.16666666666666666
         },
         {
          "ratings": "5.0",
          "sentiments": 0
         },
         {
          "ratings": "5.0",
          "sentiments": 0.25
         },
         {
          "ratings": "5.0",
          "sentiments": 0.05625
         },
         {
          "ratings": "5.0",
          "sentiments": 0.05
         },
         {
          "ratings": "5.0",
          "sentiments": 0.040689434022767354
         },
         {
          "ratings": "5.0",
          "sentiments": 1
         },
         {
          "ratings": "5.0",
          "sentiments": 0.02393162393162393
         },
         {
          "ratings": "5.0",
          "sentiments": 0
         },
         {
          "ratings": "5.0",
          "sentiments": 0.07142857142857142
         },
         {
          "ratings": "5.0",
          "sentiments": 0.375
         },
         {
          "ratings": "5.0",
          "sentiments": 0.05
         },
         {
          "ratings": "5.0",
          "sentiments": 0
         },
         {
          "ratings": "5.0",
          "sentiments": 0.2
         },
         {
          "ratings": "5.0",
          "sentiments": 0.5
         },
         {
          "ratings": "5.0",
          "sentiments": 0
         },
         {
          "ratings": "5.0",
          "sentiments": 1
         },
         {
          "ratings": "5.0",
          "sentiments": 0.2
         },
         {
          "ratings": "5.0",
          "sentiments": 0.05
         },
         {
          "ratings": "5.0",
          "sentiments": 0.05
         },
         {
          "ratings": "5.0",
          "sentiments": 0.08689024390243902
         },
         {
          "ratings": "5.0",
          "sentiments": 0.043478260869565216
         },
         {
          "ratings": "5.0",
          "sentiments": 0
         },
         {
          "ratings": "5.0",
          "sentiments": 0
         },
         {
          "ratings": "5.0",
          "sentiments": 1
         },
         {
          "ratings": "5.0",
          "sentiments": 0.09761904761904762
         },
         {
          "ratings": "5.0",
          "sentiments": 0.07142857142857142
         },
         {
          "ratings": "5.0",
          "sentiments": 0.06818181818181818
         },
         {
          "ratings": "5.0",
          "sentiments": 0.05555555555555555
         },
         {
          "ratings": "5.0",
          "sentiments": 0.21875
         },
         {
          "ratings": "5.0",
          "sentiments": 0.07225530865703814
         },
         {
          "ratings": "5.0",
          "sentiments": 0
         },
         {
          "ratings": "5.0",
          "sentiments": 0.11111111111111112
         },
         {
          "ratings": "5.0",
          "sentiments": 0.019185013687542024
         },
         {
          "ratings": "5.0",
          "sentiments": 0.013333333333333334
         },
         {
          "ratings": "5.0",
          "sentiments": 0.08712121212121213
         },
         {
          "ratings": "5.0",
          "sentiments": 0
         },
         {
          "ratings": "5.0",
          "sentiments": 0.038837109742682493
         },
         {
          "ratings": "5.0",
          "sentiments": 0
         },
         {
          "ratings": "5.0",
          "sentiments": 0.125
         },
         {
          "ratings": "5.0",
          "sentiments": 0.2
         },
         {
          "ratings": "5.0",
          "sentiments": 0
         },
         {
          "ratings": "5.0",
          "sentiments": 0.25
         },
         {
          "ratings": "5.0",
          "sentiments": 0.06222222222222222
         },
         {
          "ratings": "5.0",
          "sentiments": 0
         },
         {
          "ratings": "5.0",
          "sentiments": 0
         },
         {
          "ratings": "5.0",
          "sentiments": 0
         },
         {
          "ratings": "5.0",
          "sentiments": 0.125
         },
         {
          "ratings": "5.0",
          "sentiments": 0.25
         },
         {
          "ratings": "5.0",
          "sentiments": 0.25
         },
         {
          "ratings": "5.0",
          "sentiments": 0.07539682539682539
         },
         {
          "ratings": "5.0",
          "sentiments": 0.027777777777777776
         },
         {
          "ratings": "5.0",
          "sentiments": 0.09126984126984126
         },
         {
          "ratings": "5.0",
          "sentiments": 0.10663265306122449
         },
         {
          "ratings": "5.0",
          "sentiments": 0.1
         },
         {
          "ratings": "5.0",
          "sentiments": 0.044712885154061625
         },
         {
          "ratings": "5.0",
          "sentiments": 0.2857142857142857
         },
         {
          "ratings": "5.0",
          "sentiments": -0.07692307692307693
         },
         {
          "ratings": "5.0",
          "sentiments": 0
         },
         {
          "ratings": "5.0",
          "sentiments": 0.1012870012870013
         },
         {
          "ratings": "5.0",
          "sentiments": 0.01012871753634045
         },
         {
          "ratings": "5.0",
          "sentiments": 0.01443819666373886
         },
         {
          "ratings": "5.0",
          "sentiments": 0.13333333333333333
         },
         {
          "ratings": "5.0",
          "sentiments": 0
         },
         {
          "ratings": "5.0",
          "sentiments": 1
         },
         {
          "ratings": "5.0",
          "sentiments": 0.08333333333333333
         },
         {
          "ratings": "5.0",
          "sentiments": 0.04141414141414142
         },
         {
          "ratings": "5.0",
          "sentiments": -0.03342483457402812
         },
         {
          "ratings": "5.0",
          "sentiments": 0.2
         },
         {
          "ratings": "5.0",
          "sentiments": 0.010101010101010102
         },
         {
          "ratings": "5.0",
          "sentiments": 0
         },
         {
          "ratings": "5.0",
          "sentiments": 0.16666666666666666
         },
         {
          "ratings": "5.0",
          "sentiments": 0.0625
         },
         {
          "ratings": "5.0",
          "sentiments": 0.08761904761904762
         },
         {
          "ratings": "5.0",
          "sentiments": 0.005902419447311089
         },
         {
          "ratings": "5.0",
          "sentiments": 0
         },
         {
          "ratings": "5.0",
          "sentiments": 0
         },
         {
          "ratings": "5.0",
          "sentiments": 0
         },
         {
          "ratings": "5.0",
          "sentiments": 0
         },
         {
          "ratings": "5.0",
          "sentiments": 0
         },
         {
          "ratings": "5.0",
          "sentiments": -0.25
         },
         {
          "ratings": "5.0",
          "sentiments": 0.5
         },
         {
          "ratings": "5.0",
          "sentiments": 0
         },
         {
          "ratings": "5.0",
          "sentiments": 0.125
         },
         {
          "ratings": "5.0",
          "sentiments": 0.055300999710228914
         },
         {
          "ratings": "5.0",
          "sentiments": 1
         },
         {
          "ratings": "5.0",
          "sentiments": 0.25
         },
         {
          "ratings": "5.0",
          "sentiments": 0.06451612903225806
         },
         {
          "ratings": "5.0",
          "sentiments": 0
         },
         {
          "ratings": "5.0",
          "sentiments": 0.07924077733860342
         },
         {
          "ratings": "5.0",
          "sentiments": 0.25
         },
         {
          "ratings": "5.0",
          "sentiments": 0.09166666666666667
         },
         {
          "ratings": "5.0",
          "sentiments": 0.5
         },
         {
          "ratings": "5.0",
          "sentiments": 0.25
         },
         {
          "ratings": "5.0",
          "sentiments": 0.19047619047619047
         },
         {
          "ratings": "5.0",
          "sentiments": 0.15
         },
         {
          "ratings": "5.0",
          "sentiments": 0
         },
         {
          "ratings": "5.0",
          "sentiments": 0.041524327122153204
         },
         {
          "ratings": "5.0",
          "sentiments": 0.027777777777777776
         },
         {
          "ratings": "5.0",
          "sentiments": 0
         },
         {
          "ratings": "5.0",
          "sentiments": 0.25
         },
         {
          "ratings": "5.0",
          "sentiments": 0
         },
         {
          "ratings": "5.0",
          "sentiments": 1
         },
         {
          "ratings": "5.0",
          "sentiments": 0.09203880914407231
         },
         {
          "ratings": "5.0",
          "sentiments": 0.07407407407407407
         },
         {
          "ratings": "5.0",
          "sentiments": 1
         },
         {
          "ratings": "5.0",
          "sentiments": 0.2857142857142857
         },
         {
          "ratings": "5.0",
          "sentiments": 0
         },
         {
          "ratings": "5.0",
          "sentiments": 0
         },
         {
          "ratings": "5.0",
          "sentiments": -0.007325750273118695
         },
         {
          "ratings": "5.0",
          "sentiments": 0
         },
         {
          "ratings": "5.0",
          "sentiments": 1
         },
         {
          "ratings": "5.0",
          "sentiments": 0
         },
         {
          "ratings": "5.0",
          "sentiments": 0.10366300366300366
         },
         {
          "ratings": "5.0",
          "sentiments": 0.31047619047619046
         },
         {
          "ratings": "5.0",
          "sentiments": 0.05555555555555556
         },
         {
          "ratings": "5.0",
          "sentiments": 1
         },
         {
          "ratings": "5.0",
          "sentiments": 0
         },
         {
          "ratings": "5.0",
          "sentiments": 0.25
         },
         {
          "ratings": "5.0",
          "sentiments": 0.04143418189406448
         },
         {
          "ratings": "5.0",
          "sentiments": 0.04750457875457875
         },
         {
          "ratings": "5.0",
          "sentiments": 0.01852083102083102
         },
         {
          "ratings": "5.0",
          "sentiments": 0.3333333333333333
         },
         {
          "ratings": "5.0",
          "sentiments": 0.014468961024244654
         },
         {
          "ratings": "5.0",
          "sentiments": 0
         },
         {
          "ratings": "5.0",
          "sentiments": 0.2
         },
         {
          "ratings": "5.0",
          "sentiments": 0
         },
         {
          "ratings": "5.0",
          "sentiments": 0
         },
         {
          "ratings": "5.0",
          "sentiments": 0.0067801353985564505
         },
         {
          "ratings": "5.0",
          "sentiments": 0
         },
         {
          "ratings": "5.0",
          "sentiments": 0.07035056446821153
         },
         {
          "ratings": "5.0",
          "sentiments": 0.06599713055954089
         },
         {
          "ratings": "5.0",
          "sentiments": 0.033889117069931286
         },
         {
          "ratings": "5.0",
          "sentiments": 0.125
         },
         {
          "ratings": "5.0",
          "sentiments": 0.015983091801313826
         },
         {
          "ratings": "5.0",
          "sentiments": -0.015000000000000003
         },
         {
          "ratings": "5.0",
          "sentiments": 0.17045454545454547
         },
         {
          "ratings": "5.0",
          "sentiments": 0.07692307692307693
         },
         {
          "ratings": "5.0",
          "sentiments": 0.0623931623931624
         },
         {
          "ratings": "5.0",
          "sentiments": 0.10305958132045089
         },
         {
          "ratings": "5.0",
          "sentiments": 0
         },
         {
          "ratings": "5.0",
          "sentiments": 0.04566798941798942
         },
         {
          "ratings": "5.0",
          "sentiments": 0
         },
         {
          "ratings": "5.0",
          "sentiments": 0.08470912859070753
         },
         {
          "ratings": "5.0",
          "sentiments": 0.058823529411764705
         },
         {
          "ratings": "5.0",
          "sentiments": 0
         },
         {
          "ratings": "5.0",
          "sentiments": 0.06666666666666667
         },
         {
          "ratings": "5.0",
          "sentiments": 0.053738471673254275
         },
         {
          "ratings": "5.0",
          "sentiments": 0.125
         },
         {
          "ratings": "5.0",
          "sentiments": 0
         },
         {
          "ratings": "5.0",
          "sentiments": 0.030057919995396205
         },
         {
          "ratings": "5.0",
          "sentiments": 0.03812636165577342
         },
         {
          "ratings": "5.0",
          "sentiments": -0.007044248438409914
         },
         {
          "ratings": "5.0",
          "sentiments": 0.5
         },
         {
          "ratings": "5.0",
          "sentiments": 0.11671122994652405
         },
         {
          "ratings": "5.0",
          "sentiments": 0
         },
         {
          "ratings": "5.0",
          "sentiments": 0.05769230769230769
         },
         {
          "ratings": "5.0",
          "sentiments": 0
         },
         {
          "ratings": "5.0",
          "sentiments": 0.09259259259259259
         },
         {
          "ratings": "5.0",
          "sentiments": -0.5
         },
         {
          "ratings": "5.0",
          "sentiments": 0.16666666666666666
         },
         {
          "ratings": "5.0",
          "sentiments": 0.15789473684210525
         },
         {
          "ratings": "5.0",
          "sentiments": 0.05263157894736842
         },
         {
          "ratings": "5.0",
          "sentiments": 0.03553921568627451
         },
         {
          "ratings": "5.0",
          "sentiments": 0.019230769230769232
         },
         {
          "ratings": "5.0",
          "sentiments": 0.07713387659039832
         },
         {
          "ratings": "5.0",
          "sentiments": 0.06932773109243698
         },
         {
          "ratings": "5.0",
          "sentiments": 1
         },
         {
          "ratings": "5.0",
          "sentiments": 0.1
         },
         {
          "ratings": "5.0",
          "sentiments": 0.029411764705882353
         },
         {
          "ratings": "5.0",
          "sentiments": 0
         },
         {
          "ratings": "5.0",
          "sentiments": 0.09230769230769231
         },
         {
          "ratings": "5.0",
          "sentiments": 1
         },
         {
          "ratings": "5.0",
          "sentiments": 0.20370370370370372
         },
         {
          "ratings": "5.0",
          "sentiments": 0.020992091480475195
         },
         {
          "ratings": "5.0",
          "sentiments": 0.043402777777777776
         },
         {
          "ratings": "5.0",
          "sentiments": 0.07375201288244766
         },
         {
          "ratings": "5.0",
          "sentiments": 0.25
         },
         {
          "ratings": "5.0",
          "sentiments": -0.11428571428571428
         },
         {
          "ratings": "5.0",
          "sentiments": 0.11666666666666665
         },
         {
          "ratings": "5.0",
          "sentiments": 0.1
         },
         {
          "ratings": "5.0",
          "sentiments": 0.05
         },
         {
          "ratings": "5.0",
          "sentiments": 0.030303030303030304
         },
         {
          "ratings": "5.0",
          "sentiments": 0
         },
         {
          "ratings": "5.0",
          "sentiments": 0.037420479302832245
         },
         {
          "ratings": "5.0",
          "sentiments": 0.16666666666666666
         },
         {
          "ratings": "5.0",
          "sentiments": 0.16666666666666666
         },
         {
          "ratings": "5.0",
          "sentiments": 0.06287363430220574
         },
         {
          "ratings": "5.0",
          "sentiments": 0.03214285714285714
         },
         {
          "ratings": "5.0",
          "sentiments": 0.029518433415354574
         },
         {
          "ratings": "5.0",
          "sentiments": 0.25
         },
         {
          "ratings": "5.0",
          "sentiments": 0
         },
         {
          "ratings": "5.0",
          "sentiments": 0.078125
         },
         {
          "ratings": "5.0",
          "sentiments": 0.5
         },
         {
          "ratings": "5.0",
          "sentiments": 0
         },
         {
          "ratings": "5.0",
          "sentiments": 0
         },
         {
          "ratings": "5.0",
          "sentiments": 0
         },
         {
          "ratings": "5.0",
          "sentiments": 0
         },
         {
          "ratings": "5.0",
          "sentiments": 0.09442409442409441
         },
         {
          "ratings": "5.0",
          "sentiments": -0.06388888888888888
         },
         {
          "ratings": "5.0",
          "sentiments": 0
         },
         {
          "ratings": "5.0",
          "sentiments": 0.16666666666666666
         },
         {
          "ratings": "5.0",
          "sentiments": -0.08928571428571429
         },
         {
          "ratings": "5.0",
          "sentiments": 0.033200459671047906
         },
         {
          "ratings": "5.0",
          "sentiments": 0
         },
         {
          "ratings": "5.0",
          "sentiments": 0.1
         },
         {
          "ratings": "5.0",
          "sentiments": -0.0625
         },
         {
          "ratings": "5.0",
          "sentiments": 0
         },
         {
          "ratings": "5.0",
          "sentiments": -0.0032797321476566777
         },
         {
          "ratings": "5.0",
          "sentiments": 0.25
         },
         {
          "ratings": "5.0",
          "sentiments": 0
         },
         {
          "ratings": "5.0",
          "sentiments": 0.10185185185185186
         },
         {
          "ratings": "5.0",
          "sentiments": 0.08904521404521404
         },
         {
          "ratings": "5.0",
          "sentiments": 0.1
         },
         {
          "ratings": "5.0",
          "sentiments": 0
         },
         {
          "ratings": "5.0",
          "sentiments": 0.09090909090909091
         },
         {
          "ratings": "5.0",
          "sentiments": 0.00790513833992095
         },
         {
          "ratings": "5.0",
          "sentiments": 0.05869380075262428
         },
         {
          "ratings": "5.0",
          "sentiments": 1
         },
         {
          "ratings": "5.0",
          "sentiments": 0.017370129870129872
         },
         {
          "ratings": "5.0",
          "sentiments": 0
         },
         {
          "ratings": "5.0",
          "sentiments": 0
         },
         {
          "ratings": "5.0",
          "sentiments": 0
         },
         {
          "ratings": "5.0",
          "sentiments": 0.125
         },
         {
          "ratings": "5.0",
          "sentiments": 0.03154761904761905
         },
         {
          "ratings": "5.0",
          "sentiments": 0.2
         },
         {
          "ratings": "5.0",
          "sentiments": 0.10515873015873015
         },
         {
          "ratings": "5.0",
          "sentiments": 0.03125
         },
         {
          "ratings": "5.0",
          "sentiments": 0
         },
         {
          "ratings": "5.0",
          "sentiments": 0.5
         },
         {
          "ratings": "5.0",
          "sentiments": 0
         },
         {
          "ratings": "5.0",
          "sentiments": 0.3214285714285714
         },
         {
          "ratings": "5.0",
          "sentiments": 0
         },
         {
          "ratings": "5.0",
          "sentiments": 0.03333333333333333
         },
         {
          "ratings": "5.0",
          "sentiments": 0.05303030303030303
         },
         {
          "ratings": "5.0",
          "sentiments": 0
         },
         {
          "ratings": "5.0",
          "sentiments": 0
         },
         {
          "ratings": "5.0",
          "sentiments": 0.05413267288267287
         },
         {
          "ratings": "5.0",
          "sentiments": 0.17083333333333334
         },
         {
          "ratings": "5.0",
          "sentiments": 0.07763157894736841
         },
         {
          "ratings": "5.0",
          "sentiments": 0.15625
         },
         {
          "ratings": "5.0",
          "sentiments": 0.038461538461538464
         },
         {
          "ratings": "5.0",
          "sentiments": 0.03821733821733822
         },
         {
          "ratings": "5.0",
          "sentiments": 0.12643678160919541
         },
         {
          "ratings": "5.0",
          "sentiments": 1
         },
         {
          "ratings": "5.0",
          "sentiments": 0.16666666666666666
         },
         {
          "ratings": "5.0",
          "sentiments": 0.1111111111111111
         },
         {
          "ratings": "5.0",
          "sentiments": 0
         },
         {
          "ratings": "5.0",
          "sentiments": 0
         },
         {
          "ratings": "5.0",
          "sentiments": 0.0196078431372549
         },
         {
          "ratings": "5.0",
          "sentiments": -0.03157349896480331
         },
         {
          "ratings": "5.0",
          "sentiments": 0.0995879120879121
         },
         {
          "ratings": "5.0",
          "sentiments": 0
         },
         {
          "ratings": "5.0",
          "sentiments": 0
         },
         {
          "ratings": "5.0",
          "sentiments": 0.03389830508474576
         },
         {
          "ratings": "5.0",
          "sentiments": 0.005299707602339175
         },
         {
          "ratings": "5.0",
          "sentiments": 0.14285714285714285
         },
         {
          "ratings": "5.0",
          "sentiments": 0.09523809523809523
         },
         {
          "ratings": "5.0",
          "sentiments": 0
         },
         {
          "ratings": "5.0",
          "sentiments": 0
         },
         {
          "ratings": "5.0",
          "sentiments": 0.09239720643229415
         },
         {
          "ratings": "5.0",
          "sentiments": 0.125
         },
         {
          "ratings": "5.0",
          "sentiments": 0.07692307692307693
         },
         {
          "ratings": "5.0",
          "sentiments": 0.025
         },
         {
          "ratings": "5.0",
          "sentiments": 0.041666666666666664
         },
         {
          "ratings": "5.0",
          "sentiments": 0.1875
         },
         {
          "ratings": "5.0",
          "sentiments": 0
         },
         {
          "ratings": "5.0",
          "sentiments": 0
         },
         {
          "ratings": "5.0",
          "sentiments": 0.02930402930402931
         },
         {
          "ratings": "5.0",
          "sentiments": 0.07792207792207792
         },
         {
          "ratings": "5.0",
          "sentiments": 0.3333333333333333
         },
         {
          "ratings": "5.0",
          "sentiments": 0.07010869565217391
         },
         {
          "ratings": "5.0",
          "sentiments": 0.08712121212121213
         },
         {
          "ratings": "5.0",
          "sentiments": 0.029040404040404044
         },
         {
          "ratings": "5.0",
          "sentiments": 0.05187074829931972
         },
         {
          "ratings": "5.0",
          "sentiments": 0
         },
         {
          "ratings": "5.0",
          "sentiments": 0.5
         },
         {
          "ratings": "5.0",
          "sentiments": 0
         },
         {
          "ratings": "5.0",
          "sentiments": 0.125
         },
         {
          "ratings": "5.0",
          "sentiments": 0
         },
         {
          "ratings": "5.0",
          "sentiments": 0.25
         },
         {
          "ratings": "5.0",
          "sentiments": 0.09285714285714286
         },
         {
          "ratings": "5.0",
          "sentiments": 0.16666666666666666
         },
         {
          "ratings": "5.0",
          "sentiments": 0.125
         },
         {
          "ratings": "5.0",
          "sentiments": 0.5
         },
         {
          "ratings": "5.0",
          "sentiments": 0.09696969696969697
         },
         {
          "ratings": "5.0",
          "sentiments": 0
         },
         {
          "ratings": "5.0",
          "sentiments": 0
         },
         {
          "ratings": "5.0",
          "sentiments": 0.038690476190476185
         },
         {
          "ratings": "5.0",
          "sentiments": 0.05713031017453002
         },
         {
          "ratings": "5.0",
          "sentiments": 0.12222222222222223
         },
         {
          "ratings": "5.0",
          "sentiments": 0
         },
         {
          "ratings": "5.0",
          "sentiments": 0.5
         },
         {
          "ratings": "5.0",
          "sentiments": 0.25
         },
         {
          "ratings": "5.0",
          "sentiments": -0.0026988393923877787
         },
         {
          "ratings": "5.0",
          "sentiments": -0.09375
         },
         {
          "ratings": "5.0",
          "sentiments": 1
         },
         {
          "ratings": "5.0",
          "sentiments": 0.25
         },
         {
          "ratings": "5.0",
          "sentiments": 0
         },
         {
          "ratings": "5.0",
          "sentiments": 0
         },
         {
          "ratings": "5.0",
          "sentiments": 0.06458333333333333
         },
         {
          "ratings": "5.0",
          "sentiments": 0.0386739417989418
         },
         {
          "ratings": "5.0",
          "sentiments": 0.09111721611721613
         },
         {
          "ratings": "5.0",
          "sentiments": 0.2
         },
         {
          "ratings": "5.0",
          "sentiments": -0.17647058823529413
         },
         {
          "ratings": "5.0",
          "sentiments": 1
         },
         {
          "ratings": "5.0",
          "sentiments": 0.07386363636363635
         },
         {
          "ratings": "5.0",
          "sentiments": 0.08333333333333333
         },
         {
          "ratings": "5.0",
          "sentiments": 0.1
         },
         {
          "ratings": "5.0",
          "sentiments": 0.0509410150140436
         },
         {
          "ratings": "5.0",
          "sentiments": 0.5
         },
         {
          "ratings": "5.0",
          "sentiments": 0
         },
         {
          "ratings": "5.0",
          "sentiments": 0.2
         },
         {
          "ratings": "5.0",
          "sentiments": 0.05
         },
         {
          "ratings": "5.0",
          "sentiments": 0.0590909090909091
         },
         {
          "ratings": "5.0",
          "sentiments": 0.04888888888888889
         },
         {
          "ratings": "5.0",
          "sentiments": 0.026666666666666672
         },
         {
          "ratings": "5.0",
          "sentiments": 0.20833333333333331
         },
         {
          "ratings": "5.0",
          "sentiments": 0.08333333333333333
         },
         {
          "ratings": "5.0",
          "sentiments": 0.05263157894736842
         },
         {
          "ratings": "5.0",
          "sentiments": 0
         },
         {
          "ratings": "5.0",
          "sentiments": 1
         },
         {
          "ratings": "5.0",
          "sentiments": 0
         },
         {
          "ratings": "5.0",
          "sentiments": 0
         },
         {
          "ratings": "5.0",
          "sentiments": 0.07692307692307693
         },
         {
          "ratings": "5.0",
          "sentiments": 0
         },
         {
          "ratings": "5.0",
          "sentiments": -0.022301587301587305
         },
         {
          "ratings": "5.0",
          "sentiments": 0.06197175840032983
         },
         {
          "ratings": "5.0",
          "sentiments": 0.2
         },
         {
          "ratings": "5.0",
          "sentiments": 0
         },
         {
          "ratings": "5.0",
          "sentiments": 0
         },
         {
          "ratings": "5.0",
          "sentiments": 0.5
         },
         {
          "ratings": "5.0",
          "sentiments": 0.06349206349206349
         },
         {
          "ratings": "5.0",
          "sentiments": 0.14285714285714285
         },
         {
          "ratings": "5.0",
          "sentiments": 0.22549019607843135
         },
         {
          "ratings": "5.0",
          "sentiments": 0.007957393483709269
         },
         {
          "ratings": "5.0",
          "sentiments": 0
         },
         {
          "ratings": "5.0",
          "sentiments": 0
         },
         {
          "ratings": "5.0",
          "sentiments": 1
         },
         {
          "ratings": "5.0",
          "sentiments": 0.0625
         },
         {
          "ratings": "5.0",
          "sentiments": 0.41666666666666663
         },
         {
          "ratings": "5.0",
          "sentiments": 0
         },
         {
          "ratings": "5.0",
          "sentiments": 0.009096907114336021
         },
         {
          "ratings": "5.0",
          "sentiments": 0.125
         },
         {
          "ratings": "5.0",
          "sentiments": 0.03700657894736842
         },
         {
          "ratings": "5.0",
          "sentiments": 1
         },
         {
          "ratings": "5.0",
          "sentiments": 0
         },
         {
          "ratings": "5.0",
          "sentiments": 0.08125
         },
         {
          "ratings": "5.0",
          "sentiments": 0.5
         },
         {
          "ratings": "5.0",
          "sentiments": 0
         },
         {
          "ratings": "5.0",
          "sentiments": 0.037285755612888834
         },
         {
          "ratings": "5.0",
          "sentiments": 0.0625
         },
         {
          "ratings": "5.0",
          "sentiments": 0.06666666666666667
         },
         {
          "ratings": "5.0",
          "sentiments": 0.03356481481481482
         },
         {
          "ratings": "5.0",
          "sentiments": 0.2
         },
         {
          "ratings": "5.0",
          "sentiments": 0
         },
         {
          "ratings": "5.0",
          "sentiments": 0.1
         },
         {
          "ratings": "5.0",
          "sentiments": 0.04415954415954416
         },
         {
          "ratings": "5.0",
          "sentiments": 0.009523809523809523
         },
         {
          "ratings": "5.0",
          "sentiments": 0.16666666666666666
         },
         {
          "ratings": "5.0",
          "sentiments": 0.07413632119514472
         },
         {
          "ratings": "5.0",
          "sentiments": 0.047619047619047616
         },
         {
          "ratings": "5.0",
          "sentiments": -0.0019943019943019966
         },
         {
          "ratings": "5.0",
          "sentiments": 0.0679029304029304
         },
         {
          "ratings": "5.0",
          "sentiments": 0.08333333333333333
         },
         {
          "ratings": "5.0",
          "sentiments": 0.0625
         },
         {
          "ratings": "5.0",
          "sentiments": 0.42857142857142855
         },
         {
          "ratings": "5.0",
          "sentiments": 0
         },
         {
          "ratings": "5.0",
          "sentiments": 0
         },
         {
          "ratings": "5.0",
          "sentiments": 0.06938775510204082
         },
         {
          "ratings": "5.0",
          "sentiments": 0.041666666666666664
         },
         {
          "ratings": "5.0",
          "sentiments": 0.2
         },
         {
          "ratings": "5.0",
          "sentiments": 0.25
         },
         {
          "ratings": "5.0",
          "sentiments": 0.5
         },
         {
          "ratings": "5.0",
          "sentiments": 0.032863838260029574
         },
         {
          "ratings": "5.0",
          "sentiments": 0.034482758620689655
         },
         {
          "ratings": "5.0",
          "sentiments": 0.075
         },
         {
          "ratings": "5.0",
          "sentiments": 0.0673076923076923
         },
         {
          "ratings": "5.0",
          "sentiments": 0.125
         },
         {
          "ratings": "5.0",
          "sentiments": 0.04138108551238525
         },
         {
          "ratings": "5.0",
          "sentiments": 0.14285714285714285
         },
         {
          "ratings": "5.0",
          "sentiments": 0.02631578947368421
         },
         {
          "ratings": "5.0",
          "sentiments": 0.5833333333333333
         },
         {
          "ratings": "5.0",
          "sentiments": 0.08111885504132725
         },
         {
          "ratings": "5.0",
          "sentiments": 0.026759330452229817
         },
         {
          "ratings": "5.0",
          "sentiments": 1
         },
         {
          "ratings": "5.0",
          "sentiments": 0.041666666666666664
         },
         {
          "ratings": "5.0",
          "sentiments": -0.027777777777777776
         },
         {
          "ratings": "5.0",
          "sentiments": -0.016826506826506826
         },
         {
          "ratings": "5.0",
          "sentiments": 0.1148141074611663
         },
         {
          "ratings": "5.0",
          "sentiments": 0
         },
         {
          "ratings": "5.0",
          "sentiments": 0.5
         },
         {
          "ratings": "5.0",
          "sentiments": 0.13043478260869565
         },
         {
          "ratings": "5.0",
          "sentiments": 0.16346153846153846
         },
         {
          "ratings": "5.0",
          "sentiments": 0.15384615384615385
         },
         {
          "ratings": "5.0",
          "sentiments": 0.05
         },
         {
          "ratings": "5.0",
          "sentiments": 0.14285714285714285
         },
         {
          "ratings": "5.0",
          "sentiments": 0
         },
         {
          "ratings": "5.0",
          "sentiments": 0.2
         },
         {
          "ratings": "5.0",
          "sentiments": -0.07142857142857142
         },
         {
          "ratings": "5.0",
          "sentiments": 0.125
         },
         {
          "ratings": "5.0",
          "sentiments": 0
         },
         {
          "ratings": "5.0",
          "sentiments": 0.05636105188343994
         },
         {
          "ratings": "5.0",
          "sentiments": 0.1111111111111111
         },
         {
          "ratings": "5.0",
          "sentiments": 0.5
         },
         {
          "ratings": "5.0",
          "sentiments": 0.125
         },
         {
          "ratings": "5.0",
          "sentiments": 0.10638297872340426
         },
         {
          "ratings": "5.0",
          "sentiments": 0
         },
         {
          "ratings": "5.0",
          "sentiments": 0
         },
         {
          "ratings": "5.0",
          "sentiments": 0
         },
         {
          "ratings": "5.0",
          "sentiments": 0.03387380593262946
         },
         {
          "ratings": "5.0",
          "sentiments": 0
         },
         {
          "ratings": "5.0",
          "sentiments": 0.2
         },
         {
          "ratings": "5.0",
          "sentiments": 0.05552334943639291
         },
         {
          "ratings": "5.0",
          "sentiments": 0.14285714285714285
         },
         {
          "ratings": "5.0",
          "sentiments": 0.022222222222222223
         },
         {
          "ratings": "5.0",
          "sentiments": 0
         },
         {
          "ratings": "5.0",
          "sentiments": 0.04625600796939469
         },
         {
          "ratings": "5.0",
          "sentiments": 0.013333333333333332
         },
         {
          "ratings": "5.0",
          "sentiments": 0.09090909090909091
         },
         {
          "ratings": "5.0",
          "sentiments": 0
         },
         {
          "ratings": "5.0",
          "sentiments": 0
         },
         {
          "ratings": "5.0",
          "sentiments": 0.125
         },
         {
          "ratings": "5.0",
          "sentiments": 0.041666666666666664
         },
         {
          "ratings": "5.0",
          "sentiments": 0.1111111111111111
         },
         {
          "ratings": "5.0",
          "sentiments": 0.02
         },
         {
          "ratings": "5.0",
          "sentiments": 0.5
         },
         {
          "ratings": "5.0",
          "sentiments": 0
         },
         {
          "ratings": "5.0",
          "sentiments": -0.03333333333333334
         },
         {
          "ratings": "5.0",
          "sentiments": 0.12941176470588237
         },
         {
          "ratings": "5.0",
          "sentiments": 0
         },
         {
          "ratings": "5.0",
          "sentiments": 0.5
         },
         {
          "ratings": "5.0",
          "sentiments": 0
         },
         {
          "ratings": "5.0",
          "sentiments": 0.5
         },
         {
          "ratings": "5.0",
          "sentiments": 0.2
         },
         {
          "ratings": "5.0",
          "sentiments": 0.17777777777777778
         },
         {
          "ratings": "5.0",
          "sentiments": 0.5
         },
         {
          "ratings": "5.0",
          "sentiments": 0.021974553224553228
         },
         {
          "ratings": "5.0",
          "sentiments": 0.06666666666666667
         },
         {
          "ratings": "5.0",
          "sentiments": 0.041724941724941726
         },
         {
          "ratings": "5.0",
          "sentiments": 0.013524841498322565
         },
         {
          "ratings": "5.0",
          "sentiments": 0
         },
         {
          "ratings": "5.0",
          "sentiments": 0.15037593984962405
         },
         {
          "ratings": "5.0",
          "sentiments": 0.030303030303030304
         },
         {
          "ratings": "5.0",
          "sentiments": 0.035068855038367236
         },
         {
          "ratings": "5.0",
          "sentiments": 0
         },
         {
          "ratings": "5.0",
          "sentiments": 0.07142857142857142
         },
         {
          "ratings": "5.0",
          "sentiments": 0.03668073270085152
         },
         {
          "ratings": "5.0",
          "sentiments": 0.07870370370370369
         },
         {
          "ratings": "5.0",
          "sentiments": 0
         },
         {
          "ratings": "5.0",
          "sentiments": 0.5
         },
         {
          "ratings": "5.0",
          "sentiments": 0.10085090348248243
         },
         {
          "ratings": "5.0",
          "sentiments": 0.35714285714285715
         },
         {
          "ratings": "5.0",
          "sentiments": 0.08333333333333333
         },
         {
          "ratings": "5.0",
          "sentiments": 0
         },
         {
          "ratings": "5.0",
          "sentiments": 0.25
         },
         {
          "ratings": "5.0",
          "sentiments": 0.0625
         },
         {
          "ratings": "5.0",
          "sentiments": 0.1
         },
         {
          "ratings": "5.0",
          "sentiments": 1
         },
         {
          "ratings": "5.0",
          "sentiments": 0.11904761904761904
         },
         {
          "ratings": "5.0",
          "sentiments": 0.13515151515151513
         },
         {
          "ratings": "5.0",
          "sentiments": -0.015873015873015872
         },
         {
          "ratings": "5.0",
          "sentiments": 0.012882087578750874
         },
         {
          "ratings": "5.0",
          "sentiments": 0
         },
         {
          "ratings": "5.0",
          "sentiments": 0.06632653061224489
         },
         {
          "ratings": "5.0",
          "sentiments": 0.06452581032412966
         },
         {
          "ratings": "5.0",
          "sentiments": 0.2
         },
         {
          "ratings": "5.0",
          "sentiments": 0.13043478260869565
         },
         {
          "ratings": "5.0",
          "sentiments": 0.017195767195767195
         },
         {
          "ratings": "5.0",
          "sentiments": 0.025000000000000005
         },
         {
          "ratings": "5.0",
          "sentiments": 0.1284722222222222
         },
         {
          "ratings": "5.0",
          "sentiments": 0
         },
         {
          "ratings": "5.0",
          "sentiments": 0.14166666666666666
         },
         {
          "ratings": "5.0",
          "sentiments": 0
         },
         {
          "ratings": "5.0",
          "sentiments": -0.00927536231884058
         },
         {
          "ratings": "5.0",
          "sentiments": 1
         },
         {
          "ratings": "5.0",
          "sentiments": 0
         },
         {
          "ratings": "5.0",
          "sentiments": 0.06666666666666667
         },
         {
          "ratings": "5.0",
          "sentiments": 0.07936507936507936
         },
         {
          "ratings": "5.0",
          "sentiments": 0.10344827586206896
         },
         {
          "ratings": "5.0",
          "sentiments": 0.11875
         },
         {
          "ratings": "5.0",
          "sentiments": 0.060217560217560216
         },
         {
          "ratings": "5.0",
          "sentiments": 0.5
         },
         {
          "ratings": "5.0",
          "sentiments": 0.08002518923571554
         },
         {
          "ratings": "5.0",
          "sentiments": 0
         },
         {
          "ratings": "5.0",
          "sentiments": 0.125
         },
         {
          "ratings": "5.0",
          "sentiments": 0
         },
         {
          "ratings": "5.0",
          "sentiments": 0.07692307692307693
         },
         {
          "ratings": "5.0",
          "sentiments": 0.1
         },
         {
          "ratings": "5.0",
          "sentiments": -0.006775758470000755
         },
         {
          "ratings": "5.0",
          "sentiments": 0.5
         },
         {
          "ratings": "5.0",
          "sentiments": 0.21666666666666667
         },
         {
          "ratings": "5.0",
          "sentiments": 0.020866454689984104
         },
         {
          "ratings": "5.0",
          "sentiments": 0
         },
         {
          "ratings": "5.0",
          "sentiments": 1
         },
         {
          "ratings": "5.0",
          "sentiments": 0
         },
         {
          "ratings": "5.0",
          "sentiments": 0
         },
         {
          "ratings": "5.0",
          "sentiments": -0.06782106782106782
         },
         {
          "ratings": "5.0",
          "sentiments": 0.07242063492063491
         },
         {
          "ratings": "5.0",
          "sentiments": 0
         },
         {
          "ratings": "5.0",
          "sentiments": -0.04176859002710395
         },
         {
          "ratings": "5.0",
          "sentiments": 0
         },
         {
          "ratings": "5.0",
          "sentiments": -0.14285714285714285
         },
         {
          "ratings": "5.0",
          "sentiments": 0
         },
         {
          "ratings": "5.0",
          "sentiments": 0.07692307692307693
         },
         {
          "ratings": "5.0",
          "sentiments": 0
         },
         {
          "ratings": "5.0",
          "sentiments": 0.1127895752895753
         },
         {
          "ratings": "5.0",
          "sentiments": -0.05
         },
         {
          "ratings": "5.0",
          "sentiments": 0.2
         },
         {
          "ratings": "5.0",
          "sentiments": 1
         },
         {
          "ratings": "5.0",
          "sentiments": -0.07142857142857142
         },
         {
          "ratings": "5.0",
          "sentiments": 0.08333333333333333
         },
         {
          "ratings": "5.0",
          "sentiments": 0.16666666666666666
         },
         {
          "ratings": "5.0",
          "sentiments": -0.022222222222222216
         },
         {
          "ratings": "5.0",
          "sentiments": 0.1
         },
         {
          "ratings": "5.0",
          "sentiments": 0.6666666666666666
         },
         {
          "ratings": "5.0",
          "sentiments": 0.038461538461538464
         },
         {
          "ratings": "5.0",
          "sentiments": 0
         },
         {
          "ratings": "5.0",
          "sentiments": 0.024691358024691357
         },
         {
          "ratings": "5.0",
          "sentiments": 0
         },
         {
          "ratings": "5.0",
          "sentiments": 0.10192307692307692
         },
         {
          "ratings": "5.0",
          "sentiments": 0
         },
         {
          "ratings": "5.0",
          "sentiments": -0.03474610974610974
         },
         {
          "ratings": "5.0",
          "sentiments": 0.14285714285714285
         },
         {
          "ratings": "5.0",
          "sentiments": 0.3125
         },
         {
          "ratings": "5.0",
          "sentiments": 0.14285714285714285
         },
         {
          "ratings": "5.0",
          "sentiments": 0
         },
         {
          "ratings": "5.0",
          "sentiments": 0
         },
         {
          "ratings": "5.0",
          "sentiments": 0.25
         },
         {
          "ratings": "5.0",
          "sentiments": 0.1111111111111111
         },
         {
          "ratings": "5.0",
          "sentiments": 0.35
         },
         {
          "ratings": "5.0",
          "sentiments": 0.07692307692307693
         },
         {
          "ratings": "5.0",
          "sentiments": -0.024999999999999994
         },
         {
          "ratings": "5.0",
          "sentiments": 0.13846153846153847
         },
         {
          "ratings": "5.0",
          "sentiments": 0.2
         },
         {
          "ratings": "5.0",
          "sentiments": 0.5
         },
         {
          "ratings": "5.0",
          "sentiments": 0.08333333333333333
         },
         {
          "ratings": "5.0",
          "sentiments": 0.14285714285714285
         },
         {
          "ratings": "5.0",
          "sentiments": 0.2222222222222222
         },
         {
          "ratings": "5.0",
          "sentiments": 0.08608058608058608
         },
         {
          "ratings": "5.0",
          "sentiments": 0.013828079681608024
         },
         {
          "ratings": "5.0",
          "sentiments": 0.5
         },
         {
          "ratings": "5.0",
          "sentiments": 0.027777777777777776
         },
         {
          "ratings": "5.0",
          "sentiments": 0.011904761904761904
         },
         {
          "ratings": "5.0",
          "sentiments": 0
         },
         {
          "ratings": "5.0",
          "sentiments": 0.2934782608695652
         },
         {
          "ratings": "5.0",
          "sentiments": 0
         },
         {
          "ratings": "5.0",
          "sentiments": 0.036222915156738686
         },
         {
          "ratings": "5.0",
          "sentiments": 0.1
         },
         {
          "ratings": "5.0",
          "sentiments": 0.07692307692307693
         },
         {
          "ratings": "5.0",
          "sentiments": 0.08453996983408749
         },
         {
          "ratings": "5.0",
          "sentiments": 0.18055555555555555
         },
         {
          "ratings": "5.0",
          "sentiments": 0
         },
         {
          "ratings": "5.0",
          "sentiments": 0
         },
         {
          "ratings": "5.0",
          "sentiments": 0
         },
         {
          "ratings": "5.0",
          "sentiments": 0.058823529411764705
         },
         {
          "ratings": "5.0",
          "sentiments": 0
         },
         {
          "ratings": "5.0",
          "sentiments": 0
         },
         {
          "ratings": "5.0",
          "sentiments": -0.03609093056314632
         },
         {
          "ratings": "5.0",
          "sentiments": 0.1111111111111111
         },
         {
          "ratings": "5.0",
          "sentiments": 0
         },
         {
          "ratings": "5.0",
          "sentiments": 0.034999999999999996
         },
         {
          "ratings": "5.0",
          "sentiments": 0.5
         },
         {
          "ratings": "5.0",
          "sentiments": 0
         },
         {
          "ratings": "5.0",
          "sentiments": 0.07035056446821153
         },
         {
          "ratings": "5.0",
          "sentiments": 0.05555555555555556
         },
         {
          "ratings": "5.0",
          "sentiments": 0.02789416476394981
         },
         {
          "ratings": "5.0",
          "sentiments": 0.1423611111111111
         },
         {
          "ratings": "5.0",
          "sentiments": 0.0005451681052566585
         },
         {
          "ratings": "5.0",
          "sentiments": 0.1111111111111111
         },
         {
          "ratings": "5.0",
          "sentiments": 0.15625
         },
         {
          "ratings": "5.0",
          "sentiments": 0.25
         },
         {
          "ratings": "5.0",
          "sentiments": 0.16666666666666666
         },
         {
          "ratings": "5.0",
          "sentiments": 0
         },
         {
          "ratings": "5.0",
          "sentiments": 0.06623931623931624
         },
         {
          "ratings": "5.0",
          "sentiments": 0.014814814814814817
         },
         {
          "ratings": "5.0",
          "sentiments": 0
         },
         {
          "ratings": "5.0",
          "sentiments": 0.010822510822510824
         },
         {
          "ratings": "5.0",
          "sentiments": -0.030303030303030304
         },
         {
          "ratings": "5.0",
          "sentiments": 0
         },
         {
          "ratings": "5.0",
          "sentiments": 0.10526315789473684
         },
         {
          "ratings": "5.0",
          "sentiments": 0.25
         },
         {
          "ratings": "5.0",
          "sentiments": 0
         },
         {
          "ratings": "5.0",
          "sentiments": 0.09505494505494505
         },
         {
          "ratings": "5.0",
          "sentiments": 0.42857142857142855
         },
         {
          "ratings": "5.0",
          "sentiments": 0.16666666666666666
         },
         {
          "ratings": "5.0",
          "sentiments": 0.09090909090909091
         },
         {
          "ratings": "5.0",
          "sentiments": 0.125
         },
         {
          "ratings": "5.0",
          "sentiments": 0
         },
         {
          "ratings": "5.0",
          "sentiments": 0.125
         },
         {
          "ratings": "5.0",
          "sentiments": 0
         },
         {
          "ratings": "5.0",
          "sentiments": 0
         },
         {
          "ratings": "5.0",
          "sentiments": 0
         },
         {
          "ratings": "5.0",
          "sentiments": 0.07453992666815944
         },
         {
          "ratings": "5.0",
          "sentiments": 0
         },
         {
          "ratings": "5.0",
          "sentiments": -0.034482758620689655
         },
         {
          "ratings": "5.0",
          "sentiments": 0.07323232323232323
         },
         {
          "ratings": "5.0",
          "sentiments": 0.07587412587412587
         },
         {
          "ratings": "5.0",
          "sentiments": 0.00893719806763285
         },
         {
          "ratings": "5.0",
          "sentiments": -0.15384615384615385
         },
         {
          "ratings": "5.0",
          "sentiments": 0
         },
         {
          "ratings": "5.0",
          "sentiments": 0
         },
         {
          "ratings": "5.0",
          "sentiments": 0.3333333333333333
         },
         {
          "ratings": "5.0",
          "sentiments": 0.023504273504273504
         },
         {
          "ratings": "5.0",
          "sentiments": 0.05
         },
         {
          "ratings": "5.0",
          "sentiments": 0.3333333333333333
         },
         {
          "ratings": "5.0",
          "sentiments": 0.11212121212121212
         },
         {
          "ratings": "5.0",
          "sentiments": 0.10526315789473684
         },
         {
          "ratings": "5.0",
          "sentiments": 0
         },
         {
          "ratings": "5.0",
          "sentiments": 0.09706959706959706
         },
         {
          "ratings": "5.0",
          "sentiments": 0.0559477756286267
         },
         {
          "ratings": "5.0",
          "sentiments": 0.179004329004329
         },
         {
          "ratings": "5.0",
          "sentiments": 0.1
         },
         {
          "ratings": "5.0",
          "sentiments": 0.03645264355742296
         },
         {
          "ratings": "5.0",
          "sentiments": -0.03571428571428571
         },
         {
          "ratings": "5.0",
          "sentiments": 0
         },
         {
          "ratings": "5.0",
          "sentiments": 0
         },
         {
          "ratings": "5.0",
          "sentiments": 0
         },
         {
          "ratings": "5.0",
          "sentiments": 0.05
         },
         {
          "ratings": "5.0",
          "sentiments": 0.06958391113295638
         },
         {
          "ratings": "5.0",
          "sentiments": 0
         },
         {
          "ratings": "5.0",
          "sentiments": -0.1
         },
         {
          "ratings": "5.0",
          "sentiments": 0
         },
         {
          "ratings": "5.0",
          "sentiments": 0.020833333333333332
         },
         {
          "ratings": "5.0",
          "sentiments": 0.09523809523809523
         },
         {
          "ratings": "5.0",
          "sentiments": 0.05115089514066496
         },
         {
          "ratings": "5.0",
          "sentiments": 0.024870689655172418
         },
         {
          "ratings": "5.0",
          "sentiments": 1
         },
         {
          "ratings": "5.0",
          "sentiments": 0
         },
         {
          "ratings": "5.0",
          "sentiments": 0.19833333333333333
         },
         {
          "ratings": "5.0",
          "sentiments": -0.009647804990942246
         },
         {
          "ratings": "5.0",
          "sentiments": 0
         },
         {
          "ratings": "5.0",
          "sentiments": 0
         },
         {
          "ratings": "5.0",
          "sentiments": 0
         },
         {
          "ratings": "5.0",
          "sentiments": 0.14285714285714285
         },
         {
          "ratings": "5.0",
          "sentiments": 0.16
         },
         {
          "ratings": "5.0",
          "sentiments": 0.2857142857142857
         },
         {
          "ratings": "5.0",
          "sentiments": 0
         },
         {
          "ratings": "5.0",
          "sentiments": 0
         },
         {
          "ratings": "5.0",
          "sentiments": 0.23125
         },
         {
          "ratings": "5.0",
          "sentiments": 0.014768740031897926
         },
         {
          "ratings": "5.0",
          "sentiments": 0.03324499889515369
         },
         {
          "ratings": "5.0",
          "sentiments": 0.18030303030303033
         },
         {
          "ratings": "5.0",
          "sentiments": 0
         },
         {
          "ratings": "5.0",
          "sentiments": 0
         },
         {
          "ratings": "5.0",
          "sentiments": 0.14285714285714285
         },
         {
          "ratings": "5.0",
          "sentiments": 0
         },
         {
          "ratings": "5.0",
          "sentiments": 0.13043478260869565
         },
         {
          "ratings": "5.0",
          "sentiments": 0.25
         },
         {
          "ratings": "5.0",
          "sentiments": 0.125
         },
         {
          "ratings": "5.0",
          "sentiments": 0.4
         },
         {
          "ratings": "5.0",
          "sentiments": 0.03304602362506774
         },
         {
          "ratings": "5.0",
          "sentiments": 0
         },
         {
          "ratings": "5.0",
          "sentiments": 1
         },
         {
          "ratings": "5.0",
          "sentiments": 0.02639485651185159
         },
         {
          "ratings": "5.0",
          "sentiments": -0.5
         },
         {
          "ratings": "5.0",
          "sentiments": 0.3333333333333333
         },
         {
          "ratings": "5.0",
          "sentiments": 0
         },
         {
          "ratings": "5.0",
          "sentiments": 0.049999999999999996
         },
         {
          "ratings": "5.0",
          "sentiments": 0.3333333333333333
         },
         {
          "ratings": "5.0",
          "sentiments": 0.12698412698412698
         },
         {
          "ratings": "5.0",
          "sentiments": 0
         },
         {
          "ratings": "5.0",
          "sentiments": 0
         },
         {
          "ratings": "5.0",
          "sentiments": 0.375
         },
         {
          "ratings": "5.0",
          "sentiments": 0.1
         },
         {
          "ratings": "5.0",
          "sentiments": 0.6666666666666666
         },
         {
          "ratings": "5.0",
          "sentiments": 0
         },
         {
          "ratings": "5.0",
          "sentiments": 0.07541916846483411
         },
         {
          "ratings": "5.0",
          "sentiments": -0.038461538461538464
         },
         {
          "ratings": "5.0",
          "sentiments": 1
         },
         {
          "ratings": "5.0",
          "sentiments": 0
         },
         {
          "ratings": "5.0",
          "sentiments": 0.5
         },
         {
          "ratings": "5.0",
          "sentiments": -0.05555555555555555
         },
         {
          "ratings": "5.0",
          "sentiments": 0.1438697318007663
         },
         {
          "ratings": "5.0",
          "sentiments": 0.09419642857142857
         },
         {
          "ratings": "5.0",
          "sentiments": 0.25
         },
         {
          "ratings": "5.0",
          "sentiments": 0.05555555555555555
         },
         {
          "ratings": "5.0",
          "sentiments": 0
         },
         {
          "ratings": "5.0",
          "sentiments": 0.08333333333333333
         },
         {
          "ratings": "5.0",
          "sentiments": 0.14285714285714285
         },
         {
          "ratings": "5.0",
          "sentiments": 0.09090909090909091
         },
         {
          "ratings": "5.0",
          "sentiments": 0.010525748761042878
         },
         {
          "ratings": "5.0",
          "sentiments": 0.25
         },
         {
          "ratings": "5.0",
          "sentiments": 0.3333333333333333
         },
         {
          "ratings": "5.0",
          "sentiments": 0.04887218045112782
         },
         {
          "ratings": "5.0",
          "sentiments": 0.044940476190476183
         },
         {
          "ratings": "5.0",
          "sentiments": 0.125
         },
         {
          "ratings": "5.0",
          "sentiments": 0.05
         },
         {
          "ratings": "5.0",
          "sentiments": 0.25
         },
         {
          "ratings": "5.0",
          "sentiments": 0
         },
         {
          "ratings": "5.0",
          "sentiments": 0
         },
         {
          "ratings": "5.0",
          "sentiments": 0.0625
         },
         {
          "ratings": "5.0",
          "sentiments": 0
         },
         {
          "ratings": "5.0",
          "sentiments": 0
         },
         {
          "ratings": "5.0",
          "sentiments": 0
         },
         {
          "ratings": "5.0",
          "sentiments": 0.25
         },
         {
          "ratings": "5.0",
          "sentiments": 0.125
         },
         {
          "ratings": "5.0",
          "sentiments": -0.043478260869565216
         },
         {
          "ratings": "5.0",
          "sentiments": 0.5
         },
         {
          "ratings": "5.0",
          "sentiments": 0.020613966038802643
         },
         {
          "ratings": "5.0",
          "sentiments": 0.25
         },
         {
          "ratings": "5.0",
          "sentiments": 0.3333333333333333
         },
         {
          "ratings": "5.0",
          "sentiments": 0
         },
         {
          "ratings": "5.0",
          "sentiments": 0
         },
         {
          "ratings": "5.0",
          "sentiments": 0
         },
         {
          "ratings": "5.0",
          "sentiments": 0.2074074074074074
         },
         {
          "ratings": "5.0",
          "sentiments": 0.14285714285714285
         },
         {
          "ratings": "5.0",
          "sentiments": 0.03477443609022556
         },
         {
          "ratings": "5.0",
          "sentiments": 0
         },
         {
          "ratings": "5.0",
          "sentiments": 0.3333333333333333
         },
         {
          "ratings": "5.0",
          "sentiments": 0.5
         },
         {
          "ratings": "5.0",
          "sentiments": 1
         },
         {
          "ratings": "5.0",
          "sentiments": 0.08888888888888889
         },
         {
          "ratings": "5.0",
          "sentiments": 0
         },
         {
          "ratings": "5.0",
          "sentiments": 0.029884453781512606
         },
         {
          "ratings": "5.0",
          "sentiments": 0.3333333333333333
         },
         {
          "ratings": "5.0",
          "sentiments": 0.5
         },
         {
          "ratings": "5.0",
          "sentiments": 0.025264833049803495
         },
         {
          "ratings": "5.0",
          "sentiments": 0.05555555555555555
         },
         {
          "ratings": "5.0",
          "sentiments": 0
         },
         {
          "ratings": "5.0",
          "sentiments": 0
         },
         {
          "ratings": "5.0",
          "sentiments": 0
         },
         {
          "ratings": "5.0",
          "sentiments": 0
         },
         {
          "ratings": "5.0",
          "sentiments": 0
         },
         {
          "ratings": "5.0",
          "sentiments": 0.015384615384615385
         },
         {
          "ratings": "5.0",
          "sentiments": 0
         },
         {
          "ratings": "5.0",
          "sentiments": 0.16666666666666666
         },
         {
          "ratings": "5.0",
          "sentiments": 0.06060606060606061
         },
         {
          "ratings": "5.0",
          "sentiments": 0.02750955012439214
         },
         {
          "ratings": "5.0",
          "sentiments": 1
         },
         {
          "ratings": "5.0",
          "sentiments": 0.035437430786267994
         },
         {
          "ratings": "5.0",
          "sentiments": 0
         },
         {
          "ratings": "5.0",
          "sentiments": 0.14285714285714285
         },
         {
          "ratings": "5.0",
          "sentiments": -0.0064044639594968405
         },
         {
          "ratings": "5.0",
          "sentiments": 0.020833333333333332
         },
         {
          "ratings": "5.0",
          "sentiments": 0
         },
         {
          "ratings": "5.0",
          "sentiments": 0
         },
         {
          "ratings": "5.0",
          "sentiments": 0
         },
         {
          "ratings": "5.0",
          "sentiments": 0.25
         },
         {
          "ratings": "5.0",
          "sentiments": 0
         },
         {
          "ratings": "5.0",
          "sentiments": -0.08333333333333333
         },
         {
          "ratings": "5.0",
          "sentiments": 0.11309523809523808
         },
         {
          "ratings": "5.0",
          "sentiments": 0.08333333333333333
         },
         {
          "ratings": "5.0",
          "sentiments": 0.2857142857142857
         },
         {
          "ratings": "5.0",
          "sentiments": 0.049305555555555554
         },
         {
          "ratings": "5.0",
          "sentiments": 0.125
         },
         {
          "ratings": "5.0",
          "sentiments": 0
         },
         {
          "ratings": "5.0",
          "sentiments": -0.028011204481792715
         },
         {
          "ratings": "5.0",
          "sentiments": 0.032196969696969696
         },
         {
          "ratings": "5.0",
          "sentiments": 0.25
         },
         {
          "ratings": "5.0",
          "sentiments": 0
         },
         {
          "ratings": "5.0",
          "sentiments": 0.05089285714285714
         },
         {
          "ratings": "5.0",
          "sentiments": 0.09042606516290727
         },
         {
          "ratings": "5.0",
          "sentiments": 0
         },
         {
          "ratings": "5.0",
          "sentiments": 0.25
         },
         {
          "ratings": "5.0",
          "sentiments": 0.02631578947368421
         },
         {
          "ratings": "5.0",
          "sentiments": 0
         },
         {
          "ratings": "5.0",
          "sentiments": 0.13793103448275862
         },
         {
          "ratings": "5.0",
          "sentiments": 0
         },
         {
          "ratings": "5.0",
          "sentiments": 0
         },
         {
          "ratings": "5.0",
          "sentiments": 0.14285714285714285
         },
         {
          "ratings": "5.0",
          "sentiments": 0.14285714285714285
         },
         {
          "ratings": "5.0",
          "sentiments": 0.05399719495091164
         },
         {
          "ratings": "5.0",
          "sentiments": 0.2
         },
         {
          "ratings": "5.0",
          "sentiments": 0
         },
         {
          "ratings": "5.0",
          "sentiments": 0.16666666666666666
         },
         {
          "ratings": "5.0",
          "sentiments": 0
         },
         {
          "ratings": "5.0",
          "sentiments": 0.125
         },
         {
          "ratings": "5.0",
          "sentiments": -0.25
         },
         {
          "ratings": "5.0",
          "sentiments": -0.07692307692307693
         },
         {
          "ratings": "5.0",
          "sentiments": 0
         },
         {
          "ratings": "5.0",
          "sentiments": 0.047619047619047616
         },
         {
          "ratings": "5.0",
          "sentiments": 0.023395004497718024
         },
         {
          "ratings": "5.0",
          "sentiments": -0.017764857881136954
         },
         {
          "ratings": "5.0",
          "sentiments": 0.042550310602657765
         },
         {
          "ratings": "5.0",
          "sentiments": 0.25
         },
         {
          "ratings": "5.0",
          "sentiments": 0
         },
         {
          "ratings": "5.0",
          "sentiments": 0
         },
         {
          "ratings": "5.0",
          "sentiments": -0.0030864197530864196
         },
         {
          "ratings": "5.0",
          "sentiments": 0.07145969498910676
         },
         {
          "ratings": "5.0",
          "sentiments": 0.051630434782608696
         },
         {
          "ratings": "5.0",
          "sentiments": -0.017094017094017092
         },
         {
          "ratings": "5.0",
          "sentiments": 0.3333333333333333
         },
         {
          "ratings": "5.0",
          "sentiments": 0.125
         },
         {
          "ratings": "5.0",
          "sentiments": 0.05175894281157439
         },
         {
          "ratings": "5.0",
          "sentiments": 0.019284636931695756
         },
         {
          "ratings": "5.0",
          "sentiments": 0.03157649752918295
         },
         {
          "ratings": "5.0",
          "sentiments": 0.08294051627384962
         },
         {
          "ratings": "5.0",
          "sentiments": 0.05553998837221137
         },
         {
          "ratings": "5.0",
          "sentiments": 0.058823529411764705
         },
         {
          "ratings": "5.0",
          "sentiments": 0.05555555555555555
         },
         {
          "ratings": "5.0",
          "sentiments": 0
         },
         {
          "ratings": "5.0",
          "sentiments": 0.14285714285714285
         },
         {
          "ratings": "5.0",
          "sentiments": 0.09292929292929293
         },
         {
          "ratings": "5.0",
          "sentiments": 0.06153846153846154
         },
         {
          "ratings": "5.0",
          "sentiments": 0
         },
         {
          "ratings": "5.0",
          "sentiments": 0.04288699805941185
         },
         {
          "ratings": "5.0",
          "sentiments": 0.16666666666666666
         },
         {
          "ratings": "5.0",
          "sentiments": 0
         },
         {
          "ratings": "5.0",
          "sentiments": 0.1111111111111111
         },
         {
          "ratings": "5.0",
          "sentiments": 0
         },
         {
          "ratings": "5.0",
          "sentiments": 0
         },
         {
          "ratings": "5.0",
          "sentiments": 0.6666666666666666
         },
         {
          "ratings": "5.0",
          "sentiments": 0.07539682539682539
         },
         {
          "ratings": "5.0",
          "sentiments": -0.008333333333333338
         },
         {
          "ratings": "5.0",
          "sentiments": 0.2
         },
         {
          "ratings": "5.0",
          "sentiments": 1
         },
         {
          "ratings": "5.0",
          "sentiments": 0.02857142857142857
         },
         {
          "ratings": "5.0",
          "sentiments": 0.038687735195088134
         },
         {
          "ratings": "5.0",
          "sentiments": 0.05
         },
         {
          "ratings": "5.0",
          "sentiments": 0.14285714285714285
         },
         {
          "ratings": "5.0",
          "sentiments": 0.16666666666666666
         },
         {
          "ratings": "5.0",
          "sentiments": 0
         },
         {
          "ratings": "5.0",
          "sentiments": 0.3333333333333333
         },
         {
          "ratings": "5.0",
          "sentiments": 0.14285714285714285
         },
         {
          "ratings": "5.0",
          "sentiments": 0.04411764705882353
         },
         {
          "ratings": "5.0",
          "sentiments": 0.2
         },
         {
          "ratings": "5.0",
          "sentiments": 0.2
         },
         {
          "ratings": "5.0",
          "sentiments": 0.023809523809523808
         },
         {
          "ratings": "5.0",
          "sentiments": 0
         },
         {
          "ratings": "5.0",
          "sentiments": 0.16845238095238094
         },
         {
          "ratings": "5.0",
          "sentiments": 0.005208333333333332
         },
         {
          "ratings": "5.0",
          "sentiments": 0.13846153846153847
         },
         {
          "ratings": "5.0",
          "sentiments": 0.05277777777777778
         },
         {
          "ratings": "5.0",
          "sentiments": 0.08333333333333333
         },
         {
          "ratings": "5.0",
          "sentiments": 0.12535612535612536
         },
         {
          "ratings": "5.0",
          "sentiments": 0.045454545454545456
         },
         {
          "ratings": "5.0",
          "sentiments": 0.3055555555555556
         },
         {
          "ratings": "5.0",
          "sentiments": 0.05892857142857143
         },
         {
          "ratings": "5.0",
          "sentiments": 0.2
         },
         {
          "ratings": "5.0",
          "sentiments": 0.25
         },
         {
          "ratings": "5.0",
          "sentiments": 0.05844155844155844
         },
         {
          "ratings": "5.0",
          "sentiments": 0
         },
         {
          "ratings": "5.0",
          "sentiments": 1
         },
         {
          "ratings": "5.0",
          "sentiments": 0
         },
         {
          "ratings": "5.0",
          "sentiments": 0.10144927536231885
         },
         {
          "ratings": "5.0",
          "sentiments": 0.1
         },
         {
          "ratings": "5.0",
          "sentiments": 0.3846153846153846
         },
         {
          "ratings": "5.0",
          "sentiments": 1
         },
         {
          "ratings": "5.0",
          "sentiments": 0.5
         },
         {
          "ratings": "5.0",
          "sentiments": 0
         },
         {
          "ratings": "5.0",
          "sentiments": 0.4
         },
         {
          "ratings": "5.0",
          "sentiments": 0.050477573532493436
         },
         {
          "ratings": "5.0",
          "sentiments": 0.2222222222222222
         },
         {
          "ratings": "5.0",
          "sentiments": 0.12222222222222223
         },
         {
          "ratings": "5.0",
          "sentiments": 0.04158215010141988
         },
         {
          "ratings": "5.0",
          "sentiments": 0
         },
         {
          "ratings": "5.0",
          "sentiments": 0
         },
         {
          "ratings": "5.0",
          "sentiments": 0.08823529411764706
         },
         {
          "ratings": "5.0",
          "sentiments": 0
         },
         {
          "ratings": "5.0",
          "sentiments": 0.1
         },
         {
          "ratings": "5.0",
          "sentiments": 0.00930091830827125
         },
         {
          "ratings": "5.0",
          "sentiments": 0.047619047619047616
         },
         {
          "ratings": "5.0",
          "sentiments": 0.14285714285714285
         },
         {
          "ratings": "5.0",
          "sentiments": 0.09447496947496947
         },
         {
          "ratings": "5.0",
          "sentiments": -0.00020634747029684878
         },
         {
          "ratings": "5.0",
          "sentiments": 0.02857142857142857
         },
         {
          "ratings": "5.0",
          "sentiments": 0.06792929292929294
         },
         {
          "ratings": "5.0",
          "sentiments": 0.022417153996101363
         },
         {
          "ratings": "5.0",
          "sentiments": 0.06365740740740741
         },
         {
          "ratings": "5.0",
          "sentiments": 0.1336700336700337
         },
         {
          "ratings": "5.0",
          "sentiments": 0.05208333333333333
         },
         {
          "ratings": "5.0",
          "sentiments": 0.08333333333333333
         },
         {
          "ratings": "5.0",
          "sentiments": 0
         },
         {
          "ratings": "5.0",
          "sentiments": 0.07638888888888888
         },
         {
          "ratings": "5.0",
          "sentiments": 0.0625
         },
         {
          "ratings": "5.0",
          "sentiments": 0
         },
         {
          "ratings": "5.0",
          "sentiments": 0.06130718954248367
         },
         {
          "ratings": "5.0",
          "sentiments": 0
         },
         {
          "ratings": "5.0",
          "sentiments": 0.12333333333333332
         },
         {
          "ratings": "5.0",
          "sentiments": -0.05714285714285714
         },
         {
          "ratings": "5.0",
          "sentiments": 0.5
         },
         {
          "ratings": "5.0",
          "sentiments": 0
         },
         {
          "ratings": "5.0",
          "sentiments": 0.045105820105820114
         },
         {
          "ratings": "5.0",
          "sentiments": 0.034058956916099774
         },
         {
          "ratings": "5.0",
          "sentiments": 0.5
         },
         {
          "ratings": "5.0",
          "sentiments": 0
         },
         {
          "ratings": "5.0",
          "sentiments": 0
         },
         {
          "ratings": "5.0",
          "sentiments": 0.051830663615560636
         },
         {
          "ratings": "5.0",
          "sentiments": 0.025641025641025644
         },
         {
          "ratings": "5.0",
          "sentiments": 0
         },
         {
          "ratings": "5.0",
          "sentiments": 0.23412698412698413
         },
         {
          "ratings": "5.0",
          "sentiments": 0.07193574399456751
         },
         {
          "ratings": "5.0",
          "sentiments": 0.125
         },
         {
          "ratings": "5.0",
          "sentiments": 0.06702194745673005
         },
         {
          "ratings": "5.0",
          "sentiments": 0.5
         },
         {
          "ratings": "5.0",
          "sentiments": 0.07142857142857142
         },
         {
          "ratings": "5.0",
          "sentiments": 0.05128205128205128
         },
         {
          "ratings": "5.0",
          "sentiments": 0.2
         },
         {
          "ratings": "5.0",
          "sentiments": 0.18333333333333335
         },
         {
          "ratings": "5.0",
          "sentiments": 0.16666666666666666
         },
         {
          "ratings": "5.0",
          "sentiments": 0.13214285714285715
         },
         {
          "ratings": "5.0",
          "sentiments": 1
         },
         {
          "ratings": "5.0",
          "sentiments": 0.04818181818181818
         },
         {
          "ratings": "5.0",
          "sentiments": 0.08823529411764706
         },
         {
          "ratings": "5.0",
          "sentiments": 0
         },
         {
          "ratings": "5.0",
          "sentiments": 0.08333333333333333
         },
         {
          "ratings": "5.0",
          "sentiments": 0.25
         },
         {
          "ratings": "5.0",
          "sentiments": 0.5
         },
         {
          "ratings": "5.0",
          "sentiments": 0
         },
         {
          "ratings": "5.0",
          "sentiments": 0.02733946565989909
         },
         {
          "ratings": "5.0",
          "sentiments": 0.06098901098901098
         },
         {
          "ratings": "5.0",
          "sentiments": 0.16666666666666666
         },
         {
          "ratings": "5.0",
          "sentiments": 0.07692307692307693
         },
         {
          "ratings": "5.0",
          "sentiments": 0.11805555555555555
         },
         {
          "ratings": "5.0",
          "sentiments": 0.06584440351378021
         },
         {
          "ratings": "5.0",
          "sentiments": 0.03467927769398358
         },
         {
          "ratings": "5.0",
          "sentiments": 0.07692307692307693
         },
         {
          "ratings": "5.0",
          "sentiments": 0.07965367965367964
         },
         {
          "ratings": "5.0",
          "sentiments": -0.010695187165775402
         },
         {
          "ratings": "5.0",
          "sentiments": -0.020850788995950286
         },
         {
          "ratings": "5.0",
          "sentiments": 0.16666666666666666
         },
         {
          "ratings": "5.0",
          "sentiments": 0
         },
         {
          "ratings": "5.0",
          "sentiments": 0.16666666666666666
         },
         {
          "ratings": "5.0",
          "sentiments": 1
         },
         {
          "ratings": "5.0",
          "sentiments": -0.023569023569023573
         },
         {
          "ratings": "5.0",
          "sentiments": 0.05808080808080807
         },
         {
          "ratings": "5.0",
          "sentiments": 0.1625
         },
         {
          "ratings": "5.0",
          "sentiments": 0.21428571428571427
         },
         {
          "ratings": "5.0",
          "sentiments": 0.12909709338280767
         },
         {
          "ratings": "5.0",
          "sentiments": 0.09696969696969697
         },
         {
          "ratings": "5.0",
          "sentiments": 0.3333333333333333
         },
         {
          "ratings": "5.0",
          "sentiments": 0.5
         },
         {
          "ratings": "5.0",
          "sentiments": 0.25
         },
         {
          "ratings": "5.0",
          "sentiments": 0.25
         },
         {
          "ratings": "5.0",
          "sentiments": 0.10108932461873639
         },
         {
          "ratings": "5.0",
          "sentiments": 0.5
         },
         {
          "ratings": "5.0",
          "sentiments": 0
         },
         {
          "ratings": "5.0",
          "sentiments": 0.17857142857142855
         },
         {
          "ratings": "5.0",
          "sentiments": 0.025
         },
         {
          "ratings": "5.0",
          "sentiments": 0.022727272727272728
         },
         {
          "ratings": "5.0",
          "sentiments": -0.016666666666666666
         },
         {
          "ratings": "5.0",
          "sentiments": 1
         },
         {
          "ratings": "5.0",
          "sentiments": 0.0625
         },
         {
          "ratings": "5.0",
          "sentiments": 0.05698005698005698
         },
         {
          "ratings": "5.0",
          "sentiments": 0.06458333333333333
         },
         {
          "ratings": "5.0",
          "sentiments": 0.10719696969696971
         },
         {
          "ratings": "5.0",
          "sentiments": 0.125
         },
         {
          "ratings": "5.0",
          "sentiments": 0.1338095238095238
         },
         {
          "ratings": "5.0",
          "sentiments": 0.062440137671230106
         },
         {
          "ratings": "5.0",
          "sentiments": 0.1407828282828283
         },
         {
          "ratings": "5.0",
          "sentiments": 0.005668934240362812
         },
         {
          "ratings": "5.0",
          "sentiments": 0.15873015873015872
         },
         {
          "ratings": "5.0",
          "sentiments": 0.16666666666666666
         },
         {
          "ratings": "5.0",
          "sentiments": 0.03273445448560656
         },
         {
          "ratings": "5.0",
          "sentiments": 0.0822564648939208
         },
         {
          "ratings": "5.0",
          "sentiments": -0.017684546392509895
         },
         {
          "ratings": "5.0",
          "sentiments": 0.14285714285714285
         },
         {
          "ratings": "5.0",
          "sentiments": 0.1
         },
         {
          "ratings": "5.0",
          "sentiments": 0.006483064435850814
         },
         {
          "ratings": "5.0",
          "sentiments": -0.004784688995215308
         },
         {
          "ratings": "5.0",
          "sentiments": 0.030303030303030304
         },
         {
          "ratings": "5.0",
          "sentiments": 0.008695652173913044
         },
         {
          "ratings": "5.0",
          "sentiments": 0.2222222222222222
         },
         {
          "ratings": "5.0",
          "sentiments": 0.3333333333333333
         },
         {
          "ratings": "5.0",
          "sentiments": 0
         },
         {
          "ratings": "5.0",
          "sentiments": 0.05555555555555555
         },
         {
          "ratings": "5.0",
          "sentiments": 0.09090909090909091
         },
         {
          "ratings": "5.0",
          "sentiments": 0
         },
         {
          "ratings": "5.0",
          "sentiments": 0.034202981903605274
         },
         {
          "ratings": "5.0",
          "sentiments": 0.05444444444444444
         },
         {
          "ratings": "5.0",
          "sentiments": 0
         },
         {
          "ratings": "5.0",
          "sentiments": 0
         },
         {
          "ratings": "5.0",
          "sentiments": 0.0008057413545540764
         },
         {
          "ratings": "5.0",
          "sentiments": 0.2357142857142857
         },
         {
          "ratings": "5.0",
          "sentiments": 0
         },
         {
          "ratings": "5.0",
          "sentiments": -0.0304811507936508
         },
         {
          "ratings": "5.0",
          "sentiments": 0.16025641025641024
         },
         {
          "ratings": "5.0",
          "sentiments": 0.125
         },
         {
          "ratings": "5.0",
          "sentiments": 0.03125
         },
         {
          "ratings": "5.0",
          "sentiments": 0.017857142857142856
         },
         {
          "ratings": "5.0",
          "sentiments": 0.2
         },
         {
          "ratings": "5.0",
          "sentiments": 0.04411764705882353
         },
         {
          "ratings": "5.0",
          "sentiments": 0.25
         },
         {
          "ratings": "5.0",
          "sentiments": 0.06827731092436976
         },
         {
          "ratings": "5.0",
          "sentiments": 0.1839080459770115
         },
         {
          "ratings": "5.0",
          "sentiments": 0.037037037037037035
         },
         {
          "ratings": "5.0",
          "sentiments": 0.09454545454545456
         },
         {
          "ratings": "5.0",
          "sentiments": 0.09090909090909091
         },
         {
          "ratings": "5.0",
          "sentiments": 0.16269841269841268
         },
         {
          "ratings": "5.0",
          "sentiments": 0.04
         },
         {
          "ratings": "5.0",
          "sentiments": 0.06818181818181818
         },
         {
          "ratings": "5.0",
          "sentiments": 0.02782608695652174
         },
         {
          "ratings": "5.0",
          "sentiments": 0.0761111111111111
         },
         {
          "ratings": "5.0",
          "sentiments": 0.052188552188552194
         },
         {
          "ratings": "5.0",
          "sentiments": 0.11428571428571428
         },
         {
          "ratings": "5.0",
          "sentiments": 0.0625
         },
         {
          "ratings": "5.0",
          "sentiments": 0.08333333333333333
         },
         {
          "ratings": "5.0",
          "sentiments": 0.08157772052508894
         },
         {
          "ratings": "5.0",
          "sentiments": 0
         },
         {
          "ratings": "5.0",
          "sentiments": 0
         },
         {
          "ratings": "5.0",
          "sentiments": 0.05087195236718036
         },
         {
          "ratings": "5.0",
          "sentiments": 0.06002415458937197
         },
         {
          "ratings": "5.0",
          "sentiments": 0.03963754602820105
         },
         {
          "ratings": "5.0",
          "sentiments": 0
         },
         {
          "ratings": "5.0",
          "sentiments": 0.25
         },
         {
          "ratings": "5.0",
          "sentiments": 0.2909090909090909
         },
         {
          "ratings": "5.0",
          "sentiments": 0
         },
         {
          "ratings": "5.0",
          "sentiments": 0.09359605911330049
         },
         {
          "ratings": "5.0",
          "sentiments": 0
         },
         {
          "ratings": "5.0",
          "sentiments": 0.5
         },
         {
          "ratings": "5.0",
          "sentiments": 0
         },
         {
          "ratings": "5.0",
          "sentiments": 0.014492753623188406
         },
         {
          "ratings": "5.0",
          "sentiments": 1
         },
         {
          "ratings": "5.0",
          "sentiments": 0
         },
         {
          "ratings": "5.0",
          "sentiments": 1
         },
         {
          "ratings": "5.0",
          "sentiments": 0.2222222222222222
         },
         {
          "ratings": "5.0",
          "sentiments": 0.058913308913308905
         },
         {
          "ratings": "5.0",
          "sentiments": 0.05555555555555555
         },
         {
          "ratings": "5.0",
          "sentiments": 0
         },
         {
          "ratings": "5.0",
          "sentiments": 0.07142857142857142
         },
         {
          "ratings": "5.0",
          "sentiments": 0.058571428571428566
         },
         {
          "ratings": "5.0",
          "sentiments": 0.12681159420289856
         },
         {
          "ratings": "5.0",
          "sentiments": 0
         },
         {
          "ratings": "5.0",
          "sentiments": 0.030839711036406554
         },
         {
          "ratings": "5.0",
          "sentiments": 0.3333333333333333
         },
         {
          "ratings": "5.0",
          "sentiments": 0
         },
         {
          "ratings": "5.0",
          "sentiments": 0.1865079365079365
         },
         {
          "ratings": "5.0",
          "sentiments": 0.08333333333333333
         },
         {
          "ratings": "5.0",
          "sentiments": 0
         },
         {
          "ratings": "5.0",
          "sentiments": 0
         },
         {
          "ratings": "5.0",
          "sentiments": 0.04517543859649123
         },
         {
          "ratings": "5.0",
          "sentiments": 0.25
         },
         {
          "ratings": "5.0",
          "sentiments": 1
         },
         {
          "ratings": "5.0",
          "sentiments": 0.09523809523809523
         },
         {
          "ratings": "5.0",
          "sentiments": 0
         },
         {
          "ratings": "5.0",
          "sentiments": -0.031746031746031744
         },
         {
          "ratings": "5.0",
          "sentiments": 0
         },
         {
          "ratings": "5.0",
          "sentiments": 0.2
         },
         {
          "ratings": "5.0",
          "sentiments": 0.14285714285714285
         },
         {
          "ratings": "5.0",
          "sentiments": 0.125
         },
         {
          "ratings": "5.0",
          "sentiments": 0.07196969696969698
         },
         {
          "ratings": "5.0",
          "sentiments": 0.1185897435897436
         },
         {
          "ratings": "5.0",
          "sentiments": 0
         },
         {
          "ratings": "5.0",
          "sentiments": 0.015151515151515152
         },
         {
          "ratings": "5.0",
          "sentiments": 0
         },
         {
          "ratings": "5.0",
          "sentiments": 0.5
         },
         {
          "ratings": "5.0",
          "sentiments": 0.08518518518518518
         },
         {
          "ratings": "5.0",
          "sentiments": 0.11714015151515152
         },
         {
          "ratings": "5.0",
          "sentiments": 0.2240740740740741
         },
         {
          "ratings": "5.0",
          "sentiments": 0.1388888888888889
         },
         {
          "ratings": "5.0",
          "sentiments": 0.5
         },
         {
          "ratings": "5.0",
          "sentiments": 0.5
         },
         {
          "ratings": "5.0",
          "sentiments": 0.29166666666666663
         },
         {
          "ratings": "5.0",
          "sentiments": -0.16666666666666666
         },
         {
          "ratings": "5.0",
          "sentiments": 0.03459910459910461
         },
         {
          "ratings": "5.0",
          "sentiments": 0.05
         },
         {
          "ratings": "5.0",
          "sentiments": 0.07142857142857142
         },
         {
          "ratings": "5.0",
          "sentiments": 0.027777777777777776
         },
         {
          "ratings": "5.0",
          "sentiments": 0.2058823529411765
         },
         {
          "ratings": "5.0",
          "sentiments": 0.07142857142857142
         },
         {
          "ratings": "5.0",
          "sentiments": 0
         },
         {
          "ratings": "5.0",
          "sentiments": 0.2222222222222222
         },
         {
          "ratings": "5.0",
          "sentiments": 0.08333333333333333
         },
         {
          "ratings": "5.0",
          "sentiments": 0
         },
         {
          "ratings": "5.0",
          "sentiments": 0.6666666666666666
         },
         {
          "ratings": "5.0",
          "sentiments": 0.17391304347826086
         },
         {
          "ratings": "5.0",
          "sentiments": 0.08499999999999999
         },
         {
          "ratings": "5.0",
          "sentiments": 0
         },
         {
          "ratings": "5.0",
          "sentiments": 0.15384615384615385
         },
         {
          "ratings": "5.0",
          "sentiments": 0
         },
         {
          "ratings": "5.0",
          "sentiments": 0.5
         },
         {
          "ratings": "5.0",
          "sentiments": -0.024999999999999998
         },
         {
          "ratings": "5.0",
          "sentiments": 0.09307359307359307
         },
         {
          "ratings": "5.0",
          "sentiments": 0
         },
         {
          "ratings": "5.0",
          "sentiments": 0.5
         },
         {
          "ratings": "5.0",
          "sentiments": 0.03333333333333333
         },
         {
          "ratings": "5.0",
          "sentiments": 0.05
         },
         {
          "ratings": "5.0",
          "sentiments": 0.016975308641975308
         },
         {
          "ratings": "5.0",
          "sentiments": 0
         },
         {
          "ratings": "5.0",
          "sentiments": 0.04310344827586207
         },
         {
          "ratings": "5.0",
          "sentiments": 0.048323123236916336
         },
         {
          "ratings": "5.0",
          "sentiments": 0.01785714285714286
         },
         {
          "ratings": "5.0",
          "sentiments": 0.016129032258064516
         },
         {
          "ratings": "5.0",
          "sentiments": 0
         },
         {
          "ratings": "5.0",
          "sentiments": 0
         },
         {
          "ratings": "5.0",
          "sentiments": 0.05034706331045004
         },
         {
          "ratings": "5.0",
          "sentiments": 0
         },
         {
          "ratings": "5.0",
          "sentiments": 0
         },
         {
          "ratings": "5.0",
          "sentiments": 0.05
         },
         {
          "ratings": "5.0",
          "sentiments": 0
         },
         {
          "ratings": "5.0",
          "sentiments": 0.08333333333333333
         },
         {
          "ratings": "5.0",
          "sentiments": 0.14545454545454545
         },
         {
          "ratings": "5.0",
          "sentiments": 0
         },
         {
          "ratings": "5.0",
          "sentiments": 0.25
         },
         {
          "ratings": "5.0",
          "sentiments": 0.16666666666666666
         },
         {
          "ratings": "5.0",
          "sentiments": 0
         },
         {
          "ratings": "5.0",
          "sentiments": 0.06666666666666667
         },
         {
          "ratings": "5.0",
          "sentiments": 0.009278711484593836
         },
         {
          "ratings": "5.0",
          "sentiments": 0
         },
         {
          "ratings": "5.0",
          "sentiments": 0.1111111111111111
         },
         {
          "ratings": "5.0",
          "sentiments": 0
         },
         {
          "ratings": "5.0",
          "sentiments": 0.08212632275132276
         },
         {
          "ratings": "5.0",
          "sentiments": 0
         },
         {
          "ratings": "5.0",
          "sentiments": 0.047619047619047616
         },
         {
          "ratings": "5.0",
          "sentiments": 0.03333333333333333
         },
         {
          "ratings": "5.0",
          "sentiments": 0.03529657477025898
         },
         {
          "ratings": "5.0",
          "sentiments": 0.06
         },
         {
          "ratings": "5.0",
          "sentiments": 0
         },
         {
          "ratings": "5.0",
          "sentiments": 0.12333333333333334
         },
         {
          "ratings": "5.0",
          "sentiments": 0.2
         },
         {
          "ratings": "5.0",
          "sentiments": 0.15
         },
         {
          "ratings": "5.0",
          "sentiments": 0
         },
         {
          "ratings": "5.0",
          "sentiments": 0.06923076923076923
         },
         {
          "ratings": "5.0",
          "sentiments": 0
         },
         {
          "ratings": "5.0",
          "sentiments": 0.25
         },
         {
          "ratings": "5.0",
          "sentiments": 0.125
         },
         {
          "ratings": "5.0",
          "sentiments": 0.1111111111111111
         },
         {
          "ratings": "5.0",
          "sentiments": 0.03333333333333333
         },
         {
          "ratings": "5.0",
          "sentiments": 0.015135919402286965
         },
         {
          "ratings": "5.0",
          "sentiments": 0
         },
         {
          "ratings": "5.0",
          "sentiments": 0.16666666666666666
         },
         {
          "ratings": "5.0",
          "sentiments": 0.5
         },
         {
          "ratings": "5.0",
          "sentiments": 0.03571428571428571
         },
         {
          "ratings": "5.0",
          "sentiments": 0
         },
         {
          "ratings": "5.0",
          "sentiments": 0.11666666666666668
         },
         {
          "ratings": "5.0",
          "sentiments": 0.1803030303030303
         },
         {
          "ratings": "5.0",
          "sentiments": 0.3333333333333333
         },
         {
          "ratings": "5.0",
          "sentiments": -0.010370370370370368
         },
         {
          "ratings": "5.0",
          "sentiments": 0.045454545454545456
         },
         {
          "ratings": "5.0",
          "sentiments": 0.03561466222949477
         },
         {
          "ratings": "5.0",
          "sentiments": 0.05169747669747669
         },
         {
          "ratings": "5.0",
          "sentiments": 0.16666666666666666
         },
         {
          "ratings": "5.0",
          "sentiments": 0.01818181818181818
         },
         {
          "ratings": "5.0",
          "sentiments": 0.10989010989010989
         },
         {
          "ratings": "5.0",
          "sentiments": 0.03030387935606586
         },
         {
          "ratings": "5.0",
          "sentiments": 0.3333333333333333
         },
         {
          "ratings": "5.0",
          "sentiments": 0.14285714285714285
         },
         {
          "ratings": "5.0",
          "sentiments": 0.125
         },
         {
          "ratings": "5.0",
          "sentiments": 0.16666666666666666
         },
         {
          "ratings": "5.0",
          "sentiments": 0.20238095238095238
         },
         {
          "ratings": "5.0",
          "sentiments": 0
         },
         {
          "ratings": "5.0",
          "sentiments": 0.125
         },
         {
          "ratings": "5.0",
          "sentiments": 0.3333333333333333
         },
         {
          "ratings": "5.0",
          "sentiments": 0.25
         },
         {
          "ratings": "5.0",
          "sentiments": -0.06666666666666667
         },
         {
          "ratings": "5.0",
          "sentiments": 0
         },
         {
          "ratings": "5.0",
          "sentiments": 0
         },
         {
          "ratings": "5.0",
          "sentiments": 0.07222222222222222
         },
         {
          "ratings": "5.0",
          "sentiments": 0.07267432950191571
         },
         {
          "ratings": "5.0",
          "sentiments": 0.007539682539682541
         },
         {
          "ratings": "5.0",
          "sentiments": 0
         },
         {
          "ratings": "5.0",
          "sentiments": 0.10714285714285714
         },
         {
          "ratings": "5.0",
          "sentiments": 0
         },
         {
          "ratings": "5.0",
          "sentiments": 0
         },
         {
          "ratings": "5.0",
          "sentiments": 0.2
         },
         {
          "ratings": "5.0",
          "sentiments": 0.16666666666666666
         },
         {
          "ratings": "5.0",
          "sentiments": 0.12
         },
         {
          "ratings": "5.0",
          "sentiments": 0.5
         },
         {
          "ratings": "5.0",
          "sentiments": 0.0025396825396825392
         },
         {
          "ratings": "5.0",
          "sentiments": 0.09642857142857142
         },
         {
          "ratings": "5.0",
          "sentiments": 0.057692307692307696
         },
         {
          "ratings": "5.0",
          "sentiments": 0
         },
         {
          "ratings": "5.0",
          "sentiments": 0
         },
         {
          "ratings": "5.0",
          "sentiments": 0.04639126827287505
         },
         {
          "ratings": "5.0",
          "sentiments": 0.25
         },
         {
          "ratings": "5.0",
          "sentiments": 0.023809523809523808
         },
         {
          "ratings": "5.0",
          "sentiments": 1
         },
         {
          "ratings": "5.0",
          "sentiments": 0.0076388888888888895
         },
         {
          "ratings": "5.0",
          "sentiments": -0.01580459770114943
         },
         {
          "ratings": "5.0",
          "sentiments": 0.041666666666666664
         },
         {
          "ratings": "5.0",
          "sentiments": 0.08125
         },
         {
          "ratings": "5.0",
          "sentiments": 0.05782735782735783
         },
         {
          "ratings": "5.0",
          "sentiments": 0.14285714285714285
         },
         {
          "ratings": "5.0",
          "sentiments": 0
         },
         {
          "ratings": "5.0",
          "sentiments": 0.25
         },
         {
          "ratings": "5.0",
          "sentiments": 1
         },
         {
          "ratings": "5.0",
          "sentiments": 0
         },
         {
          "ratings": "5.0",
          "sentiments": 0.023809523809523808
         },
         {
          "ratings": "5.0",
          "sentiments": 0
         },
         {
          "ratings": "5.0",
          "sentiments": 0.07948717948717948
         },
         {
          "ratings": "5.0",
          "sentiments": 0
         },
         {
          "ratings": "5.0",
          "sentiments": 0.3333333333333333
         },
         {
          "ratings": "5.0",
          "sentiments": 0.02564102564102564
         },
         {
          "ratings": "5.0",
          "sentiments": 0.16666666666666666
         },
         {
          "ratings": "5.0",
          "sentiments": 0
         },
         {
          "ratings": "5.0",
          "sentiments": 0.03571428571428571
         },
         {
          "ratings": "5.0",
          "sentiments": -0.00465457922299355
         },
         {
          "ratings": "5.0",
          "sentiments": 0
         },
         {
          "ratings": "5.0",
          "sentiments": -0.3333333333333333
         },
         {
          "ratings": "5.0",
          "sentiments": 0.2
         },
         {
          "ratings": "5.0",
          "sentiments": 0.06666666666666667
         },
         {
          "ratings": "5.0",
          "sentiments": 0
         },
         {
          "ratings": "5.0",
          "sentiments": 0
         },
         {
          "ratings": "5.0",
          "sentiments": 0.09235942900988368
         },
         {
          "ratings": "5.0",
          "sentiments": 0.07631578947368421
         },
         {
          "ratings": "5.0",
          "sentiments": 0.037037037037037035
         },
         {
          "ratings": "5.0",
          "sentiments": 0.22333333333333333
         },
         {
          "ratings": "5.0",
          "sentiments": 0.25
         },
         {
          "ratings": "5.0",
          "sentiments": 0
         },
         {
          "ratings": "5.0",
          "sentiments": 1
         },
         {
          "ratings": "5.0",
          "sentiments": 0.16279069767441862
         },
         {
          "ratings": "5.0",
          "sentiments": 0.07777777777777778
         },
         {
          "ratings": "5.0",
          "sentiments": 0
         },
         {
          "ratings": "5.0",
          "sentiments": 0.146011396011396
         },
         {
          "ratings": "5.0",
          "sentiments": -0.041666666666666664
         },
         {
          "ratings": "5.0",
          "sentiments": 0.13333333333333333
         },
         {
          "ratings": "5.0",
          "sentiments": 0.06896551724137931
         },
         {
          "ratings": "5.0",
          "sentiments": 0.047619047619047616
         },
         {
          "ratings": "5.0",
          "sentiments": 0.06041666666666667
         },
         {
          "ratings": "5.0",
          "sentiments": 0
         },
         {
          "ratings": "5.0",
          "sentiments": 0
         },
         {
          "ratings": "5.0",
          "sentiments": 0.25
         },
         {
          "ratings": "5.0",
          "sentiments": 0.08846153846153847
         },
         {
          "ratings": "5.0",
          "sentiments": 0
         },
         {
          "ratings": "5.0",
          "sentiments": -0.25
         },
         {
          "ratings": "5.0",
          "sentiments": 0
         },
         {
          "ratings": "5.0",
          "sentiments": -0.009398496240601503
         },
         {
          "ratings": "5.0",
          "sentiments": 0.12579903756374342
         },
         {
          "ratings": "5.0",
          "sentiments": 1
         },
         {
          "ratings": "5.0",
          "sentiments": 1
         },
         {
          "ratings": "5.0",
          "sentiments": 0.04582380364733305
         },
         {
          "ratings": "5.0",
          "sentiments": 0.13333333333333333
         },
         {
          "ratings": "5.0",
          "sentiments": 0
         },
         {
          "ratings": "5.0",
          "sentiments": 1
         },
         {
          "ratings": "5.0",
          "sentiments": 0.12
         },
         {
          "ratings": "5.0",
          "sentiments": 0.015046296296296295
         },
         {
          "ratings": "5.0",
          "sentiments": 0.028393611446587023
         },
         {
          "ratings": "5.0",
          "sentiments": 0.5
         },
         {
          "ratings": "5.0",
          "sentiments": 0.5
         },
         {
          "ratings": "5.0",
          "sentiments": 0.04948083757247218
         },
         {
          "ratings": "5.0",
          "sentiments": 0
         },
         {
          "ratings": "5.0",
          "sentiments": 0.13846153846153847
         },
         {
          "ratings": "5.0",
          "sentiments": 0.3333333333333333
         },
         {
          "ratings": "5.0",
          "sentiments": 0.5
         },
         {
          "ratings": "5.0",
          "sentiments": 0.037037037037037035
         },
         {
          "ratings": "5.0",
          "sentiments": 0.2
         },
         {
          "ratings": "5.0",
          "sentiments": 0.05195711120003907
         },
         {
          "ratings": "5.0",
          "sentiments": 0.1590909090909091
         },
         {
          "ratings": "5.0",
          "sentiments": 0.052424242424242415
         },
         {
          "ratings": "5.0",
          "sentiments": 0
         },
         {
          "ratings": "5.0",
          "sentiments": 0.05555555555555555
         },
         {
          "ratings": "5.0",
          "sentiments": 0.05481940043892589
         },
         {
          "ratings": "5.0",
          "sentiments": 0.02782608695652174
         },
         {
          "ratings": "5.0",
          "sentiments": 0.08849206349206348
         },
         {
          "ratings": "5.0",
          "sentiments": 0.5
         },
         {
          "ratings": "5.0",
          "sentiments": 0
         },
         {
          "ratings": "5.0",
          "sentiments": 0.23076923076923078
         },
         {
          "ratings": "5.0",
          "sentiments": 0.25
         },
         {
          "ratings": "5.0",
          "sentiments": 0.05555555555555555
         },
         {
          "ratings": "5.0",
          "sentiments": 0.5
         },
         {
          "ratings": "5.0",
          "sentiments": 0
         },
         {
          "ratings": "5.0",
          "sentiments": 1
         },
         {
          "ratings": "5.0",
          "sentiments": 0
         },
         {
          "ratings": "5.0",
          "sentiments": 0.6
         },
         {
          "ratings": "5.0",
          "sentiments": -0.014285714285714285
         },
         {
          "ratings": "5.0",
          "sentiments": 0.1
         },
         {
          "ratings": "5.0",
          "sentiments": 0
         },
         {
          "ratings": "5.0",
          "sentiments": 0.14285714285714285
         },
         {
          "ratings": "5.0",
          "sentiments": 1
         },
         {
          "ratings": "5.0",
          "sentiments": 0.08476107226107227
         },
         {
          "ratings": "5.0",
          "sentiments": 0.3333333333333333
         },
         {
          "ratings": "5.0",
          "sentiments": 0.16666666666666666
         },
         {
          "ratings": "5.0",
          "sentiments": 0.16666666666666666
         },
         {
          "ratings": "5.0",
          "sentiments": 0
         },
         {
          "ratings": "5.0",
          "sentiments": 0.0038644688644688674
         },
         {
          "ratings": "5.0",
          "sentiments": 0.12307692307692308
         },
         {
          "ratings": "5.0",
          "sentiments": 0.25
         },
         {
          "ratings": "5.0",
          "sentiments": 0.14285714285714285
         },
         {
          "ratings": "5.0",
          "sentiments": 0.03399200615918882
         },
         {
          "ratings": "5.0",
          "sentiments": 0
         },
         {
          "ratings": "5.0",
          "sentiments": 0
         },
         {
          "ratings": "5.0",
          "sentiments": 0.05555555555555555
         },
         {
          "ratings": "5.0",
          "sentiments": 0
         },
         {
          "ratings": "5.0",
          "sentiments": 0.2857142857142857
         },
         {
          "ratings": "5.0",
          "sentiments": 0.06474199500970472
         },
         {
          "ratings": "5.0",
          "sentiments": 0.25
         },
         {
          "ratings": "5.0",
          "sentiments": 0.25
         },
         {
          "ratings": "5.0",
          "sentiments": 0.5
         },
         {
          "ratings": "5.0",
          "sentiments": 0.09924797424797425
         },
         {
          "ratings": "5.0",
          "sentiments": 0.02340967759652881
         },
         {
          "ratings": "5.0",
          "sentiments": 0.11925675675675676
         },
         {
          "ratings": "5.0",
          "sentiments": 0.045454545454545456
         },
         {
          "ratings": "5.0",
          "sentiments": 1
         },
         {
          "ratings": "5.0",
          "sentiments": 1
         },
         {
          "ratings": "5.0",
          "sentiments": 0.125
         },
         {
          "ratings": "5.0",
          "sentiments": 0.14285714285714285
         },
         {
          "ratings": "5.0",
          "sentiments": 0.3333333333333333
         },
         {
          "ratings": "5.0",
          "sentiments": 0
         },
         {
          "ratings": "5.0",
          "sentiments": 0.02666666666666667
         },
         {
          "ratings": "5.0",
          "sentiments": 0.08753713606654784
         },
         {
          "ratings": "5.0",
          "sentiments": 0.008796296296296295
         },
         {
          "ratings": "5.0",
          "sentiments": 0.11616161616161617
         },
         {
          "ratings": "5.0",
          "sentiments": 0
         },
         {
          "ratings": "5.0",
          "sentiments": 0.5
         },
         {
          "ratings": "5.0",
          "sentiments": 0
         },
         {
          "ratings": "5.0",
          "sentiments": 0
         },
         {
          "ratings": "5.0",
          "sentiments": 0
         },
         {
          "ratings": "5.0",
          "sentiments": 0.032052353104984686
         },
         {
          "ratings": "5.0",
          "sentiments": 0.5
         },
         {
          "ratings": "5.0",
          "sentiments": 0.011007591442374051
         },
         {
          "ratings": "5.0",
          "sentiments": 0.07738095238095237
         },
         {
          "ratings": "5.0",
          "sentiments": 0.14285714285714285
         },
         {
          "ratings": "5.0",
          "sentiments": 0.16964285714285715
         },
         {
          "ratings": "5.0",
          "sentiments": 0.10555555555555556
         },
         {
          "ratings": "5.0",
          "sentiments": 0.1414141414141414
         },
         {
          "ratings": "5.0",
          "sentiments": 0.045238095238095244
         },
         {
          "ratings": "5.0",
          "sentiments": 0
         },
         {
          "ratings": "5.0",
          "sentiments": 0.06655844155844157
         },
         {
          "ratings": "5.0",
          "sentiments": 1
         },
         {
          "ratings": "5.0",
          "sentiments": 0
         },
         {
          "ratings": "5.0",
          "sentiments": 0
         },
         {
          "ratings": "5.0",
          "sentiments": 0
         },
         {
          "ratings": "5.0",
          "sentiments": 1
         },
         {
          "ratings": "5.0",
          "sentiments": 0
         },
         {
          "ratings": "5.0",
          "sentiments": 0.14285714285714285
         },
         {
          "ratings": "5.0",
          "sentiments": 0.5
         },
         {
          "ratings": "5.0",
          "sentiments": 0
         },
         {
          "ratings": "5.0",
          "sentiments": 0.010695187165775402
         },
         {
          "ratings": "5.0",
          "sentiments": 0
         },
         {
          "ratings": "5.0",
          "sentiments": 0.04327485380116959
         },
         {
          "ratings": "5.0",
          "sentiments": 0.08333333333333333
         },
         {
          "ratings": "5.0",
          "sentiments": 0.06378066378066378
         },
         {
          "ratings": "5.0",
          "sentiments": -0.15384615384615385
         },
         {
          "ratings": "5.0",
          "sentiments": 0.1
         },
         {
          "ratings": "5.0",
          "sentiments": 0.2857142857142857
         },
         {
          "ratings": "5.0",
          "sentiments": -0.005128205128205131
         },
         {
          "ratings": "5.0",
          "sentiments": 0.06203007518796992
         },
         {
          "ratings": "5.0",
          "sentiments": 0.045454545454545456
         },
         {
          "ratings": "5.0",
          "sentiments": -0.011372021927050389
         },
         {
          "ratings": "5.0",
          "sentiments": 0.09090909090909091
         },
         {
          "ratings": "5.0",
          "sentiments": 0.14285714285714285
         },
         {
          "ratings": "5.0",
          "sentiments": 0
         },
         {
          "ratings": "5.0",
          "sentiments": 0.06030701754385964
         },
         {
          "ratings": "5.0",
          "sentiments": 0
         },
         {
          "ratings": "5.0",
          "sentiments": 0
         },
         {
          "ratings": "5.0",
          "sentiments": 0.3055555555555556
         },
         {
          "ratings": "5.0",
          "sentiments": 0
         },
         {
          "ratings": "5.0",
          "sentiments": 0.03964932126696833
         },
         {
          "ratings": "5.0",
          "sentiments": 1
         },
         {
          "ratings": "5.0",
          "sentiments": 0.06369047619047619
         },
         {
          "ratings": "5.0",
          "sentiments": 0
         },
         {
          "ratings": "5.0",
          "sentiments": 0.2
         },
         {
          "ratings": "5.0",
          "sentiments": 0.5
         },
         {
          "ratings": "5.0",
          "sentiments": 0
         },
         {
          "ratings": "5.0",
          "sentiments": 0
         },
         {
          "ratings": "5.0",
          "sentiments": 0.09090909090909091
         },
         {
          "ratings": "5.0",
          "sentiments": 0
         },
         {
          "ratings": "5.0",
          "sentiments": 0
         },
         {
          "ratings": "5.0",
          "sentiments": 0
         },
         {
          "ratings": "5.0",
          "sentiments": 0.6666666666666666
         },
         {
          "ratings": "5.0",
          "sentiments": 0.5
         },
         {
          "ratings": "5.0",
          "sentiments": 0.27840909090909094
         },
         {
          "ratings": "5.0",
          "sentiments": 0.1111111111111111
         },
         {
          "ratings": "5.0",
          "sentiments": -0.011578947368421055
         },
         {
          "ratings": "5.0",
          "sentiments": 0.16666666666666666
         },
         {
          "ratings": "5.0",
          "sentiments": 0.025344997955567668
         },
         {
          "ratings": "5.0",
          "sentiments": 0.2857142857142857
         },
         {
          "ratings": "5.0",
          "sentiments": 0.09166666666666667
         },
         {
          "ratings": "5.0",
          "sentiments": 0.13171122994652407
         },
         {
          "ratings": "5.0",
          "sentiments": 0
         },
         {
          "ratings": "5.0",
          "sentiments": 0.05555555555555555
         },
         {
          "ratings": "5.0",
          "sentiments": 0.009259259259259259
         },
         {
          "ratings": "5.0",
          "sentiments": 0.09523809523809523
         },
         {
          "ratings": "5.0",
          "sentiments": 0.15555555555555556
         },
         {
          "ratings": "5.0",
          "sentiments": -0.11764705882352941
         },
         {
          "ratings": "5.0",
          "sentiments": 0.025
         },
         {
          "ratings": "5.0",
          "sentiments": 0
         },
         {
          "ratings": "5.0",
          "sentiments": 1
         },
         {
          "ratings": "5.0",
          "sentiments": 0.5
         },
         {
          "ratings": "5.0",
          "sentiments": 0.028306878306878305
         },
         {
          "ratings": "5.0",
          "sentiments": 0.3333333333333333
         },
         {
          "ratings": "5.0",
          "sentiments": 0.009661388638689544
         },
         {
          "ratings": "5.0",
          "sentiments": 0.03571428571428571
         },
         {
          "ratings": "5.0",
          "sentiments": 0.0625
         },
         {
          "ratings": "5.0",
          "sentiments": 0.02
         },
         {
          "ratings": "5.0",
          "sentiments": 0
         },
         {
          "ratings": "5.0",
          "sentiments": 0.25
         },
         {
          "ratings": "5.0",
          "sentiments": -0.011575091575091576
         },
         {
          "ratings": "5.0",
          "sentiments": 0.0027546729057267407
         },
         {
          "ratings": "5.0",
          "sentiments": 0.25
         },
         {
          "ratings": "5.0",
          "sentiments": 0
         },
         {
          "ratings": "5.0",
          "sentiments": 0.039818548387096774
         },
         {
          "ratings": "5.0",
          "sentiments": 0
         },
         {
          "ratings": "5.0",
          "sentiments": 0.035238095238095235
         },
         {
          "ratings": "5.0",
          "sentiments": 0.15000000000000002
         },
         {
          "ratings": "5.0",
          "sentiments": 0.08333333333333333
         },
         {
          "ratings": "5.0",
          "sentiments": 0.10683760683760683
         },
         {
          "ratings": "5.0",
          "sentiments": 0
         },
         {
          "ratings": "5.0",
          "sentiments": 0.08333333333333333
         },
         {
          "ratings": "5.0",
          "sentiments": 0.04580896686159844
         },
         {
          "ratings": "5.0",
          "sentiments": 0.058823529411764705
         },
         {
          "ratings": "5.0",
          "sentiments": 0.2
         },
         {
          "ratings": "5.0",
          "sentiments": 0.1713235294117647
         },
         {
          "ratings": "5.0",
          "sentiments": 0
         },
         {
          "ratings": "5.0",
          "sentiments": 0.06666666666666667
         },
         {
          "ratings": "5.0",
          "sentiments": 0
         },
         {
          "ratings": "5.0",
          "sentiments": 0.08888888888888889
         },
         {
          "ratings": "5.0",
          "sentiments": 0.016666666666666666
         },
         {
          "ratings": "5.0",
          "sentiments": 1
         },
         {
          "ratings": "5.0",
          "sentiments": 0
         },
         {
          "ratings": "5.0",
          "sentiments": 0
         },
         {
          "ratings": "5.0",
          "sentiments": 0.10795454545454546
         },
         {
          "ratings": "5.0",
          "sentiments": 0.16666666666666666
         },
         {
          "ratings": "5.0",
          "sentiments": 0.06439393939393939
         },
         {
          "ratings": "5.0",
          "sentiments": 0.017290773742386648
         },
         {
          "ratings": "5.0",
          "sentiments": 0.05890003716090673
         },
         {
          "ratings": "5.0",
          "sentiments": 0.07894736842105263
         },
         {
          "ratings": "5.0",
          "sentiments": 0.03571428571428571
         },
         {
          "ratings": "5.0",
          "sentiments": 0.2
         },
         {
          "ratings": "5.0",
          "sentiments": 0.3333333333333333
         },
         {
          "ratings": "5.0",
          "sentiments": 0.3333333333333333
         },
         {
          "ratings": "5.0",
          "sentiments": -0.05555555555555555
         },
         {
          "ratings": "5.0",
          "sentiments": 0.029166666666666667
         },
         {
          "ratings": "5.0",
          "sentiments": 0.125
         },
         {
          "ratings": "5.0",
          "sentiments": 0.12166666666666666
         },
         {
          "ratings": "5.0",
          "sentiments": 0.10344827586206896
         },
         {
          "ratings": "5.0",
          "sentiments": 0.0625
         },
         {
          "ratings": "5.0",
          "sentiments": 0.038461538461538464
         },
         {
          "ratings": "5.0",
          "sentiments": 0
         },
         {
          "ratings": "5.0",
          "sentiments": 0.06227106227106227
         },
         {
          "ratings": "5.0",
          "sentiments": 0
         },
         {
          "ratings": "5.0",
          "sentiments": 0
         },
         {
          "ratings": "5.0",
          "sentiments": 0.009447415329768269
         },
         {
          "ratings": "5.0",
          "sentiments": 0.043939393939393945
         },
         {
          "ratings": "5.0",
          "sentiments": 0.1233551874856223
         },
         {
          "ratings": "5.0",
          "sentiments": 0.19090909090909092
         },
         {
          "ratings": "5.0",
          "sentiments": -0.003431372549019607
         },
         {
          "ratings": "5.0",
          "sentiments": 0.038461538461538464
         },
         {
          "ratings": "5.0",
          "sentiments": 0.5
         },
         {
          "ratings": "5.0",
          "sentiments": 0
         },
         {
          "ratings": "5.0",
          "sentiments": 0
         },
         {
          "ratings": "5.0",
          "sentiments": -0.03114571746384872
         },
         {
          "ratings": "5.0",
          "sentiments": 0.047619047619047616
         },
         {
          "ratings": "5.0",
          "sentiments": 0.11136363636363637
         },
         {
          "ratings": "5.0",
          "sentiments": 0.07302664655605832
         },
         {
          "ratings": "5.0",
          "sentiments": 0.030844155844155844
         },
         {
          "ratings": "5.0",
          "sentiments": 0
         },
         {
          "ratings": "5.0",
          "sentiments": 0
         },
         {
          "ratings": "5.0",
          "sentiments": 0.3333333333333333
         },
         {
          "ratings": "5.0",
          "sentiments": 0.2857142857142857
         },
         {
          "ratings": "5.0",
          "sentiments": 0
         },
         {
          "ratings": "5.0",
          "sentiments": 0.08333333333333333
         },
         {
          "ratings": "5.0",
          "sentiments": 0.5
         },
         {
          "ratings": "5.0",
          "sentiments": 0.2222222222222222
         }
        ]
       },
       "encoding": {
        "color": {
         "field": "ratings",
         "type": "nominal"
        },
        "tooltip": [
         {
          "field": "ratings",
          "type": "nominal"
         },
         {
          "field": "sentiments",
          "type": "quantitative"
         }
        ],
        "x": {
         "field": "ratings",
         "type": "nominal"
        },
        "y": {
         "field": "sentiments",
         "type": "quantitative"
        }
       },
       "mark": {
        "size": 60,
        "type": "circle"
       },
       "selection": {
        "selector003": {
         "bind": "scales",
         "encodings": [
          "x",
          "y"
         ],
         "type": "interval"
        }
       }
      },
      "image/png": "[encoded data removed]",
      "text/plain": [
       "<VegaLite 4 object>\n",
       "\n",
       "If you see this message, it means the renderer has not been properly enabled\n",
       "for the frontend that you are using. For more information, see\n",
       "https://altair-viz.github.io/user_guide/troubleshooting.html\n"
      ]
     },
     "execution_count": 42,
     "metadata": {},
     "output_type": "execute_result"
    }
   ],
   "source": [
    "# is there any relationship btw review scores and sentiments?\n",
    "source = pd.DataFrame(\n",
    "    {\"ratings\": [str(e) for e in ratings], \"sentiments\": review_sentiments}\n",
    ")\n",
    "\n",
    "\n",
    "chart4 = (\n",
    "    alt.Chart(source)\n",
    "    .mark_circle(size=60)\n",
    "    .encode(\n",
    "        x=\"ratings\", y=\"sentiments\", color=\"ratings\", tooltip=[\"ratings\", \"sentiments\"]\n",
    "    )\n",
    "    .interactive()\n",
    ")\n",
    "chart4"
   ]
  },
  {
   "cell_type": "code",
   "execution_count": 43,
   "metadata": {},
   "outputs": [
    {
     "name": "stdout",
     "output_type": "stream",
     "text": [
      "0.31007772918218\n",
      "0.41352044323543324\n"
     ]
    }
   ],
   "source": [
    "###############################################################################\n",
    "#####                             Correlation                             #####\n",
    "###############################################################################\n",
    "# test correlation\n",
    "from scipy.stats import pearsonr, spearmanr\n",
    "\n",
    "corr1, _ = pearsonr(ratings, review_sentiments)\n",
    "print(corr1)\n",
    "# 0.5484025893803234\n",
    "\n",
    "# Spearman rank correlation says there's weak correlation btw review score\n",
    "# and sentiment\n",
    "scor1, _ = spearmanr(ratings, review_sentiments)\n",
    "\n",
    "print(scor1)\n",
    "# 0.6248595756447616"
   ]
  },
  {
   "cell_type": "markdown",
   "metadata": {},
   "source": [
    "## investigation"
   ]
  },
  {
   "cell_type": "code",
   "execution_count": 44,
   "metadata": {},
   "outputs": [],
   "source": [
    "###############################################################################\n",
    "######                          Let's see the data                       ######\n",
    "###############################################################################\n",
    "review_good_sentiment_bad = []\n",
    "review_bad_sentiment_good = []\n",
    "for i in range(len(reviews)):\n",
    "    sc = ratings[i]\n",
    "    rs = review_sentiments[i]\n",
    "    # ss = summary_sentiments[i]\n",
    "    t = reviews[i]\n",
    "    if sc == 5 and rs < -0.2:\n",
    "        review_good_sentiment_bad.append(t)\n",
    "    if sc == 1 and rs > 0.3:\n",
    "        review_bad_sentiment_good.append(t)"
   ]
  },
  {
   "cell_type": "code",
   "execution_count": 45,
   "metadata": {},
   "outputs": [
    {
     "data": {
      "text/plain": [
       "['No issues.  Great game',\n",
       " 'No issues...',\n",
       " 'No issues.',\n",
       " 'exelent tem , no complains.',\n",
       " 'Fun and challenging!',\n",
       " 'Excellent, without any mishap']"
      ]
     },
     "execution_count": 45,
     "metadata": {},
     "output_type": "execute_result"
    }
   ],
   "source": [
    "review_good_sentiment_bad[:20]"
   ]
  },
  {
   "cell_type": "code",
   "execution_count": 46,
   "metadata": {},
   "outputs": [
    {
     "data": {
      "text/plain": [
       "[\"Sound didn't work\",\n",
       " 'Does not work.',\n",
       " \"Didn't work, return\",\n",
       " 'not great!',\n",
       " \"doesn't work\",\n",
       " \"Return/didn't work\",\n",
       " 'not that good',\n",
       " \"Doesn't work\",\n",
       " \"didn't work\",\n",
       " 'doesnt work',\n",
       " \"Controller didn't work properly.\",\n",
       " 'super',\n",
       " \"Didn't work\",\n",
       " 'did not work',\n",
       " 'good',\n",
       " \"Games aren't fun.\",\n",
       " 'Never worked once']"
      ]
     },
     "execution_count": 46,
     "metadata": {},
     "output_type": "execute_result"
    }
   ],
   "source": [
    "review_bad_sentiment_good[:20]"
   ]
  },
  {
   "cell_type": "markdown",
   "metadata": {},
   "source": [
    "## handling negation"
   ]
  },
  {
   "cell_type": "code",
   "execution_count": 48,
   "metadata": {},
   "outputs": [
    {
     "name": "stdout",
     "output_type": "stream",
     "text": [
      "['I', 'received', 'these', 'on', 'time', 'and', 'no', 'problems._NEG', 'No_NEG', 'damages_NEG', 'battlfield_NEG', 'never_NEG', 'fails_NEG']\n"
     ]
    }
   ],
   "source": [
    "from nltk.sentiment.util import mark_negation\n",
    "\n",
    "t = \"I received these on time and no problems. No damages battlfield never fails\"\n",
    "print(mark_negation(t.split()))"
   ]
  },
  {
   "cell_type": "code",
   "execution_count": 47,
   "metadata": {},
   "outputs": [],
   "source": [
    "\n",
    "\n",
    "## Lets enhance positive words and negative words by appending negation the negative words\n",
    "positive_words_with_negation = positive_words.union({wd + \"_NEG\" for wd in negative_words})\n",
    "negative_words_with_negation = negative_words.union({wd + \"_NEG\" for wd in positive_words})"
   ]
  },
  {
   "cell_type": "code",
   "execution_count": 55,
   "metadata": {},
   "outputs": [],
   "source": [
    "def score_review_with_negation(review):\n",
    "    sentiment_scores = []\n",
    "    sents = sent_tokenize(review)\n",
    "    for sent in sents:\n",
    "        wds = word_tokenize(sent)\n",
    "        wds = mark_negation(wds)\n",
    "        sent_scores = score_sentence(wds, positive_words_with_negation, negative_words_with_negation)\n",
    "        sentiment_scores.append(sent_scores)\n",
    "    return sum(sentiment_scores) / len(sentiment_scores)"
   ]
  },
  {
   "cell_type": "code",
   "execution_count": 56,
   "metadata": {},
   "outputs": [],
   "source": [
    "review_sentiments_with_negation = [score_review_with_negation(review) for review in reviews]"
   ]
  },
  {
   "cell_type": "code",
   "execution_count": 57,
   "metadata": {},
   "outputs": [],
   "source": [
    "sentiment_with_negation_df = pd.DataFrame(\n",
    "    {\"rating\": ratings, \"review\": reviews, \"review sentiment\": review_sentiments_with_negation,}\n",
    ")\n"
   ]
  },
  {
   "cell_type": "code",
   "execution_count": 58,
   "metadata": {},
   "outputs": [
    {
     "name": "stdout",
     "output_type": "stream",
     "text": [
      "0.4320049839385447\n"
     ]
    }
   ],
   "source": [
    "scor1, _ = spearmanr(ratings, review_sentiments_with_negation)\n",
    "print(scor1)"
   ]
  },
  {
   "cell_type": "code",
   "execution_count": 63,
   "metadata": {},
   "outputs": [
    {
     "data": {
      "application/vnd.vegalite.v4+json": {
       "$schema": "https://vega.github.io/schema/vega-lite/v4.8.1.json",
       "config": {
        "view": {
         "continuousHeight": 300,
         "continuousWidth": 400
        }
       },
       "data": {
        "name": "data-cd39bef2dc9513f875ac0472f12ff5da"
       },
       "datasets": {
        "data-cd39bef2dc9513f875ac0472f12ff5da": [
         {
          "counts": 0.00044444444444444447,
          "sentiment scores": "-3.0 -2.5"
         },
         {
          "counts": 0,
          "sentiment scores": "-2.5 -2.0"
         },
         {
          "counts": 0.0017777777777777779,
          "sentiment scores": "-2.0 -1.5"
         },
         {
          "counts": 0.00044444444444444447,
          "sentiment scores": "-1.5 -1.0"
         },
         {
          "counts": 0.026222222222222223,
          "sentiment scores": "-1.0 -0.5"
         },
         {
          "counts": 0.5715555555555556,
          "sentiment scores": "-0.5 0.0"
         },
         {
          "counts": 1.3071111111111111,
          "sentiment scores": "0.0 0.5"
         },
         {
          "counts": 0.05733333333333333,
          "sentiment scores": "0.5 1.0"
         },
         {
          "counts": 0.03422222222222222,
          "sentiment scores": "1.0 1.5"
         },
         {
          "counts": 0.0008888888888888889,
          "sentiment scores": "1.5 2.0"
         }
        ]
       },
       "encoding": {
        "x": {
         "field": "sentiment scores",
         "sort": [
          "-3.0 -2.5",
          "-2.5 -2.0",
          "-2.0 -1.5",
          "-1.5 -1.0",
          "-1.0 -0.5",
          "-0.5 0.0",
          "0.0 0.5",
          "0.5 1.0",
          "1.0 1.5",
          "1.5 2.0"
         ],
         "type": "nominal"
        },
        "y": {
         "field": "counts",
         "type": "quantitative"
        }
       },
       "mark": "bar"
      },
      "image/png": "[encoded data removed]",
      "text/plain": [
       "<VegaLite 4 object>\n",
       "\n",
       "If you see this message, it means the renderer has not been properly enabled\n",
       "for the frontend that you are using. For more information, see\n",
       "https://altair-viz.github.io/user_guide/troubleshooting.html\n"
      ]
     },
     "execution_count": 63,
     "metadata": {},
     "output_type": "execute_result"
    }
   ],
   "source": [
    "hist, bin_edges = np.histogram(review_sentiments_with_negation, density=True)\n",
    "labels = list(zip(bin_edges, bin_edges[1:]))\n",
    "labels = [(str(e[0]), str(e[1])) for e in labels]\n",
    "labels = [\" \".join(e) for e in labels]\n",
    "\n",
    "\n",
    "data2 = pd.DataFrame({\"sentiment scores\": labels, \"counts\": hist})\n",
    "\n",
    "chart2 = (\n",
    "    alt.Chart(data2)\n",
    "    .mark_bar()\n",
    "    .encode(x=alt.X(\"sentiment scores\", sort=labels), y=\"counts\")\n",
    ")\n",
    "chart2"
   ]
  },
  {
   "cell_type": "code",
   "execution_count": 64,
   "metadata": {},
   "outputs": [
    {
     "data": {
      "application/vnd.vegalite.v4+json": {
       "$schema": "https://vega.github.io/schema/vega-lite/v4.8.1.json",
       "config": {
        "view": {
         "continuousHeight": 300,
         "continuousWidth": 400
        }
       },
       "data": {
        "name": "data-4f2b1264a3a45e6276d4277d4f7bc9f7"
       },
       "datasets": {
        "data-4f2b1264a3a45e6276d4277d4f7bc9f7": [
         {
          "ratings": "1.0",
          "sentiments": -0.058823529411764705
         },
         {
          "ratings": "1.0",
          "sentiments": -0.041666666666666664
         },
         {
          "ratings": "1.0",
          "sentiments": 0.03441920430975963
         },
         {
          "ratings": "1.0",
          "sentiments": -0.07142857142857142
         },
         {
          "ratings": "1.0",
          "sentiments": 0.02097902097902098
         },
         {
          "ratings": "1.0",
          "sentiments": 0.007017543859649121
         },
         {
          "ratings": "1.0",
          "sentiments": 0.0787037037037037
         },
         {
          "ratings": "1.0",
          "sentiments": 0.0002075098814229237
         },
         {
          "ratings": "1.0",
          "sentiments": 0.002338054102759991
         },
         {
          "ratings": "1.0",
          "sentiments": -0.06
         },
         {
          "ratings": "1.0",
          "sentiments": -0.02702702702702703
         },
         {
          "ratings": "1.0",
          "sentiments": 0.053808446455505275
         },
         {
          "ratings": "1.0",
          "sentiments": 0
         },
         {
          "ratings": "1.0",
          "sentiments": -0.125
         },
         {
          "ratings": "1.0",
          "sentiments": 0.004959114959114956
         },
         {
          "ratings": "1.0",
          "sentiments": 0.3333333333333333
         },
         {
          "ratings": "1.0",
          "sentiments": 0.06666666666666667
         },
         {
          "ratings": "1.0",
          "sentiments": -0.0014069264069264064
         },
         {
          "ratings": "1.0",
          "sentiments": 0.048941798941798946
         },
         {
          "ratings": "1.0",
          "sentiments": -0.25555555555555554
         },
         {
          "ratings": "1.0",
          "sentiments": -0.018793706293706296
         },
         {
          "ratings": "1.0",
          "sentiments": 0
         },
         {
          "ratings": "1.0",
          "sentiments": 0.16666666666666666
         },
         {
          "ratings": "1.0",
          "sentiments": 0.009378071606332476
         },
         {
          "ratings": "1.0",
          "sentiments": -0.030303030303030304
         },
         {
          "ratings": "1.0",
          "sentiments": -0.016825396825396827
         },
         {
          "ratings": "1.0",
          "sentiments": -0.75
         },
         {
          "ratings": "1.0",
          "sentiments": 0
         },
         {
          "ratings": "1.0",
          "sentiments": 0.003146853146853148
         },
         {
          "ratings": "1.0",
          "sentiments": -0.5
         },
         {
          "ratings": "1.0",
          "sentiments": 0
         },
         {
          "ratings": "1.0",
          "sentiments": 0.12962962962962962
         },
         {
          "ratings": "1.0",
          "sentiments": -0.10648148148148147
         },
         {
          "ratings": "1.0",
          "sentiments": -0.05
         },
         {
          "ratings": "1.0",
          "sentiments": 0
         },
         {
          "ratings": "1.0",
          "sentiments": 1.3333333333333333
         },
         {
          "ratings": "1.0",
          "sentiments": 0.07878787878787878
         },
         {
          "ratings": "1.0",
          "sentiments": 0.12878787878787878
         },
         {
          "ratings": "1.0",
          "sentiments": 0
         },
         {
          "ratings": "1.0",
          "sentiments": -0.04319727891156462
         },
         {
          "ratings": "1.0",
          "sentiments": 0.25
         },
         {
          "ratings": "1.0",
          "sentiments": -0.375
         },
         {
          "ratings": "1.0",
          "sentiments": 0.0015512281766151739
         },
         {
          "ratings": "1.0",
          "sentiments": -0.3333333333333333
         },
         {
          "ratings": "1.0",
          "sentiments": -0.0406953905139023
         },
         {
          "ratings": "1.0",
          "sentiments": -0.020833333333333332
         },
         {
          "ratings": "1.0",
          "sentiments": 0
         },
         {
          "ratings": "1.0",
          "sentiments": -0.5
         },
         {
          "ratings": "1.0",
          "sentiments": 0.003357753357753358
         },
         {
          "ratings": "1.0",
          "sentiments": -0.25
         },
         {
          "ratings": "1.0",
          "sentiments": 0
         },
         {
          "ratings": "1.0",
          "sentiments": -0.04496031746031746
         },
         {
          "ratings": "1.0",
          "sentiments": 0
         },
         {
          "ratings": "1.0",
          "sentiments": -0.3333333333333333
         },
         {
          "ratings": "1.0",
          "sentiments": -0.010553113553113553
         },
         {
          "ratings": "1.0",
          "sentiments": -0.04520098948670378
         },
         {
          "ratings": "1.0",
          "sentiments": 0.5
         },
         {
          "ratings": "1.0",
          "sentiments": 0
         },
         {
          "ratings": "1.0",
          "sentiments": -0.04677960927960928
         },
         {
          "ratings": "1.0",
          "sentiments": 0
         },
         {
          "ratings": "1.0",
          "sentiments": 0.47058823529411764
         },
         {
          "ratings": "1.0",
          "sentiments": 0
         },
         {
          "ratings": "1.0",
          "sentiments": 0.025242003367003368
         },
         {
          "ratings": "1.0",
          "sentiments": -0.19303030303030302
         },
         {
          "ratings": "1.0",
          "sentiments": -0.022660818713450288
         },
         {
          "ratings": "1.0",
          "sentiments": -0.0775518341307815
         },
         {
          "ratings": "1.0",
          "sentiments": 0.11965811965811965
         },
         {
          "ratings": "1.0",
          "sentiments": -0.025490196078431376
         },
         {
          "ratings": "1.0",
          "sentiments": -0.02991452991452991
         },
         {
          "ratings": "1.0",
          "sentiments": 0
         },
         {
          "ratings": "1.0",
          "sentiments": 0.16666666666666669
         },
         {
          "ratings": "1.0",
          "sentiments": -0.13541666666666666
         },
         {
          "ratings": "1.0",
          "sentiments": -0.30833333333333335
         },
         {
          "ratings": "1.0",
          "sentiments": -0.026666666666666665
         },
         {
          "ratings": "1.0",
          "sentiments": -0.15
         },
         {
          "ratings": "1.0",
          "sentiments": 0
         },
         {
          "ratings": "1.0",
          "sentiments": -0.3333333333333333
         },
         {
          "ratings": "1.0",
          "sentiments": -0.013888888888888888
         },
         {
          "ratings": "1.0",
          "sentiments": -0.3333333333333333
         },
         {
          "ratings": "1.0",
          "sentiments": 0.09848484848484848
         },
         {
          "ratings": "1.0",
          "sentiments": 0
         },
         {
          "ratings": "1.0",
          "sentiments": 0
         },
         {
          "ratings": "1.0",
          "sentiments": -0.25
         },
         {
          "ratings": "1.0",
          "sentiments": 0.02069088319088319
         },
         {
          "ratings": "1.0",
          "sentiments": -0.0926096993821452
         },
         {
          "ratings": "1.0",
          "sentiments": -0.035256410256410256
         },
         {
          "ratings": "1.0",
          "sentiments": -0.07720588235294118
         },
         {
          "ratings": "1.0",
          "sentiments": -0.0384377308615754
         },
         {
          "ratings": "1.0",
          "sentiments": 0.6666666666666666
         },
         {
          "ratings": "1.0",
          "sentiments": -0.05837912087912087
         },
         {
          "ratings": "1.0",
          "sentiments": 0
         },
         {
          "ratings": "1.0",
          "sentiments": 0.10694444444444444
         },
         {
          "ratings": "1.0",
          "sentiments": -0.03826461063303169
         },
         {
          "ratings": "1.0",
          "sentiments": -0.04050925925925926
         },
         {
          "ratings": "1.0",
          "sentiments": -0.06159420289855072
         },
         {
          "ratings": "1.0",
          "sentiments": 0.00779220779220779
         },
         {
          "ratings": "1.0",
          "sentiments": 0.013888888888888886
         },
         {
          "ratings": "1.0",
          "sentiments": -2
         },
         {
          "ratings": "1.0",
          "sentiments": 0.07171474358974358
         },
         {
          "ratings": "1.0",
          "sentiments": -0.023347023347023346
         },
         {
          "ratings": "1.0",
          "sentiments": -0.1
         },
         {
          "ratings": "1.0",
          "sentiments": 0
         },
         {
          "ratings": "1.0",
          "sentiments": -0.0757142857142857
         },
         {
          "ratings": "1.0",
          "sentiments": 0.05555555555555555
         },
         {
          "ratings": "1.0",
          "sentiments": -0.017592592592592594
         },
         {
          "ratings": "1.0",
          "sentiments": 0
         },
         {
          "ratings": "1.0",
          "sentiments": 0.0016666666666666635
         },
         {
          "ratings": "1.0",
          "sentiments": 0.03125
         },
         {
          "ratings": "1.0",
          "sentiments": -0.011078238001314923
         },
         {
          "ratings": "1.0",
          "sentiments": 0.08333333333333334
         },
         {
          "ratings": "1.0",
          "sentiments": -0.011586452762923347
         },
         {
          "ratings": "1.0",
          "sentiments": -0.25
         },
         {
          "ratings": "1.0",
          "sentiments": -0.041666666666666664
         },
         {
          "ratings": "1.0",
          "sentiments": 0
         },
         {
          "ratings": "1.0",
          "sentiments": -0.25
         },
         {
          "ratings": "1.0",
          "sentiments": 0.09375
         },
         {
          "ratings": "1.0",
          "sentiments": -0.002678571428571425
         },
         {
          "ratings": "1.0",
          "sentiments": -0.04444444444444444
         },
         {
          "ratings": "1.0",
          "sentiments": -0.3333333333333333
         },
         {
          "ratings": "1.0",
          "sentiments": -0.5
         },
         {
          "ratings": "1.0",
          "sentiments": 0.026666666666666665
         },
         {
          "ratings": "1.0",
          "sentiments": -0.07464387464387465
         },
         {
          "ratings": "1.0",
          "sentiments": 0
         },
         {
          "ratings": "1.0",
          "sentiments": -0.02631578947368421
         },
         {
          "ratings": "1.0",
          "sentiments": -0.010191687841144362
         },
         {
          "ratings": "1.0",
          "sentiments": 0
         },
         {
          "ratings": "1.0",
          "sentiments": 0.03333333333333333
         },
         {
          "ratings": "1.0",
          "sentiments": 0.05555555555555555
         },
         {
          "ratings": "1.0",
          "sentiments": 0
         },
         {
          "ratings": "1.0",
          "sentiments": 0.075
         },
         {
          "ratings": "1.0",
          "sentiments": 0
         },
         {
          "ratings": "1.0",
          "sentiments": -0.5
         },
         {
          "ratings": "1.0",
          "sentiments": -0.011507936507936507
         },
         {
          "ratings": "1.0",
          "sentiments": -0.25
         },
         {
          "ratings": "1.0",
          "sentiments": 0.01693296116563656
         },
         {
          "ratings": "1.0",
          "sentiments": -0.036689212347107085
         },
         {
          "ratings": "1.0",
          "sentiments": 0.17559523809523808
         },
         {
          "ratings": "1.0",
          "sentiments": 0.08597285067873303
         },
         {
          "ratings": "1.0",
          "sentiments": -0.004999999999999999
         },
         {
          "ratings": "1.0",
          "sentiments": 0.01488095238095239
         },
         {
          "ratings": "1.0",
          "sentiments": -0.022017365350698686
         },
         {
          "ratings": "1.0",
          "sentiments": 0
         },
         {
          "ratings": "1.0",
          "sentiments": 0.1468924593924594
         },
         {
          "ratings": "1.0",
          "sentiments": 0.041666666666666664
         },
         {
          "ratings": "1.0",
          "sentiments": -0.02857142857142857
         },
         {
          "ratings": "1.0",
          "sentiments": 0.6666666666666666
         },
         {
          "ratings": "1.0",
          "sentiments": -0.13222425722425724
         },
         {
          "ratings": "1.0",
          "sentiments": -0.1530448717948718
         },
         {
          "ratings": "1.0",
          "sentiments": -1
         },
         {
          "ratings": "1.0",
          "sentiments": -0.1
         },
         {
          "ratings": "1.0",
          "sentiments": 0.011062872669778914
         },
         {
          "ratings": "1.0",
          "sentiments": -0.10648148148148147
         },
         {
          "ratings": "1.0",
          "sentiments": 0.017857142857142856
         },
         {
          "ratings": "1.0",
          "sentiments": -0.125
         },
         {
          "ratings": "1.0",
          "sentiments": -0.1736111111111111
         },
         {
          "ratings": "1.0",
          "sentiments": -0.0034576534576534605
         },
         {
          "ratings": "1.0",
          "sentiments": -0.08455710955710954
         },
         {
          "ratings": "1.0",
          "sentiments": -0.15384615384615385
         },
         {
          "ratings": "1.0",
          "sentiments": 0.013888888888888886
         },
         {
          "ratings": "1.0",
          "sentiments": 0.029411764705882353
         },
         {
          "ratings": "1.0",
          "sentiments": 0
         },
         {
          "ratings": "1.0",
          "sentiments": -0.3333333333333333
         },
         {
          "ratings": "1.0",
          "sentiments": -0.00423907627735965
         },
         {
          "ratings": "1.0",
          "sentiments": -0.17142857142857143
         },
         {
          "ratings": "1.0",
          "sentiments": 0.028725490196078434
         },
         {
          "ratings": "1.0",
          "sentiments": -0.6666666666666666
         },
         {
          "ratings": "1.0",
          "sentiments": 0.016592261904761905
         },
         {
          "ratings": "1.0",
          "sentiments": -0.03333333333333333
         },
         {
          "ratings": "1.0",
          "sentiments": -0.016324426821948994
         },
         {
          "ratings": "1.0",
          "sentiments": -0.0704277032450407
         },
         {
          "ratings": "1.0",
          "sentiments": -0.0015255530129672003
         },
         {
          "ratings": "1.0",
          "sentiments": -1
         },
         {
          "ratings": "1.0",
          "sentiments": -0.0925925925925926
         },
         {
          "ratings": "1.0",
          "sentiments": 0.012530397592317099
         },
         {
          "ratings": "1.0",
          "sentiments": -0.015422077922077924
         },
         {
          "ratings": "1.0",
          "sentiments": 0
         },
         {
          "ratings": "1.0",
          "sentiments": 0.024999999999999994
         },
         {
          "ratings": "1.0",
          "sentiments": -0.17261904761904762
         },
         {
          "ratings": "1.0",
          "sentiments": -0.07658730158730159
         },
         {
          "ratings": "1.0",
          "sentiments": -0.010251322751322752
         },
         {
          "ratings": "1.0",
          "sentiments": -0.03125
         },
         {
          "ratings": "1.0",
          "sentiments": -0.3333333333333333
         },
         {
          "ratings": "1.0",
          "sentiments": -0.028986786182152315
         },
         {
          "ratings": "1.0",
          "sentiments": -0.1
         },
         {
          "ratings": "1.0",
          "sentiments": 0.0026960784313725485
         },
         {
          "ratings": "1.0",
          "sentiments": 0.007934712346477054
         },
         {
          "ratings": "1.0",
          "sentiments": 0.044897959183673466
         },
         {
          "ratings": "1.0",
          "sentiments": -0.2
         },
         {
          "ratings": "1.0",
          "sentiments": -0.5
         },
         {
          "ratings": "1.0",
          "sentiments": 0.3333333333333333
         },
         {
          "ratings": "1.0",
          "sentiments": -0.08333333333333333
         },
         {
          "ratings": "1.0",
          "sentiments": -0.25
         },
         {
          "ratings": "1.0",
          "sentiments": -0.09404761904761905
         },
         {
          "ratings": "1.0",
          "sentiments": -0.20512820512820512
         },
         {
          "ratings": "1.0",
          "sentiments": 0
         },
         {
          "ratings": "1.0",
          "sentiments": 0
         },
         {
          "ratings": "1.0",
          "sentiments": 0.04
         },
         {
          "ratings": "1.0",
          "sentiments": -0.2708333333333333
         },
         {
          "ratings": "1.0",
          "sentiments": -0.1
         },
         {
          "ratings": "1.0",
          "sentiments": 0
         },
         {
          "ratings": "1.0",
          "sentiments": -1
         },
         {
          "ratings": "1.0",
          "sentiments": -0.053418803418803416
         },
         {
          "ratings": "1.0",
          "sentiments": -0.05
         },
         {
          "ratings": "1.0",
          "sentiments": 0
         },
         {
          "ratings": "1.0",
          "sentiments": 0.014708741326724905
         },
         {
          "ratings": "1.0",
          "sentiments": 0.25
         },
         {
          "ratings": "1.0",
          "sentiments": 0.11966412321251033
         },
         {
          "ratings": "1.0",
          "sentiments": 0.012728937728937727
         },
         {
          "ratings": "1.0",
          "sentiments": -1
         },
         {
          "ratings": "1.0",
          "sentiments": -0.07571640316205533
         },
         {
          "ratings": "1.0",
          "sentiments": 0.125
         },
         {
          "ratings": "1.0",
          "sentiments": -0.07142857142857142
         },
         {
          "ratings": "1.0",
          "sentiments": -0.4740740740740741
         },
         {
          "ratings": "1.0",
          "sentiments": -0.03623015873015873
         },
         {
          "ratings": "1.0",
          "sentiments": -0.3333333333333333
         },
         {
          "ratings": "1.0",
          "sentiments": 0.020983525331351418
         },
         {
          "ratings": "1.0",
          "sentiments": -0.25
         },
         {
          "ratings": "1.0",
          "sentiments": -0.05555555555555555
         },
         {
          "ratings": "1.0",
          "sentiments": 0
         },
         {
          "ratings": "1.0",
          "sentiments": 0
         },
         {
          "ratings": "1.0",
          "sentiments": -0.2
         },
         {
          "ratings": "1.0",
          "sentiments": -0.0909090909090909
         },
         {
          "ratings": "1.0",
          "sentiments": -0.14285714285714285
         },
         {
          "ratings": "1.0",
          "sentiments": 0.020833333333333332
         },
         {
          "ratings": "1.0",
          "sentiments": -1
         },
         {
          "ratings": "1.0",
          "sentiments": -0.16666666666666666
         },
         {
          "ratings": "1.0",
          "sentiments": -0.07142857142857142
         },
         {
          "ratings": "1.0",
          "sentiments": -0.047619047619047616
         },
         {
          "ratings": "1.0",
          "sentiments": 0.025314723590585658
         },
         {
          "ratings": "1.0",
          "sentiments": 0
         },
         {
          "ratings": "1.0",
          "sentiments": -0.16666666666666666
         },
         {
          "ratings": "1.0",
          "sentiments": 0.14285714285714285
         },
         {
          "ratings": "1.0",
          "sentiments": -0.14166666666666666
         },
         {
          "ratings": "1.0",
          "sentiments": -0.039583333333333345
         },
         {
          "ratings": "1.0",
          "sentiments": 0
         },
         {
          "ratings": "1.0",
          "sentiments": 0
         },
         {
          "ratings": "1.0",
          "sentiments": 0.06527777777777777
         },
         {
          "ratings": "1.0",
          "sentiments": 0
         },
         {
          "ratings": "1.0",
          "sentiments": 0.036752136752136746
         },
         {
          "ratings": "1.0",
          "sentiments": 0.11812725090036015
         },
         {
          "ratings": "1.0",
          "sentiments": -0.02857142857142857
         },
         {
          "ratings": "1.0",
          "sentiments": 0.075
         },
         {
          "ratings": "1.0",
          "sentiments": -0.0004926108374384231
         },
         {
          "ratings": "1.0",
          "sentiments": 0
         },
         {
          "ratings": "1.0",
          "sentiments": 0
         },
         {
          "ratings": "1.0",
          "sentiments": -0.5
         },
         {
          "ratings": "1.0",
          "sentiments": -1
         },
         {
          "ratings": "1.0",
          "sentiments": 0
         },
         {
          "ratings": "1.0",
          "sentiments": -0.07898359874644459
         },
         {
          "ratings": "1.0",
          "sentiments": -0.22177849383731735
         },
         {
          "ratings": "1.0",
          "sentiments": -0.0625
         },
         {
          "ratings": "1.0",
          "sentiments": 0
         },
         {
          "ratings": "1.0",
          "sentiments": -0.02752332448362225
         },
         {
          "ratings": "1.0",
          "sentiments": -0.08333333333333333
         },
         {
          "ratings": "1.0",
          "sentiments": -0.07201167062090255
         },
         {
          "ratings": "1.0",
          "sentiments": -0.25
         },
         {
          "ratings": "1.0",
          "sentiments": -0.1
         },
         {
          "ratings": "1.0",
          "sentiments": 0.08823529411764706
         },
         {
          "ratings": "1.0",
          "sentiments": -0.5
         },
         {
          "ratings": "1.0",
          "sentiments": 0.10673473869126043
         },
         {
          "ratings": "1.0",
          "sentiments": -0.06666666666666667
         },
         {
          "ratings": "1.0",
          "sentiments": -0.004839852607709751
         },
         {
          "ratings": "1.0",
          "sentiments": 0
         },
         {
          "ratings": "1.0",
          "sentiments": -0.12414529914529915
         },
         {
          "ratings": "1.0",
          "sentiments": -0.045454545454545456
         },
         {
          "ratings": "1.0",
          "sentiments": -0.2
         },
         {
          "ratings": "1.0",
          "sentiments": 0.09214743589743589
         },
         {
          "ratings": "1.0",
          "sentiments": 0.1
         },
         {
          "ratings": "1.0",
          "sentiments": 0.07792207792207792
         },
         {
          "ratings": "1.0",
          "sentiments": -0.5
         },
         {
          "ratings": "1.0",
          "sentiments": -0.15625
         },
         {
          "ratings": "1.0",
          "sentiments": -0.08583333333333334
         },
         {
          "ratings": "1.0",
          "sentiments": 0.018464052287581703
         },
         {
          "ratings": "1.0",
          "sentiments": -0.06875
         },
         {
          "ratings": "1.0",
          "sentiments": 0.041666666666666664
         },
         {
          "ratings": "1.0",
          "sentiments": 0
         },
         {
          "ratings": "1.0",
          "sentiments": 0.047619047619047616
         },
         {
          "ratings": "1.0",
          "sentiments": -0.020633012820512817
         },
         {
          "ratings": "1.0",
          "sentiments": -0.029411764705882353
         },
         {
          "ratings": "1.0",
          "sentiments": 0
         },
         {
          "ratings": "1.0",
          "sentiments": 0
         },
         {
          "ratings": "1.0",
          "sentiments": -0.19393939393939394
         },
         {
          "ratings": "1.0",
          "sentiments": -0.17380952380952383
         },
         {
          "ratings": "1.0",
          "sentiments": -0.2222222222222222
         },
         {
          "ratings": "1.0",
          "sentiments": -0.005918560606060604
         },
         {
          "ratings": "1.0",
          "sentiments": 0
         },
         {
          "ratings": "1.0",
          "sentiments": 0.009259259259259259
         },
         {
          "ratings": "1.0",
          "sentiments": 0.03212878452816534
         },
         {
          "ratings": "1.0",
          "sentiments": 0.01472770828761612
         },
         {
          "ratings": "1.0",
          "sentiments": -0.03854166666666667
         },
         {
          "ratings": "1.0",
          "sentiments": 0.012879120879120876
         },
         {
          "ratings": "1.0",
          "sentiments": 0
         },
         {
          "ratings": "1.0",
          "sentiments": -0.2222222222222222
         },
         {
          "ratings": "1.0",
          "sentiments": -0.017748917748917754
         },
         {
          "ratings": "1.0",
          "sentiments": 0.04794696079526063
         },
         {
          "ratings": "1.0",
          "sentiments": 0.022727272727272728
         },
         {
          "ratings": "1.0",
          "sentiments": 0.027777777777777776
         },
         {
          "ratings": "1.0",
          "sentiments": -0.038461538461538464
         },
         {
          "ratings": "1.0",
          "sentiments": -0.05555555555555555
         },
         {
          "ratings": "1.0",
          "sentiments": -0.125
         },
         {
          "ratings": "1.0",
          "sentiments": -0.09545454545454546
         },
         {
          "ratings": "1.0",
          "sentiments": -0.050144300144300144
         },
         {
          "ratings": "1.0",
          "sentiments": -0.11805555555555554
         },
         {
          "ratings": "1.0",
          "sentiments": 0
         },
         {
          "ratings": "1.0",
          "sentiments": 0.012179487179487178
         },
         {
          "ratings": "1.0",
          "sentiments": 0.02040816326530612
         },
         {
          "ratings": "1.0",
          "sentiments": -0.023809523809523808
         },
         {
          "ratings": "1.0",
          "sentiments": 0.019949383262076764
         },
         {
          "ratings": "1.0",
          "sentiments": 0
         },
         {
          "ratings": "1.0",
          "sentiments": 0
         },
         {
          "ratings": "1.0",
          "sentiments": -0.02530505079524687
         },
         {
          "ratings": "1.0",
          "sentiments": -0.3333333333333333
         },
         {
          "ratings": "1.0",
          "sentiments": -0.2333333333333333
         },
         {
          "ratings": "1.0",
          "sentiments": 0
         },
         {
          "ratings": "1.0",
          "sentiments": 0
         },
         {
          "ratings": "1.0",
          "sentiments": -0.017301411913561066
         },
         {
          "ratings": "1.0",
          "sentiments": 0.02678571428571428
         },
         {
          "ratings": "1.0",
          "sentiments": 0
         },
         {
          "ratings": "1.0",
          "sentiments": -0.5
         },
         {
          "ratings": "1.0",
          "sentiments": 0
         },
         {
          "ratings": "1.0",
          "sentiments": -0.03741496598639455
         },
         {
          "ratings": "1.0",
          "sentiments": -0.09090909090909091
         },
         {
          "ratings": "1.0",
          "sentiments": 0.002088744588744582
         },
         {
          "ratings": "1.0",
          "sentiments": -0.045454545454545456
         },
         {
          "ratings": "1.0",
          "sentiments": 0.2333333333333333
         },
         {
          "ratings": "1.0",
          "sentiments": -1
         },
         {
          "ratings": "1.0",
          "sentiments": 0
         },
         {
          "ratings": "1.0",
          "sentiments": -0.25
         },
         {
          "ratings": "1.0",
          "sentiments": -1
         },
         {
          "ratings": "1.0",
          "sentiments": -0.011515766841853802
         },
         {
          "ratings": "1.0",
          "sentiments": 0.14166666666666666
         },
         {
          "ratings": "1.0",
          "sentiments": 0.06666666666666667
         },
         {
          "ratings": "1.0",
          "sentiments": 0
         },
         {
          "ratings": "1.0",
          "sentiments": 0.02362716937505015
         },
         {
          "ratings": "1.0",
          "sentiments": 0
         },
         {
          "ratings": "1.0",
          "sentiments": 0.15833333333333333
         },
         {
          "ratings": "1.0",
          "sentiments": -0.16666666666666666
         },
         {
          "ratings": "1.0",
          "sentiments": 0.05179659154443575
         },
         {
          "ratings": "1.0",
          "sentiments": 0.012312931853161737
         },
         {
          "ratings": "1.0",
          "sentiments": 0
         },
         {
          "ratings": "1.0",
          "sentiments": 0.3125
         },
         {
          "ratings": "1.0",
          "sentiments": -0.03125
         },
         {
          "ratings": "1.0",
          "sentiments": -0.001785714285714285
         },
         {
          "ratings": "1.0",
          "sentiments": -0.03125
         },
         {
          "ratings": "1.0",
          "sentiments": -0.022907509157509158
         },
         {
          "ratings": "1.0",
          "sentiments": 0
         },
         {
          "ratings": "1.0",
          "sentiments": 0
         },
         {
          "ratings": "1.0",
          "sentiments": -0.1
         },
         {
          "ratings": "1.0",
          "sentiments": 0
         },
         {
          "ratings": "1.0",
          "sentiments": -1
         },
         {
          "ratings": "1.0",
          "sentiments": 0
         },
         {
          "ratings": "1.0",
          "sentiments": 0
         },
         {
          "ratings": "1.0",
          "sentiments": -0.1028138528138528
         },
         {
          "ratings": "1.0",
          "sentiments": -1
         },
         {
          "ratings": "1.0",
          "sentiments": 0
         },
         {
          "ratings": "1.0",
          "sentiments": 0
         },
         {
          "ratings": "1.0",
          "sentiments": -0.008080808080808083
         },
         {
          "ratings": "1.0",
          "sentiments": 0
         },
         {
          "ratings": "1.0",
          "sentiments": -1
         },
         {
          "ratings": "1.0",
          "sentiments": 0.0196078431372549
         },
         {
          "ratings": "1.0",
          "sentiments": 0
         },
         {
          "ratings": "1.0",
          "sentiments": -0.029436352347432828
         },
         {
          "ratings": "1.0",
          "sentiments": -0.023076923076923078
         },
         {
          "ratings": "1.0",
          "sentiments": 0
         },
         {
          "ratings": "1.0",
          "sentiments": -0.07774243300559089
         },
         {
          "ratings": "1.0",
          "sentiments": -0.0498979490242931
         },
         {
          "ratings": "1.0",
          "sentiments": 0.24074074074074073
         },
         {
          "ratings": "1.0",
          "sentiments": -1
         },
         {
          "ratings": "1.0",
          "sentiments": -0.25
         },
         {
          "ratings": "1.0",
          "sentiments": -0.05959595959595959
         },
         {
          "ratings": "1.0",
          "sentiments": -0.07045454545454546
         },
         {
          "ratings": "1.0",
          "sentiments": -0.025
         },
         {
          "ratings": "1.0",
          "sentiments": 0
         },
         {
          "ratings": "1.0",
          "sentiments": -0.0667189366786141
         },
         {
          "ratings": "1.0",
          "sentiments": -0.5
         },
         {
          "ratings": "1.0",
          "sentiments": 0.4642857142857143
         },
         {
          "ratings": "1.0",
          "sentiments": -0.06666666666666667
         },
         {
          "ratings": "1.0",
          "sentiments": 0.015625
         },
         {
          "ratings": "1.0",
          "sentiments": 0
         },
         {
          "ratings": "1.0",
          "sentiments": 0.15
         },
         {
          "ratings": "1.0",
          "sentiments": 0
         },
         {
          "ratings": "1.0",
          "sentiments": -0.037037037037037035
         },
         {
          "ratings": "1.0",
          "sentiments": -0.08333333333333333
         },
         {
          "ratings": "1.0",
          "sentiments": -0.06666666666666667
         },
         {
          "ratings": "1.0",
          "sentiments": 0
         },
         {
          "ratings": "1.0",
          "sentiments": 0.36250000000000004
         },
         {
          "ratings": "1.0",
          "sentiments": -0.012774725274725276
         },
         {
          "ratings": "1.0",
          "sentiments": 0.019821876118868605
         },
         {
          "ratings": "1.0",
          "sentiments": -0.06666666666666667
         },
         {
          "ratings": "1.0",
          "sentiments": 0.0625
         },
         {
          "ratings": "1.0",
          "sentiments": -0.2
         },
         {
          "ratings": "1.0",
          "sentiments": -0.11649572649572648
         },
         {
          "ratings": "1.0",
          "sentiments": -0.0029914529914529917
         },
         {
          "ratings": "1.0",
          "sentiments": -0.125
         },
         {
          "ratings": "1.0",
          "sentiments": 0
         },
         {
          "ratings": "1.0",
          "sentiments": -0.05263157894736842
         },
         {
          "ratings": "1.0",
          "sentiments": 0
         },
         {
          "ratings": "1.0",
          "sentiments": -0.12675324675324676
         },
         {
          "ratings": "1.0",
          "sentiments": -0.03333333333333333
         },
         {
          "ratings": "1.0",
          "sentiments": -0.375
         },
         {
          "ratings": "1.0",
          "sentiments": -0.11126022126022127
         },
         {
          "ratings": "1.0",
          "sentiments": -0.037037037037037035
         },
         {
          "ratings": "1.0",
          "sentiments": -0.08095238095238096
         },
         {
          "ratings": "1.0",
          "sentiments": -0.07004830917874395
         },
         {
          "ratings": "1.0",
          "sentiments": 0
         },
         {
          "ratings": "1.0",
          "sentiments": 0
         },
         {
          "ratings": "1.0",
          "sentiments": -0.19999999999999998
         },
         {
          "ratings": "1.0",
          "sentiments": 0.004829059829059831
         },
         {
          "ratings": "1.0",
          "sentiments": -0.04742424242424243
         },
         {
          "ratings": "1.0",
          "sentiments": -0.4166666666666667
         },
         {
          "ratings": "1.0",
          "sentiments": 0.014455782312925167
         },
         {
          "ratings": "1.0",
          "sentiments": -0.3015151515151515
         },
         {
          "ratings": "1.0",
          "sentiments": -1
         },
         {
          "ratings": "1.0",
          "sentiments": 0
         },
         {
          "ratings": "1.0",
          "sentiments": -0.02756410256410257
         },
         {
          "ratings": "1.0",
          "sentiments": -0.10319521748093177
         },
         {
          "ratings": "1.0",
          "sentiments": 0
         },
         {
          "ratings": "1.0",
          "sentiments": 0.01984126984126984
         },
         {
          "ratings": "1.0",
          "sentiments": -0.07133838383838384
         },
         {
          "ratings": "1.0",
          "sentiments": -0.016666666666666677
         },
         {
          "ratings": "1.0",
          "sentiments": -0.196969696969697
         },
         {
          "ratings": "1.0",
          "sentiments": 0.13042667209333877
         },
         {
          "ratings": "1.0",
          "sentiments": -0.002232142857142856
         },
         {
          "ratings": "1.0",
          "sentiments": 0.09583333333333333
         },
         {
          "ratings": "1.0",
          "sentiments": -0.041504846705187705
         },
         {
          "ratings": "1.0",
          "sentiments": -0.013425925925925928
         },
         {
          "ratings": "1.0",
          "sentiments": -0.0625
         },
         {
          "ratings": "1.0",
          "sentiments": 0.18181818181818182
         },
         {
          "ratings": "1.0",
          "sentiments": -0.048564373502797145
         },
         {
          "ratings": "1.0",
          "sentiments": -0.2857142857142857
         },
         {
          "ratings": "1.0",
          "sentiments": -0.0342436974789916
         },
         {
          "ratings": "1.0",
          "sentiments": -0.16666666666666666
         },
         {
          "ratings": "1.0",
          "sentiments": 0.07666666666666666
         },
         {
          "ratings": "1.0",
          "sentiments": -0.02983193277310925
         },
         {
          "ratings": "1.0",
          "sentiments": -0.07894736842105263
         },
         {
          "ratings": "1.0",
          "sentiments": 0
         },
         {
          "ratings": "1.0",
          "sentiments": 0.04583333333333334
         },
         {
          "ratings": "1.0",
          "sentiments": -0.16666666666666666
         },
         {
          "ratings": "1.0",
          "sentiments": 0
         },
         {
          "ratings": "1.0",
          "sentiments": 0.5
         },
         {
          "ratings": "1.0",
          "sentiments": 0
         },
         {
          "ratings": "1.0",
          "sentiments": 0.05175688509021842
         },
         {
          "ratings": "1.0",
          "sentiments": -0.31512605042016806
         },
         {
          "ratings": "1.0",
          "sentiments": 0.14285714285714285
         },
         {
          "ratings": "1.0",
          "sentiments": 0
         },
         {
          "ratings": "1.0",
          "sentiments": -0.018382352941176468
         },
         {
          "ratings": "1.0",
          "sentiments": 0.10283224400871459
         },
         {
          "ratings": "1.0",
          "sentiments": -0.06428571428571428
         },
         {
          "ratings": "1.0",
          "sentiments": -0.08333333333333333
         },
         {
          "ratings": "1.0",
          "sentiments": -0.1898148148148148
         },
         {
          "ratings": "1.0",
          "sentiments": -0.24444444444444446
         },
         {
          "ratings": "1.0",
          "sentiments": 0.006461042009381054
         },
         {
          "ratings": "1.0",
          "sentiments": -0.019675925925925923
         },
         {
          "ratings": "1.0",
          "sentiments": 0.011111111111111118
         },
         {
          "ratings": "1.0",
          "sentiments": -0.03125
         },
         {
          "ratings": "1.0",
          "sentiments": 0.048813277563277566
         },
         {
          "ratings": "1.0",
          "sentiments": -0.08333333333333333
         },
         {
          "ratings": "1.0",
          "sentiments": 0.225
         },
         {
          "ratings": "1.0",
          "sentiments": -0.08333333333333333
         },
         {
          "ratings": "1.0",
          "sentiments": -0.10001838066354196
         },
         {
          "ratings": "1.0",
          "sentiments": 0
         },
         {
          "ratings": "1.0",
          "sentiments": -0.008547008547008544
         },
         {
          "ratings": "1.0",
          "sentiments": -0.0016434314954051812
         },
         {
          "ratings": "1.0",
          "sentiments": -0.011706349206349206
         },
         {
          "ratings": "1.0",
          "sentiments": -0.09375
         },
         {
          "ratings": "1.0",
          "sentiments": 0.030303030303030304
         },
         {
          "ratings": "1.0",
          "sentiments": -1
         },
         {
          "ratings": "1.0",
          "sentiments": 0.03184523809523809
         },
         {
          "ratings": "1.0",
          "sentiments": -0.04444444444444444
         },
         {
          "ratings": "1.0",
          "sentiments": -1
         },
         {
          "ratings": "1.0",
          "sentiments": -0.07291666666666667
         },
         {
          "ratings": "1.0",
          "sentiments": -0.037037037037037035
         },
         {
          "ratings": "1.0",
          "sentiments": 0
         },
         {
          "ratings": "1.0",
          "sentiments": -0.027777777777777776
         },
         {
          "ratings": "1.0",
          "sentiments": -0.0625
         },
         {
          "ratings": "1.0",
          "sentiments": 0.2857142857142857
         },
         {
          "ratings": "1.0",
          "sentiments": -0.18872549019607843
         },
         {
          "ratings": "1.0",
          "sentiments": -0.14285714285714285
         },
         {
          "ratings": "1.0",
          "sentiments": 0.03125
         },
         {
          "ratings": "1.0",
          "sentiments": -0.014795918367346941
         },
         {
          "ratings": "1.0",
          "sentiments": -0.07142857142857142
         },
         {
          "ratings": "1.0",
          "sentiments": -0.02537593984962406
         },
         {
          "ratings": "1.0",
          "sentiments": -1
         },
         {
          "ratings": "1.0",
          "sentiments": -0.039473684210526314
         },
         {
          "ratings": "1.0",
          "sentiments": -0.5
         },
         {
          "ratings": "1.0",
          "sentiments": -0.07291666666666667
         },
         {
          "ratings": "1.0",
          "sentiments": 0.06470588235294118
         },
         {
          "ratings": "1.0",
          "sentiments": 0.16666666666666666
         },
         {
          "ratings": "1.0",
          "sentiments": 0
         },
         {
          "ratings": "1.0",
          "sentiments": -0.2074074074074074
         },
         {
          "ratings": "1.0",
          "sentiments": -0.03079526467684362
         },
         {
          "ratings": "1.0",
          "sentiments": -0.125
         },
         {
          "ratings": "1.0",
          "sentiments": -0.14285714285714285
         },
         {
          "ratings": "1.0",
          "sentiments": 0
         },
         {
          "ratings": "1.0",
          "sentiments": -0.1627450980392157
         },
         {
          "ratings": "1.0",
          "sentiments": 0.04722222222222222
         },
         {
          "ratings": "1.0",
          "sentiments": -0.32291666666666663
         },
         {
          "ratings": "1.0",
          "sentiments": -0.08695652173913043
         },
         {
          "ratings": "1.0",
          "sentiments": -0.025454545454545455
         },
         {
          "ratings": "1.0",
          "sentiments": 0.0022727272727272735
         },
         {
          "ratings": "1.0",
          "sentiments": 0
         },
         {
          "ratings": "1.0",
          "sentiments": 0.09406432748538013
         },
         {
          "ratings": "1.0",
          "sentiments": 0
         },
         {
          "ratings": "1.0",
          "sentiments": 0.027777777777777776
         },
         {
          "ratings": "1.0",
          "sentiments": 0.011111111111111108
         },
         {
          "ratings": "1.0",
          "sentiments": -0.1538961038961039
         },
         {
          "ratings": "1.0",
          "sentiments": -0.02995098039215686
         },
         {
          "ratings": "1.0",
          "sentiments": -0.09375
         },
         {
          "ratings": "1.0",
          "sentiments": 0
         },
         {
          "ratings": "1.0",
          "sentiments": 0
         },
         {
          "ratings": "1.0",
          "sentiments": -0.125
         },
         {
          "ratings": "1.0",
          "sentiments": 0.014645118620925074
         },
         {
          "ratings": "1.0",
          "sentiments": -0.10284105640276239
         },
         {
          "ratings": "1.0",
          "sentiments": 0.03519061583577712
         },
         {
          "ratings": "1.0",
          "sentiments": -0.017857142857142856
         },
         {
          "ratings": "1.0",
          "sentiments": 0.024999999999999998
         },
         {
          "ratings": "1.0",
          "sentiments": 0
         },
         {
          "ratings": "1.0",
          "sentiments": -0.058823529411764705
         },
         {
          "ratings": "1.0",
          "sentiments": -0.02727272727272727
         },
         {
          "ratings": "1.0",
          "sentiments": -0.2222222222222222
         },
         {
          "ratings": "1.0",
          "sentiments": 0.0125
         },
         {
          "ratings": "1.0",
          "sentiments": -0.14285714285714285
         },
         {
          "ratings": "1.0",
          "sentiments": -0.10714285714285715
         },
         {
          "ratings": "1.0",
          "sentiments": -0.01103896103896104
         },
         {
          "ratings": "1.0",
          "sentiments": 0
         },
         {
          "ratings": "1.0",
          "sentiments": 0.0671474358974359
         },
         {
          "ratings": "1.0",
          "sentiments": 0.04
         },
         {
          "ratings": "1.0",
          "sentiments": 0
         },
         {
          "ratings": "1.0",
          "sentiments": -0.07692307692307693
         },
         {
          "ratings": "1.0",
          "sentiments": 0.028725490196078434
         },
         {
          "ratings": "1.0",
          "sentiments": -0.17777777777777778
         },
         {
          "ratings": "1.0",
          "sentiments": 0.00444444444444444
         },
         {
          "ratings": "1.0",
          "sentiments": 0
         },
         {
          "ratings": "1.0",
          "sentiments": 0.08518518518518518
         },
         {
          "ratings": "1.0",
          "sentiments": 0.125
         },
         {
          "ratings": "1.0",
          "sentiments": 0
         },
         {
          "ratings": "1.0",
          "sentiments": -0.08012820512820512
         },
         {
          "ratings": "1.0",
          "sentiments": -0.029541062801932368
         },
         {
          "ratings": "1.0",
          "sentiments": -0.042468805704099825
         },
         {
          "ratings": "1.0",
          "sentiments": 0.012933978576767952
         },
         {
          "ratings": "1.0",
          "sentiments": -1
         },
         {
          "ratings": "1.0",
          "sentiments": -0.5
         },
         {
          "ratings": "1.0",
          "sentiments": 0
         },
         {
          "ratings": "1.0",
          "sentiments": -0.012820512820512822
         },
         {
          "ratings": "1.0",
          "sentiments": -0.2325
         },
         {
          "ratings": "1.0",
          "sentiments": 0.2796296296296296
         },
         {
          "ratings": "1.0",
          "sentiments": -0.016666666666666666
         },
         {
          "ratings": "1.0",
          "sentiments": -0.018682065217391304
         },
         {
          "ratings": "1.0",
          "sentiments": -0.007738095238095231
         },
         {
          "ratings": "1.0",
          "sentiments": 0
         },
         {
          "ratings": "1.0",
          "sentiments": 0
         },
         {
          "ratings": "1.0",
          "sentiments": 0
         },
         {
          "ratings": "1.0",
          "sentiments": 0
         },
         {
          "ratings": "1.0",
          "sentiments": 0
         },
         {
          "ratings": "1.0",
          "sentiments": -0.11981074481074479
         },
         {
          "ratings": "1.0",
          "sentiments": 0
         },
         {
          "ratings": "1.0",
          "sentiments": -0.008333333333333331
         },
         {
          "ratings": "1.0",
          "sentiments": -0.013227513227513227
         },
         {
          "ratings": "1.0",
          "sentiments": -0.05714285714285715
         },
         {
          "ratings": "1.0",
          "sentiments": -0.3333333333333333
         },
         {
          "ratings": "1.0",
          "sentiments": 0.07171474358974358
         },
         {
          "ratings": "1.0",
          "sentiments": -0.23188405797101447
         },
         {
          "ratings": "1.0",
          "sentiments": -0.0625
         },
         {
          "ratings": "1.0",
          "sentiments": 0
         },
         {
          "ratings": "1.0",
          "sentiments": -0.027777777777777776
         },
         {
          "ratings": "1.0",
          "sentiments": -0.1111111111111111
         },
         {
          "ratings": "1.0",
          "sentiments": 0.14600840336134452
         },
         {
          "ratings": "1.0",
          "sentiments": -0.2
         },
         {
          "ratings": "1.0",
          "sentiments": -0.4
         },
         {
          "ratings": "1.0",
          "sentiments": -0.11904761904761905
         },
         {
          "ratings": "1.0",
          "sentiments": 0
         },
         {
          "ratings": "1.0",
          "sentiments": -0.07692307692307693
         },
         {
          "ratings": "1.0",
          "sentiments": -0.125
         },
         {
          "ratings": "1.0",
          "sentiments": 0
         },
         {
          "ratings": "1.0",
          "sentiments": 0.019931773879142304
         },
         {
          "ratings": "1.0",
          "sentiments": -0.15
         },
         {
          "ratings": "1.0",
          "sentiments": -0.07995129870129869
         },
         {
          "ratings": "1.0",
          "sentiments": 0.25
         },
         {
          "ratings": "1.0",
          "sentiments": 0.05411255411255411
         },
         {
          "ratings": "1.0",
          "sentiments": 0.01745637017544407
         },
         {
          "ratings": "1.0",
          "sentiments": -0.013095238095238094
         },
         {
          "ratings": "1.0",
          "sentiments": 0.1909722222222222
         },
         {
          "ratings": "1.0",
          "sentiments": 0
         },
         {
          "ratings": "1.0",
          "sentiments": 0.11607142857142856
         },
         {
          "ratings": "1.0",
          "sentiments": -0.14285714285714285
         },
         {
          "ratings": "1.0",
          "sentiments": 0.13282312925170067
         },
         {
          "ratings": "1.0",
          "sentiments": 0.0625
         },
         {
          "ratings": "1.0",
          "sentiments": -0.05935672514619883
         },
         {
          "ratings": "1.0",
          "sentiments": 0
         },
         {
          "ratings": "1.0",
          "sentiments": -0.037037037037037035
         },
         {
          "ratings": "1.0",
          "sentiments": -0.05037258355825573
         },
         {
          "ratings": "1.0",
          "sentiments": 0.041666666666666664
         },
         {
          "ratings": "1.0",
          "sentiments": -0.16666666666666666
         },
         {
          "ratings": "1.0",
          "sentiments": -0.262310606060606
         },
         {
          "ratings": "1.0",
          "sentiments": -0.000915750915750916
         },
         {
          "ratings": "1.0",
          "sentiments": -0.047619047619047616
         },
         {
          "ratings": "1.0",
          "sentiments": -1
         },
         {
          "ratings": "1.0",
          "sentiments": 0.25
         },
         {
          "ratings": "1.0",
          "sentiments": -0.5454545454545454
         },
         {
          "ratings": "1.0",
          "sentiments": 0
         },
         {
          "ratings": "1.0",
          "sentiments": 0.008658008658008656
         },
         {
          "ratings": "1.0",
          "sentiments": -0.25
         },
         {
          "ratings": "1.0",
          "sentiments": 0.037037037037037035
         },
         {
          "ratings": "1.0",
          "sentiments": -0.13392857142857142
         },
         {
          "ratings": "1.0",
          "sentiments": -0.10714285714285714
         },
         {
          "ratings": "1.0",
          "sentiments": 0.009259259259259259
         },
         {
          "ratings": "1.0",
          "sentiments": 0.05
         },
         {
          "ratings": "1.0",
          "sentiments": 0.016199813258636786
         },
         {
          "ratings": "1.0",
          "sentiments": -0.05448717948717949
         },
         {
          "ratings": "1.0",
          "sentiments": -0.03766233766233766
         },
         {
          "ratings": "1.0",
          "sentiments": -0.12857142857142856
         },
         {
          "ratings": "1.0",
          "sentiments": 0.012847222222222225
         },
         {
          "ratings": "1.0",
          "sentiments": 0.4166666666666667
         },
         {
          "ratings": "1.0",
          "sentiments": -1
         },
         {
          "ratings": "1.0",
          "sentiments": 0.5
         },
         {
          "ratings": "1.0",
          "sentiments": -0.5
         },
         {
          "ratings": "1.0",
          "sentiments": 0.06944444444444445
         },
         {
          "ratings": "1.0",
          "sentiments": -0.047619047619047616
         },
         {
          "ratings": "1.0",
          "sentiments": -0.11102817592179294
         },
         {
          "ratings": "1.0",
          "sentiments": -0.2571428571428571
         },
         {
          "ratings": "1.0",
          "sentiments": 0.039316239316239315
         },
         {
          "ratings": "1.0",
          "sentiments": -0.08363636363636362
         },
         {
          "ratings": "1.0",
          "sentiments": 0.125
         },
         {
          "ratings": "1.0",
          "sentiments": 0.01958152958152958
         },
         {
          "ratings": "1.0",
          "sentiments": 0.009469696969696968
         },
         {
          "ratings": "1.0",
          "sentiments": -0.10344827586206896
         },
         {
          "ratings": "1.0",
          "sentiments": 0
         },
         {
          "ratings": "1.0",
          "sentiments": -0.017857142857142863
         },
         {
          "ratings": "1.0",
          "sentiments": -0.25
         },
         {
          "ratings": "1.0",
          "sentiments": -0.03155663780663781
         },
         {
          "ratings": "1.0",
          "sentiments": 0
         },
         {
          "ratings": "1.0",
          "sentiments": 0.035259740259740255
         },
         {
          "ratings": "1.0",
          "sentiments": 0.060317460317460304
         },
         {
          "ratings": "1.0",
          "sentiments": -0.06824499030381384
         },
         {
          "ratings": "1.0",
          "sentiments": -0.5
         },
         {
          "ratings": "1.0",
          "sentiments": -0.08463203463203463
         },
         {
          "ratings": "1.0",
          "sentiments": 0
         },
         {
          "ratings": "1.0",
          "sentiments": 0.21176470588235294
         },
         {
          "ratings": "1.0",
          "sentiments": -0.002426739926739924
         },
         {
          "ratings": "1.0",
          "sentiments": -0.11547619047619047
         },
         {
          "ratings": "1.0",
          "sentiments": 0.006410256410256415
         },
         {
          "ratings": "1.0",
          "sentiments": -0.2
         },
         {
          "ratings": "1.0",
          "sentiments": 0.03409090909090909
         },
         {
          "ratings": "1.0",
          "sentiments": -0.3333333333333333
         },
         {
          "ratings": "1.0",
          "sentiments": -0.047619047619047616
         },
         {
          "ratings": "1.0",
          "sentiments": 0.16666666666666666
         },
         {
          "ratings": "1.0",
          "sentiments": 0.002936581406320745
         },
         {
          "ratings": "1.0",
          "sentiments": 0.15555555555555556
         },
         {
          "ratings": "1.0",
          "sentiments": -0.16666666666666666
         },
         {
          "ratings": "1.0",
          "sentiments": -0.025188592131804403
         },
         {
          "ratings": "1.0",
          "sentiments": -0.06666666666666667
         },
         {
          "ratings": "1.0",
          "sentiments": -0.0935672514619883
         },
         {
          "ratings": "1.0",
          "sentiments": -0.06153846153846154
         },
         {
          "ratings": "1.0",
          "sentiments": 0.16666666666666666
         },
         {
          "ratings": "1.0",
          "sentiments": -0.0505050505050505
         },
         {
          "ratings": "1.0",
          "sentiments": 0.0626984126984127
         },
         {
          "ratings": "1.0",
          "sentiments": 0.012820512820512822
         },
         {
          "ratings": "1.0",
          "sentiments": 0.006430671083302661
         },
         {
          "ratings": "1.0",
          "sentiments": -0.07500000000000001
         },
         {
          "ratings": "1.0",
          "sentiments": -0.021518783711570125
         },
         {
          "ratings": "1.0",
          "sentiments": -0.021692076039902128
         },
         {
          "ratings": "1.0",
          "sentiments": 0.1111111111111111
         },
         {
          "ratings": "1.0",
          "sentiments": -0.1125
         },
         {
          "ratings": "1.0",
          "sentiments": 0
         },
         {
          "ratings": "1.0",
          "sentiments": 0.1037037037037037
         },
         {
          "ratings": "1.0",
          "sentiments": 0.06884057971014493
         },
         {
          "ratings": "1.0",
          "sentiments": -0.1474025974025974
         },
         {
          "ratings": "1.0",
          "sentiments": -0.125
         },
         {
          "ratings": "1.0",
          "sentiments": -0.004629629629629632
         },
         {
          "ratings": "1.0",
          "sentiments": 0.03051948051948052
         },
         {
          "ratings": "1.0",
          "sentiments": -0.014814814814814817
         },
         {
          "ratings": "1.0",
          "sentiments": 0.03928418803418803
         },
         {
          "ratings": "1.0",
          "sentiments": -0.1
         },
         {
          "ratings": "1.0",
          "sentiments": -0.060242518059855525
         },
         {
          "ratings": "1.0",
          "sentiments": 0.08804369486722428
         },
         {
          "ratings": "1.0",
          "sentiments": -0.0935672514619883
         },
         {
          "ratings": "1.0",
          "sentiments": 0.05800000000000001
         },
         {
          "ratings": "1.0",
          "sentiments": -1
         },
         {
          "ratings": "1.0",
          "sentiments": -0.3333333333333333
         },
         {
          "ratings": "1.0",
          "sentiments": -0.022222222222222233
         },
         {
          "ratings": "1.0",
          "sentiments": -0.08333333333333333
         },
         {
          "ratings": "1.0",
          "sentiments": 0.14285714285714285
         },
         {
          "ratings": "1.0",
          "sentiments": 0.11238977072310405
         },
         {
          "ratings": "1.0",
          "sentiments": -0.09821428571428571
         },
         {
          "ratings": "1.0",
          "sentiments": -0.1111111111111111
         },
         {
          "ratings": "1.0",
          "sentiments": 0.008521367521367517
         },
         {
          "ratings": "1.0",
          "sentiments": -0.1
         },
         {
          "ratings": "1.0",
          "sentiments": -0.09090909090909091
         },
         {
          "ratings": "1.0",
          "sentiments": -0.19999999999999998
         },
         {
          "ratings": "1.0",
          "sentiments": -0.10416666666666666
         },
         {
          "ratings": "1.0",
          "sentiments": 0.010742108768424559
         },
         {
          "ratings": "1.0",
          "sentiments": -0.06904761904761905
         },
         {
          "ratings": "1.0",
          "sentiments": -0.024273552970214704
         },
         {
          "ratings": "1.0",
          "sentiments": -0.025925925925925925
         },
         {
          "ratings": "1.0",
          "sentiments": -0.020833333333333336
         },
         {
          "ratings": "1.0",
          "sentiments": 0.5
         },
         {
          "ratings": "1.0",
          "sentiments": -0.14193802521008403
         },
         {
          "ratings": "1.0",
          "sentiments": -0.125
         },
         {
          "ratings": "1.0",
          "sentiments": 0.25
         },
         {
          "ratings": "1.0",
          "sentiments": -0.16666666666666666
         },
         {
          "ratings": "1.0",
          "sentiments": 0.10401234567901234
         },
         {
          "ratings": "1.0",
          "sentiments": 0.15675381263616556
         },
         {
          "ratings": "1.0",
          "sentiments": -0.5
         },
         {
          "ratings": "1.0",
          "sentiments": 0
         },
         {
          "ratings": "1.0",
          "sentiments": -1
         },
         {
          "ratings": "1.0",
          "sentiments": 0
         },
         {
          "ratings": "1.0",
          "sentiments": -0.4
         },
         {
          "ratings": "1.0",
          "sentiments": -0.04722222222222222
         },
         {
          "ratings": "1.0",
          "sentiments": -0.06521739130434782
         },
         {
          "ratings": "1.0",
          "sentiments": -0.023333333333333338
         },
         {
          "ratings": "1.0",
          "sentiments": -0.043542068697348196
         },
         {
          "ratings": "1.0",
          "sentiments": 0
         },
         {
          "ratings": "1.0",
          "sentiments": -0.6666666666666666
         },
         {
          "ratings": "1.0",
          "sentiments": -0.16666666666666666
         },
         {
          "ratings": "1.0",
          "sentiments": -0.25
         },
         {
          "ratings": "1.0",
          "sentiments": 0.03708653353814644
         },
         {
          "ratings": "1.0",
          "sentiments": 0
         },
         {
          "ratings": "1.0",
          "sentiments": -0.05555555555555555
         },
         {
          "ratings": "1.0",
          "sentiments": 0
         },
         {
          "ratings": "1.0",
          "sentiments": -0.010793650793650795
         },
         {
          "ratings": "1.0",
          "sentiments": -0.0196078431372549
         },
         {
          "ratings": "1.0",
          "sentiments": 0
         },
         {
          "ratings": "1.0",
          "sentiments": 0
         },
         {
          "ratings": "1.0",
          "sentiments": -0.27167277167277165
         },
         {
          "ratings": "1.0",
          "sentiments": -0.11369047619047616
         },
         {
          "ratings": "1.0",
          "sentiments": 0.047619047619047616
         },
         {
          "ratings": "1.0",
          "sentiments": -0.044407894736842105
         },
         {
          "ratings": "1.0",
          "sentiments": 0.023809523809523808
         },
         {
          "ratings": "1.0",
          "sentiments": -0.14285714285714285
         },
         {
          "ratings": "1.0",
          "sentiments": -0.2633074935400517
         },
         {
          "ratings": "1.0",
          "sentiments": 0.018518518518518517
         },
         {
          "ratings": "1.0",
          "sentiments": -0.0625
         },
         {
          "ratings": "1.0",
          "sentiments": 0
         },
         {
          "ratings": "1.0",
          "sentiments": -0.125
         },
         {
          "ratings": "1.0",
          "sentiments": 0.02888888888888889
         },
         {
          "ratings": "1.0",
          "sentiments": -0.09090909090909091
         },
         {
          "ratings": "1.0",
          "sentiments": 0.02725563909774437
         },
         {
          "ratings": "1.0",
          "sentiments": -0.014705882352941176
         },
         {
          "ratings": "1.0",
          "sentiments": 0.006639194139194138
         },
         {
          "ratings": "1.0",
          "sentiments": 0
         },
         {
          "ratings": "1.0",
          "sentiments": 0.8
         },
         {
          "ratings": "1.0",
          "sentiments": 0
         },
         {
          "ratings": "1.0",
          "sentiments": 0.022222222222222223
         },
         {
          "ratings": "1.0",
          "sentiments": -0.01079124579124579
         },
         {
          "ratings": "1.0",
          "sentiments": -0.1
         },
         {
          "ratings": "1.0",
          "sentiments": 0
         },
         {
          "ratings": "1.0",
          "sentiments": -0.09722222222222221
         },
         {
          "ratings": "1.0",
          "sentiments": 0
         },
         {
          "ratings": "1.0",
          "sentiments": 0.023333333333333338
         },
         {
          "ratings": "1.0",
          "sentiments": 1
         },
         {
          "ratings": "1.0",
          "sentiments": 0.05555555555555555
         },
         {
          "ratings": "1.0",
          "sentiments": -0.5
         },
         {
          "ratings": "1.0",
          "sentiments": -0.0030555555555555557
         },
         {
          "ratings": "1.0",
          "sentiments": 0.0089126559714795
         },
         {
          "ratings": "1.0",
          "sentiments": -0.019230769230769232
         },
         {
          "ratings": "1.0",
          "sentiments": -0.06726617608970548
         },
         {
          "ratings": "1.0",
          "sentiments": -0.04006410256410257
         },
         {
          "ratings": "1.0",
          "sentiments": -0.3333333333333333
         },
         {
          "ratings": "1.0",
          "sentiments": -0.006818181818181818
         },
         {
          "ratings": "1.0",
          "sentiments": 0
         },
         {
          "ratings": "1.0",
          "sentiments": 0.0014826839826839848
         },
         {
          "ratings": "1.0",
          "sentiments": 0.3333333333333333
         },
         {
          "ratings": "1.0",
          "sentiments": -0.047619047619047616
         },
         {
          "ratings": "1.0",
          "sentiments": -0.5
         },
         {
          "ratings": "1.0",
          "sentiments": 0.01666666666666667
         },
         {
          "ratings": "1.0",
          "sentiments": -0.04415478312537136
         },
         {
          "ratings": "1.0",
          "sentiments": 0.10259103641456582
         },
         {
          "ratings": "1.0",
          "sentiments": 0.06666666666666667
         },
         {
          "ratings": "1.0",
          "sentiments": -0.08333333333333333
         },
         {
          "ratings": "1.0",
          "sentiments": 0.041666666666666664
         },
         {
          "ratings": "1.0",
          "sentiments": 0
         },
         {
          "ratings": "1.0",
          "sentiments": 0
         },
         {
          "ratings": "1.0",
          "sentiments": 0
         },
         {
          "ratings": "1.0",
          "sentiments": 0.25
         },
         {
          "ratings": "1.0",
          "sentiments": 0
         },
         {
          "ratings": "1.0",
          "sentiments": -1
         },
         {
          "ratings": "1.0",
          "sentiments": -0.0641025641025641
         },
         {
          "ratings": "1.0",
          "sentiments": 0.5
         },
         {
          "ratings": "1.0",
          "sentiments": -0.3333333333333333
         },
         {
          "ratings": "1.0",
          "sentiments": -0.09567901234567902
         },
         {
          "ratings": "1.0",
          "sentiments": -0.10611408199643493
         },
         {
          "ratings": "1.0",
          "sentiments": -0.25
         },
         {
          "ratings": "1.0",
          "sentiments": -0.18181818181818182
         },
         {
          "ratings": "1.0",
          "sentiments": -0.06666666666666665
         },
         {
          "ratings": "1.0",
          "sentiments": 0.1277777777777778
         },
         {
          "ratings": "1.0",
          "sentiments": -0.1607142857142857
         },
         {
          "ratings": "1.0",
          "sentiments": -0.02222222222222222
         },
         {
          "ratings": "1.0",
          "sentiments": -0.05921589009824304
         },
         {
          "ratings": "1.0",
          "sentiments": -0.1111111111111111
         },
         {
          "ratings": "1.0",
          "sentiments": 0.07142857142857142
         },
         {
          "ratings": "1.0",
          "sentiments": 0.06256313131313132
         },
         {
          "ratings": "1.0",
          "sentiments": 0.042102451641925324
         },
         {
          "ratings": "1.0",
          "sentiments": 0.033884375842987556
         },
         {
          "ratings": "1.0",
          "sentiments": -0.5
         },
         {
          "ratings": "1.0",
          "sentiments": 0
         },
         {
          "ratings": "1.0",
          "sentiments": -0.0625
         },
         {
          "ratings": "1.0",
          "sentiments": 1
         },
         {
          "ratings": "1.0",
          "sentiments": -0.02850274725274725
         },
         {
          "ratings": "1.0",
          "sentiments": -0.14537037037037037
         },
         {
          "ratings": "1.0",
          "sentiments": 0.020833333333333332
         },
         {
          "ratings": "1.0",
          "sentiments": -0.3
         },
         {
          "ratings": "1.0",
          "sentiments": 0
         },
         {
          "ratings": "1.0",
          "sentiments": 0
         },
         {
          "ratings": "1.0",
          "sentiments": -0.03814935064935065
         },
         {
          "ratings": "1.0",
          "sentiments": 0.08333333333333333
         },
         {
          "ratings": "1.0",
          "sentiments": -0.15277777777777776
         },
         {
          "ratings": "1.0",
          "sentiments": -0.047511312217194575
         },
         {
          "ratings": "1.0",
          "sentiments": -0.4444444444444444
         },
         {
          "ratings": "1.0",
          "sentiments": -0.08888888888888889
         },
         {
          "ratings": "1.0",
          "sentiments": -0.017420695246782202
         },
         {
          "ratings": "1.0",
          "sentiments": -0.25
         },
         {
          "ratings": "1.0",
          "sentiments": 0
         },
         {
          "ratings": "1.0",
          "sentiments": -0.01666666666666667
         },
         {
          "ratings": "1.0",
          "sentiments": -0.02856334841628959
         },
         {
          "ratings": "1.0",
          "sentiments": 0.06318181818181819
         },
         {
          "ratings": "1.0",
          "sentiments": 0
         },
         {
          "ratings": "1.0",
          "sentiments": 0.1111111111111111
         },
         {
          "ratings": "1.0",
          "sentiments": 0.1598639455782313
         },
         {
          "ratings": "1.0",
          "sentiments": 0.16666666666666666
         },
         {
          "ratings": "1.0",
          "sentiments": 0
         },
         {
          "ratings": "1.0",
          "sentiments": -0.5555555555555556
         },
         {
          "ratings": "1.0",
          "sentiments": 0
         },
         {
          "ratings": "1.0",
          "sentiments": 0
         },
         {
          "ratings": "1.0",
          "sentiments": -0.058224889145941774
         },
         {
          "ratings": "1.0",
          "sentiments": 0
         },
         {
          "ratings": "1.0",
          "sentiments": 0
         },
         {
          "ratings": "1.0",
          "sentiments": -0.5660952380952381
         },
         {
          "ratings": "1.0",
          "sentiments": -0.10253928170594838
         },
         {
          "ratings": "1.0",
          "sentiments": 0
         },
         {
          "ratings": "1.0",
          "sentiments": -0.08333333333333333
         },
         {
          "ratings": "1.0",
          "sentiments": -0.07394688644688643
         },
         {
          "ratings": "1.0",
          "sentiments": -0.27777777777777773
         },
         {
          "ratings": "1.0",
          "sentiments": 0
         },
         {
          "ratings": "1.0",
          "sentiments": -0.25
         },
         {
          "ratings": "1.0",
          "sentiments": -0.00236378205128205
         },
         {
          "ratings": "1.0",
          "sentiments": -0.16666666666666666
         },
         {
          "ratings": "1.0",
          "sentiments": -0.006692101228714498
         },
         {
          "ratings": "1.0",
          "sentiments": 0.16666666666666666
         },
         {
          "ratings": "1.0",
          "sentiments": 0
         },
         {
          "ratings": "1.0",
          "sentiments": -0.16515151515151513
         },
         {
          "ratings": "1.0",
          "sentiments": -0.014285714285714285
         },
         {
          "ratings": "1.0",
          "sentiments": 0
         },
         {
          "ratings": "1.0",
          "sentiments": -0.019230769230769232
         },
         {
          "ratings": "1.0",
          "sentiments": -0.027205882352941177
         },
         {
          "ratings": "1.0",
          "sentiments": -0.06627019264523457
         },
         {
          "ratings": "1.0",
          "sentiments": -0.01597394540942928
         },
         {
          "ratings": "1.0",
          "sentiments": -0.02102328620547244
         },
         {
          "ratings": "1.0",
          "sentiments": 0.08387445887445888
         },
         {
          "ratings": "1.0",
          "sentiments": -0.1220238095238095
         },
         {
          "ratings": "1.0",
          "sentiments": -0.09090909090909091
         },
         {
          "ratings": "1.0",
          "sentiments": -0.125
         },
         {
          "ratings": "1.0",
          "sentiments": -0.059523809523809514
         },
         {
          "ratings": "1.0",
          "sentiments": -0.04428046700773973
         },
         {
          "ratings": "1.0",
          "sentiments": -0.0625
         },
         {
          "ratings": "1.0",
          "sentiments": -0.18181818181818182
         },
         {
          "ratings": "1.0",
          "sentiments": -0.27941176470588236
         },
         {
          "ratings": "1.0",
          "sentiments": 0.039383753501400554
         },
         {
          "ratings": "1.0",
          "sentiments": -0.16666666666666666
         },
         {
          "ratings": "1.0",
          "sentiments": 0.14285714285714285
         },
         {
          "ratings": "1.0",
          "sentiments": -0.14166666666666666
         },
         {
          "ratings": "1.0",
          "sentiments": 0
         },
         {
          "ratings": "1.0",
          "sentiments": -0.3333333333333333
         },
         {
          "ratings": "1.0",
          "sentiments": -0.07173382173382174
         },
         {
          "ratings": "1.0",
          "sentiments": 0.07280219780219781
         },
         {
          "ratings": "1.0",
          "sentiments": -0.029999999999999992
         },
         {
          "ratings": "1.0",
          "sentiments": -0.011111111111111112
         },
         {
          "ratings": "1.0",
          "sentiments": -0.022337679904551048
         },
         {
          "ratings": "1.0",
          "sentiments": 0.018233618233618236
         },
         {
          "ratings": "1.0",
          "sentiments": -0.008444654664984903
         },
         {
          "ratings": "1.0",
          "sentiments": 0.3
         },
         {
          "ratings": "1.0",
          "sentiments": -0.55
         },
         {
          "ratings": "1.0",
          "sentiments": -0.5
         },
         {
          "ratings": "1.0",
          "sentiments": 0.045815295815295816
         },
         {
          "ratings": "1.0",
          "sentiments": 0.09166666666666666
         },
         {
          "ratings": "1.0",
          "sentiments": -0.00888888888888889
         },
         {
          "ratings": "1.0",
          "sentiments": -0.2
         },
         {
          "ratings": "1.0",
          "sentiments": -0.5
         },
         {
          "ratings": "1.0",
          "sentiments": -0.10256410256410256
         },
         {
          "ratings": "1.0",
          "sentiments": -0.055681818181818186
         },
         {
          "ratings": "1.0",
          "sentiments": 0.0503030303030303
         },
         {
          "ratings": "1.0",
          "sentiments": 1
         },
         {
          "ratings": "1.0",
          "sentiments": -0.19444444444444442
         },
         {
          "ratings": "1.0",
          "sentiments": -0.14102564102564102
         },
         {
          "ratings": "1.0",
          "sentiments": -0.13333333333333333
         },
         {
          "ratings": "1.0",
          "sentiments": -0.16666666666666666
         },
         {
          "ratings": "1.0",
          "sentiments": 0.11555555555555555
         },
         {
          "ratings": "1.0",
          "sentiments": -0.25
         },
         {
          "ratings": "1.0",
          "sentiments": -0.05592105263157895
         },
         {
          "ratings": "1.0",
          "sentiments": -0.07341269841269842
         },
         {
          "ratings": "1.0",
          "sentiments": -1
         },
         {
          "ratings": "1.0",
          "sentiments": -0.5
         },
         {
          "ratings": "1.0",
          "sentiments": -0.5
         },
         {
          "ratings": "1.0",
          "sentiments": -0.020833333333333336
         },
         {
          "ratings": "1.0",
          "sentiments": -1
         },
         {
          "ratings": "1.0",
          "sentiments": 0.04722222222222222
         },
         {
          "ratings": "1.0",
          "sentiments": -0.028863636363636366
         },
         {
          "ratings": "1.0",
          "sentiments": 0.13020833333333331
         },
         {
          "ratings": "1.0",
          "sentiments": -0.125
         },
         {
          "ratings": "1.0",
          "sentiments": 0
         },
         {
          "ratings": "1.0",
          "sentiments": 0.125
         },
         {
          "ratings": "1.0",
          "sentiments": -0.063003663003663
         },
         {
          "ratings": "1.0",
          "sentiments": -0.04960159277836248
         },
         {
          "ratings": "1.0",
          "sentiments": 0.2775252525252525
         },
         {
          "ratings": "1.0",
          "sentiments": 0.019230769230769235
         },
         {
          "ratings": "1.0",
          "sentiments": -0.031002050151909186
         },
         {
          "ratings": "1.0",
          "sentiments": -0.5
         },
         {
          "ratings": "1.0",
          "sentiments": 0.09785353535353536
         },
         {
          "ratings": "1.0",
          "sentiments": 0.0468975468975469
         },
         {
          "ratings": "1.0",
          "sentiments": 0.5
         },
         {
          "ratings": "1.0",
          "sentiments": 0.009884559884559885
         },
         {
          "ratings": "1.0",
          "sentiments": -0.5303030303030303
         },
         {
          "ratings": "1.0",
          "sentiments": -0.1
         },
         {
          "ratings": "1.0",
          "sentiments": -0.01776094276094276
         },
         {
          "ratings": "1.0",
          "sentiments": -0.01737361611311191
         },
         {
          "ratings": "1.0",
          "sentiments": 0
         },
         {
          "ratings": "1.0",
          "sentiments": -0.015637140637140636
         },
         {
          "ratings": "1.0",
          "sentiments": -0.2888888888888889
         },
         {
          "ratings": "1.0",
          "sentiments": 0
         },
         {
          "ratings": "1.0",
          "sentiments": -0.05555555555555555
         },
         {
          "ratings": "1.0",
          "sentiments": -0.25
         },
         {
          "ratings": "1.0",
          "sentiments": -0.18667239623121978
         },
         {
          "ratings": "1.0",
          "sentiments": -0.06977942692228406
         },
         {
          "ratings": "1.0",
          "sentiments": -1
         },
         {
          "ratings": "1.0",
          "sentiments": 0.0861344537815126
         },
         {
          "ratings": "1.0",
          "sentiments": -0.10014568764568765
         },
         {
          "ratings": "1.0",
          "sentiments": -0.03571428571428571
         },
         {
          "ratings": "1.0",
          "sentiments": 0
         },
         {
          "ratings": "1.0",
          "sentiments": -0.025
         },
         {
          "ratings": "1.0",
          "sentiments": -0.04212418300653595
         },
         {
          "ratings": "1.0",
          "sentiments": 0.0748299319727891
         },
         {
          "ratings": "1.0",
          "sentiments": 0.1501748251748252
         },
         {
          "ratings": "1.0",
          "sentiments": 0.5
         },
         {
          "ratings": "1.0",
          "sentiments": 0.34746625923096514
         },
         {
          "ratings": "1.0",
          "sentiments": 0.06666666666666667
         },
         {
          "ratings": "1.0",
          "sentiments": -0.1375661375661376
         },
         {
          "ratings": "1.0",
          "sentiments": 0.2
         },
         {
          "ratings": "1.0",
          "sentiments": 0.163015873015873
         },
         {
          "ratings": "1.0",
          "sentiments": 0.030303030303030304
         },
         {
          "ratings": "1.0",
          "sentiments": 0
         },
         {
          "ratings": "1.0",
          "sentiments": -0.11160714285714285
         },
         {
          "ratings": "1.0",
          "sentiments": -0.01220657853784789
         },
         {
          "ratings": "1.0",
          "sentiments": 0.15873015873015872
         },
         {
          "ratings": "1.0",
          "sentiments": 0.014660493827160484
         },
         {
          "ratings": "1.0",
          "sentiments": -1
         },
         {
          "ratings": "1.0",
          "sentiments": 0.021799450549450546
         },
         {
          "ratings": "1.0",
          "sentiments": 0.0441798941798942
         },
         {
          "ratings": "1.0",
          "sentiments": -0.17032163742690057
         },
         {
          "ratings": "1.0",
          "sentiments": 0
         },
         {
          "ratings": "1.0",
          "sentiments": -0.10526315789473684
         },
         {
          "ratings": "1.0",
          "sentiments": -0.42857142857142855
         },
         {
          "ratings": "1.0",
          "sentiments": 0.3333333333333333
         },
         {
          "ratings": "1.0",
          "sentiments": -0.015251523339758627
         },
         {
          "ratings": "1.0",
          "sentiments": 0.2380952380952381
         },
         {
          "ratings": "1.0",
          "sentiments": -0.03560855263157895
         },
         {
          "ratings": "1.0",
          "sentiments": -0.08333333333333334
         },
         {
          "ratings": "1.0",
          "sentiments": 0.004746212121212121
         },
         {
          "ratings": "1.0",
          "sentiments": -0.04292929292929293
         },
         {
          "ratings": "1.0",
          "sentiments": 0.016741071428571425
         },
         {
          "ratings": "1.0",
          "sentiments": -0.0024304239821481216
         },
         {
          "ratings": "1.0",
          "sentiments": -0.09415584415584416
         },
         {
          "ratings": "1.0",
          "sentiments": 0
         },
         {
          "ratings": "1.0",
          "sentiments": -0.16666666666666666
         },
         {
          "ratings": "1.0",
          "sentiments": -0.1119822144024594
         },
         {
          "ratings": "1.0",
          "sentiments": 0
         },
         {
          "ratings": "1.0",
          "sentiments": -0.048870318994158016
         },
         {
          "ratings": "1.0",
          "sentiments": -0.15833333333333333
         },
         {
          "ratings": "1.0",
          "sentiments": -0.11666666666666665
         },
         {
          "ratings": "1.0",
          "sentiments": -0.36904761904761907
         },
         {
          "ratings": "1.0",
          "sentiments": 0.26666666666666666
         },
         {
          "ratings": "1.0",
          "sentiments": -0.047619047619047616
         },
         {
          "ratings": "1.0",
          "sentiments": 0.08076923076923077
         },
         {
          "ratings": "1.0",
          "sentiments": 0.1875
         },
         {
          "ratings": "1.0",
          "sentiments": 0
         },
         {
          "ratings": "1.0",
          "sentiments": -0.048888888888888885
         },
         {
          "ratings": "1.0",
          "sentiments": -0.025
         },
         {
          "ratings": "1.0",
          "sentiments": -0.083245455044763
         },
         {
          "ratings": "1.0",
          "sentiments": -0.10024098708309234
         },
         {
          "ratings": "1.0",
          "sentiments": 0.17191142191142192
         },
         {
          "ratings": "1.0",
          "sentiments": 0.0002436956982411526
         },
         {
          "ratings": "1.0",
          "sentiments": -0.010416666666666657
         },
         {
          "ratings": "1.0",
          "sentiments": -0.028079710144927533
         },
         {
          "ratings": "1.0",
          "sentiments": -0.023427960927960925
         },
         {
          "ratings": "1.0",
          "sentiments": 0.08333333333333333
         },
         {
          "ratings": "1.0",
          "sentiments": 0.03333333333333333
         },
         {
          "ratings": "1.0",
          "sentiments": 0.07348484848484849
         },
         {
          "ratings": "1.0",
          "sentiments": 0.14259259259259258
         },
         {
          "ratings": "1.0",
          "sentiments": -0.15694444444444444
         },
         {
          "ratings": "1.0",
          "sentiments": -0.15873015873015872
         },
         {
          "ratings": "1.0",
          "sentiments": -0.06963254090475116
         },
         {
          "ratings": "1.0",
          "sentiments": 0.08474426807760142
         },
         {
          "ratings": "1.0",
          "sentiments": -0.12436507936507937
         },
         {
          "ratings": "1.0",
          "sentiments": -0.2
         },
         {
          "ratings": "1.0",
          "sentiments": 0.5204081632653061
         },
         {
          "ratings": "1.0",
          "sentiments": 0.10259103641456582
         },
         {
          "ratings": "1.0",
          "sentiments": 0.0008658008658008678
         },
         {
          "ratings": "1.0",
          "sentiments": 0.010738858564945521
         },
         {
          "ratings": "1.0",
          "sentiments": -0.060119047619047614
         },
         {
          "ratings": "1.0",
          "sentiments": -0.047619047619047616
         },
         {
          "ratings": "1.0",
          "sentiments": -0.1058922558922559
         },
         {
          "ratings": "1.0",
          "sentiments": -0.0010633116883116884
         },
         {
          "ratings": "2.0",
          "sentiments": 0
         },
         {
          "ratings": "2.0",
          "sentiments": -0.00260429285197087
         },
         {
          "ratings": "2.0",
          "sentiments": -0.03571428571428571
         },
         {
          "ratings": "2.0",
          "sentiments": -0.14065934065934066
         },
         {
          "ratings": "2.0",
          "sentiments": 0
         },
         {
          "ratings": "2.0",
          "sentiments": 0
         },
         {
          "ratings": "2.0",
          "sentiments": -0.061250383010818574
         },
         {
          "ratings": "2.0",
          "sentiments": 0.2409375468585995
         },
         {
          "ratings": "2.0",
          "sentiments": 0.03911939775910364
         },
         {
          "ratings": "2.0",
          "sentiments": -0.016666666666666666
         },
         {
          "ratings": "2.0",
          "sentiments": -0.027371980676328508
         },
         {
          "ratings": "2.0",
          "sentiments": -0.030507542226292216
         },
         {
          "ratings": "2.0",
          "sentiments": 0
         },
         {
          "ratings": "2.0",
          "sentiments": -0.08627501725327812
         },
         {
          "ratings": "2.0",
          "sentiments": -0.25
         },
         {
          "ratings": "2.0",
          "sentiments": 0
         },
         {
          "ratings": "2.0",
          "sentiments": -0.015151515151515152
         },
         {
          "ratings": "2.0",
          "sentiments": -0.20875420875420878
         },
         {
          "ratings": "2.0",
          "sentiments": -0.75
         },
         {
          "ratings": "2.0",
          "sentiments": -0.011363636363636364
         },
         {
          "ratings": "2.0",
          "sentiments": -0.04026251526251528
         },
         {
          "ratings": "2.0",
          "sentiments": 0.021739130434782608
         },
         {
          "ratings": "2.0",
          "sentiments": -0.01974013559539875
         },
         {
          "ratings": "2.0",
          "sentiments": 0.002777777777777775
         },
         {
          "ratings": "2.0",
          "sentiments": -1
         },
         {
          "ratings": "2.0",
          "sentiments": 0.047619047619047616
         },
         {
          "ratings": "2.0",
          "sentiments": 0.015901360544217685
         },
         {
          "ratings": "2.0",
          "sentiments": -0.04497354497354497
         },
         {
          "ratings": "2.0",
          "sentiments": 0.009259259259259259
         },
         {
          "ratings": "2.0",
          "sentiments": -0.009460784313725493
         },
         {
          "ratings": "2.0",
          "sentiments": -0.03313851110861339
         },
         {
          "ratings": "2.0",
          "sentiments": -0.15476190476190477
         },
         {
          "ratings": "2.0",
          "sentiments": -0.05818181818181818
         },
         {
          "ratings": "2.0",
          "sentiments": 0.1111111111111111
         },
         {
          "ratings": "2.0",
          "sentiments": 0.02083333333333333
         },
         {
          "ratings": "2.0",
          "sentiments": -0.18107287449392712
         },
         {
          "ratings": "2.0",
          "sentiments": -0.028058608058608065
         },
         {
          "ratings": "2.0",
          "sentiments": 0
         },
         {
          "ratings": "2.0",
          "sentiments": 0
         },
         {
          "ratings": "2.0",
          "sentiments": -0.10383107133107133
         },
         {
          "ratings": "2.0",
          "sentiments": 0
         },
         {
          "ratings": "2.0",
          "sentiments": -0.12237762237762238
         },
         {
          "ratings": "2.0",
          "sentiments": -0.04714285714285714
         },
         {
          "ratings": "2.0",
          "sentiments": -0.0496106848536516
         },
         {
          "ratings": "2.0",
          "sentiments": 0
         },
         {
          "ratings": "2.0",
          "sentiments": -0.037037037037037035
         },
         {
          "ratings": "2.0",
          "sentiments": 0
         },
         {
          "ratings": "2.0",
          "sentiments": 0.0625
         },
         {
          "ratings": "2.0",
          "sentiments": 0
         },
         {
          "ratings": "2.0",
          "sentiments": 0
         },
         {
          "ratings": "2.0",
          "sentiments": -0.028201219512195123
         },
         {
          "ratings": "2.0",
          "sentiments": 0
         },
         {
          "ratings": "2.0",
          "sentiments": -0.06666666666666667
         },
         {
          "ratings": "2.0",
          "sentiments": -0.5
         },
         {
          "ratings": "2.0",
          "sentiments": -0.06944444444444445
         },
         {
          "ratings": "2.0",
          "sentiments": -0.03144377409083291
         },
         {
          "ratings": "2.0",
          "sentiments": -0.07692307692307693
         },
         {
          "ratings": "2.0",
          "sentiments": -0.044642857142857144
         },
         {
          "ratings": "2.0",
          "sentiments": 0
         },
         {
          "ratings": "2.0",
          "sentiments": -0.015151515151515152
         },
         {
          "ratings": "2.0",
          "sentiments": 0.051960784313725486
         },
         {
          "ratings": "2.0",
          "sentiments": 0.001153846153846154
         },
         {
          "ratings": "2.0",
          "sentiments": 0.011764705882352941
         },
         {
          "ratings": "2.0",
          "sentiments": -0.022023809523809522
         },
         {
          "ratings": "2.0",
          "sentiments": 0
         },
         {
          "ratings": "2.0",
          "sentiments": -0.005952380952380952
         },
         {
          "ratings": "2.0",
          "sentiments": -0.027777777777777776
         },
         {
          "ratings": "2.0",
          "sentiments": -0.3333333333333333
         },
         {
          "ratings": "2.0",
          "sentiments": -1
         },
         {
          "ratings": "2.0",
          "sentiments": -0.03398692810457517
         },
         {
          "ratings": "2.0",
          "sentiments": -0.07136085162400953
         },
         {
          "ratings": "2.0",
          "sentiments": -0.012499999999999997
         },
         {
          "ratings": "2.0",
          "sentiments": 0.007936507936507936
         },
         {
          "ratings": "2.0",
          "sentiments": 0.060032894736842105
         },
         {
          "ratings": "2.0",
          "sentiments": 0.008403361344537813
         },
         {
          "ratings": "2.0",
          "sentiments": -0.1111111111111111
         },
         {
          "ratings": "2.0",
          "sentiments": 0.022222222222222223
         },
         {
          "ratings": "2.0",
          "sentiments": -0.06793040293040292
         },
         {
          "ratings": "2.0",
          "sentiments": 0
         },
         {
          "ratings": "2.0",
          "sentiments": 0.020697167755991286
         },
         {
          "ratings": "2.0",
          "sentiments": -0.024043531918534745
         },
         {
          "ratings": "2.0",
          "sentiments": 0.2692307692307692
         },
         {
          "ratings": "2.0",
          "sentiments": -0.05769980506822611
         },
         {
          "ratings": "2.0",
          "sentiments": 0.01984126984126984
         },
         {
          "ratings": "2.0",
          "sentiments": -0.031782258145894506
         },
         {
          "ratings": "2.0",
          "sentiments": -0.321025641025641
         },
         {
          "ratings": "2.0",
          "sentiments": -0.05633333333333333
         },
         {
          "ratings": "2.0",
          "sentiments": -0.1
         },
         {
          "ratings": "2.0",
          "sentiments": -0.060090702947845805
         },
         {
          "ratings": "2.0",
          "sentiments": -0.030676937778259812
         },
         {
          "ratings": "2.0",
          "sentiments": -0.033333333333333326
         },
         {
          "ratings": "2.0",
          "sentiments": -0.006250000000000002
         },
         {
          "ratings": "2.0",
          "sentiments": -0.045041903401036525
         },
         {
          "ratings": "2.0",
          "sentiments": -0.02505895381408377
         },
         {
          "ratings": "2.0",
          "sentiments": -0.06004727701782399
         },
         {
          "ratings": "2.0",
          "sentiments": 0
         },
         {
          "ratings": "2.0",
          "sentiments": -0.013180813439434131
         },
         {
          "ratings": "2.0",
          "sentiments": 0.1111111111111111
         },
         {
          "ratings": "2.0",
          "sentiments": 0.05103359173126615
         },
         {
          "ratings": "2.0",
          "sentiments": -0.08333333333333333
         },
         {
          "ratings": "2.0",
          "sentiments": -0.0027220118816757453
         },
         {
          "ratings": "2.0",
          "sentiments": 0
         },
         {
          "ratings": "2.0",
          "sentiments": 0.09090909090909091
         },
         {
          "ratings": "2.0",
          "sentiments": -0.14285714285714285
         },
         {
          "ratings": "2.0",
          "sentiments": 0.030000000000000006
         },
         {
          "ratings": "2.0",
          "sentiments": 0.02307903158868051
         },
         {
          "ratings": "2.0",
          "sentiments": 0
         },
         {
          "ratings": "2.0",
          "sentiments": 0
         },
         {
          "ratings": "2.0",
          "sentiments": 0.005169082125603866
         },
         {
          "ratings": "2.0",
          "sentiments": -0.15451496388028893
         },
         {
          "ratings": "2.0",
          "sentiments": 0
         },
         {
          "ratings": "2.0",
          "sentiments": -0.3333333333333333
         },
         {
          "ratings": "2.0",
          "sentiments": 0
         },
         {
          "ratings": "2.0",
          "sentiments": -0.024319206757144624
         },
         {
          "ratings": "2.0",
          "sentiments": 0
         },
         {
          "ratings": "2.0",
          "sentiments": -0.06118881118881119
         },
         {
          "ratings": "2.0",
          "sentiments": -0.039823457792207785
         },
         {
          "ratings": "2.0",
          "sentiments": -0.16666666666666666
         },
         {
          "ratings": "2.0",
          "sentiments": -0.02121212121212121
         },
         {
          "ratings": "2.0",
          "sentiments": 0.029417989417989416
         },
         {
          "ratings": "2.0",
          "sentiments": -0.011564625850340135
         },
         {
          "ratings": "2.0",
          "sentiments": 0.01157407407407407
         },
         {
          "ratings": "2.0",
          "sentiments": 2
         },
         {
          "ratings": "2.0",
          "sentiments": -0.015151515151515152
         },
         {
          "ratings": "2.0",
          "sentiments": 0.11732804232804234
         },
         {
          "ratings": "2.0",
          "sentiments": 0.05380801116095234
         },
         {
          "ratings": "2.0",
          "sentiments": 0.06666666666666667
         },
         {
          "ratings": "2.0",
          "sentiments": -0.03958427815570672
         },
         {
          "ratings": "2.0",
          "sentiments": -0.06856060606060606
         },
         {
          "ratings": "2.0",
          "sentiments": 0.045454545454545456
         },
         {
          "ratings": "2.0",
          "sentiments": -0.04450036208891896
         },
         {
          "ratings": "2.0",
          "sentiments": -0.022406605739939068
         },
         {
          "ratings": "2.0",
          "sentiments": 0
         },
         {
          "ratings": "2.0",
          "sentiments": 0.012500000000000002
         },
         {
          "ratings": "2.0",
          "sentiments": -0.06016426263402069
         },
         {
          "ratings": "2.0",
          "sentiments": -0.10502622377622377
         },
         {
          "ratings": "2.0",
          "sentiments": 0.013058756961195985
         },
         {
          "ratings": "2.0",
          "sentiments": -0.0808080808080808
         },
         {
          "ratings": "2.0",
          "sentiments": 0.00041874026705381766
         },
         {
          "ratings": "2.0",
          "sentiments": 0
         },
         {
          "ratings": "2.0",
          "sentiments": 0.02922077922077922
         },
         {
          "ratings": "2.0",
          "sentiments": -0.05205128205128205
         },
         {
          "ratings": "2.0",
          "sentiments": 0.011363636363636364
         },
         {
          "ratings": "2.0",
          "sentiments": -0.0710108604845447
         },
         {
          "ratings": "2.0",
          "sentiments": -0.09027777777777778
         },
         {
          "ratings": "2.0",
          "sentiments": -0.4
         },
         {
          "ratings": "2.0",
          "sentiments": -0.0555883510428965
         },
         {
          "ratings": "2.0",
          "sentiments": 0.06349206349206349
         },
         {
          "ratings": "2.0",
          "sentiments": -0.05
         },
         {
          "ratings": "2.0",
          "sentiments": 0.03166545046572946
         },
         {
          "ratings": "2.0",
          "sentiments": -0.234508547008547
         },
         {
          "ratings": "2.0",
          "sentiments": 0
         },
         {
          "ratings": "2.0",
          "sentiments": -0.06746031746031746
         },
         {
          "ratings": "2.0",
          "sentiments": -0.09090909090909091
         },
         {
          "ratings": "2.0",
          "sentiments": -0.06666666666666667
         },
         {
          "ratings": "2.0",
          "sentiments": 0.021634615384615384
         },
         {
          "ratings": "2.0",
          "sentiments": 0.027777777777777776
         },
         {
          "ratings": "2.0",
          "sentiments": -0.015625
         },
         {
          "ratings": "2.0",
          "sentiments": 0.02074074074074074
         },
         {
          "ratings": "2.0",
          "sentiments": 0.12
         },
         {
          "ratings": "2.0",
          "sentiments": -0.1181818181818182
         },
         {
          "ratings": "2.0",
          "sentiments": 0
         },
         {
          "ratings": "2.0",
          "sentiments": -0.07959493389270275
         },
         {
          "ratings": "2.0",
          "sentiments": 0.045454545454545456
         },
         {
          "ratings": "2.0",
          "sentiments": -0.041035353535353536
         },
         {
          "ratings": "2.0",
          "sentiments": -0.29166666666666663
         },
         {
          "ratings": "2.0",
          "sentiments": -0.008675856307435257
         },
         {
          "ratings": "2.0",
          "sentiments": -0.043429518919715
         },
         {
          "ratings": "2.0",
          "sentiments": 0.5
         },
         {
          "ratings": "2.0",
          "sentiments": -0.03458498023715415
         },
         {
          "ratings": "2.0",
          "sentiments": -0.0625
         },
         {
          "ratings": "2.0",
          "sentiments": -0.043874643874643876
         },
         {
          "ratings": "2.0",
          "sentiments": 0
         },
         {
          "ratings": "2.0",
          "sentiments": 0.004765909728062799
         },
         {
          "ratings": "2.0",
          "sentiments": 0.06341463414634146
         },
         {
          "ratings": "2.0",
          "sentiments": 0.019642857142857142
         },
         {
          "ratings": "2.0",
          "sentiments": 0.036111111111111115
         },
         {
          "ratings": "2.0",
          "sentiments": -0.013924466338259436
         },
         {
          "ratings": "2.0",
          "sentiments": 0.003321740702276439
         },
         {
          "ratings": "2.0",
          "sentiments": 0.008576548899129547
         },
         {
          "ratings": "2.0",
          "sentiments": 0.1
         },
         {
          "ratings": "2.0",
          "sentiments": -0.027777777777777776
         },
         {
          "ratings": "2.0",
          "sentiments": -0.3017241379310345
         },
         {
          "ratings": "2.0",
          "sentiments": 0.0006645401382243491
         },
         {
          "ratings": "2.0",
          "sentiments": 0.062244897959183663
         },
         {
          "ratings": "2.0",
          "sentiments": 0.057771325475666976
         },
         {
          "ratings": "2.0",
          "sentiments": 0.027579365079365075
         },
         {
          "ratings": "2.0",
          "sentiments": -0.003840245775729647
         },
         {
          "ratings": "2.0",
          "sentiments": 0
         },
         {
          "ratings": "2.0",
          "sentiments": 0.023109243697478993
         },
         {
          "ratings": "2.0",
          "sentiments": -0.03398449861864497
         },
         {
          "ratings": "2.0",
          "sentiments": 0.026666666666666672
         },
         {
          "ratings": "2.0",
          "sentiments": -0.05429292929292929
         },
         {
          "ratings": "2.0",
          "sentiments": -0.08112745098039215
         },
         {
          "ratings": "2.0",
          "sentiments": -0.06277777777777778
         },
         {
          "ratings": "2.0",
          "sentiments": 0.19999999999999998
         },
         {
          "ratings": "2.0",
          "sentiments": 0
         },
         {
          "ratings": "2.0",
          "sentiments": -0.04303703703703704
         },
         {
          "ratings": "2.0",
          "sentiments": -0.07689393939393939
         },
         {
          "ratings": "2.0",
          "sentiments": -0.125
         },
         {
          "ratings": "2.0",
          "sentiments": 0.08879392212725547
         },
         {
          "ratings": "2.0",
          "sentiments": 0
         },
         {
          "ratings": "2.0",
          "sentiments": -0.06659836065573771
         },
         {
          "ratings": "2.0",
          "sentiments": 0.0054112554112554076
         },
         {
          "ratings": "2.0",
          "sentiments": -0.05521367521367522
         },
         {
          "ratings": "2.0",
          "sentiments": -0.004956427015250544
         },
         {
          "ratings": "2.0",
          "sentiments": 0.020655270655270657
         },
         {
          "ratings": "2.0",
          "sentiments": -0.3333333333333333
         },
         {
          "ratings": "2.0",
          "sentiments": -0.017786841201628833
         },
         {
          "ratings": "2.0",
          "sentiments": 0
         },
         {
          "ratings": "2.0",
          "sentiments": 0.0777047146401985
         },
         {
          "ratings": "2.0",
          "sentiments": 0
         },
         {
          "ratings": "2.0",
          "sentiments": -0.006978362949442011
         },
         {
          "ratings": "2.0",
          "sentiments": 0.25
         },
         {
          "ratings": "2.0",
          "sentiments": -0.02006146659290676
         },
         {
          "ratings": "2.0",
          "sentiments": 0
         },
         {
          "ratings": "2.0",
          "sentiments": 0.06729751729751729
         },
         {
          "ratings": "2.0",
          "sentiments": 0.5
         },
         {
          "ratings": "2.0",
          "sentiments": 0.09375
         },
         {
          "ratings": "2.0",
          "sentiments": 0.010048995100489951
         },
         {
          "ratings": "2.0",
          "sentiments": 0
         },
         {
          "ratings": "2.0",
          "sentiments": 0.010638297872340425
         },
         {
          "ratings": "2.0",
          "sentiments": 0.1437908496732026
         },
         {
          "ratings": "2.0",
          "sentiments": -0.1
         },
         {
          "ratings": "2.0",
          "sentiments": 0.10664488017429193
         },
         {
          "ratings": "2.0",
          "sentiments": 0
         },
         {
          "ratings": "2.0",
          "sentiments": 0
         },
         {
          "ratings": "2.0",
          "sentiments": -0.049333333333333326
         },
         {
          "ratings": "2.0",
          "sentiments": 0.021164021164021163
         },
         {
          "ratings": "2.0",
          "sentiments": -0.014705882352941176
         },
         {
          "ratings": "2.0",
          "sentiments": -0.015343001161714612
         },
         {
          "ratings": "2.0",
          "sentiments": -0.017857142857142856
         },
         {
          "ratings": "2.0",
          "sentiments": 0.02604377104377105
         },
         {
          "ratings": "2.0",
          "sentiments": -0.10263157894736842
         },
         {
          "ratings": "2.0",
          "sentiments": -0.2530864197530864
         },
         {
          "ratings": "2.0",
          "sentiments": -0.0049871601452901445
         },
         {
          "ratings": "2.0",
          "sentiments": 0.038461538461538464
         },
         {
          "ratings": "2.0",
          "sentiments": 0.01263705430372097
         },
         {
          "ratings": "2.0",
          "sentiments": -0.3333333333333333
         },
         {
          "ratings": "2.0",
          "sentiments": -0.5
         },
         {
          "ratings": "2.0",
          "sentiments": -0.5
         },
         {
          "ratings": "2.0",
          "sentiments": 0
         },
         {
          "ratings": "2.0",
          "sentiments": -0.1826923076923077
         },
         {
          "ratings": "2.0",
          "sentiments": 0
         },
         {
          "ratings": "2.0",
          "sentiments": -0.1
         },
         {
          "ratings": "2.0",
          "sentiments": -0.008930402075741169
         },
         {
          "ratings": "2.0",
          "sentiments": 0.06216931216931217
         },
         {
          "ratings": "2.0",
          "sentiments": -0.08905228758169935
         },
         {
          "ratings": "2.0",
          "sentiments": -0.1111111111111111
         },
         {
          "ratings": "2.0",
          "sentiments": -0.07692307692307693
         },
         {
          "ratings": "2.0",
          "sentiments": 0
         },
         {
          "ratings": "2.0",
          "sentiments": 0.015308123249299718
         },
         {
          "ratings": "2.0",
          "sentiments": 0
         },
         {
          "ratings": "2.0",
          "sentiments": -0.16666666666666666
         },
         {
          "ratings": "2.0",
          "sentiments": 0.05454545454545454
         },
         {
          "ratings": "2.0",
          "sentiments": -0.05819088319088319
         },
         {
          "ratings": "2.0",
          "sentiments": -0.18181818181818182
         },
         {
          "ratings": "2.0",
          "sentiments": 0.1
         },
         {
          "ratings": "2.0",
          "sentiments": -0.2
         },
         {
          "ratings": "2.0",
          "sentiments": -0.0044047619047619
         },
         {
          "ratings": "2.0",
          "sentiments": -0.11333333333333333
         },
         {
          "ratings": "2.0",
          "sentiments": 0
         },
         {
          "ratings": "2.0",
          "sentiments": 0.042876241405653166
         },
         {
          "ratings": "2.0",
          "sentiments": 0.10263157894736842
         },
         {
          "ratings": "2.0",
          "sentiments": -0.1
         },
         {
          "ratings": "2.0",
          "sentiments": -0.0625
         },
         {
          "ratings": "2.0",
          "sentiments": 0.01714975845410628
         },
         {
          "ratings": "2.0",
          "sentiments": -0.02
         },
         {
          "ratings": "2.0",
          "sentiments": -0.05888888888888888
         },
         {
          "ratings": "2.0",
          "sentiments": 0
         },
         {
          "ratings": "2.0",
          "sentiments": -0.019230769230769232
         },
         {
          "ratings": "2.0",
          "sentiments": 0
         },
         {
          "ratings": "2.0",
          "sentiments": -0.0873015873015873
         },
         {
          "ratings": "2.0",
          "sentiments": 0.016798305860805864
         },
         {
          "ratings": "2.0",
          "sentiments": -0.041666666666666664
         },
         {
          "ratings": "2.0",
          "sentiments": -0.14251700680272109
         },
         {
          "ratings": "2.0",
          "sentiments": 0
         },
         {
          "ratings": "2.0",
          "sentiments": -0.3333333333333333
         },
         {
          "ratings": "2.0",
          "sentiments": -0.038461538461538464
         },
         {
          "ratings": "2.0",
          "sentiments": 0
         },
         {
          "ratings": "2.0",
          "sentiments": -0.05555555555555555
         },
         {
          "ratings": "2.0",
          "sentiments": 0.06666666666666667
         },
         {
          "ratings": "2.0",
          "sentiments": -0.00339785708206761
         },
         {
          "ratings": "2.0",
          "sentiments": 0.012626262626262624
         },
         {
          "ratings": "2.0",
          "sentiments": 0.25
         },
         {
          "ratings": "2.0",
          "sentiments": 0.5
         },
         {
          "ratings": "2.0",
          "sentiments": -0.1111111111111111
         },
         {
          "ratings": "2.0",
          "sentiments": -0.025384615384615384
         },
         {
          "ratings": "2.0",
          "sentiments": -0.1111111111111111
         },
         {
          "ratings": "2.0",
          "sentiments": -0.053270848669170257
         },
         {
          "ratings": "2.0",
          "sentiments": 0.09545454545454546
         },
         {
          "ratings": "2.0",
          "sentiments": -0.027187500000000003
         },
         {
          "ratings": "2.0",
          "sentiments": 0.3333333333333333
         },
         {
          "ratings": "2.0",
          "sentiments": 0
         },
         {
          "ratings": "2.0",
          "sentiments": -0.03310007445451244
         },
         {
          "ratings": "2.0",
          "sentiments": 0.058403361344537816
         },
         {
          "ratings": "2.0",
          "sentiments": 0
         },
         {
          "ratings": "2.0",
          "sentiments": -0.00487012987012987
         },
         {
          "ratings": "2.0",
          "sentiments": 0.013087606837606841
         },
         {
          "ratings": "2.0",
          "sentiments": 0.005299417064122946
         },
         {
          "ratings": "2.0",
          "sentiments": -2
         },
         {
          "ratings": "2.0",
          "sentiments": -0.1111111111111111
         },
         {
          "ratings": "2.0",
          "sentiments": -0.0013227513227513227
         },
         {
          "ratings": "2.0",
          "sentiments": -0.25
         },
         {
          "ratings": "2.0",
          "sentiments": -0.05
         },
         {
          "ratings": "2.0",
          "sentiments": 0
         },
         {
          "ratings": "2.0",
          "sentiments": 0.5
         },
         {
          "ratings": "2.0",
          "sentiments": -0.1
         },
         {
          "ratings": "2.0",
          "sentiments": 0.02588956547838127
         },
         {
          "ratings": "2.0",
          "sentiments": -0.08333333333333333
         },
         {
          "ratings": "2.0",
          "sentiments": -0.25
         },
         {
          "ratings": "2.0",
          "sentiments": -0.02875303867831042
         },
         {
          "ratings": "2.0",
          "sentiments": -0.10606060606060606
         },
         {
          "ratings": "2.0",
          "sentiments": 0.061896441372247826
         },
         {
          "ratings": "2.0",
          "sentiments": -0.008507682249101015
         },
         {
          "ratings": "2.0",
          "sentiments": 0.03571428571428571
         },
         {
          "ratings": "2.0",
          "sentiments": -0.07470669427191165
         },
         {
          "ratings": "2.0",
          "sentiments": 0.0625
         },
         {
          "ratings": "2.0",
          "sentiments": -0.1
         },
         {
          "ratings": "2.0",
          "sentiments": -0.14444444444444446
         },
         {
          "ratings": "2.0",
          "sentiments": 0.05
         },
         {
          "ratings": "2.0",
          "sentiments": -0.1
         },
         {
          "ratings": "2.0",
          "sentiments": -0.07894736842105263
         },
         {
          "ratings": "2.0",
          "sentiments": -0.3055555555555555
         },
         {
          "ratings": "2.0",
          "sentiments": -0.033666666666666664
         },
         {
          "ratings": "2.0",
          "sentiments": -0.014492753623188406
         },
         {
          "ratings": "2.0",
          "sentiments": 0
         },
         {
          "ratings": "2.0",
          "sentiments": -0.0047123015873015844
         },
         {
          "ratings": "2.0",
          "sentiments": 0
         },
         {
          "ratings": "2.0",
          "sentiments": -0.0544329573934837
         },
         {
          "ratings": "2.0",
          "sentiments": 0
         },
         {
          "ratings": "2.0",
          "sentiments": 0.041666666666666664
         },
         {
          "ratings": "2.0",
          "sentiments": 0
         },
         {
          "ratings": "2.0",
          "sentiments": -0.060356814902269455
         },
         {
          "ratings": "2.0",
          "sentiments": 0.020257457287770255
         },
         {
          "ratings": "2.0",
          "sentiments": 0.02314814814814815
         },
         {
          "ratings": "2.0",
          "sentiments": -0.25
         },
         {
          "ratings": "2.0",
          "sentiments": -0.013513513513513514
         },
         {
          "ratings": "2.0",
          "sentiments": -0.09636363636363636
         },
         {
          "ratings": "2.0",
          "sentiments": -0.07142857142857142
         },
         {
          "ratings": "2.0",
          "sentiments": 0.017543859649122806
         },
         {
          "ratings": "2.0",
          "sentiments": 0.03125
         },
         {
          "ratings": "2.0",
          "sentiments": -0.038461538461538464
         },
         {
          "ratings": "2.0",
          "sentiments": 0.020061728395061727
         },
         {
          "ratings": "2.0",
          "sentiments": -0.2727272727272727
         },
         {
          "ratings": "2.0",
          "sentiments": -0.016666666666666677
         },
         {
          "ratings": "2.0",
          "sentiments": -0.014965986394557823
         },
         {
          "ratings": "2.0",
          "sentiments": -0.061111111111111116
         },
         {
          "ratings": "2.0",
          "sentiments": -0.02397018186491871
         },
         {
          "ratings": "2.0",
          "sentiments": -0.027222671108917046
         },
         {
          "ratings": "2.0",
          "sentiments": 0.045817515817515815
         },
         {
          "ratings": "2.0",
          "sentiments": 0
         },
         {
          "ratings": "2.0",
          "sentiments": -0.6666666666666666
         },
         {
          "ratings": "2.0",
          "sentiments": -0.2222222222222222
         },
         {
          "ratings": "2.0",
          "sentiments": -0.034249084249084245
         },
         {
          "ratings": "2.0",
          "sentiments": 0
         },
         {
          "ratings": "2.0",
          "sentiments": 0.08035714285714285
         },
         {
          "ratings": "2.0",
          "sentiments": -0.14652014652014653
         },
         {
          "ratings": "2.0",
          "sentiments": -0.09803921568627451
         },
         {
          "ratings": "2.0",
          "sentiments": -0.011375991194719822
         },
         {
          "ratings": "2.0",
          "sentiments": -0.15384615384615385
         },
         {
          "ratings": "2.0",
          "sentiments": -0.6666666666666666
         },
         {
          "ratings": "2.0",
          "sentiments": -1
         },
         {
          "ratings": "2.0",
          "sentiments": 0.05555555555555555
         },
         {
          "ratings": "2.0",
          "sentiments": 0.5
         },
         {
          "ratings": "2.0",
          "sentiments": -0.18571428571428572
         },
         {
          "ratings": "2.0",
          "sentiments": 0.1111111111111111
         },
         {
          "ratings": "2.0",
          "sentiments": 0
         },
         {
          "ratings": "2.0",
          "sentiments": -1
         },
         {
          "ratings": "2.0",
          "sentiments": -0.045454545454545456
         },
         {
          "ratings": "2.0",
          "sentiments": -0.125
         },
         {
          "ratings": "2.0",
          "sentiments": 0.030303030303030304
         },
         {
          "ratings": "2.0",
          "sentiments": -0.17410714285714285
         },
         {
          "ratings": "2.0",
          "sentiments": -0.08982641789659333
         },
         {
          "ratings": "2.0",
          "sentiments": 0.09583333333333334
         },
         {
          "ratings": "2.0",
          "sentiments": -0.08333333333333333
         },
         {
          "ratings": "2.0",
          "sentiments": 0.008097165991902836
         },
         {
          "ratings": "2.0",
          "sentiments": -0.03958333333333334
         },
         {
          "ratings": "2.0",
          "sentiments": -0.07265900118929577
         },
         {
          "ratings": "2.0",
          "sentiments": -0.03708791208791209
         },
         {
          "ratings": "2.0",
          "sentiments": 0.021296296296296296
         },
         {
          "ratings": "2.0",
          "sentiments": 0.05918300653594771
         },
         {
          "ratings": "2.0",
          "sentiments": -0.1361111111111111
         },
         {
          "ratings": "2.0",
          "sentiments": -0.011539684703102994
         },
         {
          "ratings": "2.0",
          "sentiments": -0.35
         },
         {
          "ratings": "2.0",
          "sentiments": 0.006753246753246756
         },
         {
          "ratings": "2.0",
          "sentiments": 0.05952380952380952
         },
         {
          "ratings": "2.0",
          "sentiments": -0.6428571428571429
         },
         {
          "ratings": "2.0",
          "sentiments": -0.3333333333333333
         },
         {
          "ratings": "2.0",
          "sentiments": 0
         },
         {
          "ratings": "2.0",
          "sentiments": -0.03295651593970922
         },
         {
          "ratings": "2.0",
          "sentiments": 0.04195804195804196
         },
         {
          "ratings": "2.0",
          "sentiments": -0.022222222222222223
         },
         {
          "ratings": "2.0",
          "sentiments": -0.06944444444444445
         },
         {
          "ratings": "2.0",
          "sentiments": 0
         },
         {
          "ratings": "2.0",
          "sentiments": 0.09999999999999999
         },
         {
          "ratings": "2.0",
          "sentiments": -0.038461538461538464
         },
         {
          "ratings": "2.0",
          "sentiments": -0.09868421052631579
         },
         {
          "ratings": "2.0",
          "sentiments": 0.09999999999999999
         },
         {
          "ratings": "2.0",
          "sentiments": -0.5
         },
         {
          "ratings": "2.0",
          "sentiments": -0.11921975267839928
         },
         {
          "ratings": "2.0",
          "sentiments": 0
         },
         {
          "ratings": "2.0",
          "sentiments": -0.04328107275968239
         },
         {
          "ratings": "2.0",
          "sentiments": 0.2222222222222222
         },
         {
          "ratings": "2.0",
          "sentiments": -1
         },
         {
          "ratings": "2.0",
          "sentiments": 0.0296474358974359
         },
         {
          "ratings": "2.0",
          "sentiments": -0.07142857142857142
         },
         {
          "ratings": "2.0",
          "sentiments": -0.08735994397759103
         },
         {
          "ratings": "2.0",
          "sentiments": 0
         },
         {
          "ratings": "2.0",
          "sentiments": 0.08695652173913043
         },
         {
          "ratings": "2.0",
          "sentiments": -0.029411764705882353
         },
         {
          "ratings": "2.0",
          "sentiments": -0.20833333333333331
         },
         {
          "ratings": "2.0",
          "sentiments": -0.125
         },
         {
          "ratings": "2.0",
          "sentiments": -0.01303323306280161
         },
         {
          "ratings": "2.0",
          "sentiments": -0.0361111111111111
         },
         {
          "ratings": "2.0",
          "sentiments": 0
         },
         {
          "ratings": "2.0",
          "sentiments": 0.034490740740740745
         },
         {
          "ratings": "2.0",
          "sentiments": -0.047619047619047616
         },
         {
          "ratings": "2.0",
          "sentiments": -0.1756854256854257
         },
         {
          "ratings": "2.0",
          "sentiments": -0.018975468975468975
         },
         {
          "ratings": "2.0",
          "sentiments": 0.00196078431372549
         },
         {
          "ratings": "2.0",
          "sentiments": 0
         },
         {
          "ratings": "2.0",
          "sentiments": -0.5
         },
         {
          "ratings": "2.0",
          "sentiments": -0.03461538461538462
         },
         {
          "ratings": "2.0",
          "sentiments": -0.3333333333333333
         },
         {
          "ratings": "2.0",
          "sentiments": -0.07666666666666666
         },
         {
          "ratings": "2.0",
          "sentiments": -0.04669061097632526
         },
         {
          "ratings": "2.0",
          "sentiments": -0.03985507246376812
         },
         {
          "ratings": "2.0",
          "sentiments": -0.20833333333333331
         },
         {
          "ratings": "2.0",
          "sentiments": -0.14646464646464644
         },
         {
          "ratings": "2.0",
          "sentiments": -0.08324579831932773
         },
         {
          "ratings": "2.0",
          "sentiments": 0
         },
         {
          "ratings": "2.0",
          "sentiments": 0
         },
         {
          "ratings": "2.0",
          "sentiments": -0.06758868324657798
         },
         {
          "ratings": "2.0",
          "sentiments": 0.03324460218870156
         },
         {
          "ratings": "2.0",
          "sentiments": -0.00537190082644628
         },
         {
          "ratings": "2.0",
          "sentiments": -0.22222222222222224
         },
         {
          "ratings": "2.0",
          "sentiments": -0.018214845182183474
         },
         {
          "ratings": "2.0",
          "sentiments": -0.08
         },
         {
          "ratings": "2.0",
          "sentiments": 0.035526315789473684
         },
         {
          "ratings": "2.0",
          "sentiments": 0.015432098765432098
         },
         {
          "ratings": "2.0",
          "sentiments": -0.030188124632569074
         },
         {
          "ratings": "2.0",
          "sentiments": -0.023809523809523808
         },
         {
          "ratings": "2.0",
          "sentiments": -0.03125
         },
         {
          "ratings": "2.0",
          "sentiments": 0.0625
         },
         {
          "ratings": "2.0",
          "sentiments": 0.006892839012713612
         },
         {
          "ratings": "2.0",
          "sentiments": 0.08109243697478992
         },
         {
          "ratings": "2.0",
          "sentiments": -0.021915584415584416
         },
         {
          "ratings": "2.0",
          "sentiments": 0.009967683831320196
         },
         {
          "ratings": "2.0",
          "sentiments": 0.0349002849002849
         },
         {
          "ratings": "2.0",
          "sentiments": -0.10526315789473684
         },
         {
          "ratings": "2.0",
          "sentiments": -0.004377480158730157
         },
         {
          "ratings": "2.0",
          "sentiments": 0.11661255411255411
         },
         {
          "ratings": "2.0",
          "sentiments": -0.047619047619047616
         },
         {
          "ratings": "2.0",
          "sentiments": 0
         },
         {
          "ratings": "2.0",
          "sentiments": 0.08333333333333333
         },
         {
          "ratings": "2.0",
          "sentiments": 0.061319966583124476
         },
         {
          "ratings": "2.0",
          "sentiments": -0.05158730158730158
         },
         {
          "ratings": "2.0",
          "sentiments": -0.3333333333333333
         },
         {
          "ratings": "2.0",
          "sentiments": -0.05555555555555555
         },
         {
          "ratings": "2.0",
          "sentiments": -0.025000000000000005
         },
         {
          "ratings": "2.0",
          "sentiments": 0.038487523155715374
         },
         {
          "ratings": "2.0",
          "sentiments": -0.0814636752136752
         },
         {
          "ratings": "2.0",
          "sentiments": -0.2333333333333333
         },
         {
          "ratings": "2.0",
          "sentiments": 0.03571428571428571
         },
         {
          "ratings": "2.0",
          "sentiments": -0.020279415706244978
         },
         {
          "ratings": "2.0",
          "sentiments": -0.016725921137685843
         },
         {
          "ratings": "2.0",
          "sentiments": 0
         },
         {
          "ratings": "2.0",
          "sentiments": -0.023376623376623377
         },
         {
          "ratings": "2.0",
          "sentiments": -0.038461538461538464
         },
         {
          "ratings": "2.0",
          "sentiments": -0.027777777777777776
         },
         {
          "ratings": "2.0",
          "sentiments": -0.037698412698412696
         },
         {
          "ratings": "2.0",
          "sentiments": -0.11458333333333331
         },
         {
          "ratings": "2.0",
          "sentiments": 0
         },
         {
          "ratings": "2.0",
          "sentiments": -0.10952380952380951
         },
         {
          "ratings": "2.0",
          "sentiments": -0.2857142857142857
         },
         {
          "ratings": "2.0",
          "sentiments": 0.022988505747126436
         },
         {
          "ratings": "2.0",
          "sentiments": -0.03125
         },
         {
          "ratings": "2.0",
          "sentiments": 1
         },
         {
          "ratings": "2.0",
          "sentiments": 0.006060606060606062
         },
         {
          "ratings": "2.0",
          "sentiments": 0.04444444444444444
         },
         {
          "ratings": "2.0",
          "sentiments": -1
         },
         {
          "ratings": "2.0",
          "sentiments": -0.25
         },
         {
          "ratings": "2.0",
          "sentiments": -0.02964582006238567
         },
         {
          "ratings": "2.0",
          "sentiments": 0
         },
         {
          "ratings": "2.0",
          "sentiments": -0.09999999999999999
         },
         {
          "ratings": "2.0",
          "sentiments": 0
         },
         {
          "ratings": "2.0",
          "sentiments": -0.16025641025641024
         },
         {
          "ratings": "2.0",
          "sentiments": 0.09593923101987618
         },
         {
          "ratings": "2.0",
          "sentiments": 0.1111111111111111
         },
         {
          "ratings": "2.0",
          "sentiments": -0.1865800865800866
         },
         {
          "ratings": "2.0",
          "sentiments": 0.05791279669762642
         },
         {
          "ratings": "2.0",
          "sentiments": -0.010154302481098158
         },
         {
          "ratings": "2.0",
          "sentiments": 0.05
         },
         {
          "ratings": "2.0",
          "sentiments": -1
         },
         {
          "ratings": "2.0",
          "sentiments": -0.14285714285714285
         },
         {
          "ratings": "2.0",
          "sentiments": -0.19298245614035087
         },
         {
          "ratings": "2.0",
          "sentiments": 0.024453722142440126
         },
         {
          "ratings": "2.0",
          "sentiments": -0.02703373015873016
         },
         {
          "ratings": "2.0",
          "sentiments": 0.2
         },
         {
          "ratings": "3.0",
          "sentiments": -0.16666666666666666
         },
         {
          "ratings": "3.0",
          "sentiments": 0.058823529411764705
         },
         {
          "ratings": "3.0",
          "sentiments": -0.024404761904761905
         },
         {
          "ratings": "3.0",
          "sentiments": 0
         },
         {
          "ratings": "3.0",
          "sentiments": 0.01337448559670782
         },
         {
          "ratings": "3.0",
          "sentiments": 0.023809523809523808
         },
         {
          "ratings": "3.0",
          "sentiments": -0.14285714285714285
         },
         {
          "ratings": "3.0",
          "sentiments": -0.19791666666666666
         },
         {
          "ratings": "3.0",
          "sentiments": -0.2
         },
         {
          "ratings": "3.0",
          "sentiments": 0.2
         },
         {
          "ratings": "3.0",
          "sentiments": -0.245053014618232
         },
         {
          "ratings": "3.0",
          "sentiments": -0.0038581235258590457
         },
         {
          "ratings": "3.0",
          "sentiments": -0.3333333333333333
         },
         {
          "ratings": "3.0",
          "sentiments": 0
         },
         {
          "ratings": "3.0",
          "sentiments": 0.14285714285714285
         },
         {
          "ratings": "3.0",
          "sentiments": 0.0625
         },
         {
          "ratings": "3.0",
          "sentiments": 0.033388203688537406
         },
         {
          "ratings": "3.0",
          "sentiments": 0.03125
         },
         {
          "ratings": "3.0",
          "sentiments": 0.19230769230769232
         },
         {
          "ratings": "3.0",
          "sentiments": -0.11764705882352941
         },
         {
          "ratings": "3.0",
          "sentiments": -0.14545454545454545
         },
         {
          "ratings": "3.0",
          "sentiments": 0.12916666666666668
         },
         {
          "ratings": "3.0",
          "sentiments": -0.018760741946225814
         },
         {
          "ratings": "3.0",
          "sentiments": -0.004272609199079789
         },
         {
          "ratings": "3.0",
          "sentiments": 0
         },
         {
          "ratings": "3.0",
          "sentiments": -0.11900826446280992
         },
         {
          "ratings": "3.0",
          "sentiments": 0.4
         },
         {
          "ratings": "3.0",
          "sentiments": 0
         },
         {
          "ratings": "3.0",
          "sentiments": -0.25
         },
         {
          "ratings": "3.0",
          "sentiments": 0.1111111111111111
         },
         {
          "ratings": "3.0",
          "sentiments": 0.004391743522178304
         },
         {
          "ratings": "3.0",
          "sentiments": 0.15036855036855037
         },
         {
          "ratings": "3.0",
          "sentiments": 0.14444444444444443
         },
         {
          "ratings": "3.0",
          "sentiments": 0.09950287807430665
         },
         {
          "ratings": "3.0",
          "sentiments": 0.03738323128988091
         },
         {
          "ratings": "3.0",
          "sentiments": 0.0015151515151515156
         },
         {
          "ratings": "3.0",
          "sentiments": 0.012193053859720526
         },
         {
          "ratings": "3.0",
          "sentiments": -0.16666666666666669
         },
         {
          "ratings": "3.0",
          "sentiments": 0.043644010310676974
         },
         {
          "ratings": "3.0",
          "sentiments": 0
         },
         {
          "ratings": "3.0",
          "sentiments": 0
         },
         {
          "ratings": "3.0",
          "sentiments": 0.0877721312503921
         },
         {
          "ratings": "3.0",
          "sentiments": -0.14285714285714285
         },
         {
          "ratings": "3.0",
          "sentiments": 0
         },
         {
          "ratings": "3.0",
          "sentiments": 0
         },
         {
          "ratings": "3.0",
          "sentiments": 0.2833333333333333
         },
         {
          "ratings": "3.0",
          "sentiments": 0.05959595959595959
         },
         {
          "ratings": "3.0",
          "sentiments": -0.003974358974358971
         },
         {
          "ratings": "3.0",
          "sentiments": 0.05555555555555555
         },
         {
          "ratings": "3.0",
          "sentiments": -0.018074296185240712
         },
         {
          "ratings": "3.0",
          "sentiments": 0.039435646053293104
         },
         {
          "ratings": "3.0",
          "sentiments": 0
         },
         {
          "ratings": "3.0",
          "sentiments": 0
         },
         {
          "ratings": "3.0",
          "sentiments": -0.5
         },
         {
          "ratings": "3.0",
          "sentiments": 0.03223016090663149
         },
         {
          "ratings": "3.0",
          "sentiments": 0.0015873015873015873
         },
         {
          "ratings": "3.0",
          "sentiments": 0.09583333333333333
         },
         {
          "ratings": "3.0",
          "sentiments": -0.013888888888888886
         },
         {
          "ratings": "3.0",
          "sentiments": 0
         },
         {
          "ratings": "3.0",
          "sentiments": -0.14285714285714285
         },
         {
          "ratings": "3.0",
          "sentiments": 0.027777777777777776
         },
         {
          "ratings": "3.0",
          "sentiments": 0.009722222222222222
         },
         {
          "ratings": "3.0",
          "sentiments": -0.5
         },
         {
          "ratings": "3.0",
          "sentiments": 0.05555555555555555
         },
         {
          "ratings": "3.0",
          "sentiments": 0.057692307692307696
         },
         {
          "ratings": "3.0",
          "sentiments": 0.16666666666666666
         },
         {
          "ratings": "3.0",
          "sentiments": -0.5
         },
         {
          "ratings": "3.0",
          "sentiments": -0.038461538461538464
         },
         {
          "ratings": "3.0",
          "sentiments": 0.0009371775985891921
         },
         {
          "ratings": "3.0",
          "sentiments": 0.02406347510514177
         },
         {
          "ratings": "3.0",
          "sentiments": 0.5
         },
         {
          "ratings": "3.0",
          "sentiments": -0.042761191608348195
         },
         {
          "ratings": "3.0",
          "sentiments": 0.08529411764705883
         },
         {
          "ratings": "3.0",
          "sentiments": 0.1081017022193493
         },
         {
          "ratings": "3.0",
          "sentiments": -0.01200897370252209
         },
         {
          "ratings": "3.0",
          "sentiments": 0
         },
         {
          "ratings": "3.0",
          "sentiments": 0.03015873015873016
         },
         {
          "ratings": "3.0",
          "sentiments": 0.04481074481074482
         },
         {
          "ratings": "3.0",
          "sentiments": 0
         },
         {
          "ratings": "3.0",
          "sentiments": 0.03310387529137529
         },
         {
          "ratings": "3.0",
          "sentiments": 0.0795959595959596
         },
         {
          "ratings": "3.0",
          "sentiments": 0.014814814814814812
         },
         {
          "ratings": "3.0",
          "sentiments": 0.06318908193908195
         },
         {
          "ratings": "3.0",
          "sentiments": -0.18181818181818182
         },
         {
          "ratings": "3.0",
          "sentiments": 0.08284493284493284
         },
         {
          "ratings": "3.0",
          "sentiments": -0.11426126380394676
         },
         {
          "ratings": "3.0",
          "sentiments": -0.0006535947712418306
         },
         {
          "ratings": "3.0",
          "sentiments": 0.01111111111111111
         },
         {
          "ratings": "3.0",
          "sentiments": -0.006617647058823534
         },
         {
          "ratings": "3.0",
          "sentiments": -1
         },
         {
          "ratings": "3.0",
          "sentiments": 0
         },
         {
          "ratings": "3.0",
          "sentiments": -0.06763945119208277
         },
         {
          "ratings": "3.0",
          "sentiments": 0.006547619047619049
         },
         {
          "ratings": "3.0",
          "sentiments": 0.0611111111111111
         },
         {
          "ratings": "3.0",
          "sentiments": -0.022222222222222216
         },
         {
          "ratings": "3.0",
          "sentiments": 0.03571428571428571
         },
         {
          "ratings": "3.0",
          "sentiments": 0.07194456730060446
         },
         {
          "ratings": "3.0",
          "sentiments": 0
         },
         {
          "ratings": "3.0",
          "sentiments": -0.13095238095238096
         },
         {
          "ratings": "3.0",
          "sentiments": 0
         },
         {
          "ratings": "3.0",
          "sentiments": -0.07142857142857142
         },
         {
          "ratings": "3.0",
          "sentiments": -0.013186813186813185
         },
         {
          "ratings": "3.0",
          "sentiments": -0.041666666666666664
         },
         {
          "ratings": "3.0",
          "sentiments": 0.1111111111111111
         },
         {
          "ratings": "3.0",
          "sentiments": 0.03111111111111111
         },
         {
          "ratings": "3.0",
          "sentiments": 0.058823529411764705
         },
         {
          "ratings": "3.0",
          "sentiments": 0.047619047619047616
         },
         {
          "ratings": "3.0",
          "sentiments": 0.007030443756449949
         },
         {
          "ratings": "3.0",
          "sentiments": 0.027430025693800746
         },
         {
          "ratings": "3.0",
          "sentiments": -0.25
         },
         {
          "ratings": "3.0",
          "sentiments": 0
         },
         {
          "ratings": "3.0",
          "sentiments": 0.040061332215919516
         },
         {
          "ratings": "3.0",
          "sentiments": 0.030303030303030304
         },
         {
          "ratings": "3.0",
          "sentiments": 0.16071428571428573
         },
         {
          "ratings": "3.0",
          "sentiments": -0.030555555555555558
         },
         {
          "ratings": "3.0",
          "sentiments": 0.045673656014126436
         },
         {
          "ratings": "3.0",
          "sentiments": 0.043478260869565216
         },
         {
          "ratings": "3.0",
          "sentiments": -0.11212121212121212
         },
         {
          "ratings": "3.0",
          "sentiments": 0.06363243968507125
         },
         {
          "ratings": "3.0",
          "sentiments": 0.05555555555555555
         },
         {
          "ratings": "3.0",
          "sentiments": -0.14460784313725492
         },
         {
          "ratings": "3.0",
          "sentiments": -0.0326605073847721
         },
         {
          "ratings": "3.0",
          "sentiments": 0.05
         },
         {
          "ratings": "3.0",
          "sentiments": -0.06403061224489795
         },
         {
          "ratings": "3.0",
          "sentiments": 0
         },
         {
          "ratings": "3.0",
          "sentiments": -0.004500941619585691
         },
         {
          "ratings": "3.0",
          "sentiments": 0.014492753623188406
         },
         {
          "ratings": "3.0",
          "sentiments": -0.4
         },
         {
          "ratings": "3.0",
          "sentiments": 0
         },
         {
          "ratings": "3.0",
          "sentiments": -0.4
         },
         {
          "ratings": "3.0",
          "sentiments": 0.024185463659147872
         },
         {
          "ratings": "3.0",
          "sentiments": 0.16964285714285715
         },
         {
          "ratings": "3.0",
          "sentiments": 0.009136078974788653
         },
         {
          "ratings": "3.0",
          "sentiments": 0
         },
         {
          "ratings": "3.0",
          "sentiments": -0.07222222222222223
         },
         {
          "ratings": "3.0",
          "sentiments": 0.2222222222222222
         },
         {
          "ratings": "3.0",
          "sentiments": -0.029239766081871343
         },
         {
          "ratings": "3.0",
          "sentiments": 0
         },
         {
          "ratings": "3.0",
          "sentiments": -0.23106060606060605
         },
         {
          "ratings": "3.0",
          "sentiments": 0.014367007492635829
         },
         {
          "ratings": "3.0",
          "sentiments": -0.001984126984126984
         },
         {
          "ratings": "3.0",
          "sentiments": -0.04403884588194607
         },
         {
          "ratings": "3.0",
          "sentiments": 0.017695554676164085
         },
         {
          "ratings": "3.0",
          "sentiments": 0.027792207792207795
         },
         {
          "ratings": "3.0",
          "sentiments": 0.6666666666666666
         },
         {
          "ratings": "3.0",
          "sentiments": -0.022222222222222223
         },
         {
          "ratings": "3.0",
          "sentiments": 0.06896551724137931
         },
         {
          "ratings": "3.0",
          "sentiments": -0.11211807800043094
         },
         {
          "ratings": "3.0",
          "sentiments": 0
         },
         {
          "ratings": "3.0",
          "sentiments": 0
         },
         {
          "ratings": "3.0",
          "sentiments": -0.04939241541824997
         },
         {
          "ratings": "3.0",
          "sentiments": 0
         },
         {
          "ratings": "3.0",
          "sentiments": -0.006902732683982685
         },
         {
          "ratings": "3.0",
          "sentiments": 0.07142857142857142
         },
         {
          "ratings": "3.0",
          "sentiments": -0.059009209744503854
         },
         {
          "ratings": "3.0",
          "sentiments": -0.15913646959101505
         },
         {
          "ratings": "3.0",
          "sentiments": 0.0023809523809523794
         },
         {
          "ratings": "3.0",
          "sentiments": 0.041666666666666664
         },
         {
          "ratings": "3.0",
          "sentiments": 0
         },
         {
          "ratings": "3.0",
          "sentiments": -0.041353383458646614
         },
         {
          "ratings": "3.0",
          "sentiments": -0.02309577677224736
         },
         {
          "ratings": "3.0",
          "sentiments": -0.08482142857142856
         },
         {
          "ratings": "3.0",
          "sentiments": -1
         },
         {
          "ratings": "3.0",
          "sentiments": -0.05555555555555555
         },
         {
          "ratings": "3.0",
          "sentiments": 0
         },
         {
          "ratings": "3.0",
          "sentiments": -0.16666666666666666
         },
         {
          "ratings": "3.0",
          "sentiments": 0.15458937198067632
         },
         {
          "ratings": "3.0",
          "sentiments": -0.09523809523809523
         },
         {
          "ratings": "3.0",
          "sentiments": -0.5416666666666666
         },
         {
          "ratings": "3.0",
          "sentiments": 0.040441747958351364
         },
         {
          "ratings": "3.0",
          "sentiments": -0.07142857142857142
         },
         {
          "ratings": "3.0",
          "sentiments": -0.14619883040935674
         },
         {
          "ratings": "3.0",
          "sentiments": -0.008333333333333331
         },
         {
          "ratings": "3.0",
          "sentiments": 0.05
         },
         {
          "ratings": "3.0",
          "sentiments": 0.20833333333333331
         },
         {
          "ratings": "3.0",
          "sentiments": -0.07092985409652076
         },
         {
          "ratings": "3.0",
          "sentiments": 0.15384615384615385
         },
         {
          "ratings": "3.0",
          "sentiments": 0.0019980019980019976
         },
         {
          "ratings": "3.0",
          "sentiments": 0.14285714285714285
         },
         {
          "ratings": "3.0",
          "sentiments": 0.031716742252456534
         },
         {
          "ratings": "3.0",
          "sentiments": 0.04895104895104895
         },
         {
          "ratings": "3.0",
          "sentiments": -0.028735701054040157
         },
         {
          "ratings": "3.0",
          "sentiments": 0
         },
         {
          "ratings": "3.0",
          "sentiments": -0.019032536091359617
         },
         {
          "ratings": "3.0",
          "sentiments": 0.14166666666666666
         },
         {
          "ratings": "3.0",
          "sentiments": 0.07692307692307693
         },
         {
          "ratings": "3.0",
          "sentiments": -0.0248015873015873
         },
         {
          "ratings": "3.0",
          "sentiments": 0.05
         },
         {
          "ratings": "3.0",
          "sentiments": -0.005327515621633265
         },
         {
          "ratings": "3.0",
          "sentiments": 0.14540816326530612
         },
         {
          "ratings": "3.0",
          "sentiments": 0.06985294117647059
         },
         {
          "ratings": "3.0",
          "sentiments": 0.0029411764705882353
         },
         {
          "ratings": "3.0",
          "sentiments": 0.03984567901234568
         },
         {
          "ratings": "3.0",
          "sentiments": 0.5
         },
         {
          "ratings": "3.0",
          "sentiments": -0.25
         },
         {
          "ratings": "3.0",
          "sentiments": 0.05795641140468727
         },
         {
          "ratings": "3.0",
          "sentiments": 0.022672589955834297
         },
         {
          "ratings": "3.0",
          "sentiments": 0
         },
         {
          "ratings": "3.0",
          "sentiments": 0
         },
         {
          "ratings": "3.0",
          "sentiments": -0.038461538461538464
         },
         {
          "ratings": "3.0",
          "sentiments": -0.02565982404692082
         },
         {
          "ratings": "3.0",
          "sentiments": 0.14285714285714285
         },
         {
          "ratings": "3.0",
          "sentiments": 0.06602254428341385
         },
         {
          "ratings": "3.0",
          "sentiments": -0.09722222222222221
         },
         {
          "ratings": "3.0",
          "sentiments": 0.0011111111111111126
         },
         {
          "ratings": "3.0",
          "sentiments": 0
         },
         {
          "ratings": "3.0",
          "sentiments": -0.01629101149798318
         },
         {
          "ratings": "3.0",
          "sentiments": -0.05
         },
         {
          "ratings": "3.0",
          "sentiments": 0.03267864947552448
         },
         {
          "ratings": "3.0",
          "sentiments": 0.10256410256410256
         },
         {
          "ratings": "3.0",
          "sentiments": 0.013333333333333334
         },
         {
          "ratings": "3.0",
          "sentiments": -0.02073070607553366
         },
         {
          "ratings": "3.0",
          "sentiments": -0.125
         },
         {
          "ratings": "3.0",
          "sentiments": -0.3076923076923077
         },
         {
          "ratings": "3.0",
          "sentiments": 0.05773420479302832
         },
         {
          "ratings": "3.0",
          "sentiments": 0.125
         },
         {
          "ratings": "3.0",
          "sentiments": 0.06543417366946779
         },
         {
          "ratings": "3.0",
          "sentiments": -0.5384615384615384
         },
         {
          "ratings": "3.0",
          "sentiments": 0.09523809523809523
         },
         {
          "ratings": "3.0",
          "sentiments": 0.125
         },
         {
          "ratings": "3.0",
          "sentiments": -0.01820728291316527
         },
         {
          "ratings": "3.0",
          "sentiments": 0.18095238095238092
         },
         {
          "ratings": "3.0",
          "sentiments": 0.041666666666666664
         },
         {
          "ratings": "3.0",
          "sentiments": 0.6666666666666666
         },
         {
          "ratings": "3.0",
          "sentiments": -0.2
         },
         {
          "ratings": "3.0",
          "sentiments": 0.06666666666666667
         },
         {
          "ratings": "3.0",
          "sentiments": 0
         },
         {
          "ratings": "3.0",
          "sentiments": 0.00946969696969697
         },
         {
          "ratings": "3.0",
          "sentiments": 0.046753246753246755
         },
         {
          "ratings": "3.0",
          "sentiments": 0.22619047619047616
         },
         {
          "ratings": "3.0",
          "sentiments": 0.0625
         },
         {
          "ratings": "3.0",
          "sentiments": -0.004834695619429066
         },
         {
          "ratings": "3.0",
          "sentiments": -0.02702702702702703
         },
         {
          "ratings": "3.0",
          "sentiments": 0.007215007215007213
         },
         {
          "ratings": "3.0",
          "sentiments": 0
         },
         {
          "ratings": "3.0",
          "sentiments": -0.31666666666666665
         },
         {
          "ratings": "3.0",
          "sentiments": 0.06613756613756613
         },
         {
          "ratings": "3.0",
          "sentiments": -0.022580645161290325
         },
         {
          "ratings": "3.0",
          "sentiments": 0
         },
         {
          "ratings": "3.0",
          "sentiments": -0.007936507936507936
         },
         {
          "ratings": "3.0",
          "sentiments": -0.03970871707003641
         },
         {
          "ratings": "3.0",
          "sentiments": -0.14285714285714285
         },
         {
          "ratings": "3.0",
          "sentiments": 0.25
         },
         {
          "ratings": "3.0",
          "sentiments": -0.13846937376349142
         },
         {
          "ratings": "3.0",
          "sentiments": 1
         },
         {
          "ratings": "3.0",
          "sentiments": 0.2
         },
         {
          "ratings": "3.0",
          "sentiments": 0.09090909090909091
         },
         {
          "ratings": "3.0",
          "sentiments": -0.07727272727272727
         },
         {
          "ratings": "3.0",
          "sentiments": 0
         },
         {
          "ratings": "3.0",
          "sentiments": 0
         },
         {
          "ratings": "3.0",
          "sentiments": 0.021842286876611817
         },
         {
          "ratings": "3.0",
          "sentiments": 0.5
         },
         {
          "ratings": "3.0",
          "sentiments": -0.25
         },
         {
          "ratings": "3.0",
          "sentiments": -0.0725
         },
         {
          "ratings": "3.0",
          "sentiments": 0
         },
         {
          "ratings": "3.0",
          "sentiments": 0.15555555555555556
         },
         {
          "ratings": "3.0",
          "sentiments": -0.10710227272727274
         },
         {
          "ratings": "3.0",
          "sentiments": 0
         },
         {
          "ratings": "3.0",
          "sentiments": 1.0220588235294117
         },
         {
          "ratings": "3.0",
          "sentiments": 0
         },
         {
          "ratings": "3.0",
          "sentiments": -0.17045454545454547
         },
         {
          "ratings": "3.0",
          "sentiments": 0
         },
         {
          "ratings": "3.0",
          "sentiments": -1
         },
         {
          "ratings": "3.0",
          "sentiments": 0.8166666666666667
         },
         {
          "ratings": "3.0",
          "sentiments": -0.030303030303030304
         },
         {
          "ratings": "3.0",
          "sentiments": 0.14285714285714285
         },
         {
          "ratings": "3.0",
          "sentiments": 0.13333333333333333
         },
         {
          "ratings": "3.0",
          "sentiments": -0.2
         },
         {
          "ratings": "3.0",
          "sentiments": -0.030303030303030304
         },
         {
          "ratings": "3.0",
          "sentiments": 0
         },
         {
          "ratings": "3.0",
          "sentiments": 0
         },
         {
          "ratings": "3.0",
          "sentiments": 0.045451513938908894
         },
         {
          "ratings": "3.0",
          "sentiments": 0
         },
         {
          "ratings": "3.0",
          "sentiments": 0.01953580689212873
         },
         {
          "ratings": "3.0",
          "sentiments": -0.026165013018461292
         },
         {
          "ratings": "3.0",
          "sentiments": 0.04433760683760683
         },
         {
          "ratings": "3.0",
          "sentiments": -0.15384615384615385
         },
         {
          "ratings": "3.0",
          "sentiments": 0
         },
         {
          "ratings": "3.0",
          "sentiments": -0.25925925925925924
         },
         {
          "ratings": "3.0",
          "sentiments": -0.4
         },
         {
          "ratings": "3.0",
          "sentiments": -0.2857142857142857
         },
         {
          "ratings": "3.0",
          "sentiments": 0.014880952380952384
         },
         {
          "ratings": "3.0",
          "sentiments": 0
         },
         {
          "ratings": "3.0",
          "sentiments": 0.0009066226171489319
         },
         {
          "ratings": "3.0",
          "sentiments": 0.1352116727116727
         },
         {
          "ratings": "3.0",
          "sentiments": 0.029572129826795645
         },
         {
          "ratings": "3.0",
          "sentiments": 0
         },
         {
          "ratings": "3.0",
          "sentiments": 0
         },
         {
          "ratings": "3.0",
          "sentiments": 0.5
         },
         {
          "ratings": "3.0",
          "sentiments": 0.008420323637714942
         },
         {
          "ratings": "3.0",
          "sentiments": -0.009459064327485379
         },
         {
          "ratings": "3.0",
          "sentiments": -0.024390243902439025
         },
         {
          "ratings": "3.0",
          "sentiments": -0.010303030303030305
         },
         {
          "ratings": "3.0",
          "sentiments": 1
         },
         {
          "ratings": "3.0",
          "sentiments": -0.009513546798029557
         },
         {
          "ratings": "3.0",
          "sentiments": 0.04791666666666666
         },
         {
          "ratings": "3.0",
          "sentiments": 0
         },
         {
          "ratings": "3.0",
          "sentiments": 0
         },
         {
          "ratings": "3.0",
          "sentiments": -0.27999999999999997
         },
         {
          "ratings": "3.0",
          "sentiments": 0
         },
         {
          "ratings": "3.0",
          "sentiments": 0.03555555555555555
         },
         {
          "ratings": "3.0",
          "sentiments": -0.043290043290043295
         },
         {
          "ratings": "3.0",
          "sentiments": 0.1111111111111111
         },
         {
          "ratings": "3.0",
          "sentiments": 0.5
         },
         {
          "ratings": "3.0",
          "sentiments": 0.0034547152194211034
         },
         {
          "ratings": "3.0",
          "sentiments": -0.058823529411764705
         },
         {
          "ratings": "3.0",
          "sentiments": -0.03765506202480993
         },
         {
          "ratings": "3.0",
          "sentiments": 0
         },
         {
          "ratings": "3.0",
          "sentiments": 0
         },
         {
          "ratings": "3.0",
          "sentiments": 0
         },
         {
          "ratings": "3.0",
          "sentiments": -0.01455385476402496
         },
         {
          "ratings": "3.0",
          "sentiments": 0.0625
         },
         {
          "ratings": "3.0",
          "sentiments": 0.004436859890291263
         },
         {
          "ratings": "3.0",
          "sentiments": 0
         },
         {
          "ratings": "3.0",
          "sentiments": 0.041666666666666664
         },
         {
          "ratings": "3.0",
          "sentiments": -0.02058823529411765
         },
         {
          "ratings": "3.0",
          "sentiments": 0.5
         },
         {
          "ratings": "3.0",
          "sentiments": 0
         },
         {
          "ratings": "3.0",
          "sentiments": 0
         },
         {
          "ratings": "3.0",
          "sentiments": -0.08809523809523809
         },
         {
          "ratings": "3.0",
          "sentiments": -0.02631578947368421
         },
         {
          "ratings": "3.0",
          "sentiments": 0.036082251082251084
         },
         {
          "ratings": "3.0",
          "sentiments": 0
         },
         {
          "ratings": "3.0",
          "sentiments": 0.022727272727272728
         },
         {
          "ratings": "3.0",
          "sentiments": 0.05555555555555555
         },
         {
          "ratings": "3.0",
          "sentiments": -0.0025041958049428757
         },
         {
          "ratings": "3.0",
          "sentiments": -0.15555555555555553
         },
         {
          "ratings": "3.0",
          "sentiments": -0.09649122807017543
         },
         {
          "ratings": "3.0",
          "sentiments": -0.02158730158730159
         },
         {
          "ratings": "3.0",
          "sentiments": 0
         },
         {
          "ratings": "3.0",
          "sentiments": 0.025396825396825393
         },
         {
          "ratings": "3.0",
          "sentiments": 0.25
         },
         {
          "ratings": "3.0",
          "sentiments": 0.014393939393939393
         },
         {
          "ratings": "3.0",
          "sentiments": 0
         },
         {
          "ratings": "3.0",
          "sentiments": 0
         },
         {
          "ratings": "3.0",
          "sentiments": 0.07142857142857142
         },
         {
          "ratings": "3.0",
          "sentiments": 0.050671550671550665
         },
         {
          "ratings": "3.0",
          "sentiments": 1
         },
         {
          "ratings": "3.0",
          "sentiments": 0.10227272727272728
         },
         {
          "ratings": "3.0",
          "sentiments": -0.2
         },
         {
          "ratings": "3.0",
          "sentiments": -0.6666666666666666
         },
         {
          "ratings": "3.0",
          "sentiments": 0.011111111111111118
         },
         {
          "ratings": "3.0",
          "sentiments": -0.00588505681617873
         },
         {
          "ratings": "3.0",
          "sentiments": 0.5384615384615384
         },
         {
          "ratings": "3.0",
          "sentiments": 0.028055555555555556
         },
         {
          "ratings": "3.0",
          "sentiments": 0.08333333333333333
         },
         {
          "ratings": "3.0",
          "sentiments": 0
         },
         {
          "ratings": "3.0",
          "sentiments": 0
         },
         {
          "ratings": "3.0",
          "sentiments": 0
         },
         {
          "ratings": "3.0",
          "sentiments": -0.047619047619047616
         },
         {
          "ratings": "3.0",
          "sentiments": -0.12179487179487179
         },
         {
          "ratings": "3.0",
          "sentiments": 0.041666666666666664
         },
         {
          "ratings": "3.0",
          "sentiments": 0.06904761904761905
         },
         {
          "ratings": "3.0",
          "sentiments": -0.20833333333333334
         },
         {
          "ratings": "3.0",
          "sentiments": 0
         },
         {
          "ratings": "3.0",
          "sentiments": 0.05
         },
         {
          "ratings": "3.0",
          "sentiments": -0.03222703222703223
         },
         {
          "ratings": "3.0",
          "sentiments": 0.05692744755244755
         },
         {
          "ratings": "3.0",
          "sentiments": 0.07142857142857142
         },
         {
          "ratings": "3.0",
          "sentiments": 0
         },
         {
          "ratings": "3.0",
          "sentiments": -0.1364177489177489
         },
         {
          "ratings": "3.0",
          "sentiments": -0.034098639455782315
         },
         {
          "ratings": "3.0",
          "sentiments": 0.013888888888888886
         },
         {
          "ratings": "3.0",
          "sentiments": -0.08173076923076923
         },
         {
          "ratings": "3.0",
          "sentiments": 0.0204840613931523
         },
         {
          "ratings": "3.0",
          "sentiments": -0.2236453201970443
         },
         {
          "ratings": "3.0",
          "sentiments": -0.09769364985051257
         },
         {
          "ratings": "3.0",
          "sentiments": 0.03418531962089131
         },
         {
          "ratings": "3.0",
          "sentiments": -0.001431683784624956
         },
         {
          "ratings": "3.0",
          "sentiments": 0.09215957653457653
         },
         {
          "ratings": "3.0",
          "sentiments": 0.08333333333333333
         },
         {
          "ratings": "3.0",
          "sentiments": 0.08333333333333333
         },
         {
          "ratings": "3.0",
          "sentiments": 0
         },
         {
          "ratings": "3.0",
          "sentiments": -0.017857142857142856
         },
         {
          "ratings": "3.0",
          "sentiments": 0
         },
         {
          "ratings": "3.0",
          "sentiments": -0.11764705882352941
         },
         {
          "ratings": "3.0",
          "sentiments": 0.13095238095238096
         },
         {
          "ratings": "3.0",
          "sentiments": -0.040584415584415584
         },
         {
          "ratings": "3.0",
          "sentiments": 0
         },
         {
          "ratings": "3.0",
          "sentiments": 0.008333333333333338
         },
         {
          "ratings": "3.0",
          "sentiments": -0.16666666666666666
         },
         {
          "ratings": "3.0",
          "sentiments": 0.1865079365079365
         },
         {
          "ratings": "3.0",
          "sentiments": 0.06976076555023923
         },
         {
          "ratings": "3.0",
          "sentiments": 0.16917293233082706
         },
         {
          "ratings": "3.0",
          "sentiments": 0
         },
         {
          "ratings": "3.0",
          "sentiments": 0.04985994397759104
         },
         {
          "ratings": "3.0",
          "sentiments": 0.04523809523809524
         },
         {
          "ratings": "3.0",
          "sentiments": 0.03173076923076923
         },
         {
          "ratings": "3.0",
          "sentiments": 0.05357142857142857
         },
         {
          "ratings": "3.0",
          "sentiments": 0
         },
         {
          "ratings": "3.0",
          "sentiments": -0.007765938492157404
         },
         {
          "ratings": "3.0",
          "sentiments": -0.03978675645342312
         },
         {
          "ratings": "3.0",
          "sentiments": -0.5
         },
         {
          "ratings": "3.0",
          "sentiments": -0.0045403540844042665
         },
         {
          "ratings": "3.0",
          "sentiments": -0.14285714285714285
         },
         {
          "ratings": "3.0",
          "sentiments": -0.00514069264069264
         },
         {
          "ratings": "3.0",
          "sentiments": -0.07499273453818908
         },
         {
          "ratings": "3.0",
          "sentiments": 0.09090909090909091
         },
         {
          "ratings": "3.0",
          "sentiments": 0.22435897435897437
         },
         {
          "ratings": "3.0",
          "sentiments": 0
         },
         {
          "ratings": "3.0",
          "sentiments": 0.0748015873015873
         },
         {
          "ratings": "3.0",
          "sentiments": 0.06666666666666667
         },
         {
          "ratings": "3.0",
          "sentiments": 0.058823529411764705
         },
         {
          "ratings": "3.0",
          "sentiments": 0.02583732057416268
         },
         {
          "ratings": "3.0",
          "sentiments": 0.0982761286332715
         },
         {
          "ratings": "3.0",
          "sentiments": -0.25
         },
         {
          "ratings": "3.0",
          "sentiments": 0.12142857142857143
         },
         {
          "ratings": "3.0",
          "sentiments": -0.010545492033579257
         },
         {
          "ratings": "3.0",
          "sentiments": 0.01628001628001628
         },
         {
          "ratings": "3.0",
          "sentiments": 0.024899240970669544
         },
         {
          "ratings": "3.0",
          "sentiments": 0.03300865800865801
         },
         {
          "ratings": "3.0",
          "sentiments": -0.0625
         },
         {
          "ratings": "3.0",
          "sentiments": -0.006674459852201829
         },
         {
          "ratings": "3.0",
          "sentiments": -0.010355872885284657
         },
         {
          "ratings": "3.0",
          "sentiments": 0.03308823529411765
         },
         {
          "ratings": "3.0",
          "sentiments": 0.0024528518675675836
         },
         {
          "ratings": "3.0",
          "sentiments": 0
         },
         {
          "ratings": "3.0",
          "sentiments": 0.008293269230769233
         },
         {
          "ratings": "3.0",
          "sentiments": 0
         },
         {
          "ratings": "3.0",
          "sentiments": 0.05784694022269739
         },
         {
          "ratings": "3.0",
          "sentiments": -0.05555555555555555
         },
         {
          "ratings": "3.0",
          "sentiments": -0.0753311965811966
         },
         {
          "ratings": "3.0",
          "sentiments": 0.040584415584415584
         },
         {
          "ratings": "3.0",
          "sentiments": -0.16666666666666666
         },
         {
          "ratings": "3.0",
          "sentiments": -0.019230769230769232
         },
         {
          "ratings": "3.0",
          "sentiments": 0.010695187165775402
         },
         {
          "ratings": "3.0",
          "sentiments": 0
         },
         {
          "ratings": "3.0",
          "sentiments": 0.006734006734006731
         },
         {
          "ratings": "3.0",
          "sentiments": 0.05263157894736842
         },
         {
          "ratings": "3.0",
          "sentiments": 0.047619047619047616
         },
         {
          "ratings": "3.0",
          "sentiments": -0.5
         },
         {
          "ratings": "3.0",
          "sentiments": 0.05555555555555555
         },
         {
          "ratings": "3.0",
          "sentiments": 0.04688888888888888
         },
         {
          "ratings": "3.0",
          "sentiments": 0.16447368421052633
         },
         {
          "ratings": "3.0",
          "sentiments": 0
         },
         {
          "ratings": "3.0",
          "sentiments": 0.13557449494949494
         },
         {
          "ratings": "3.0",
          "sentiments": -0.042323618410574936
         },
         {
          "ratings": "3.0",
          "sentiments": -0.21428571428571427
         },
         {
          "ratings": "3.0",
          "sentiments": 0
         },
         {
          "ratings": "3.0",
          "sentiments": 0.12314814814814816
         },
         {
          "ratings": "3.0",
          "sentiments": 0.008928571428571428
         },
         {
          "ratings": "3.0",
          "sentiments": 0
         },
         {
          "ratings": "3.0",
          "sentiments": 0.25
         },
         {
          "ratings": "3.0",
          "sentiments": -0.008892501927871598
         },
         {
          "ratings": "3.0",
          "sentiments": 0.049767146051975776
         },
         {
          "ratings": "3.0",
          "sentiments": -0.003478976793409247
         },
         {
          "ratings": "3.0",
          "sentiments": -0.07385129490392649
         },
         {
          "ratings": "3.0",
          "sentiments": 0.009663865546218488
         },
         {
          "ratings": "3.0",
          "sentiments": -0.09999999999999999
         },
         {
          "ratings": "3.0",
          "sentiments": -0.05107497544472335
         },
         {
          "ratings": "3.0",
          "sentiments": 0
         },
         {
          "ratings": "3.0",
          "sentiments": 0.01816933638443936
         },
         {
          "ratings": "3.0",
          "sentiments": 0.025
         },
         {
          "ratings": "3.0",
          "sentiments": -0.05257478356839812
         },
         {
          "ratings": "3.0",
          "sentiments": -0.525
         },
         {
          "ratings": "3.0",
          "sentiments": 0.047619047619047616
         },
         {
          "ratings": "3.0",
          "sentiments": 0.053282828282828286
         },
         {
          "ratings": "3.0",
          "sentiments": 0
         },
         {
          "ratings": "3.0",
          "sentiments": -0.037037037037037035
         },
         {
          "ratings": "3.0",
          "sentiments": -0.03333333333333333
         },
         {
          "ratings": "3.0",
          "sentiments": -0.016666666666666666
         },
         {
          "ratings": "3.0",
          "sentiments": 0.0031214305407853823
         },
         {
          "ratings": "3.0",
          "sentiments": -0.018518518518518517
         },
         {
          "ratings": "3.0",
          "sentiments": 0.05678812415654522
         },
         {
          "ratings": "3.0",
          "sentiments": 0.23484848484848486
         },
         {
          "ratings": "3.0",
          "sentiments": 0.021732026143790845
         },
         {
          "ratings": "3.0",
          "sentiments": -0.018413978494623656
         },
         {
          "ratings": "3.0",
          "sentiments": -0.09666666666666666
         },
         {
          "ratings": "3.0",
          "sentiments": 0
         },
         {
          "ratings": "3.0",
          "sentiments": 0.0046195652173913054
         },
         {
          "ratings": "3.0",
          "sentiments": 0.2857142857142857
         },
         {
          "ratings": "3.0",
          "sentiments": 0.005669649980795495
         },
         {
          "ratings": "3.0",
          "sentiments": 0.06299935916395544
         },
         {
          "ratings": "3.0",
          "sentiments": -0.04854347041847042
         },
         {
          "ratings": "3.0",
          "sentiments": -0.03636363636363636
         },
         {
          "ratings": "3.0",
          "sentiments": 0
         },
         {
          "ratings": "3.0",
          "sentiments": 0
         },
         {
          "ratings": "3.0",
          "sentiments": 1
         },
         {
          "ratings": "3.0",
          "sentiments": 0.010273542882238536
         },
         {
          "ratings": "3.0",
          "sentiments": 0
         },
         {
          "ratings": "3.0",
          "sentiments": -0.041666666666666664
         },
         {
          "ratings": "3.0",
          "sentiments": 0
         },
         {
          "ratings": "3.0",
          "sentiments": -0.03225806451612903
         },
         {
          "ratings": "3.0",
          "sentiments": 0.023177746166876602
         },
         {
          "ratings": "3.0",
          "sentiments": 0
         },
         {
          "ratings": "3.0",
          "sentiments": -0.2
         },
         {
          "ratings": "3.0",
          "sentiments": -0.042857142857142864
         },
         {
          "ratings": "3.0",
          "sentiments": -0.14583333333333331
         },
         {
          "ratings": "3.0",
          "sentiments": 0
         },
         {
          "ratings": "3.0",
          "sentiments": -0.00902199652199652
         },
         {
          "ratings": "3.0",
          "sentiments": -0.003075258883621148
         },
         {
          "ratings": "3.0",
          "sentiments": 0
         },
         {
          "ratings": "3.0",
          "sentiments": 0.10164141414141414
         },
         {
          "ratings": "3.0",
          "sentiments": 0.25
         },
         {
          "ratings": "3.0",
          "sentiments": 0
         },
         {
          "ratings": "3.0",
          "sentiments": -0.018703287453287455
         },
         {
          "ratings": "3.0",
          "sentiments": 0.03419521654815772
         },
         {
          "ratings": "3.0",
          "sentiments": -0.047619047619047616
         },
         {
          "ratings": "3.0",
          "sentiments": 0.012428292888063006
         },
         {
          "ratings": "3.0",
          "sentiments": 0.09523809523809523
         },
         {
          "ratings": "4.0",
          "sentiments": 0.0869047619047619
         },
         {
          "ratings": "4.0",
          "sentiments": 0.14583333333333334
         },
         {
          "ratings": "4.0",
          "sentiments": -0.06971153846153846
         },
         {
          "ratings": "4.0",
          "sentiments": 0.10219251336898395
         },
         {
          "ratings": "4.0",
          "sentiments": 0.005704821494295183
         },
         {
          "ratings": "4.0",
          "sentiments": 0.4
         },
         {
          "ratings": "4.0",
          "sentiments": 0.1111111111111111
         },
         {
          "ratings": "4.0",
          "sentiments": 0.1
         },
         {
          "ratings": "4.0",
          "sentiments": 0.06176470588235293
         },
         {
          "ratings": "4.0",
          "sentiments": -0.008333333333333331
         },
         {
          "ratings": "4.0",
          "sentiments": 0
         },
         {
          "ratings": "4.0",
          "sentiments": -0.02693602693602694
         },
         {
          "ratings": "4.0",
          "sentiments": 0.05613004240090248
         },
         {
          "ratings": "4.0",
          "sentiments": 0.15185185185185182
         },
         {
          "ratings": "4.0",
          "sentiments": 0.5
         },
         {
          "ratings": "4.0",
          "sentiments": 0
         },
         {
          "ratings": "4.0",
          "sentiments": 0
         },
         {
          "ratings": "4.0",
          "sentiments": 0.25
         },
         {
          "ratings": "4.0",
          "sentiments": 0.010410641989589353
         },
         {
          "ratings": "4.0",
          "sentiments": 0.0625
         },
         {
          "ratings": "4.0",
          "sentiments": 0.041666666666666664
         },
         {
          "ratings": "4.0",
          "sentiments": 0.009911758563074347
         },
         {
          "ratings": "4.0",
          "sentiments": 0.045454545454545456
         },
         {
          "ratings": "4.0",
          "sentiments": 0.09283170493909035
         },
         {
          "ratings": "4.0",
          "sentiments": 0.16269841269841268
         },
         {
          "ratings": "4.0",
          "sentiments": 0.05237611304684475
         },
         {
          "ratings": "4.0",
          "sentiments": 0
         },
         {
          "ratings": "4.0",
          "sentiments": 0.05698412698412698
         },
         {
          "ratings": "4.0",
          "sentiments": -0.05555555555555555
         },
         {
          "ratings": "4.0",
          "sentiments": 0.03521573076187136
         },
         {
          "ratings": "4.0",
          "sentiments": -0.018939393939393943
         },
         {
          "ratings": "4.0",
          "sentiments": 0.029779191115398007
         },
         {
          "ratings": "4.0",
          "sentiments": 0.047619047619047616
         },
         {
          "ratings": "4.0",
          "sentiments": 0.0537037037037037
         },
         {
          "ratings": "4.0",
          "sentiments": 0.08333333333333333
         },
         {
          "ratings": "4.0",
          "sentiments": 0.11626984126984127
         },
         {
          "ratings": "4.0",
          "sentiments": 0.05445744389709906
         },
         {
          "ratings": "4.0",
          "sentiments": -0.03225806451612903
         },
         {
          "ratings": "4.0",
          "sentiments": 0.0475657666823138
         },
         {
          "ratings": "4.0",
          "sentiments": 0.031228725317856816
         },
         {
          "ratings": "4.0",
          "sentiments": 0.016666666666666666
         },
         {
          "ratings": "4.0",
          "sentiments": 0.08337501667333602
         },
         {
          "ratings": "4.0",
          "sentiments": 0.07222222222222223
         },
         {
          "ratings": "4.0",
          "sentiments": 0
         },
         {
          "ratings": "4.0",
          "sentiments": 0.054138655021669396
         },
         {
          "ratings": "4.0",
          "sentiments": -0.02857142857142857
         },
         {
          "ratings": "4.0",
          "sentiments": 0
         },
         {
          "ratings": "4.0",
          "sentiments": 0.01060606060606061
         },
         {
          "ratings": "4.0",
          "sentiments": -0.14047619047619048
         },
         {
          "ratings": "4.0",
          "sentiments": 0
         },
         {
          "ratings": "4.0",
          "sentiments": 0.02222222222222222
         },
         {
          "ratings": "4.0",
          "sentiments": 0.0362288284489423
         },
         {
          "ratings": "4.0",
          "sentiments": 0.09722222222222221
         },
         {
          "ratings": "4.0",
          "sentiments": 0.06547619047619048
         },
         {
          "ratings": "4.0",
          "sentiments": 0.09523809523809523
         },
         {
          "ratings": "4.0",
          "sentiments": 0.2387318563789152
         },
         {
          "ratings": "4.0",
          "sentiments": -0.28846153846153844
         },
         {
          "ratings": "4.0",
          "sentiments": 0.028392203826479164
         },
         {
          "ratings": "4.0",
          "sentiments": 0.125
         },
         {
          "ratings": "4.0",
          "sentiments": 0
         },
         {
          "ratings": "4.0",
          "sentiments": 0.75
         },
         {
          "ratings": "4.0",
          "sentiments": -0.06666666666666667
         },
         {
          "ratings": "4.0",
          "sentiments": 0.15384615384615385
         },
         {
          "ratings": "4.0",
          "sentiments": -0.05
         },
         {
          "ratings": "4.0",
          "sentiments": 0.0032051282051282007
         },
         {
          "ratings": "4.0",
          "sentiments": 0.03758169934640523
         },
         {
          "ratings": "4.0",
          "sentiments": -0.0012254901960784316
         },
         {
          "ratings": "4.0",
          "sentiments": -0.06529040882489158
         },
         {
          "ratings": "4.0",
          "sentiments": 0.030303030303030304
         },
         {
          "ratings": "4.0",
          "sentiments": 0.24060150375939848
         },
         {
          "ratings": "4.0",
          "sentiments": -0.09444444444444444
         },
         {
          "ratings": "4.0",
          "sentiments": 0.022222222222222223
         },
         {
          "ratings": "4.0",
          "sentiments": 0
         },
         {
          "ratings": "4.0",
          "sentiments": 0.0004748338081671429
         },
         {
          "ratings": "4.0",
          "sentiments": 0
         },
         {
          "ratings": "4.0",
          "sentiments": -0.13035714285714284
         },
         {
          "ratings": "4.0",
          "sentiments": 0.12878787878787878
         },
         {
          "ratings": "4.0",
          "sentiments": 0
         },
         {
          "ratings": "4.0",
          "sentiments": 0.5
         },
         {
          "ratings": "4.0",
          "sentiments": 0.08634965524671408
         },
         {
          "ratings": "4.0",
          "sentiments": 0.03409090909090909
         },
         {
          "ratings": "4.0",
          "sentiments": -0.003401360544217691
         },
         {
          "ratings": "4.0",
          "sentiments": 0
         },
         {
          "ratings": "4.0",
          "sentiments": -0.043478260869565216
         },
         {
          "ratings": "4.0",
          "sentiments": 0.08267784846732215
         },
         {
          "ratings": "4.0",
          "sentiments": -0.07889200561009818
         },
         {
          "ratings": "4.0",
          "sentiments": 0.023809523809523808
         },
         {
          "ratings": "4.0",
          "sentiments": 0.04775910364145658
         },
         {
          "ratings": "4.0",
          "sentiments": 0.08835227272727272
         },
         {
          "ratings": "4.0",
          "sentiments": 0.005118030118030117
         },
         {
          "ratings": "4.0",
          "sentiments": -0.020833333333333332
         },
         {
          "ratings": "4.0",
          "sentiments": 0
         },
         {
          "ratings": "4.0",
          "sentiments": 0.012121212121212123
         },
         {
          "ratings": "4.0",
          "sentiments": 0.09999999999999999
         },
         {
          "ratings": "4.0",
          "sentiments": 0.019943721250910797
         },
         {
          "ratings": "4.0",
          "sentiments": 0
         },
         {
          "ratings": "4.0",
          "sentiments": 0.21296296296296294
         },
         {
          "ratings": "4.0",
          "sentiments": 0
         },
         {
          "ratings": "4.0",
          "sentiments": 0
         },
         {
          "ratings": "4.0",
          "sentiments": 0
         },
         {
          "ratings": "4.0",
          "sentiments": 0.2
         },
         {
          "ratings": "4.0",
          "sentiments": 1
         },
         {
          "ratings": "4.0",
          "sentiments": 0
         },
         {
          "ratings": "4.0",
          "sentiments": 0.5
         },
         {
          "ratings": "4.0",
          "sentiments": 0.023001274088230616
         },
         {
          "ratings": "4.0",
          "sentiments": 0.09217506631299735
         },
         {
          "ratings": "4.0",
          "sentiments": 0
         },
         {
          "ratings": "4.0",
          "sentiments": -0.021428571428571422
         },
         {
          "ratings": "4.0",
          "sentiments": 0.13333333333333333
         },
         {
          "ratings": "4.0",
          "sentiments": 0.002182151781252234
         },
         {
          "ratings": "4.0",
          "sentiments": -0.027272727272727275
         },
         {
          "ratings": "4.0",
          "sentiments": 0.26644736842105265
         },
         {
          "ratings": "4.0",
          "sentiments": 0.04973118279569892
         },
         {
          "ratings": "4.0",
          "sentiments": 0.2222222222222222
         },
         {
          "ratings": "4.0",
          "sentiments": 0.125
         },
         {
          "ratings": "4.0",
          "sentiments": 0.012691376909744834
         },
         {
          "ratings": "4.0",
          "sentiments": -0.03849206349206349
         },
         {
          "ratings": "4.0",
          "sentiments": 0.10965469075330665
         },
         {
          "ratings": "4.0",
          "sentiments": 0.1111111111111111
         },
         {
          "ratings": "4.0",
          "sentiments": -0.029287122457678734
         },
         {
          "ratings": "4.0",
          "sentiments": 0.29545977011494257
         },
         {
          "ratings": "4.0",
          "sentiments": 0
         },
         {
          "ratings": "4.0",
          "sentiments": 0
         },
         {
          "ratings": "4.0",
          "sentiments": 0.08333333333333333
         },
         {
          "ratings": "4.0",
          "sentiments": 0.06309061599933391
         },
         {
          "ratings": "4.0",
          "sentiments": 0
         },
         {
          "ratings": "4.0",
          "sentiments": 0.14480994152046786
         },
         {
          "ratings": "4.0",
          "sentiments": 0.0755154824599269
         },
         {
          "ratings": "4.0",
          "sentiments": 0
         },
         {
          "ratings": "4.0",
          "sentiments": 0.16666666666666666
         },
         {
          "ratings": "4.0",
          "sentiments": -0.05713383838383838
         },
         {
          "ratings": "4.0",
          "sentiments": 0.25
         },
         {
          "ratings": "4.0",
          "sentiments": -0.07692307692307693
         },
         {
          "ratings": "4.0",
          "sentiments": 1
         },
         {
          "ratings": "4.0",
          "sentiments": 0.08333333333333333
         },
         {
          "ratings": "4.0",
          "sentiments": 0
         },
         {
          "ratings": "4.0",
          "sentiments": 0.6
         },
         {
          "ratings": "4.0",
          "sentiments": 0
         },
         {
          "ratings": "4.0",
          "sentiments": 0.020833333333333332
         },
         {
          "ratings": "4.0",
          "sentiments": 0.5
         },
         {
          "ratings": "4.0",
          "sentiments": 0
         },
         {
          "ratings": "4.0",
          "sentiments": 0.03809523809523809
         },
         {
          "ratings": "4.0",
          "sentiments": 0.013186813186813185
         },
         {
          "ratings": "4.0",
          "sentiments": 0.046875
         },
         {
          "ratings": "4.0",
          "sentiments": -0.0017114421526186253
         },
         {
          "ratings": "4.0",
          "sentiments": 0.10317460317460318
         },
         {
          "ratings": "4.0",
          "sentiments": 0
         },
         {
          "ratings": "4.0",
          "sentiments": 0.2
         },
         {
          "ratings": "4.0",
          "sentiments": 0.5
         },
         {
          "ratings": "4.0",
          "sentiments": 0.022470584970584972
         },
         {
          "ratings": "4.0",
          "sentiments": 0
         },
         {
          "ratings": "4.0",
          "sentiments": -0.25
         },
         {
          "ratings": "4.0",
          "sentiments": 0.08333333333333333
         },
         {
          "ratings": "4.0",
          "sentiments": 0.02127659574468085
         },
         {
          "ratings": "4.0",
          "sentiments": 0
         },
         {
          "ratings": "4.0",
          "sentiments": 0.1079124579124579
         },
         {
          "ratings": "4.0",
          "sentiments": 0.16666666666666666
         },
         {
          "ratings": "4.0",
          "sentiments": 0.25
         },
         {
          "ratings": "4.0",
          "sentiments": 0.05897435897435898
         },
         {
          "ratings": "4.0",
          "sentiments": 0.12215909090909091
         },
         {
          "ratings": "4.0",
          "sentiments": 0.05421812138478805
         },
         {
          "ratings": "4.0",
          "sentiments": 0
         },
         {
          "ratings": "4.0",
          "sentiments": 0
         },
         {
          "ratings": "4.0",
          "sentiments": 0.0462962962962963
         },
         {
          "ratings": "4.0",
          "sentiments": 0.5
         },
         {
          "ratings": "4.0",
          "sentiments": -3
         },
         {
          "ratings": "4.0",
          "sentiments": -0.09628099173553721
         },
         {
          "ratings": "4.0",
          "sentiments": 0
         },
         {
          "ratings": "4.0",
          "sentiments": 0.1
         },
         {
          "ratings": "4.0",
          "sentiments": -0.00018315018315018169
         },
         {
          "ratings": "4.0",
          "sentiments": -0.03651471984805319
         },
         {
          "ratings": "4.0",
          "sentiments": 0.017652349625713736
         },
         {
          "ratings": "4.0",
          "sentiments": -0.0002278423331054935
         },
         {
          "ratings": "4.0",
          "sentiments": -1
         },
         {
          "ratings": "4.0",
          "sentiments": 0.041880341880341884
         },
         {
          "ratings": "4.0",
          "sentiments": 0.0325259879439446
         },
         {
          "ratings": "4.0",
          "sentiments": 0.1474673202614379
         },
         {
          "ratings": "4.0",
          "sentiments": -0.06228798479814025
         },
         {
          "ratings": "4.0",
          "sentiments": 0
         },
         {
          "ratings": "4.0",
          "sentiments": 0.06666666666666667
         },
         {
          "ratings": "4.0",
          "sentiments": 0.0095387167850936
         },
         {
          "ratings": "4.0",
          "sentiments": 0
         },
         {
          "ratings": "4.0",
          "sentiments": 0.022836538461538464
         },
         {
          "ratings": "4.0",
          "sentiments": -0.019047619047619053
         },
         {
          "ratings": "4.0",
          "sentiments": 0.1
         },
         {
          "ratings": "4.0",
          "sentiments": 0.016351241351241348
         },
         {
          "ratings": "4.0",
          "sentiments": 0
         },
         {
          "ratings": "4.0",
          "sentiments": 0
         },
         {
          "ratings": "4.0",
          "sentiments": 0.21296296296296294
         },
         {
          "ratings": "4.0",
          "sentiments": -0.20833333333333331
         },
         {
          "ratings": "4.0",
          "sentiments": 0.10524718337218336
         },
         {
          "ratings": "4.0",
          "sentiments": 0.02702020202020202
         },
         {
          "ratings": "4.0",
          "sentiments": 0.03596822333381473
         },
         {
          "ratings": "4.0",
          "sentiments": 0.06666666666666667
         },
         {
          "ratings": "4.0",
          "sentiments": -0.025
         },
         {
          "ratings": "4.0",
          "sentiments": -0.013286035013503925
         },
         {
          "ratings": "4.0",
          "sentiments": 0
         },
         {
          "ratings": "4.0",
          "sentiments": 0
         },
         {
          "ratings": "4.0",
          "sentiments": -0.11300675675675675
         },
         {
          "ratings": "4.0",
          "sentiments": 0.06789956125819503
         },
         {
          "ratings": "4.0",
          "sentiments": -0.02638888888888889
         },
         {
          "ratings": "4.0",
          "sentiments": -0.03708791208791209
         },
         {
          "ratings": "4.0",
          "sentiments": 0.08387445887445888
         },
         {
          "ratings": "4.0",
          "sentiments": 0.09543359865940511
         },
         {
          "ratings": "4.0",
          "sentiments": 1
         },
         {
          "ratings": "4.0",
          "sentiments": 0.5
         },
         {
          "ratings": "4.0",
          "sentiments": 0.5
         },
         {
          "ratings": "4.0",
          "sentiments": 0
         },
         {
          "ratings": "4.0",
          "sentiments": -0.047701504844361975
         },
         {
          "ratings": "4.0",
          "sentiments": 0.06327300150829562
         },
         {
          "ratings": "4.0",
          "sentiments": 0.27777777777777773
         },
         {
          "ratings": "4.0",
          "sentiments": -0.08333333333333333
         },
         {
          "ratings": "4.0",
          "sentiments": 0.10416666666666666
         },
         {
          "ratings": "4.0",
          "sentiments": 0.05
         },
         {
          "ratings": "4.0",
          "sentiments": 0.07954545454545454
         },
         {
          "ratings": "4.0",
          "sentiments": 0.05293040293040293
         },
         {
          "ratings": "4.0",
          "sentiments": 0
         },
         {
          "ratings": "4.0",
          "sentiments": 0.05
         },
         {
          "ratings": "4.0",
          "sentiments": 0.008254875590584635
         },
         {
          "ratings": "4.0",
          "sentiments": -0.3333333333333333
         },
         {
          "ratings": "4.0",
          "sentiments": 0.023774250440917105
         },
         {
          "ratings": "4.0",
          "sentiments": -0.028221822321881827
         },
         {
          "ratings": "4.0",
          "sentiments": 0.08497076023391813
         },
         {
          "ratings": "4.0",
          "sentiments": 0.125
         },
         {
          "ratings": "4.0",
          "sentiments": 0.2
         },
         {
          "ratings": "4.0",
          "sentiments": 0.1527777777777778
         },
         {
          "ratings": "4.0",
          "sentiments": 0.027970969089390143
         },
         {
          "ratings": "4.0",
          "sentiments": 0.12714506855373728
         },
         {
          "ratings": "4.0",
          "sentiments": 0.2
         },
         {
          "ratings": "4.0",
          "sentiments": 0.047619047619047616
         },
         {
          "ratings": "4.0",
          "sentiments": 0.006256234231062606
         },
         {
          "ratings": "4.0",
          "sentiments": 0.10799168152109329
         },
         {
          "ratings": "4.0",
          "sentiments": 0.09582267689684569
         },
         {
          "ratings": "4.0",
          "sentiments": 0.011177718832891247
         },
         {
          "ratings": "4.0",
          "sentiments": 0.001935571101012276
         },
         {
          "ratings": "4.0",
          "sentiments": -0.04929029304029303
         },
         {
          "ratings": "4.0",
          "sentiments": 0.08482142857142858
         },
         {
          "ratings": "4.0",
          "sentiments": 0
         },
         {
          "ratings": "4.0",
          "sentiments": 0.04090909090909091
         },
         {
          "ratings": "4.0",
          "sentiments": 0.008333333333333335
         },
         {
          "ratings": "4.0",
          "sentiments": 0.1723901098901099
         },
         {
          "ratings": "4.0",
          "sentiments": -0.1111111111111111
         },
         {
          "ratings": "4.0",
          "sentiments": 0.3333333333333333
         },
         {
          "ratings": "4.0",
          "sentiments": 0.05031749233393349
         },
         {
          "ratings": "4.0",
          "sentiments": 0.07037037037037037
         },
         {
          "ratings": "4.0",
          "sentiments": 0.3333333333333333
         },
         {
          "ratings": "4.0",
          "sentiments": 0.03918016481955101
         },
         {
          "ratings": "4.0",
          "sentiments": 0
         },
         {
          "ratings": "4.0",
          "sentiments": -0.125
         },
         {
          "ratings": "4.0",
          "sentiments": 0.18181818181818182
         },
         {
          "ratings": "4.0",
          "sentiments": 0.033455433455433455
         },
         {
          "ratings": "4.0",
          "sentiments": 0.16666666666666666
         },
         {
          "ratings": "4.0",
          "sentiments": 0.013139801375095494
         },
         {
          "ratings": "4.0",
          "sentiments": -0.3680555555555556
         },
         {
          "ratings": "4.0",
          "sentiments": 0
         },
         {
          "ratings": "4.0",
          "sentiments": -0.041666666666666664
         },
         {
          "ratings": "4.0",
          "sentiments": 0.03981476253215383
         },
         {
          "ratings": "4.0",
          "sentiments": 0.5
         },
         {
          "ratings": "4.0",
          "sentiments": 0.0625
         },
         {
          "ratings": "4.0",
          "sentiments": -0.1
         },
         {
          "ratings": "4.0",
          "sentiments": 0.01428571428571428
         },
         {
          "ratings": "4.0",
          "sentiments": 0
         },
         {
          "ratings": "4.0",
          "sentiments": 0.03906960688758934
         },
         {
          "ratings": "4.0",
          "sentiments": 0.09986772486772487
         },
         {
          "ratings": "4.0",
          "sentiments": -0.05523504273504273
         },
         {
          "ratings": "4.0",
          "sentiments": 0.02666666666666667
         },
         {
          "ratings": "4.0",
          "sentiments": 0
         },
         {
          "ratings": "4.0",
          "sentiments": 0.5
         },
         {
          "ratings": "4.0",
          "sentiments": 0
         },
         {
          "ratings": "4.0",
          "sentiments": 0.052529761904761905
         },
         {
          "ratings": "4.0",
          "sentiments": -0.007783882783882784
         },
         {
          "ratings": "4.0",
          "sentiments": -0.0023984080435693333
         },
         {
          "ratings": "4.0",
          "sentiments": 0.31547619047619047
         },
         {
          "ratings": "4.0",
          "sentiments": 0.06060606060606061
         },
         {
          "ratings": "4.0",
          "sentiments": 0.019586558222921855
         },
         {
          "ratings": "4.0",
          "sentiments": 0.01991403746266446
         },
         {
          "ratings": "4.0",
          "sentiments": 0
         },
         {
          "ratings": "4.0",
          "sentiments": 0.2222222222222222
         },
         {
          "ratings": "4.0",
          "sentiments": 0.0017316017316017333
         },
         {
          "ratings": "4.0",
          "sentiments": 0.25
         },
         {
          "ratings": "4.0",
          "sentiments": 0
         },
         {
          "ratings": "4.0",
          "sentiments": 0
         },
         {
          "ratings": "4.0",
          "sentiments": 0.20729166666666665
         },
         {
          "ratings": "4.0",
          "sentiments": 0.020833333333333336
         },
         {
          "ratings": "4.0",
          "sentiments": 0.2916666666666667
         },
         {
          "ratings": "4.0",
          "sentiments": -0.11666666666666665
         },
         {
          "ratings": "4.0",
          "sentiments": 0.0625
         },
         {
          "ratings": "4.0",
          "sentiments": 0.17037037037037037
         },
         {
          "ratings": "4.0",
          "sentiments": 0
         },
         {
          "ratings": "4.0",
          "sentiments": 0.05263157894736842
         },
         {
          "ratings": "4.0",
          "sentiments": 0.2
         },
         {
          "ratings": "4.0",
          "sentiments": 0.10093415571356747
         },
         {
          "ratings": "4.0",
          "sentiments": -0.041666666666666664
         },
         {
          "ratings": "4.0",
          "sentiments": -0.015151515151515152
         },
         {
          "ratings": "4.0",
          "sentiments": 0
         },
         {
          "ratings": "4.0",
          "sentiments": 0.15
         },
         {
          "ratings": "4.0",
          "sentiments": 0.09764309764309764
         },
         {
          "ratings": "4.0",
          "sentiments": -2
         },
         {
          "ratings": "4.0",
          "sentiments": 0.010416666666666664
         },
         {
          "ratings": "4.0",
          "sentiments": 0.027882205513784467
         },
         {
          "ratings": "4.0",
          "sentiments": -0.05119047619047619
         },
         {
          "ratings": "4.0",
          "sentiments": 0
         },
         {
          "ratings": "4.0",
          "sentiments": 0.041666666666666664
         },
         {
          "ratings": "4.0",
          "sentiments": -0.5
         },
         {
          "ratings": "4.0",
          "sentiments": 1
         },
         {
          "ratings": "4.0",
          "sentiments": 0
         },
         {
          "ratings": "4.0",
          "sentiments": 0
         },
         {
          "ratings": "4.0",
          "sentiments": 0.1375
         },
         {
          "ratings": "4.0",
          "sentiments": 0.023404052979216373
         },
         {
          "ratings": "4.0",
          "sentiments": 0.12222222222222223
         },
         {
          "ratings": "4.0",
          "sentiments": 0
         },
         {
          "ratings": "4.0",
          "sentiments": 0.09285714285714286
         },
         {
          "ratings": "4.0",
          "sentiments": 0.04389244334097275
         },
         {
          "ratings": "4.0",
          "sentiments": 0.125
         },
         {
          "ratings": "4.0",
          "sentiments": 0.07407407407407407
         },
         {
          "ratings": "4.0",
          "sentiments": -0.008226495726495728
         },
         {
          "ratings": "4.0",
          "sentiments": 0.006480193980193979
         },
         {
          "ratings": "4.0",
          "sentiments": 0.04415689352664143
         },
         {
          "ratings": "4.0",
          "sentiments": 0.1111111111111111
         },
         {
          "ratings": "4.0",
          "sentiments": -1
         },
         {
          "ratings": "4.0",
          "sentiments": 0.17216117216117213
         },
         {
          "ratings": "4.0",
          "sentiments": 0
         },
         {
          "ratings": "4.0",
          "sentiments": 0.039410727253864505
         },
         {
          "ratings": "4.0",
          "sentiments": 0.04720557220557221
         },
         {
          "ratings": "4.0",
          "sentiments": 0
         },
         {
          "ratings": "4.0",
          "sentiments": 0.0034022235559296936
         },
         {
          "ratings": "4.0",
          "sentiments": -0.13888888888888887
         },
         {
          "ratings": "4.0",
          "sentiments": 0.1
         },
         {
          "ratings": "4.0",
          "sentiments": 0.14166666666666666
         },
         {
          "ratings": "4.0",
          "sentiments": 0.13545454545454547
         },
         {
          "ratings": "4.0",
          "sentiments": -0.13162393162393163
         },
         {
          "ratings": "4.0",
          "sentiments": -0.015906084656084656
         },
         {
          "ratings": "4.0",
          "sentiments": 0.018671679197994985
         },
         {
          "ratings": "4.0",
          "sentiments": -0.17697294730787555
         },
         {
          "ratings": "4.0",
          "sentiments": 0.0989010989010989
         },
         {
          "ratings": "4.0",
          "sentiments": -0.225
         },
         {
          "ratings": "4.0",
          "sentiments": -0.023809523809523808
         },
         {
          "ratings": "4.0",
          "sentiments": 0.06944444444444443
         },
         {
          "ratings": "4.0",
          "sentiments": 0.5
         },
         {
          "ratings": "4.0",
          "sentiments": -0.027777777777777776
         },
         {
          "ratings": "4.0",
          "sentiments": 0.2
         },
         {
          "ratings": "4.0",
          "sentiments": 0
         },
         {
          "ratings": "4.0",
          "sentiments": -0.05958132045088566
         },
         {
          "ratings": "4.0",
          "sentiments": 0
         },
         {
          "ratings": "4.0",
          "sentiments": 0
         },
         {
          "ratings": "4.0",
          "sentiments": 0.07349865047233468
         },
         {
          "ratings": "4.0",
          "sentiments": 0.09821428571428571
         },
         {
          "ratings": "4.0",
          "sentiments": 0.16666666666666666
         },
         {
          "ratings": "4.0",
          "sentiments": 0
         },
         {
          "ratings": "4.0",
          "sentiments": 0.09305555555555556
         },
         {
          "ratings": "4.0",
          "sentiments": -0.047619047619047616
         },
         {
          "ratings": "4.0",
          "sentiments": -0.06756668029877579
         },
         {
          "ratings": "4.0",
          "sentiments": 0.02976190476190476
         },
         {
          "ratings": "4.0",
          "sentiments": 0.060897435897435896
         },
         {
          "ratings": "4.0",
          "sentiments": 0.04150230111768573
         },
         {
          "ratings": "4.0",
          "sentiments": 0.5
         },
         {
          "ratings": "4.0",
          "sentiments": 0.16269841269841268
         },
         {
          "ratings": "4.0",
          "sentiments": 0.038461538461538464
         },
         {
          "ratings": "4.0",
          "sentiments": 0.0951254627725216
         },
         {
          "ratings": "4.0",
          "sentiments": 0
         },
         {
          "ratings": "4.0",
          "sentiments": 0.019696969696969695
         },
         {
          "ratings": "4.0",
          "sentiments": 0.018518518518518517
         },
         {
          "ratings": "4.0",
          "sentiments": 1
         },
         {
          "ratings": "4.0",
          "sentiments": -0.005287534804026558
         },
         {
          "ratings": "4.0",
          "sentiments": 0.16875
         },
         {
          "ratings": "4.0",
          "sentiments": 0.09967532467532468
         },
         {
          "ratings": "4.0",
          "sentiments": 0
         },
         {
          "ratings": "4.0",
          "sentiments": 0.125
         },
         {
          "ratings": "4.0",
          "sentiments": 0.14646464646464644
         },
         {
          "ratings": "4.0",
          "sentiments": -0.029259259259259256
         },
         {
          "ratings": "4.0",
          "sentiments": 0.17216117216117213
         },
         {
          "ratings": "4.0",
          "sentiments": 0
         },
         {
          "ratings": "4.0",
          "sentiments": 0.10194805194805195
         },
         {
          "ratings": "4.0",
          "sentiments": -0.002138600731422502
         },
         {
          "ratings": "4.0",
          "sentiments": 0.04816931036443232
         },
         {
          "ratings": "4.0",
          "sentiments": 0
         },
         {
          "ratings": "4.0",
          "sentiments": 0.6666666666666666
         },
         {
          "ratings": "4.0",
          "sentiments": 0
         },
         {
          "ratings": "4.0",
          "sentiments": -0.03333333333333334
         },
         {
          "ratings": "4.0",
          "sentiments": -0.06746031746031746
         },
         {
          "ratings": "4.0",
          "sentiments": 0.10555555555555556
         },
         {
          "ratings": "4.0",
          "sentiments": 0.017356976528803154
         },
         {
          "ratings": "4.0",
          "sentiments": -0.11904761904761905
         },
         {
          "ratings": "4.0",
          "sentiments": 0.05630449889952655
         },
         {
          "ratings": "4.0",
          "sentiments": 0.014003673094582185
         },
         {
          "ratings": "4.0",
          "sentiments": 0.06175265948521763
         },
         {
          "ratings": "4.0",
          "sentiments": 0
         },
         {
          "ratings": "4.0",
          "sentiments": 0.125
         },
         {
          "ratings": "4.0",
          "sentiments": -0.045454545454545456
         },
         {
          "ratings": "4.0",
          "sentiments": 0.07316176470588236
         },
         {
          "ratings": "4.0",
          "sentiments": 0.12681159420289856
         },
         {
          "ratings": "4.0",
          "sentiments": 0
         },
         {
          "ratings": "4.0",
          "sentiments": 0.05505149052772437
         },
         {
          "ratings": "4.0",
          "sentiments": 0.05977182539682539
         },
         {
          "ratings": "4.0",
          "sentiments": 0
         },
         {
          "ratings": "4.0",
          "sentiments": 0.07360565193819463
         },
         {
          "ratings": "4.0",
          "sentiments": 0.0125
         },
         {
          "ratings": "4.0",
          "sentiments": 0
         },
         {
          "ratings": "4.0",
          "sentiments": 0.06865210812579232
         },
         {
          "ratings": "4.0",
          "sentiments": 0.05555555555555555
         },
         {
          "ratings": "4.0",
          "sentiments": 0.0065053367684946625
         },
         {
          "ratings": "4.0",
          "sentiments": 0.05263157894736842
         },
         {
          "ratings": "4.0",
          "sentiments": 0.09624756335282651
         },
         {
          "ratings": "4.0",
          "sentiments": 0.09281894576012222
         },
         {
          "ratings": "4.0",
          "sentiments": 0
         },
         {
          "ratings": "4.0",
          "sentiments": 0.015228668820000088
         },
         {
          "ratings": "4.0",
          "sentiments": 0.05397098692553238
         },
         {
          "ratings": "4.0",
          "sentiments": 0.07282539682539682
         },
         {
          "ratings": "4.0",
          "sentiments": 0.3333333333333333
         },
         {
          "ratings": "4.0",
          "sentiments": 0.019230769230769232
         },
         {
          "ratings": "4.0",
          "sentiments": -0.1111111111111111
         },
         {
          "ratings": "4.0",
          "sentiments": 0.08333333333333333
         },
         {
          "ratings": "4.0",
          "sentiments": 1
         },
         {
          "ratings": "4.0",
          "sentiments": 0.09807692307692309
         },
         {
          "ratings": "4.0",
          "sentiments": 0.051090208810797046
         },
         {
          "ratings": "4.0",
          "sentiments": -0.0031011653403801914
         },
         {
          "ratings": "4.0",
          "sentiments": 0
         },
         {
          "ratings": "4.0",
          "sentiments": 0.019644348496385567
         },
         {
          "ratings": "4.0",
          "sentiments": 0.3
         },
         {
          "ratings": "4.0",
          "sentiments": 0.25
         },
         {
          "ratings": "4.0",
          "sentiments": -0.05
         },
         {
          "ratings": "4.0",
          "sentiments": 0.046790890269151134
         },
         {
          "ratings": "4.0",
          "sentiments": 0.05512578162578163
         },
         {
          "ratings": "4.0",
          "sentiments": 0
         },
         {
          "ratings": "4.0",
          "sentiments": -0.002777777777777775
         },
         {
          "ratings": "4.0",
          "sentiments": 0
         },
         {
          "ratings": "4.0",
          "sentiments": 0.1851851851851852
         },
         {
          "ratings": "4.0",
          "sentiments": 0.061111111111111116
         },
         {
          "ratings": "4.0",
          "sentiments": 0.056680440771349865
         },
         {
          "ratings": "4.0",
          "sentiments": -0.009608465608465611
         },
         {
          "ratings": "4.0",
          "sentiments": -0.09356725146198831
         },
         {
          "ratings": "4.0",
          "sentiments": 0.25
         },
         {
          "ratings": "4.0",
          "sentiments": 0.04259018759018759
         },
         {
          "ratings": "4.0",
          "sentiments": 0.05263157894736842
         },
         {
          "ratings": "4.0",
          "sentiments": 0.09014423076923077
         },
         {
          "ratings": "4.0",
          "sentiments": 0.3333333333333333
         },
         {
          "ratings": "4.0",
          "sentiments": 0.06666666666666667
         },
         {
          "ratings": "4.0",
          "sentiments": 0.07469512195121951
         },
         {
          "ratings": "4.0",
          "sentiments": 0
         },
         {
          "ratings": "4.0",
          "sentiments": 0.012586580086580085
         },
         {
          "ratings": "4.0",
          "sentiments": 0.06252844377844378
         },
         {
          "ratings": "4.0",
          "sentiments": 0
         },
         {
          "ratings": "4.0",
          "sentiments": -0.056644880174291944
         },
         {
          "ratings": "4.0",
          "sentiments": 0.031789044640844845
         },
         {
          "ratings": "4.0",
          "sentiments": 0
         },
         {
          "ratings": "4.0",
          "sentiments": 0.18070652173913043
         },
         {
          "ratings": "4.0",
          "sentiments": 0
         },
         {
          "ratings": "4.0",
          "sentiments": 0.0009523809523809517
         },
         {
          "ratings": "4.0",
          "sentiments": 0.06666666666666667
         },
         {
          "ratings": "4.0",
          "sentiments": 0.0054730811471007555
         },
         {
          "ratings": "4.0",
          "sentiments": -0.045454545454545456
         },
         {
          "ratings": "4.0",
          "sentiments": -0.03902116402116402
         },
         {
          "ratings": "4.0",
          "sentiments": 0.017857142857142856
         },
         {
          "ratings": "4.0",
          "sentiments": 0.14285714285714285
         },
         {
          "ratings": "4.0",
          "sentiments": 0.08680555555555555
         },
         {
          "ratings": "4.0",
          "sentiments": 0.057921245421245424
         },
         {
          "ratings": "4.0",
          "sentiments": 0.5
         },
         {
          "ratings": "4.0",
          "sentiments": 0.029487179487179487
         },
         {
          "ratings": "4.0",
          "sentiments": 0.04688995215311005
         },
         {
          "ratings": "4.0",
          "sentiments": -0.20184500507467015
         },
         {
          "ratings": "4.0",
          "sentiments": 0.02084340556562779
         },
         {
          "ratings": "4.0",
          "sentiments": 0
         },
         {
          "ratings": "4.0",
          "sentiments": 0.19090909090909092
         },
         {
          "ratings": "4.0",
          "sentiments": 0.5669642857142857
         },
         {
          "ratings": "4.0",
          "sentiments": -0.017701465201465205
         },
         {
          "ratings": "4.0",
          "sentiments": 0.0196078431372549
         },
         {
          "ratings": "4.0",
          "sentiments": 0.07142857142857142
         },
         {
          "ratings": "4.0",
          "sentiments": 0.08452380952380953
         },
         {
          "ratings": "4.0",
          "sentiments": 0.05405405405405406
         },
         {
          "ratings": "4.0",
          "sentiments": 0.052380952380952375
         },
         {
          "ratings": "4.0",
          "sentiments": 0.03125
         },
         {
          "ratings": "4.0",
          "sentiments": 0.034818570232656915
         },
         {
          "ratings": "4.0",
          "sentiments": 0.1
         },
         {
          "ratings": "4.0",
          "sentiments": 0.2
         },
         {
          "ratings": "4.0",
          "sentiments": -0.033139938591066405
         },
         {
          "ratings": "4.0",
          "sentiments": 0.10606060606060605
         },
         {
          "ratings": "4.0",
          "sentiments": -0.006209920903895654
         },
         {
          "ratings": "4.0",
          "sentiments": -0.12745098039215685
         },
         {
          "ratings": "4.0",
          "sentiments": 0.042669548416674856
         },
         {
          "ratings": "4.0",
          "sentiments": 0.04691350316350316
         },
         {
          "ratings": "4.0",
          "sentiments": 0
         },
         {
          "ratings": "4.0",
          "sentiments": 0.05333333333333333
         },
         {
          "ratings": "4.0",
          "sentiments": -0.05476409173572688
         },
         {
          "ratings": "4.0",
          "sentiments": 0.10444874274661509
         },
         {
          "ratings": "4.0",
          "sentiments": 0
         },
         {
          "ratings": "4.0",
          "sentiments": 0.08695652173913043
         },
         {
          "ratings": "4.0",
          "sentiments": 0
         },
         {
          "ratings": "4.0",
          "sentiments": -0.03764005602240896
         },
         {
          "ratings": "4.0",
          "sentiments": 0.037037037037037035
         },
         {
          "ratings": "4.0",
          "sentiments": 1
         },
         {
          "ratings": "4.0",
          "sentiments": -0.02083333333333333
         },
         {
          "ratings": "4.0",
          "sentiments": 0.1111111111111111
         },
         {
          "ratings": "4.0",
          "sentiments": 0
         },
         {
          "ratings": "4.0",
          "sentiments": 0
         },
         {
          "ratings": "4.0",
          "sentiments": 0.04738562091503268
         },
         {
          "ratings": "4.0",
          "sentiments": 0.060227272727272727
         },
         {
          "ratings": "4.0",
          "sentiments": 0.3333333333333333
         },
         {
          "ratings": "4.0",
          "sentiments": 0.15
         },
         {
          "ratings": "4.0",
          "sentiments": 0
         },
         {
          "ratings": "4.0",
          "sentiments": 0.037820512820512825
         },
         {
          "ratings": "4.0",
          "sentiments": 0.25
         },
         {
          "ratings": "4.0",
          "sentiments": 0.1164021164021164
         },
         {
          "ratings": "4.0",
          "sentiments": 0.028488703173577122
         },
         {
          "ratings": "4.0",
          "sentiments": 0.07142857142857142
         },
         {
          "ratings": "4.0",
          "sentiments": 1
         },
         {
          "ratings": "4.0",
          "sentiments": 0.027777777777777776
         },
         {
          "ratings": "4.0",
          "sentiments": 0.07830105445237023
         },
         {
          "ratings": "4.0",
          "sentiments": 0.125
         },
         {
          "ratings": "4.0",
          "sentiments": -0.025
         },
         {
          "ratings": "4.0",
          "sentiments": 0.02976190476190476
         },
         {
          "ratings": "4.0",
          "sentiments": 0
         },
         {
          "ratings": "4.0",
          "sentiments": 0.012479076728151644
         },
         {
          "ratings": "4.0",
          "sentiments": 0.20454545454545453
         },
         {
          "ratings": "4.0",
          "sentiments": 0
         },
         {
          "ratings": "4.0",
          "sentiments": 0.02631578947368421
         },
         {
          "ratings": "4.0",
          "sentiments": 0.08973633578896738
         },
         {
          "ratings": "4.0",
          "sentiments": -0.16666666666666666
         },
         {
          "ratings": "4.0",
          "sentiments": -1
         },
         {
          "ratings": "4.0",
          "sentiments": 0.0992651305151305
         },
         {
          "ratings": "4.0",
          "sentiments": 0.16914285714285712
         },
         {
          "ratings": "4.0",
          "sentiments": 0
         },
         {
          "ratings": "4.0",
          "sentiments": 0.25
         },
         {
          "ratings": "4.0",
          "sentiments": 0.05036630036630037
         },
         {
          "ratings": "4.0",
          "sentiments": -0.0629514963880289
         },
         {
          "ratings": "4.0",
          "sentiments": -0.014285714285714282
         },
         {
          "ratings": "4.0",
          "sentiments": 0.08680555555555555
         },
         {
          "ratings": "4.0",
          "sentiments": 0.3333333333333333
         },
         {
          "ratings": "4.0",
          "sentiments": -0.16156862745098038
         },
         {
          "ratings": "4.0",
          "sentiments": 0.06622718052738337
         },
         {
          "ratings": "4.0",
          "sentiments": -0.029411764705882353
         },
         {
          "ratings": "4.0",
          "sentiments": 0.42857142857142855
         },
         {
          "ratings": "4.0",
          "sentiments": 0.03959365915887655
         },
         {
          "ratings": "4.0",
          "sentiments": 0.013887866519445465
         },
         {
          "ratings": "4.0",
          "sentiments": 0.08333333333333333
         },
         {
          "ratings": "4.0",
          "sentiments": 0.017676767676767676
         },
         {
          "ratings": "4.0",
          "sentiments": 0.005324675324675327
         },
         {
          "ratings": "4.0",
          "sentiments": 0.06971361971361971
         },
         {
          "ratings": "4.0",
          "sentiments": 0.019780219780219783
         },
         {
          "ratings": "4.0",
          "sentiments": 0
         },
         {
          "ratings": "4.0",
          "sentiments": -0.022366522366522368
         },
         {
          "ratings": "4.0",
          "sentiments": 0
         },
         {
          "ratings": "4.0",
          "sentiments": -0.3
         },
         {
          "ratings": "4.0",
          "sentiments": 0
         },
         {
          "ratings": "4.0",
          "sentiments": 0.3333333333333333
         },
         {
          "ratings": "4.0",
          "sentiments": 0.125
         },
         {
          "ratings": "4.0",
          "sentiments": 0.07803030303030303
         },
         {
          "ratings": "4.0",
          "sentiments": 0.04309127368974211
         },
         {
          "ratings": "4.0",
          "sentiments": 0.07814449917898193
         },
         {
          "ratings": "4.0",
          "sentiments": 0
         },
         {
          "ratings": "4.0",
          "sentiments": 0.15096153846153848
         },
         {
          "ratings": "4.0",
          "sentiments": 0.012500000000000002
         },
         {
          "ratings": "4.0",
          "sentiments": 0.11428307464892831
         },
         {
          "ratings": "4.0",
          "sentiments": 0
         },
         {
          "ratings": "4.0",
          "sentiments": 0.023809523809523808
         },
         {
          "ratings": "4.0",
          "sentiments": 0.002573247090790947
         },
         {
          "ratings": "4.0",
          "sentiments": 0.047619047619047616
         },
         {
          "ratings": "4.0",
          "sentiments": -0.16666666666666666
         },
         {
          "ratings": "4.0",
          "sentiments": 0.06684303350970018
         },
         {
          "ratings": "4.0",
          "sentiments": 0
         },
         {
          "ratings": "4.0",
          "sentiments": 0
         },
         {
          "ratings": "4.0",
          "sentiments": 0.043478260869565216
         },
         {
          "ratings": "4.0",
          "sentiments": -1
         },
         {
          "ratings": "4.0",
          "sentiments": 0.06666666666666667
         },
         {
          "ratings": "4.0",
          "sentiments": 0.4
         },
         {
          "ratings": "4.0",
          "sentiments": 0
         },
         {
          "ratings": "4.0",
          "sentiments": 0.03779761904761905
         },
         {
          "ratings": "4.0",
          "sentiments": 0.06608784532697576
         },
         {
          "ratings": "4.0",
          "sentiments": 0.10833333333333334
         },
         {
          "ratings": "4.0",
          "sentiments": -0.03484848484848486
         },
         {
          "ratings": "4.0",
          "sentiments": -0.041666666666666664
         },
         {
          "ratings": "4.0",
          "sentiments": 0.008015873015873016
         },
         {
          "ratings": "4.0",
          "sentiments": -0.03273809523809524
         },
         {
          "ratings": "4.0",
          "sentiments": -0.05833333333333334
         },
         {
          "ratings": "4.0",
          "sentiments": 0.025641025641025644
         },
         {
          "ratings": "4.0",
          "sentiments": 0
         },
         {
          "ratings": "4.0",
          "sentiments": 0
         },
         {
          "ratings": "4.0",
          "sentiments": 0.09622277364212849
         },
         {
          "ratings": "4.0",
          "sentiments": 0.5
         },
         {
          "ratings": "4.0",
          "sentiments": 0.5
         },
         {
          "ratings": "4.0",
          "sentiments": -0.0003267973856209153
         },
         {
          "ratings": "4.0",
          "sentiments": -0.07142857142857142
         },
         {
          "ratings": "4.0",
          "sentiments": -0.008047911632626505
         },
         {
          "ratings": "4.0",
          "sentiments": -0.3
         },
         {
          "ratings": "4.0",
          "sentiments": 0.12021978021978022
         },
         {
          "ratings": "4.0",
          "sentiments": 0.01428571428571429
         },
         {
          "ratings": "4.0",
          "sentiments": 0.06204710144927535
         },
         {
          "ratings": "4.0",
          "sentiments": 0
         },
         {
          "ratings": "4.0",
          "sentiments": 0
         },
         {
          "ratings": "4.0",
          "sentiments": -0.06025641025641026
         },
         {
          "ratings": "4.0",
          "sentiments": 0.06851851851851852
         },
         {
          "ratings": "4.0",
          "sentiments": 0.1
         },
         {
          "ratings": "4.0",
          "sentiments": 0.06060606060606061
         },
         {
          "ratings": "4.0",
          "sentiments": 0.16666666666666666
         },
         {
          "ratings": "4.0",
          "sentiments": 0.012533834586466164
         },
         {
          "ratings": "4.0",
          "sentiments": 0.028202947845804984
         },
         {
          "ratings": "4.0",
          "sentiments": 0
         },
         {
          "ratings": "4.0",
          "sentiments": 0.15666666666666665
         },
         {
          "ratings": "4.0",
          "sentiments": 0
         },
         {
          "ratings": "4.0",
          "sentiments": 0.038461538461538464
         },
         {
          "ratings": "4.0",
          "sentiments": 0.5
         },
         {
          "ratings": "4.0",
          "sentiments": -0.1111111111111111
         },
         {
          "ratings": "4.0",
          "sentiments": 0.003270095917154738
         },
         {
          "ratings": "4.0",
          "sentiments": 0
         },
         {
          "ratings": "4.0",
          "sentiments": 0.037037037037037035
         },
         {
          "ratings": "4.0",
          "sentiments": -0.036976911976911976
         },
         {
          "ratings": "4.0",
          "sentiments": 0.18181818181818182
         },
         {
          "ratings": "4.0",
          "sentiments": 0.09249982044099692
         },
         {
          "ratings": "4.0",
          "sentiments": 0.01920793235148931
         },
         {
          "ratings": "4.0",
          "sentiments": 0.05555555555555555
         },
         {
          "ratings": "4.0",
          "sentiments": 0.06439393939393939
         },
         {
          "ratings": "4.0",
          "sentiments": 0.13257575757575757
         },
         {
          "ratings": "4.0",
          "sentiments": 0.03125
         },
         {
          "ratings": "4.0",
          "sentiments": 0.3333333333333333
         },
         {
          "ratings": "4.0",
          "sentiments": 0.04950396825396825
         },
         {
          "ratings": "4.0",
          "sentiments": -0.03801712242888713
         },
         {
          "ratings": "4.0",
          "sentiments": 0.08016674683341349
         },
         {
          "ratings": "4.0",
          "sentiments": 0.025
         },
         {
          "ratings": "4.0",
          "sentiments": 0.020833333333333332
         },
         {
          "ratings": "4.0",
          "sentiments": 0
         },
         {
          "ratings": "4.0",
          "sentiments": 0.048600915992220335
         },
         {
          "ratings": "4.0",
          "sentiments": 0
         },
         {
          "ratings": "4.0",
          "sentiments": 0.20833333333333331
         },
         {
          "ratings": "4.0",
          "sentiments": 0.1
         },
         {
          "ratings": "4.0",
          "sentiments": 0
         },
         {
          "ratings": "4.0",
          "sentiments": 0.08333333333333333
         },
         {
          "ratings": "4.0",
          "sentiments": -0.21958041958041954
         },
         {
          "ratings": "4.0",
          "sentiments": 0.04338624338624338
         },
         {
          "ratings": "4.0",
          "sentiments": 0
         },
         {
          "ratings": "4.0",
          "sentiments": -0.058260869565217394
         },
         {
          "ratings": "4.0",
          "sentiments": 0.045454545454545456
         },
         {
          "ratings": "4.0",
          "sentiments": 0.12857142857142856
         },
         {
          "ratings": "4.0",
          "sentiments": 0.05611111111111111
         },
         {
          "ratings": "4.0",
          "sentiments": 0.04
         },
         {
          "ratings": "4.0",
          "sentiments": 0.07619047619047618
         },
         {
          "ratings": "4.0",
          "sentiments": 0.06944444444444445
         },
         {
          "ratings": "4.0",
          "sentiments": 0.16666666666666666
         },
         {
          "ratings": "4.0",
          "sentiments": 0.0625
         },
         {
          "ratings": "4.0",
          "sentiments": 0.12698412698412698
         },
         {
          "ratings": "4.0",
          "sentiments": 0.06190476190476189
         },
         {
          "ratings": "4.0",
          "sentiments": 0.021739130434782608
         },
         {
          "ratings": "4.0",
          "sentiments": -0.23076923076923078
         },
         {
          "ratings": "4.0",
          "sentiments": 0.018139730639730636
         },
         {
          "ratings": "4.0",
          "sentiments": 1
         },
         {
          "ratings": "4.0",
          "sentiments": 0
         },
         {
          "ratings": "4.0",
          "sentiments": 0
         },
         {
          "ratings": "4.0",
          "sentiments": 0.005482456140350877
         },
         {
          "ratings": "4.0",
          "sentiments": 0.04818181818181819
         },
         {
          "ratings": "4.0",
          "sentiments": 0.13132478632478634
         },
         {
          "ratings": "4.0",
          "sentiments": 0.39285714285714285
         },
         {
          "ratings": "4.0",
          "sentiments": 0
         },
         {
          "ratings": "4.0",
          "sentiments": 0.5
         },
         {
          "ratings": "4.0",
          "sentiments": 0.03125
         },
         {
          "ratings": "4.0",
          "sentiments": 0
         },
         {
          "ratings": "4.0",
          "sentiments": 0.10846560846560845
         },
         {
          "ratings": "4.0",
          "sentiments": 0.08928571428571429
         },
         {
          "ratings": "4.0",
          "sentiments": 0.10277777777777779
         },
         {
          "ratings": "4.0",
          "sentiments": 0.12903225806451613
         },
         {
          "ratings": "4.0",
          "sentiments": 0.02477351080292256
         },
         {
          "ratings": "4.0",
          "sentiments": 0.004960317460317461
         },
         {
          "ratings": "4.0",
          "sentiments": 0.08522727272727273
         },
         {
          "ratings": "4.0",
          "sentiments": 0.5
         },
         {
          "ratings": "4.0",
          "sentiments": 0.03404068154068154
         },
         {
          "ratings": "4.0",
          "sentiments": 0.07142857142857142
         },
         {
          "ratings": "4.0",
          "sentiments": 0.17984189723320157
         },
         {
          "ratings": "4.0",
          "sentiments": 0.21250000000000002
         },
         {
          "ratings": "4.0",
          "sentiments": 0.14285714285714285
         },
         {
          "ratings": "4.0",
          "sentiments": 0.5
         },
         {
          "ratings": "4.0",
          "sentiments": 0.1
         },
         {
          "ratings": "4.0",
          "sentiments": 0.023291925465838508
         },
         {
          "ratings": "4.0",
          "sentiments": -0.07628205128205129
         },
         {
          "ratings": "4.0",
          "sentiments": 0.02631578947368421
         },
         {
          "ratings": "4.0",
          "sentiments": 0.15
         },
         {
          "ratings": "4.0",
          "sentiments": 0.0876984126984127
         },
         {
          "ratings": "4.0",
          "sentiments": 0.5
         },
         {
          "ratings": "4.0",
          "sentiments": -0.055379188712522044
         },
         {
          "ratings": "4.0",
          "sentiments": 0
         },
         {
          "ratings": "4.0",
          "sentiments": 0.051634768740031894
         },
         {
          "ratings": "4.0",
          "sentiments": -0.001940993788819876
         },
         {
          "ratings": "4.0",
          "sentiments": 0.006190118868648918
         },
         {
          "ratings": "4.0",
          "sentiments": 0.2
         },
         {
          "ratings": "4.0",
          "sentiments": 0.023368397926766166
         },
         {
          "ratings": "4.0",
          "sentiments": 0.06561789088104877
         },
         {
          "ratings": "4.0",
          "sentiments": 0.047619047619047616
         },
         {
          "ratings": "4.0",
          "sentiments": 0.04476513682396035
         },
         {
          "ratings": "4.0",
          "sentiments": 0.0418138719811416
         },
         {
          "ratings": "4.0",
          "sentiments": -0.031231367654856054
         },
         {
          "ratings": "4.0",
          "sentiments": 0.06306818181818181
         },
         {
          "ratings": "4.0",
          "sentiments": 0.014204545454545456
         },
         {
          "ratings": "4.0",
          "sentiments": 0
         },
         {
          "ratings": "4.0",
          "sentiments": 0.275
         },
         {
          "ratings": "4.0",
          "sentiments": 0.02021553325901152
         },
         {
          "ratings": "4.0",
          "sentiments": 0.16666666666666666
         },
         {
          "ratings": "4.0",
          "sentiments": -0.023809523809523808
         },
         {
          "ratings": "4.0",
          "sentiments": -0.0032998155581275834
         },
         {
          "ratings": "4.0",
          "sentiments": 0
         },
         {
          "ratings": "4.0",
          "sentiments": 0.06631578947368422
         },
         {
          "ratings": "4.0",
          "sentiments": -0.038461538461538464
         },
         {
          "ratings": "4.0",
          "sentiments": 0.03333333333333333
         },
         {
          "ratings": "4.0",
          "sentiments": 0.14285714285714285
         },
         {
          "ratings": "4.0",
          "sentiments": 0
         },
         {
          "ratings": "4.0",
          "sentiments": -0.01123737373737374
         },
         {
          "ratings": "4.0",
          "sentiments": -0.007936507936507936
         },
         {
          "ratings": "4.0",
          "sentiments": 0.010772560772560775
         },
         {
          "ratings": "4.0",
          "sentiments": 1
         },
         {
          "ratings": "4.0",
          "sentiments": 0
         },
         {
          "ratings": "4.0",
          "sentiments": 0.125
         },
         {
          "ratings": "4.0",
          "sentiments": 0.0005530295786781644
         },
         {
          "ratings": "4.0",
          "sentiments": -0.10606060606060606
         },
         {
          "ratings": "4.0",
          "sentiments": 0.01971253147723736
         },
         {
          "ratings": "4.0",
          "sentiments": -0.0003588525330972098
         },
         {
          "ratings": "4.0",
          "sentiments": 0
         },
         {
          "ratings": "4.0",
          "sentiments": -0.035696579920717855
         },
         {
          "ratings": "4.0",
          "sentiments": 0.028270341953206404
         },
         {
          "ratings": "4.0",
          "sentiments": 1
         },
         {
          "ratings": "4.0",
          "sentiments": 0.10287756428107303
         },
         {
          "ratings": "4.0",
          "sentiments": 0
         },
         {
          "ratings": "4.0",
          "sentiments": 0.25
         },
         {
          "ratings": "4.0",
          "sentiments": 0.02339616402116402
         },
         {
          "ratings": "4.0",
          "sentiments": 0
         },
         {
          "ratings": "4.0",
          "sentiments": 0.10840201465201466
         },
         {
          "ratings": "4.0",
          "sentiments": 0.0016281512605042015
         },
         {
          "ratings": "4.0",
          "sentiments": 0.04803116431834966
         },
         {
          "ratings": "4.0",
          "sentiments": 0.05387205387205387
         },
         {
          "ratings": "4.0",
          "sentiments": 0.022898391812865494
         },
         {
          "ratings": "4.0",
          "sentiments": 0.04927337155598025
         },
         {
          "ratings": "4.0",
          "sentiments": 1
         },
         {
          "ratings": "4.0",
          "sentiments": 0
         },
         {
          "ratings": "4.0",
          "sentiments": 0.3333333333333333
         },
         {
          "ratings": "4.0",
          "sentiments": 0.06364853313070631
         },
         {
          "ratings": "4.0",
          "sentiments": 0.5
         },
         {
          "ratings": "4.0",
          "sentiments": 0.005472059302704464
         },
         {
          "ratings": "4.0",
          "sentiments": -0.08958333333333333
         },
         {
          "ratings": "4.0",
          "sentiments": 0.09714646464646466
         },
         {
          "ratings": "4.0",
          "sentiments": 0
         },
         {
          "ratings": "4.0",
          "sentiments": 0.05549600604801572
         },
         {
          "ratings": "4.0",
          "sentiments": -0.020833333333333332
         },
         {
          "ratings": "4.0",
          "sentiments": 0.1428968253968254
         },
         {
          "ratings": "4.0",
          "sentiments": -0.3333333333333333
         },
         {
          "ratings": "4.0",
          "sentiments": 0.01864035087719298
         },
         {
          "ratings": "4.0",
          "sentiments": 0.125
         },
         {
          "ratings": "4.0",
          "sentiments": 0.0044969398417674285
         },
         {
          "ratings": "4.0",
          "sentiments": -0.003798670465337131
         },
         {
          "ratings": "4.0",
          "sentiments": 0.1111111111111111
         },
         {
          "ratings": "4.0",
          "sentiments": -0.012345679012345678
         },
         {
          "ratings": "4.0",
          "sentiments": 0
         },
         {
          "ratings": "4.0",
          "sentiments": 0.0380952380952381
         },
         {
          "ratings": "4.0",
          "sentiments": 0.14814814814814814
         },
         {
          "ratings": "4.0",
          "sentiments": -0.03125
         },
         {
          "ratings": "4.0",
          "sentiments": 0.045970279881015964
         },
         {
          "ratings": "4.0",
          "sentiments": 0.10396374287999903
         },
         {
          "ratings": "4.0",
          "sentiments": 0.0625
         },
         {
          "ratings": "4.0",
          "sentiments": -0.013464052287581702
         },
         {
          "ratings": "4.0",
          "sentiments": -0.09090909090909091
         },
         {
          "ratings": "4.0",
          "sentiments": 0.139247311827957
         },
         {
          "ratings": "4.0",
          "sentiments": -0.026346093993152814
         },
         {
          "ratings": "4.0",
          "sentiments": 0.05
         },
         {
          "ratings": "4.0",
          "sentiments": 0.2
         },
         {
          "ratings": "4.0",
          "sentiments": 0
         },
         {
          "ratings": "4.0",
          "sentiments": 0.5
         },
         {
          "ratings": "4.0",
          "sentiments": 0
         },
         {
          "ratings": "4.0",
          "sentiments": 0
         },
         {
          "ratings": "4.0",
          "sentiments": 0.012820512820512822
         },
         {
          "ratings": "4.0",
          "sentiments": -1
         },
         {
          "ratings": "4.0",
          "sentiments": 0
         },
         {
          "ratings": "4.0",
          "sentiments": -0.03333333333333334
         },
         {
          "ratings": "4.0",
          "sentiments": -0.05555555555555556
         },
         {
          "ratings": "4.0",
          "sentiments": 1
         },
         {
          "ratings": "4.0",
          "sentiments": -0.06896551724137931
         },
         {
          "ratings": "4.0",
          "sentiments": 0.02736437770374422
         },
         {
          "ratings": "4.0",
          "sentiments": -0.0012257162243906666
         },
         {
          "ratings": "4.0",
          "sentiments": 0.14285714285714285
         },
         {
          "ratings": "4.0",
          "sentiments": 0.010817924196001446
         },
         {
          "ratings": "4.0",
          "sentiments": 0.019078144078144076
         },
         {
          "ratings": "4.0",
          "sentiments": 0.125
         },
         {
          "ratings": "4.0",
          "sentiments": -0.01434339067779386
         },
         {
          "ratings": "4.0",
          "sentiments": 0.07692307692307693
         },
         {
          "ratings": "4.0",
          "sentiments": 0.024844720496894408
         },
         {
          "ratings": "4.0",
          "sentiments": 0.125
         },
         {
          "ratings": "4.0",
          "sentiments": 0
         },
         {
          "ratings": "4.0",
          "sentiments": 0.25
         },
         {
          "ratings": "4.0",
          "sentiments": -0.05
         },
         {
          "ratings": "4.0",
          "sentiments": 0.03362193362193362
         },
         {
          "ratings": "4.0",
          "sentiments": 0.0361111111111111
         },
         {
          "ratings": "4.0",
          "sentiments": 0.1527777777777778
         },
         {
          "ratings": "4.0",
          "sentiments": -0.07984126984126982
         },
         {
          "ratings": "4.0",
          "sentiments": 0.6666666666666666
         },
         {
          "ratings": "4.0",
          "sentiments": 0.12910052910052908
         },
         {
          "ratings": "4.0",
          "sentiments": 0.16666666666666666
         },
         {
          "ratings": "4.0",
          "sentiments": 0.5
         },
         {
          "ratings": "4.0",
          "sentiments": 0
         },
         {
          "ratings": "4.0",
          "sentiments": 0.027473712519094994
         },
         {
          "ratings": "4.0",
          "sentiments": 0.21250000000000002
         },
         {
          "ratings": "4.0",
          "sentiments": 0.01585782638414217
         },
         {
          "ratings": "4.0",
          "sentiments": 0.033333333333333326
         },
         {
          "ratings": "4.0",
          "sentiments": -0.03571428571428571
         },
         {
          "ratings": "4.0",
          "sentiments": 0.041353383458646614
         },
         {
          "ratings": "4.0",
          "sentiments": 0.05351374709663479
         },
         {
          "ratings": "4.0",
          "sentiments": 0.021428571428571422
         },
         {
          "ratings": "4.0",
          "sentiments": -0.03404761904761904
         },
         {
          "ratings": "4.0",
          "sentiments": 0.11666666666666667
         },
         {
          "ratings": "4.0",
          "sentiments": 0.027500000000000004
         },
         {
          "ratings": "4.0",
          "sentiments": -0.03333333333333333
         },
         {
          "ratings": "4.0",
          "sentiments": 0.008693768130435247
         },
         {
          "ratings": "4.0",
          "sentiments": 0.1574074074074074
         },
         {
          "ratings": "4.0",
          "sentiments": 0.047619047619047616
         },
         {
          "ratings": "4.0",
          "sentiments": -0.5
         },
         {
          "ratings": "4.0",
          "sentiments": 0.2
         },
         {
          "ratings": "4.0",
          "sentiments": -0.125
         },
         {
          "ratings": "4.0",
          "sentiments": 0.02634590824245997
         },
         {
          "ratings": "4.0",
          "sentiments": -0.095739577882435
         },
         {
          "ratings": "4.0",
          "sentiments": 0.029540301422452453
         },
         {
          "ratings": "4.0",
          "sentiments": 0.04400669530771571
         },
         {
          "ratings": "4.0",
          "sentiments": 0
         },
         {
          "ratings": "4.0",
          "sentiments": 0.06547619047619048
         },
         {
          "ratings": "4.0",
          "sentiments": 0.07142857142857142
         },
         {
          "ratings": "4.0",
          "sentiments": 0.10714285714285714
         },
         {
          "ratings": "4.0",
          "sentiments": 0.13095238095238096
         },
         {
          "ratings": "4.0",
          "sentiments": 0
         },
         {
          "ratings": "4.0",
          "sentiments": 0.07894243437721697
         },
         {
          "ratings": "4.0",
          "sentiments": -0.0016666666666666676
         },
         {
          "ratings": "4.0",
          "sentiments": 0
         },
         {
          "ratings": "4.0",
          "sentiments": 0.4
         },
         {
          "ratings": "4.0",
          "sentiments": -0.02771411594941007
         },
         {
          "ratings": "4.0",
          "sentiments": 0.04395604395604396
         },
         {
          "ratings": "4.0",
          "sentiments": 0.25
         },
         {
          "ratings": "4.0",
          "sentiments": 0.3
         },
         {
          "ratings": "4.0",
          "sentiments": 0
         },
         {
          "ratings": "4.0",
          "sentiments": 0.038636363636363635
         },
         {
          "ratings": "4.0",
          "sentiments": -0.060416666666666674
         },
         {
          "ratings": "4.0",
          "sentiments": 0
         },
         {
          "ratings": "4.0",
          "sentiments": 0.02849002849002849
         },
         {
          "ratings": "4.0",
          "sentiments": 0.020286623421298344
         },
         {
          "ratings": "4.0",
          "sentiments": 0.03260683760683761
         },
         {
          "ratings": "4.0",
          "sentiments": 0
         },
         {
          "ratings": "4.0",
          "sentiments": 0.14285714285714285
         },
         {
          "ratings": "4.0",
          "sentiments": -0.03968253968253968
         },
         {
          "ratings": "4.0",
          "sentiments": 0.017063492063492065
         },
         {
          "ratings": "4.0",
          "sentiments": 0.05649838882921591
         },
         {
          "ratings": "4.0",
          "sentiments": 0.075
         },
         {
          "ratings": "4.0",
          "sentiments": 0.0047619047619047545
         },
         {
          "ratings": "4.0",
          "sentiments": 0.002011121347505786
         },
         {
          "ratings": "4.0",
          "sentiments": -0.46153846153846156
         },
         {
          "ratings": "4.0",
          "sentiments": 0.16666666666666666
         },
         {
          "ratings": "4.0",
          "sentiments": 0.03571428571428572
         },
         {
          "ratings": "4.0",
          "sentiments": 0.17045454545454547
         },
         {
          "ratings": "4.0",
          "sentiments": 0.06869675302337841
         },
         {
          "ratings": "4.0",
          "sentiments": 0.03707289272546626
         },
         {
          "ratings": "4.0",
          "sentiments": 0.06203007518796992
         },
         {
          "ratings": "4.0",
          "sentiments": 0.06666666666666667
         },
         {
          "ratings": "4.0",
          "sentiments": 0.05549983377910754
         },
         {
          "ratings": "4.0",
          "sentiments": 0
         },
         {
          "ratings": "4.0",
          "sentiments": 0.0071428571428571435
         },
         {
          "ratings": "4.0",
          "sentiments": 0.16666666666666666
         },
         {
          "ratings": "4.0",
          "sentiments": 0.12433155080213905
         },
         {
          "ratings": "4.0",
          "sentiments": 0.0015697113558955672
         },
         {
          "ratings": "4.0",
          "sentiments": 0.00420875420875421
         },
         {
          "ratings": "4.0",
          "sentiments": -0.011404445943919629
         },
         {
          "ratings": "4.0",
          "sentiments": -0.02113105527047933
         },
         {
          "ratings": "4.0",
          "sentiments": 0.047619047619047616
         },
         {
          "ratings": "4.0",
          "sentiments": 0.06715399610136454
         },
         {
          "ratings": "4.0",
          "sentiments": 0.5
         },
         {
          "ratings": "4.0",
          "sentiments": 0.018957749766573294
         },
         {
          "ratings": "4.0",
          "sentiments": 0
         },
         {
          "ratings": "4.0",
          "sentiments": 0.0625
         },
         {
          "ratings": "4.0",
          "sentiments": 0.08444444444444445
         },
         {
          "ratings": "4.0",
          "sentiments": 0
         },
         {
          "ratings": "4.0",
          "sentiments": 0
         },
         {
          "ratings": "4.0",
          "sentiments": 0.013377656169994881
         },
         {
          "ratings": "4.0",
          "sentiments": 0.008254875590584635
         },
         {
          "ratings": "4.0",
          "sentiments": 0.03027797325826882
         },
         {
          "ratings": "4.0",
          "sentiments": 0.045112781954887216
         },
         {
          "ratings": "4.0",
          "sentiments": 0.25
         },
         {
          "ratings": "4.0",
          "sentiments": 0.16346153846153846
         },
         {
          "ratings": "4.0",
          "sentiments": 0.025
         },
         {
          "ratings": "4.0",
          "sentiments": 0.6666666666666666
         },
         {
          "ratings": "4.0",
          "sentiments": -0.25816993464052285
         },
         {
          "ratings": "4.0",
          "sentiments": 0.20833333333333334
         },
         {
          "ratings": "4.0",
          "sentiments": -0.07142857142857142
         },
         {
          "ratings": "4.0",
          "sentiments": 0.003672483123234278
         },
         {
          "ratings": "4.0",
          "sentiments": -0.16875
         },
         {
          "ratings": "4.0",
          "sentiments": 0.03571428571428571
         },
         {
          "ratings": "4.0",
          "sentiments": 0.034336959336959336
         },
         {
          "ratings": "4.0",
          "sentiments": 0.6666666666666666
         },
         {
          "ratings": "4.0",
          "sentiments": 0.004524886877828056
         },
         {
          "ratings": "4.0",
          "sentiments": 0.11538461538461539
         },
         {
          "ratings": "4.0",
          "sentiments": 0.08544388998934453
         },
         {
          "ratings": "4.0",
          "sentiments": 0.0015920898273839468
         },
         {
          "ratings": "4.0",
          "sentiments": 0.051957820720563284
         },
         {
          "ratings": "4.0",
          "sentiments": 0.2
         },
         {
          "ratings": "4.0",
          "sentiments": 0.06964285714285713
         },
         {
          "ratings": "4.0",
          "sentiments": 0.01988011988011988
         },
         {
          "ratings": "4.0",
          "sentiments": 0.022222222222222216
         },
         {
          "ratings": "4.0",
          "sentiments": 0.08759668234779495
         },
         {
          "ratings": "4.0",
          "sentiments": 0.03428571428571429
         },
         {
          "ratings": "4.0",
          "sentiments": 0
         },
         {
          "ratings": "4.0",
          "sentiments": 0.25
         },
         {
          "ratings": "4.0",
          "sentiments": -0.01202898550724638
         },
         {
          "ratings": "4.0",
          "sentiments": 0
         },
         {
          "ratings": "4.0",
          "sentiments": -0.02777777777777778
         },
         {
          "ratings": "4.0",
          "sentiments": 0.3333333333333333
         },
         {
          "ratings": "4.0",
          "sentiments": 0.02110527744020973
         },
         {
          "ratings": "4.0",
          "sentiments": -0.07777777777777778
         },
         {
          "ratings": "4.0",
          "sentiments": 0.21134868421052633
         },
         {
          "ratings": "4.0",
          "sentiments": 0.027016886612811365
         },
         {
          "ratings": "4.0",
          "sentiments": 0.05092592592592592
         },
         {
          "ratings": "4.0",
          "sentiments": 0.17216117216117213
         },
         {
          "ratings": "4.0",
          "sentiments": 0.1111111111111111
         },
         {
          "ratings": "4.0",
          "sentiments": -0.021508863289344027
         },
         {
          "ratings": "4.0",
          "sentiments": 0.02456466463025103
         },
         {
          "ratings": "4.0",
          "sentiments": -0.03076923076923077
         },
         {
          "ratings": "4.0",
          "sentiments": 0.022222222222222223
         },
         {
          "ratings": "4.0",
          "sentiments": 0.06666666666666667
         },
         {
          "ratings": "4.0",
          "sentiments": -0.14492753623188404
         },
         {
          "ratings": "4.0",
          "sentiments": 0.08976708074534161
         },
         {
          "ratings": "4.0",
          "sentiments": 0.07439613526570048
         },
         {
          "ratings": "4.0",
          "sentiments": -0.06696428571428571
         },
         {
          "ratings": "4.0",
          "sentiments": 0.05625
         },
         {
          "ratings": "4.0",
          "sentiments": 0.08333333333333333
         },
         {
          "ratings": "4.0",
          "sentiments": 0.005376710471743601
         },
         {
          "ratings": "4.0",
          "sentiments": 0
         },
         {
          "ratings": "4.0",
          "sentiments": 0.6666666666666666
         },
         {
          "ratings": "4.0",
          "sentiments": 0.2050841118084951
         },
         {
          "ratings": "4.0",
          "sentiments": 0.06666666666666667
         },
         {
          "ratings": "4.0",
          "sentiments": 0.02734605088578039
         },
         {
          "ratings": "4.0",
          "sentiments": 0.1314814814814815
         },
         {
          "ratings": "4.0",
          "sentiments": -0.09090909090909091
         },
         {
          "ratings": "4.0",
          "sentiments": 0.035575447032666276
         },
         {
          "ratings": "4.0",
          "sentiments": 0
         },
         {
          "ratings": "4.0",
          "sentiments": 0.0984848484848485
         },
         {
          "ratings": "4.0",
          "sentiments": 0.0857142857142857
         },
         {
          "ratings": "4.0",
          "sentiments": 0.1619047619047619
         },
         {
          "ratings": "4.0",
          "sentiments": 0.125
         },
         {
          "ratings": "4.0",
          "sentiments": 0.06666666666666667
         },
         {
          "ratings": "4.0",
          "sentiments": 0.09090909090909091
         },
         {
          "ratings": "4.0",
          "sentiments": 0
         },
         {
          "ratings": "4.0",
          "sentiments": 0
         },
         {
          "ratings": "4.0",
          "sentiments": 1
         },
         {
          "ratings": "4.0",
          "sentiments": 0.08333333333333333
         },
         {
          "ratings": "4.0",
          "sentiments": 0
         },
         {
          "ratings": "4.0",
          "sentiments": 0
         },
         {
          "ratings": "4.0",
          "sentiments": 0.20141835390282598
         },
         {
          "ratings": "4.0",
          "sentiments": -0.07451923076923077
         },
         {
          "ratings": "4.0",
          "sentiments": 0
         },
         {
          "ratings": "4.0",
          "sentiments": -0.04
         },
         {
          "ratings": "4.0",
          "sentiments": -0.011144226154511928
         },
         {
          "ratings": "4.0",
          "sentiments": 0.07738095238095238
         },
         {
          "ratings": "4.0",
          "sentiments": 0.12777777777777777
         },
         {
          "ratings": "4.0",
          "sentiments": 0
         },
         {
          "ratings": "4.0",
          "sentiments": -0.14285714285714285
         },
         {
          "ratings": "4.0",
          "sentiments": 0.05555555555555555
         },
         {
          "ratings": "4.0",
          "sentiments": -0.003401360544217687
         },
         {
          "ratings": "4.0",
          "sentiments": 0
         },
         {
          "ratings": "4.0",
          "sentiments": 0.02642787884384523
         },
         {
          "ratings": "4.0",
          "sentiments": 0.14375
         },
         {
          "ratings": "4.0",
          "sentiments": 0.0803030303030303
         },
         {
          "ratings": "4.0",
          "sentiments": 0.2
         },
         {
          "ratings": "4.0",
          "sentiments": 0.08333333333333333
         },
         {
          "ratings": "4.0",
          "sentiments": 0.25
         },
         {
          "ratings": "4.0",
          "sentiments": 0
         },
         {
          "ratings": "4.0",
          "sentiments": 0.03459595959595958
         },
         {
          "ratings": "4.0",
          "sentiments": 0.13468013468013468
         },
         {
          "ratings": "4.0",
          "sentiments": 0.25
         },
         {
          "ratings": "4.0",
          "sentiments": 0.07547313797313795
         },
         {
          "ratings": "4.0",
          "sentiments": -0.28095238095238095
         },
         {
          "ratings": "4.0",
          "sentiments": 0.09060689052949115
         },
         {
          "ratings": "4.0",
          "sentiments": 0
         },
         {
          "ratings": "4.0",
          "sentiments": 0
         },
         {
          "ratings": "4.0",
          "sentiments": -0.1
         },
         {
          "ratings": "4.0",
          "sentiments": 0.2
         },
         {
          "ratings": "4.0",
          "sentiments": 0.3333333333333333
         },
         {
          "ratings": "4.0",
          "sentiments": -0.2003358437893542
         },
         {
          "ratings": "4.0",
          "sentiments": -0.08363095238095238
         },
         {
          "ratings": "4.0",
          "sentiments": 0.0664141414141414
         },
         {
          "ratings": "4.0",
          "sentiments": 0.08333333333333333
         },
         {
          "ratings": "4.0",
          "sentiments": 0.0488974878488945
         },
         {
          "ratings": "4.0",
          "sentiments": 0.10916179337231968
         },
         {
          "ratings": "4.0",
          "sentiments": 0.05069444444444444
         },
         {
          "ratings": "4.0",
          "sentiments": 0.037539004205670884
         },
         {
          "ratings": "4.0",
          "sentiments": 0.054713804713804715
         },
         {
          "ratings": "4.0",
          "sentiments": 0.1356382978723404
         },
         {
          "ratings": "4.0",
          "sentiments": -0.03156517475777438
         },
         {
          "ratings": "4.0",
          "sentiments": 0.16666666666666666
         },
         {
          "ratings": "4.0",
          "sentiments": 0
         },
         {
          "ratings": "4.0",
          "sentiments": 0.038678085091913776
         },
         {
          "ratings": "4.0",
          "sentiments": 0.024555555555555553
         },
         {
          "ratings": "4.0",
          "sentiments": -0.03492063492063492
         },
         {
          "ratings": "4.0",
          "sentiments": 0.055803571428571425
         },
         {
          "ratings": "4.0",
          "sentiments": -0.04714640198511166
         },
         {
          "ratings": "4.0",
          "sentiments": -0.08333333333333333
         },
         {
          "ratings": "4.0",
          "sentiments": 0.5
         },
         {
          "ratings": "4.0",
          "sentiments": -0.25
         },
         {
          "ratings": "4.0",
          "sentiments": 0.016666666666666677
         },
         {
          "ratings": "4.0",
          "sentiments": 0.047619047619047616
         },
         {
          "ratings": "4.0",
          "sentiments": 0.1
         },
         {
          "ratings": "4.0",
          "sentiments": 0.012180724504253915
         },
         {
          "ratings": "4.0",
          "sentiments": 0.5
         },
         {
          "ratings": "4.0",
          "sentiments": 0.006243386243386255
         },
         {
          "ratings": "4.0",
          "sentiments": 0.003944723050510527
         },
         {
          "ratings": "4.0",
          "sentiments": -0.011904761904761904
         },
         {
          "ratings": "4.0",
          "sentiments": 0.020791245791245788
         },
         {
          "ratings": "5.0",
          "sentiments": 0
         },
         {
          "ratings": "5.0",
          "sentiments": 0.047619047619047616
         },
         {
          "ratings": "5.0",
          "sentiments": 0.10238095238095238
         },
         {
          "ratings": "5.0",
          "sentiments": 0.05
         },
         {
          "ratings": "5.0",
          "sentiments": 0
         },
         {
          "ratings": "5.0",
          "sentiments": 0.2
         },
         {
          "ratings": "5.0",
          "sentiments": 0.3333333333333333
         },
         {
          "ratings": "5.0",
          "sentiments": 0.08278388278388278
         },
         {
          "ratings": "5.0",
          "sentiments": 0.07936507936507936
         },
         {
          "ratings": "5.0",
          "sentiments": -0.08333333333333333
         },
         {
          "ratings": "5.0",
          "sentiments": 0.0006933041415800054
         },
         {
          "ratings": "5.0",
          "sentiments": 0.11389915585822018
         },
         {
          "ratings": "5.0",
          "sentiments": 0.04419191919191919
         },
         {
          "ratings": "5.0",
          "sentiments": 0.05555555555555555
         },
         {
          "ratings": "5.0",
          "sentiments": 0.03504273504273504
         },
         {
          "ratings": "5.0",
          "sentiments": 0
         },
         {
          "ratings": "5.0",
          "sentiments": 0
         },
         {
          "ratings": "5.0",
          "sentiments": 0.6666666666666666
         },
         {
          "ratings": "5.0",
          "sentiments": 0.125
         },
         {
          "ratings": "5.0",
          "sentiments": 0.16666666666666666
         },
         {
          "ratings": "5.0",
          "sentiments": 0.1111111111111111
         },
         {
          "ratings": "5.0",
          "sentiments": 0.024234693877551023
         },
         {
          "ratings": "5.0",
          "sentiments": 0.10336817653890824
         },
         {
          "ratings": "5.0",
          "sentiments": 0.3333333333333333
         },
         {
          "ratings": "5.0",
          "sentiments": 0.1
         },
         {
          "ratings": "5.0",
          "sentiments": 0.3333333333333333
         },
         {
          "ratings": "5.0",
          "sentiments": 0.041666666666666664
         },
         {
          "ratings": "5.0",
          "sentiments": 0.14285714285714285
         },
         {
          "ratings": "5.0",
          "sentiments": 0
         },
         {
          "ratings": "5.0",
          "sentiments": 1
         },
         {
          "ratings": "5.0",
          "sentiments": 0
         },
         {
          "ratings": "5.0",
          "sentiments": 0.3333333333333333
         },
         {
          "ratings": "5.0",
          "sentiments": 0.5
         },
         {
          "ratings": "5.0",
          "sentiments": 0
         },
         {
          "ratings": "5.0",
          "sentiments": 0.5
         },
         {
          "ratings": "5.0",
          "sentiments": -0.02427536231884058
         },
         {
          "ratings": "5.0",
          "sentiments": 0.08333333333333333
         },
         {
          "ratings": "5.0",
          "sentiments": 0
         },
         {
          "ratings": "5.0",
          "sentiments": 0.14285714285714285
         },
         {
          "ratings": "5.0",
          "sentiments": 0.10833333333333334
         },
         {
          "ratings": "5.0",
          "sentiments": 0
         },
         {
          "ratings": "5.0",
          "sentiments": 0
         },
         {
          "ratings": "5.0",
          "sentiments": 0.3333333333333333
         },
         {
          "ratings": "5.0",
          "sentiments": 0
         },
         {
          "ratings": "5.0",
          "sentiments": 0.07037037037037037
         },
         {
          "ratings": "5.0",
          "sentiments": 0.125
         },
         {
          "ratings": "5.0",
          "sentiments": 0
         },
         {
          "ratings": "5.0",
          "sentiments": 0.1111111111111111
         },
         {
          "ratings": "5.0",
          "sentiments": 0
         },
         {
          "ratings": "5.0",
          "sentiments": 0
         },
         {
          "ratings": "5.0",
          "sentiments": 0.3
         },
         {
          "ratings": "5.0",
          "sentiments": 0.016461806840121454
         },
         {
          "ratings": "5.0",
          "sentiments": 0
         },
         {
          "ratings": "5.0",
          "sentiments": 0.033010734644128466
         },
         {
          "ratings": "5.0",
          "sentiments": -0.08653846153846154
         },
         {
          "ratings": "5.0",
          "sentiments": 0.25
         },
         {
          "ratings": "5.0",
          "sentiments": 0.06666666666666667
         },
         {
          "ratings": "5.0",
          "sentiments": 0
         },
         {
          "ratings": "5.0",
          "sentiments": -0.16666666666666669
         },
         {
          "ratings": "5.0",
          "sentiments": 0
         },
         {
          "ratings": "5.0",
          "sentiments": 0.05555555555555555
         },
         {
          "ratings": "5.0",
          "sentiments": 0.041666666666666664
         },
         {
          "ratings": "5.0",
          "sentiments": 0.375
         },
         {
          "ratings": "5.0",
          "sentiments": 0.16313932980599646
         },
         {
          "ratings": "5.0",
          "sentiments": 0
         },
         {
          "ratings": "5.0",
          "sentiments": 0.16666666666666666
         },
         {
          "ratings": "5.0",
          "sentiments": 0
         },
         {
          "ratings": "5.0",
          "sentiments": 0.25
         },
         {
          "ratings": "5.0",
          "sentiments": 0.05625
         },
         {
          "ratings": "5.0",
          "sentiments": 0.05
         },
         {
          "ratings": "5.0",
          "sentiments": 0.06892817059483726
         },
         {
          "ratings": "5.0",
          "sentiments": 1
         },
         {
          "ratings": "5.0",
          "sentiments": 0.02393162393162393
         },
         {
          "ratings": "5.0",
          "sentiments": 0
         },
         {
          "ratings": "5.0",
          "sentiments": 0.07142857142857142
         },
         {
          "ratings": "5.0",
          "sentiments": 0.375
         },
         {
          "ratings": "5.0",
          "sentiments": 0.05
         },
         {
          "ratings": "5.0",
          "sentiments": 0
         },
         {
          "ratings": "5.0",
          "sentiments": 0.2
         },
         {
          "ratings": "5.0",
          "sentiments": 0.5
         },
         {
          "ratings": "5.0",
          "sentiments": 0
         },
         {
          "ratings": "5.0",
          "sentiments": 1
         },
         {
          "ratings": "5.0",
          "sentiments": 0.2
         },
         {
          "ratings": "5.0",
          "sentiments": 0.05
         },
         {
          "ratings": "5.0",
          "sentiments": 0.05405405405405406
         },
         {
          "ratings": "5.0",
          "sentiments": 0.08689024390243902
         },
         {
          "ratings": "5.0",
          "sentiments": 0.043478260869565216
         },
         {
          "ratings": "5.0",
          "sentiments": 0
         },
         {
          "ratings": "5.0",
          "sentiments": 0
         },
         {
          "ratings": "5.0",
          "sentiments": 1
         },
         {
          "ratings": "5.0",
          "sentiments": 0.09761904761904762
         },
         {
          "ratings": "5.0",
          "sentiments": 0.07142857142857142
         },
         {
          "ratings": "5.0",
          "sentiments": 0.01767676767676768
         },
         {
          "ratings": "5.0",
          "sentiments": 0.05555555555555555
         },
         {
          "ratings": "5.0",
          "sentiments": 0.21875
         },
         {
          "ratings": "5.0",
          "sentiments": 0.07225530865703814
         },
         {
          "ratings": "5.0",
          "sentiments": 0
         },
         {
          "ratings": "5.0",
          "sentiments": 0.11111111111111112
         },
         {
          "ratings": "5.0",
          "sentiments": 0.029887246788889037
         },
         {
          "ratings": "5.0",
          "sentiments": 0
         },
         {
          "ratings": "5.0",
          "sentiments": 0.20833333333333331
         },
         {
          "ratings": "5.0",
          "sentiments": 0
         },
         {
          "ratings": "5.0",
          "sentiments": 0.038837109742682493
         },
         {
          "ratings": "5.0",
          "sentiments": 0
         },
         {
          "ratings": "5.0",
          "sentiments": 0.125
         },
         {
          "ratings": "5.0",
          "sentiments": 0.2
         },
         {
          "ratings": "5.0",
          "sentiments": 0
         },
         {
          "ratings": "5.0",
          "sentiments": 0.25
         },
         {
          "ratings": "5.0",
          "sentiments": 0.06222222222222222
         },
         {
          "ratings": "5.0",
          "sentiments": 0
         },
         {
          "ratings": "5.0",
          "sentiments": 0
         },
         {
          "ratings": "5.0",
          "sentiments": 0
         },
         {
          "ratings": "5.0",
          "sentiments": 0.125
         },
         {
          "ratings": "5.0",
          "sentiments": 0.25
         },
         {
          "ratings": "5.0",
          "sentiments": 0.25
         },
         {
          "ratings": "5.0",
          "sentiments": 0.07539682539682539
         },
         {
          "ratings": "5.0",
          "sentiments": 0.027777777777777776
         },
         {
          "ratings": "5.0",
          "sentiments": 0.09126984126984126
         },
         {
          "ratings": "5.0",
          "sentiments": 0.10663265306122449
         },
         {
          "ratings": "5.0",
          "sentiments": 0.1
         },
         {
          "ratings": "5.0",
          "sentiments": 0.044712885154061625
         },
         {
          "ratings": "5.0",
          "sentiments": 0.2857142857142857
         },
         {
          "ratings": "5.0",
          "sentiments": 0.08333333333333333
         },
         {
          "ratings": "5.0",
          "sentiments": 0
         },
         {
          "ratings": "5.0",
          "sentiments": 0.1012870012870013
         },
         {
          "ratings": "5.0",
          "sentiments": -0.028669025271987864
         },
         {
          "ratings": "5.0",
          "sentiments": -0.0009718032089715186
         },
         {
          "ratings": "5.0",
          "sentiments": 0.13333333333333333
         },
         {
          "ratings": "5.0",
          "sentiments": 0
         },
         {
          "ratings": "5.0",
          "sentiments": 1
         },
         {
          "ratings": "5.0",
          "sentiments": 0.08333333333333333
         },
         {
          "ratings": "5.0",
          "sentiments": 0.12596153846153846
         },
         {
          "ratings": "5.0",
          "sentiments": -0.03342483457402812
         },
         {
          "ratings": "5.0",
          "sentiments": 0.2
         },
         {
          "ratings": "5.0",
          "sentiments": 0.010101010101010102
         },
         {
          "ratings": "5.0",
          "sentiments": 0
         },
         {
          "ratings": "5.0",
          "sentiments": 0.16666666666666666
         },
         {
          "ratings": "5.0",
          "sentiments": 0.0625
         },
         {
          "ratings": "5.0",
          "sentiments": 0.04
         },
         {
          "ratings": "5.0",
          "sentiments": 0.057520662586022064
         },
         {
          "ratings": "5.0",
          "sentiments": 0
         },
         {
          "ratings": "5.0",
          "sentiments": 0
         },
         {
          "ratings": "5.0",
          "sentiments": 0
         },
         {
          "ratings": "5.0",
          "sentiments": 0
         },
         {
          "ratings": "5.0",
          "sentiments": 0
         },
         {
          "ratings": "5.0",
          "sentiments": -0.25
         },
         {
          "ratings": "5.0",
          "sentiments": 0.5
         },
         {
          "ratings": "5.0",
          "sentiments": 0
         },
         {
          "ratings": "5.0",
          "sentiments": 0.125
         },
         {
          "ratings": "5.0",
          "sentiments": 0.1919642857142857
         },
         {
          "ratings": "5.0",
          "sentiments": 1
         },
         {
          "ratings": "5.0",
          "sentiments": 0.25
         },
         {
          "ratings": "5.0",
          "sentiments": 0.06451612903225806
         },
         {
          "ratings": "5.0",
          "sentiments": 0
         },
         {
          "ratings": "5.0",
          "sentiments": 0.07098861283643892
         },
         {
          "ratings": "5.0",
          "sentiments": 0.25
         },
         {
          "ratings": "5.0",
          "sentiments": 0.175
         },
         {
          "ratings": "5.0",
          "sentiments": 0.5
         },
         {
          "ratings": "5.0",
          "sentiments": 0.25
         },
         {
          "ratings": "5.0",
          "sentiments": 0.19047619047619047
         },
         {
          "ratings": "5.0",
          "sentiments": 0.15
         },
         {
          "ratings": "5.0",
          "sentiments": 0
         },
         {
          "ratings": "5.0",
          "sentiments": 0.10104813664596272
         },
         {
          "ratings": "5.0",
          "sentiments": 0.027777777777777776
         },
         {
          "ratings": "5.0",
          "sentiments": 0
         },
         {
          "ratings": "5.0",
          "sentiments": 0.25
         },
         {
          "ratings": "5.0",
          "sentiments": 0
         },
         {
          "ratings": "5.0",
          "sentiments": 1
         },
         {
          "ratings": "5.0",
          "sentiments": 0.09203880914407231
         },
         {
          "ratings": "5.0",
          "sentiments": 0.07407407407407407
         },
         {
          "ratings": "5.0",
          "sentiments": 1
         },
         {
          "ratings": "5.0",
          "sentiments": 0.2857142857142857
         },
         {
          "ratings": "5.0",
          "sentiments": 0
         },
         {
          "ratings": "5.0",
          "sentiments": 0
         },
         {
          "ratings": "5.0",
          "sentiments": -0.047182893130261555
         },
         {
          "ratings": "5.0",
          "sentiments": 0.125
         },
         {
          "ratings": "5.0",
          "sentiments": 1
         },
         {
          "ratings": "5.0",
          "sentiments": 0
         },
         {
          "ratings": "5.0",
          "sentiments": 0.10366300366300366
         },
         {
          "ratings": "5.0",
          "sentiments": 0.31047619047619046
         },
         {
          "ratings": "5.0",
          "sentiments": 0.05555555555555556
         },
         {
          "ratings": "5.0",
          "sentiments": 1
         },
         {
          "ratings": "5.0",
          "sentiments": 0
         },
         {
          "ratings": "5.0",
          "sentiments": 0.25
         },
         {
          "ratings": "5.0",
          "sentiments": 0.06795577933970791
         },
         {
          "ratings": "5.0",
          "sentiments": 0.04750457875457875
         },
         {
          "ratings": "5.0",
          "sentiments": -0.0475986975986976
         },
         {
          "ratings": "5.0",
          "sentiments": 0.3333333333333333
         },
         {
          "ratings": "5.0",
          "sentiments": 0.02108007183042362
         },
         {
          "ratings": "5.0",
          "sentiments": 0
         },
         {
          "ratings": "5.0",
          "sentiments": 0.2
         },
         {
          "ratings": "5.0",
          "sentiments": 0
         },
         {
          "ratings": "5.0",
          "sentiments": 0
         },
         {
          "ratings": "5.0",
          "sentiments": 0.045063307126393226
         },
         {
          "ratings": "5.0",
          "sentiments": 0
         },
         {
          "ratings": "5.0",
          "sentiments": 0.07035056446821153
         },
         {
          "ratings": "5.0",
          "sentiments": -0.22058823529411764
         },
         {
          "ratings": "5.0",
          "sentiments": 0.009226205310245336
         },
         {
          "ratings": "5.0",
          "sentiments": 0.125
         },
         {
          "ratings": "5.0",
          "sentiments": 0.026669898728722257
         },
         {
          "ratings": "5.0",
          "sentiments": -0.10666666666666666
         },
         {
          "ratings": "5.0",
          "sentiments": 0.17045454545454547
         },
         {
          "ratings": "5.0",
          "sentiments": 0.07692307692307693
         },
         {
          "ratings": "5.0",
          "sentiments": 0.0623931623931624
         },
         {
          "ratings": "5.0",
          "sentiments": 0.10305958132045089
         },
         {
          "ratings": "5.0",
          "sentiments": 0
         },
         {
          "ratings": "5.0",
          "sentiments": 0.045132275132275135
         },
         {
          "ratings": "5.0",
          "sentiments": 0
         },
         {
          "ratings": "5.0",
          "sentiments": 0.03944597069597071
         },
         {
          "ratings": "5.0",
          "sentiments": 0
         },
         {
          "ratings": "5.0",
          "sentiments": 0
         },
         {
          "ratings": "5.0",
          "sentiments": 0.06666666666666667
         },
         {
          "ratings": "5.0",
          "sentiments": 0.07895870469399881
         },
         {
          "ratings": "5.0",
          "sentiments": 0.125
         },
         {
          "ratings": "5.0",
          "sentiments": 0
         },
         {
          "ratings": "5.0",
          "sentiments": 0.006101655050191764
         },
         {
          "ratings": "5.0",
          "sentiments": 0.03812636165577342
         },
         {
          "ratings": "5.0",
          "sentiments": 0.17880520003663228
         },
         {
          "ratings": "5.0",
          "sentiments": 0.5
         },
         {
          "ratings": "5.0",
          "sentiments": 0.0250445632798574
         },
         {
          "ratings": "5.0",
          "sentiments": 0
         },
         {
          "ratings": "5.0",
          "sentiments": 0.05769230769230769
         },
         {
          "ratings": "5.0",
          "sentiments": 0
         },
         {
          "ratings": "5.0",
          "sentiments": 0.08664021164021164
         },
         {
          "ratings": "5.0",
          "sentiments": -0.5
         },
         {
          "ratings": "5.0",
          "sentiments": 0.16666666666666666
         },
         {
          "ratings": "5.0",
          "sentiments": 0.15789473684210525
         },
         {
          "ratings": "5.0",
          "sentiments": 0.05263157894736842
         },
         {
          "ratings": "5.0",
          "sentiments": -0.29166666666666663
         },
         {
          "ratings": "5.0",
          "sentiments": 0.11923076923076924
         },
         {
          "ratings": "5.0",
          "sentiments": 0.09337287109026239
         },
         {
          "ratings": "5.0",
          "sentiments": -0.04243697478991596
         },
         {
          "ratings": "5.0",
          "sentiments": 1
         },
         {
          "ratings": "5.0",
          "sentiments": 0.1
         },
         {
          "ratings": "5.0",
          "sentiments": 0.029411764705882353
         },
         {
          "ratings": "5.0",
          "sentiments": 0
         },
         {
          "ratings": "5.0",
          "sentiments": 0.015384615384615385
         },
         {
          "ratings": "5.0",
          "sentiments": 1
         },
         {
          "ratings": "5.0",
          "sentiments": 0.20370370370370372
         },
         {
          "ratings": "5.0",
          "sentiments": 0.01698225285658058
         },
         {
          "ratings": "5.0",
          "sentiments": -0.11994949494949496
         },
         {
          "ratings": "5.0",
          "sentiments": 0.08306878306878307
         },
         {
          "ratings": "5.0",
          "sentiments": 0.25
         },
         {
          "ratings": "5.0",
          "sentiments": -0.19629629629629627
         },
         {
          "ratings": "5.0",
          "sentiments": 0.13148148148148148
         },
         {
          "ratings": "5.0",
          "sentiments": 0.1
         },
         {
          "ratings": "5.0",
          "sentiments": 0.05
         },
         {
          "ratings": "5.0",
          "sentiments": 0.030303030303030304
         },
         {
          "ratings": "5.0",
          "sentiments": 0
         },
         {
          "ratings": "5.0",
          "sentiments": 0.13523809523809524
         },
         {
          "ratings": "5.0",
          "sentiments": 0.16666666666666666
         },
         {
          "ratings": "5.0",
          "sentiments": 0.16666666666666666
         },
         {
          "ratings": "5.0",
          "sentiments": 0.15017522160379304
         },
         {
          "ratings": "5.0",
          "sentiments": 0.016304347826086956
         },
         {
          "ratings": "5.0",
          "sentiments": 0.02772513814379843
         },
         {
          "ratings": "5.0",
          "sentiments": 0.25
         },
         {
          "ratings": "5.0",
          "sentiments": 0
         },
         {
          "ratings": "5.0",
          "sentiments": 0.14955357142857142
         },
         {
          "ratings": "5.0",
          "sentiments": 0.5
         },
         {
          "ratings": "5.0",
          "sentiments": 0
         },
         {
          "ratings": "5.0",
          "sentiments": 0
         },
         {
          "ratings": "5.0",
          "sentiments": 0
         },
         {
          "ratings": "5.0",
          "sentiments": 0
         },
         {
          "ratings": "5.0",
          "sentiments": 0.13146113146113145
         },
         {
          "ratings": "5.0",
          "sentiments": -0.06388888888888888
         },
         {
          "ratings": "5.0",
          "sentiments": 0
         },
         {
          "ratings": "5.0",
          "sentiments": 0.16666666666666666
         },
         {
          "ratings": "5.0",
          "sentiments": -0.08928571428571429
         },
         {
          "ratings": "5.0",
          "sentiments": 0.060978237448825676
         },
         {
          "ratings": "5.0",
          "sentiments": 0
         },
         {
          "ratings": "5.0",
          "sentiments": 0.1
         },
         {
          "ratings": "5.0",
          "sentiments": -0.0625
         },
         {
          "ratings": "5.0",
          "sentiments": 0
         },
         {
          "ratings": "5.0",
          "sentiments": -0.010366626734551264
         },
         {
          "ratings": "5.0",
          "sentiments": 0.25
         },
         {
          "ratings": "5.0",
          "sentiments": 0
         },
         {
          "ratings": "5.0",
          "sentiments": 0.10185185185185186
         },
         {
          "ratings": "5.0",
          "sentiments": 0.08904521404521404
         },
         {
          "ratings": "5.0",
          "sentiments": 0.1
         },
         {
          "ratings": "5.0",
          "sentiments": 0
         },
         {
          "ratings": "5.0",
          "sentiments": 0.1
         },
         {
          "ratings": "5.0",
          "sentiments": -0.09126984126984128
         },
         {
          "ratings": "5.0",
          "sentiments": 0.0539074759662995
         },
         {
          "ratings": "5.0",
          "sentiments": 1
         },
         {
          "ratings": "5.0",
          "sentiments": 0.017370129870129872
         },
         {
          "ratings": "5.0",
          "sentiments": 0
         },
         {
          "ratings": "5.0",
          "sentiments": 0
         },
         {
          "ratings": "5.0",
          "sentiments": 0
         },
         {
          "ratings": "5.0",
          "sentiments": 0.125
         },
         {
          "ratings": "5.0",
          "sentiments": 0.03154761904761905
         },
         {
          "ratings": "5.0",
          "sentiments": 0.2
         },
         {
          "ratings": "5.0",
          "sentiments": 0.11805555555555555
         },
         {
          "ratings": "5.0",
          "sentiments": 0.03125
         },
         {
          "ratings": "5.0",
          "sentiments": 0
         },
         {
          "ratings": "5.0",
          "sentiments": 0.5
         },
         {
          "ratings": "5.0",
          "sentiments": 0
         },
         {
          "ratings": "5.0",
          "sentiments": 0.3214285714285714
         },
         {
          "ratings": "5.0",
          "sentiments": 0
         },
         {
          "ratings": "5.0",
          "sentiments": 0.03333333333333333
         },
         {
          "ratings": "5.0",
          "sentiments": 0.05303030303030303
         },
         {
          "ratings": "5.0",
          "sentiments": 0
         },
         {
          "ratings": "5.0",
          "sentiments": 0
         },
         {
          "ratings": "5.0",
          "sentiments": 0.10770410145410143
         },
         {
          "ratings": "5.0",
          "sentiments": 0.17083333333333334
         },
         {
          "ratings": "5.0",
          "sentiments": -0.009868421052631582
         },
         {
          "ratings": "5.0",
          "sentiments": 0.15625
         },
         {
          "ratings": "5.0",
          "sentiments": 0.07905982905982906
         },
         {
          "ratings": "5.0",
          "sentiments": 0.06694677871148459
         },
         {
          "ratings": "5.0",
          "sentiments": 0.12643678160919541
         },
         {
          "ratings": "5.0",
          "sentiments": 1
         },
         {
          "ratings": "5.0",
          "sentiments": 0.16666666666666666
         },
         {
          "ratings": "5.0",
          "sentiments": 0.1111111111111111
         },
         {
          "ratings": "5.0",
          "sentiments": 0
         },
         {
          "ratings": "5.0",
          "sentiments": 0
         },
         {
          "ratings": "5.0",
          "sentiments": 0.0196078431372549
         },
         {
          "ratings": "5.0",
          "sentiments": 0.1369047619047619
         },
         {
          "ratings": "5.0",
          "sentiments": 0.0995879120879121
         },
         {
          "ratings": "5.0",
          "sentiments": 0
         },
         {
          "ratings": "5.0",
          "sentiments": 0
         },
         {
          "ratings": "5.0",
          "sentiments": 0.03389830508474576
         },
         {
          "ratings": "5.0",
          "sentiments": 0.005299707602339175
         },
         {
          "ratings": "5.0",
          "sentiments": 0.14285714285714285
         },
         {
          "ratings": "5.0",
          "sentiments": 0
         },
         {
          "ratings": "5.0",
          "sentiments": 0
         },
         {
          "ratings": "5.0",
          "sentiments": 0
         },
         {
          "ratings": "5.0",
          "sentiments": 0.09239720643229415
         },
         {
          "ratings": "5.0",
          "sentiments": 0.125
         },
         {
          "ratings": "5.0",
          "sentiments": 0.07692307692307693
         },
         {
          "ratings": "5.0",
          "sentiments": 0.025
         },
         {
          "ratings": "5.0",
          "sentiments": 0.041666666666666664
         },
         {
          "ratings": "5.0",
          "sentiments": 0.1875
         },
         {
          "ratings": "5.0",
          "sentiments": 0
         },
         {
          "ratings": "5.0",
          "sentiments": 0
         },
         {
          "ratings": "5.0",
          "sentiments": 0.02930402930402931
         },
         {
          "ratings": "5.0",
          "sentiments": -0.06349206349206349
         },
         {
          "ratings": "5.0",
          "sentiments": 0.3333333333333333
         },
         {
          "ratings": "5.0",
          "sentiments": 0.08469202898550723
         },
         {
          "ratings": "5.0",
          "sentiments": 0.08712121212121213
         },
         {
          "ratings": "5.0",
          "sentiments": 0.029040404040404044
         },
         {
          "ratings": "5.0",
          "sentiments": 0.05187074829931972
         },
         {
          "ratings": "5.0",
          "sentiments": 0
         },
         {
          "ratings": "5.0",
          "sentiments": 0.5
         },
         {
          "ratings": "5.0",
          "sentiments": 0
         },
         {
          "ratings": "5.0",
          "sentiments": 0.125
         },
         {
          "ratings": "5.0",
          "sentiments": 0
         },
         {
          "ratings": "5.0",
          "sentiments": 0.25
         },
         {
          "ratings": "5.0",
          "sentiments": 0.1383116883116883
         },
         {
          "ratings": "5.0",
          "sentiments": 0.16666666666666666
         },
         {
          "ratings": "5.0",
          "sentiments": 0.125
         },
         {
          "ratings": "5.0",
          "sentiments": 0.5
         },
         {
          "ratings": "5.0",
          "sentiments": 0.09696969696969697
         },
         {
          "ratings": "5.0",
          "sentiments": 0
         },
         {
          "ratings": "5.0",
          "sentiments": 0
         },
         {
          "ratings": "5.0",
          "sentiments": 0.038690476190476185
         },
         {
          "ratings": "5.0",
          "sentiments": 0.03934711600244697
         },
         {
          "ratings": "5.0",
          "sentiments": 0.12222222222222223
         },
         {
          "ratings": "5.0",
          "sentiments": 0
         },
         {
          "ratings": "5.0",
          "sentiments": 0.5
         },
         {
          "ratings": "5.0",
          "sentiments": 0.25
         },
         {
          "ratings": "5.0",
          "sentiments": -0.0024342891278375123
         },
         {
          "ratings": "5.0",
          "sentiments": -0.09375
         },
         {
          "ratings": "5.0",
          "sentiments": 1
         },
         {
          "ratings": "5.0",
          "sentiments": 0.25
         },
         {
          "ratings": "5.0",
          "sentiments": 0
         },
         {
          "ratings": "5.0",
          "sentiments": 0
         },
         {
          "ratings": "5.0",
          "sentiments": -0.049999999999999996
         },
         {
          "ratings": "5.0",
          "sentiments": -0.023495370370370385
         },
         {
          "ratings": "5.0",
          "sentiments": 0.09111721611721613
         },
         {
          "ratings": "5.0",
          "sentiments": 0.2
         },
         {
          "ratings": "5.0",
          "sentiments": -0.17647058823529413
         },
         {
          "ratings": "5.0",
          "sentiments": 1
         },
         {
          "ratings": "5.0",
          "sentiments": -0.26363636363636367
         },
         {
          "ratings": "5.0",
          "sentiments": 0.08333333333333333
         },
         {
          "ratings": "5.0",
          "sentiments": 0.1
         },
         {
          "ratings": "5.0",
          "sentiments": 0.08310783896287446
         },
         {
          "ratings": "5.0",
          "sentiments": 0.5
         },
         {
          "ratings": "5.0",
          "sentiments": 0
         },
         {
          "ratings": "5.0",
          "sentiments": 0.2
         },
         {
          "ratings": "5.0",
          "sentiments": 0.05
         },
         {
          "ratings": "5.0",
          "sentiments": 0.0590909090909091
         },
         {
          "ratings": "5.0",
          "sentiments": 0.04888888888888889
         },
         {
          "ratings": "5.0",
          "sentiments": 0.026666666666666672
         },
         {
          "ratings": "5.0",
          "sentiments": -0.08333333333333334
         },
         {
          "ratings": "5.0",
          "sentiments": 0.08333333333333333
         },
         {
          "ratings": "5.0",
          "sentiments": 0.05263157894736842
         },
         {
          "ratings": "5.0",
          "sentiments": 0
         },
         {
          "ratings": "5.0",
          "sentiments": 1
         },
         {
          "ratings": "5.0",
          "sentiments": 0
         },
         {
          "ratings": "5.0",
          "sentiments": 0
         },
         {
          "ratings": "5.0",
          "sentiments": 0.07692307692307693
         },
         {
          "ratings": "5.0",
          "sentiments": 0
         },
         {
          "ratings": "5.0",
          "sentiments": 0.012698412698412698
         },
         {
          "ratings": "5.0",
          "sentiments": 0.06197175840032983
         },
         {
          "ratings": "5.0",
          "sentiments": 0.2
         },
         {
          "ratings": "5.0",
          "sentiments": 0
         },
         {
          "ratings": "5.0",
          "sentiments": 0
         },
         {
          "ratings": "5.0",
          "sentiments": 0.5
         },
         {
          "ratings": "5.0",
          "sentiments": 0.06349206349206349
         },
         {
          "ratings": "5.0",
          "sentiments": 0.14285714285714285
         },
         {
          "ratings": "5.0",
          "sentiments": 0.24358974358974358
         },
         {
          "ratings": "5.0",
          "sentiments": 0.007957393483709269
         },
         {
          "ratings": "5.0",
          "sentiments": 0
         },
         {
          "ratings": "5.0",
          "sentiments": 0
         },
         {
          "ratings": "5.0",
          "sentiments": 1
         },
         {
          "ratings": "5.0",
          "sentiments": 0.0625
         },
         {
          "ratings": "5.0",
          "sentiments": 0.41666666666666663
         },
         {
          "ratings": "5.0",
          "sentiments": 0
         },
         {
          "ratings": "5.0",
          "sentiments": 0.01124676705831361
         },
         {
          "ratings": "5.0",
          "sentiments": 0.125
         },
         {
          "ratings": "5.0",
          "sentiments": 0.03700657894736842
         },
         {
          "ratings": "5.0",
          "sentiments": 1
         },
         {
          "ratings": "5.0",
          "sentiments": 0
         },
         {
          "ratings": "5.0",
          "sentiments": 0.08125
         },
         {
          "ratings": "5.0",
          "sentiments": 0.5
         },
         {
          "ratings": "5.0",
          "sentiments": 0
         },
         {
          "ratings": "5.0",
          "sentiments": 0.09546417140000027
         },
         {
          "ratings": "5.0",
          "sentiments": 0.0625
         },
         {
          "ratings": "5.0",
          "sentiments": 0.06666666666666667
         },
         {
          "ratings": "5.0",
          "sentiments": -0.07060185185185185
         },
         {
          "ratings": "5.0",
          "sentiments": 0.2
         },
         {
          "ratings": "5.0",
          "sentiments": 0
         },
         {
          "ratings": "5.0",
          "sentiments": 0.1
         },
         {
          "ratings": "5.0",
          "sentiments": 0.04415954415954416
         },
         {
          "ratings": "5.0",
          "sentiments": 0.009523809523809523
         },
         {
          "ratings": "5.0",
          "sentiments": 0.16666666666666666
         },
         {
          "ratings": "5.0",
          "sentiments": 0.07451946295759683
         },
         {
          "ratings": "5.0",
          "sentiments": -0.14285714285714288
         },
         {
          "ratings": "5.0",
          "sentiments": -0.0019943019943019966
         },
         {
          "ratings": "5.0",
          "sentiments": 0.06098036578805809
         },
         {
          "ratings": "5.0",
          "sentiments": 0.08333333333333333
         },
         {
          "ratings": "5.0",
          "sentiments": 0.0625
         },
         {
          "ratings": "5.0",
          "sentiments": 0.42857142857142855
         },
         {
          "ratings": "5.0",
          "sentiments": 0
         },
         {
          "ratings": "5.0",
          "sentiments": 0
         },
         {
          "ratings": "5.0",
          "sentiments": 0.12176870748299318
         },
         {
          "ratings": "5.0",
          "sentiments": -0.07692307692307693
         },
         {
          "ratings": "5.0",
          "sentiments": 0.2
         },
         {
          "ratings": "5.0",
          "sentiments": 0.25
         },
         {
          "ratings": "5.0",
          "sentiments": 0.5
         },
         {
          "ratings": "5.0",
          "sentiments": 0.07882670355630172
         },
         {
          "ratings": "5.0",
          "sentiments": -0.25
         },
         {
          "ratings": "5.0",
          "sentiments": 0.075
         },
         {
          "ratings": "5.0",
          "sentiments": 0.0673076923076923
         },
         {
          "ratings": "5.0",
          "sentiments": 0.125
         },
         {
          "ratings": "5.0",
          "sentiments": 0.03275629683951965
         },
         {
          "ratings": "5.0",
          "sentiments": 0.14285714285714285
         },
         {
          "ratings": "5.0",
          "sentiments": 0.02631578947368421
         },
         {
          "ratings": "5.0",
          "sentiments": 0.5833333333333333
         },
         {
          "ratings": "5.0",
          "sentiments": 0.05404512232243325
         },
         {
          "ratings": "5.0",
          "sentiments": 0.027401652900579436
         },
         {
          "ratings": "5.0",
          "sentiments": 1
         },
         {
          "ratings": "5.0",
          "sentiments": 0.041666666666666664
         },
         {
          "ratings": "5.0",
          "sentiments": -0.027777777777777776
         },
         {
          "ratings": "5.0",
          "sentiments": -0.016826506826506826
         },
         {
          "ratings": "5.0",
          "sentiments": 0.1148141074611663
         },
         {
          "ratings": "5.0",
          "sentiments": 0
         },
         {
          "ratings": "5.0",
          "sentiments": 0.5
         },
         {
          "ratings": "5.0",
          "sentiments": 0.13043478260869565
         },
         {
          "ratings": "5.0",
          "sentiments": -0.20833333333333331
         },
         {
          "ratings": "5.0",
          "sentiments": 0.15384615384615385
         },
         {
          "ratings": "5.0",
          "sentiments": -0.125
         },
         {
          "ratings": "5.0",
          "sentiments": 0.14285714285714285
         },
         {
          "ratings": "5.0",
          "sentiments": 0
         },
         {
          "ratings": "5.0",
          "sentiments": 0.2
         },
         {
          "ratings": "5.0",
          "sentiments": 0.125
         },
         {
          "ratings": "5.0",
          "sentiments": 0.125
         },
         {
          "ratings": "5.0",
          "sentiments": 0
         },
         {
          "ratings": "5.0",
          "sentiments": 0.04319578577699736
         },
         {
          "ratings": "5.0",
          "sentiments": 0.1111111111111111
         },
         {
          "ratings": "5.0",
          "sentiments": 0.5
         },
         {
          "ratings": "5.0",
          "sentiments": 0.125
         },
         {
          "ratings": "5.0",
          "sentiments": 0.10638297872340426
         },
         {
          "ratings": "5.0",
          "sentiments": 0
         },
         {
          "ratings": "5.0",
          "sentiments": 0
         },
         {
          "ratings": "5.0",
          "sentiments": 0
         },
         {
          "ratings": "5.0",
          "sentiments": 0.050680528621705086
         },
         {
          "ratings": "5.0",
          "sentiments": 0
         },
         {
          "ratings": "5.0",
          "sentiments": 0.2
         },
         {
          "ratings": "5.0",
          "sentiments": 0.0423859649122807
         },
         {
          "ratings": "5.0",
          "sentiments": 0.14285714285714285
         },
         {
          "ratings": "5.0",
          "sentiments": 0.022222222222222223
         },
         {
          "ratings": "5.0",
          "sentiments": 0
         },
         {
          "ratings": "5.0",
          "sentiments": 0.04625600796939469
         },
         {
          "ratings": "5.0",
          "sentiments": 0.013333333333333332
         },
         {
          "ratings": "5.0",
          "sentiments": 0.09090909090909091
         },
         {
          "ratings": "5.0",
          "sentiments": 0
         },
         {
          "ratings": "5.0",
          "sentiments": 0
         },
         {
          "ratings": "5.0",
          "sentiments": 0.125
         },
         {
          "ratings": "5.0",
          "sentiments": 0.041666666666666664
         },
         {
          "ratings": "5.0",
          "sentiments": 0.1111111111111111
         },
         {
          "ratings": "5.0",
          "sentiments": 0.051712779973649536
         },
         {
          "ratings": "5.0",
          "sentiments": 0.5
         },
         {
          "ratings": "5.0",
          "sentiments": 0
         },
         {
          "ratings": "5.0",
          "sentiments": -0.03333333333333334
         },
         {
          "ratings": "5.0",
          "sentiments": 0.12941176470588237
         },
         {
          "ratings": "5.0",
          "sentiments": 0
         },
         {
          "ratings": "5.0",
          "sentiments": 0.5
         },
         {
          "ratings": "5.0",
          "sentiments": 0
         },
         {
          "ratings": "5.0",
          "sentiments": 0.5
         },
         {
          "ratings": "5.0",
          "sentiments": 0.2
         },
         {
          "ratings": "5.0",
          "sentiments": 0.17777777777777778
         },
         {
          "ratings": "5.0",
          "sentiments": 0.5
         },
         {
          "ratings": "5.0",
          "sentiments": 0.13675213675213674
         },
         {
          "ratings": "5.0",
          "sentiments": 0.06666666666666667
         },
         {
          "ratings": "5.0",
          "sentiments": 0.0794871794871795
         },
         {
          "ratings": "5.0",
          "sentiments": 0.0229177385980782
         },
         {
          "ratings": "5.0",
          "sentiments": 0
         },
         {
          "ratings": "5.0",
          "sentiments": 0.15037593984962405
         },
         {
          "ratings": "5.0",
          "sentiments": 0.030303030303030304
         },
         {
          "ratings": "5.0",
          "sentiments": 0.033123972186472186
         },
         {
          "ratings": "5.0",
          "sentiments": 0
         },
         {
          "ratings": "5.0",
          "sentiments": 0.07142857142857142
         },
         {
          "ratings": "5.0",
          "sentiments": 0.0035517767503756596
         },
         {
          "ratings": "5.0",
          "sentiments": -0.08796296296296297
         },
         {
          "ratings": "5.0",
          "sentiments": 0
         },
         {
          "ratings": "5.0",
          "sentiments": 0.5
         },
         {
          "ratings": "5.0",
          "sentiments": -0.04986679986679987
         },
         {
          "ratings": "5.0",
          "sentiments": 0.35714285714285715
         },
         {
          "ratings": "5.0",
          "sentiments": 0.08333333333333333
         },
         {
          "ratings": "5.0",
          "sentiments": 0
         },
         {
          "ratings": "5.0",
          "sentiments": 0.25
         },
         {
          "ratings": "5.0",
          "sentiments": 0.0625
         },
         {
          "ratings": "5.0",
          "sentiments": 0.1
         },
         {
          "ratings": "5.0",
          "sentiments": 1
         },
         {
          "ratings": "5.0",
          "sentiments": 0.11904761904761904
         },
         {
          "ratings": "5.0",
          "sentiments": 0.13515151515151513
         },
         {
          "ratings": "5.0",
          "sentiments": -0.015873015873015872
         },
         {
          "ratings": "5.0",
          "sentiments": 0.012882087578750874
         },
         {
          "ratings": "5.0",
          "sentiments": 0
         },
         {
          "ratings": "5.0",
          "sentiments": 0.013283343640486495
         },
         {
          "ratings": "5.0",
          "sentiments": 0.06452581032412966
         },
         {
          "ratings": "5.0",
          "sentiments": 0.2
         },
         {
          "ratings": "5.0",
          "sentiments": 0.13043478260869565
         },
         {
          "ratings": "5.0",
          "sentiments": 0.09223985890652557
         },
         {
          "ratings": "5.0",
          "sentiments": 0.27499999999999997
         },
         {
          "ratings": "5.0",
          "sentiments": 0.13375350140056022
         },
         {
          "ratings": "5.0",
          "sentiments": 0
         },
         {
          "ratings": "5.0",
          "sentiments": 0.14166666666666666
         },
         {
          "ratings": "5.0",
          "sentiments": 0
         },
         {
          "ratings": "5.0",
          "sentiments": 0.017391304347826087
         },
         {
          "ratings": "5.0",
          "sentiments": 1
         },
         {
          "ratings": "5.0",
          "sentiments": 0
         },
         {
          "ratings": "5.0",
          "sentiments": 0.06666666666666667
         },
         {
          "ratings": "5.0",
          "sentiments": 0.07936507936507936
         },
         {
          "ratings": "5.0",
          "sentiments": 0.10344827586206896
         },
         {
          "ratings": "5.0",
          "sentiments": 0.11875
         },
         {
          "ratings": "5.0",
          "sentiments": 0.196969696969697
         },
         {
          "ratings": "5.0",
          "sentiments": 0.5
         },
         {
          "ratings": "5.0",
          "sentiments": 0.12827080327080329
         },
         {
          "ratings": "5.0",
          "sentiments": 0
         },
         {
          "ratings": "5.0",
          "sentiments": 0.125
         },
         {
          "ratings": "5.0",
          "sentiments": 0
         },
         {
          "ratings": "5.0",
          "sentiments": 0.07692307692307693
         },
         {
          "ratings": "5.0",
          "sentiments": 0.1
         },
         {
          "ratings": "5.0",
          "sentiments": -0.04193965124667549
         },
         {
          "ratings": "5.0",
          "sentiments": 0.5
         },
         {
          "ratings": "5.0",
          "sentiments": 0.2916666666666667
         },
         {
          "ratings": "5.0",
          "sentiments": 0.020866454689984104
         },
         {
          "ratings": "5.0",
          "sentiments": 0
         },
         {
          "ratings": "5.0",
          "sentiments": 1
         },
         {
          "ratings": "5.0",
          "sentiments": 0
         },
         {
          "ratings": "5.0",
          "sentiments": 0
         },
         {
          "ratings": "5.0",
          "sentiments": -0.07060755336617405
         },
         {
          "ratings": "5.0",
          "sentiments": 0.0029761904761904747
         },
         {
          "ratings": "5.0",
          "sentiments": 0
         },
         {
          "ratings": "5.0",
          "sentiments": -0.11833006274242283
         },
         {
          "ratings": "5.0",
          "sentiments": 0
         },
         {
          "ratings": "5.0",
          "sentiments": 1.5
         },
         {
          "ratings": "5.0",
          "sentiments": 0
         },
         {
          "ratings": "5.0",
          "sentiments": 0.07692307692307693
         },
         {
          "ratings": "5.0",
          "sentiments": 0
         },
         {
          "ratings": "5.0",
          "sentiments": 0.1127895752895753
         },
         {
          "ratings": "5.0",
          "sentiments": 0.5
         },
         {
          "ratings": "5.0",
          "sentiments": 0.2
         },
         {
          "ratings": "5.0",
          "sentiments": 1
         },
         {
          "ratings": "5.0",
          "sentiments": 0.25
         },
         {
          "ratings": "5.0",
          "sentiments": 0.08333333333333333
         },
         {
          "ratings": "5.0",
          "sentiments": 0.16666666666666666
         },
         {
          "ratings": "5.0",
          "sentiments": -0.10000000000000002
         },
         {
          "ratings": "5.0",
          "sentiments": 0.1
         },
         {
          "ratings": "5.0",
          "sentiments": 0.6666666666666666
         },
         {
          "ratings": "5.0",
          "sentiments": 0.038461538461538464
         },
         {
          "ratings": "5.0",
          "sentiments": 0
         },
         {
          "ratings": "5.0",
          "sentiments": 0.024691358024691357
         },
         {
          "ratings": "5.0",
          "sentiments": 0
         },
         {
          "ratings": "5.0",
          "sentiments": 0.10192307692307692
         },
         {
          "ratings": "5.0",
          "sentiments": 0
         },
         {
          "ratings": "5.0",
          "sentiments": -0.26547619047619053
         },
         {
          "ratings": "5.0",
          "sentiments": 0.14285714285714285
         },
         {
          "ratings": "5.0",
          "sentiments": 0.3125
         },
         {
          "ratings": "5.0",
          "sentiments": 0.14285714285714285
         },
         {
          "ratings": "5.0",
          "sentiments": 0
         },
         {
          "ratings": "5.0",
          "sentiments": 0
         },
         {
          "ratings": "5.0",
          "sentiments": 0.25
         },
         {
          "ratings": "5.0",
          "sentiments": 0.1111111111111111
         },
         {
          "ratings": "5.0",
          "sentiments": 0.35
         },
         {
          "ratings": "5.0",
          "sentiments": 0.07692307692307693
         },
         {
          "ratings": "5.0",
          "sentiments": -0.024999999999999994
         },
         {
          "ratings": "5.0",
          "sentiments": 0.13846153846153847
         },
         {
          "ratings": "5.0",
          "sentiments": 0.2
         },
         {
          "ratings": "5.0",
          "sentiments": 0.5
         },
         {
          "ratings": "5.0",
          "sentiments": 0.08333333333333333
         },
         {
          "ratings": "5.0",
          "sentiments": 0.14285714285714285
         },
         {
          "ratings": "5.0",
          "sentiments": 0.2222222222222222
         },
         {
          "ratings": "5.0",
          "sentiments": 0.08608058608058608
         },
         {
          "ratings": "5.0",
          "sentiments": 0.007687728804415042
         },
         {
          "ratings": "5.0",
          "sentiments": 0.5
         },
         {
          "ratings": "5.0",
          "sentiments": 0.027777777777777776
         },
         {
          "ratings": "5.0",
          "sentiments": 0.011904761904761904
         },
         {
          "ratings": "5.0",
          "sentiments": 0
         },
         {
          "ratings": "5.0",
          "sentiments": 0.2934782608695652
         },
         {
          "ratings": "5.0",
          "sentiments": 0
         },
         {
          "ratings": "5.0",
          "sentiments": 0.038971836631683174
         },
         {
          "ratings": "5.0",
          "sentiments": 0.1
         },
         {
          "ratings": "5.0",
          "sentiments": 0.07692307692307693
         },
         {
          "ratings": "5.0",
          "sentiments": 0.05512820512820513
         },
         {
          "ratings": "5.0",
          "sentiments": 0.18055555555555555
         },
         {
          "ratings": "5.0",
          "sentiments": 0
         },
         {
          "ratings": "5.0",
          "sentiments": 0
         },
         {
          "ratings": "5.0",
          "sentiments": 0
         },
         {
          "ratings": "5.0",
          "sentiments": 0
         },
         {
          "ratings": "5.0",
          "sentiments": 0
         },
         {
          "ratings": "5.0",
          "sentiments": 0
         },
         {
          "ratings": "5.0",
          "sentiments": 0.012749880291394506
         },
         {
          "ratings": "5.0",
          "sentiments": 0.1111111111111111
         },
         {
          "ratings": "5.0",
          "sentiments": 0
         },
         {
          "ratings": "5.0",
          "sentiments": 0.034999999999999996
         },
         {
          "ratings": "5.0",
          "sentiments": 0.5
         },
         {
          "ratings": "5.0",
          "sentiments": 0
         },
         {
          "ratings": "5.0",
          "sentiments": 0.07035056446821153
         },
         {
          "ratings": "5.0",
          "sentiments": 0.05555555555555556
         },
         {
          "ratings": "5.0",
          "sentiments": 0.015731543743239654
         },
         {
          "ratings": "5.0",
          "sentiments": 0.15729166666666666
         },
         {
          "ratings": "5.0",
          "sentiments": 0.002765399088928502
         },
         {
          "ratings": "5.0",
          "sentiments": 0.1111111111111111
         },
         {
          "ratings": "5.0",
          "sentiments": 0.075
         },
         {
          "ratings": "5.0",
          "sentiments": 0.25
         },
         {
          "ratings": "5.0",
          "sentiments": 0.16666666666666666
         },
         {
          "ratings": "5.0",
          "sentiments": 0
         },
         {
          "ratings": "5.0",
          "sentiments": 0.06623931623931624
         },
         {
          "ratings": "5.0",
          "sentiments": 0.014814814814814817
         },
         {
          "ratings": "5.0",
          "sentiments": 0
         },
         {
          "ratings": "5.0",
          "sentiments": 0.010822510822510824
         },
         {
          "ratings": "5.0",
          "sentiments": -0.030303030303030304
         },
         {
          "ratings": "5.0",
          "sentiments": 0
         },
         {
          "ratings": "5.0",
          "sentiments": 0.16666666666666666
         },
         {
          "ratings": "5.0",
          "sentiments": 0.25
         },
         {
          "ratings": "5.0",
          "sentiments": 0
         },
         {
          "ratings": "5.0",
          "sentiments": 0.10299145299145299
         },
         {
          "ratings": "5.0",
          "sentiments": 0.42857142857142855
         },
         {
          "ratings": "5.0",
          "sentiments": 0.16666666666666666
         },
         {
          "ratings": "5.0",
          "sentiments": 0.09090909090909091
         },
         {
          "ratings": "5.0",
          "sentiments": 0.13888888888888887
         },
         {
          "ratings": "5.0",
          "sentiments": 0
         },
         {
          "ratings": "5.0",
          "sentiments": 0.125
         },
         {
          "ratings": "5.0",
          "sentiments": 0
         },
         {
          "ratings": "5.0",
          "sentiments": 0
         },
         {
          "ratings": "5.0",
          "sentiments": 0
         },
         {
          "ratings": "5.0",
          "sentiments": -0.036973198370257185
         },
         {
          "ratings": "5.0",
          "sentiments": 0
         },
         {
          "ratings": "5.0",
          "sentiments": -0.034482758620689655
         },
         {
          "ratings": "5.0",
          "sentiments": 0.07323232323232323
         },
         {
          "ratings": "5.0",
          "sentiments": -0.033216783216783216
         },
         {
          "ratings": "5.0",
          "sentiments": 0.18115942028985507
         },
         {
          "ratings": "5.0",
          "sentiments": 0
         },
         {
          "ratings": "5.0",
          "sentiments": 0
         },
         {
          "ratings": "5.0",
          "sentiments": 0
         },
         {
          "ratings": "5.0",
          "sentiments": 0.3333333333333333
         },
         {
          "ratings": "5.0",
          "sentiments": -0.06944444444444445
         },
         {
          "ratings": "5.0",
          "sentiments": 0.05
         },
         {
          "ratings": "5.0",
          "sentiments": 0.3333333333333333
         },
         {
          "ratings": "5.0",
          "sentiments": 0.11212121212121212
         },
         {
          "ratings": "5.0",
          "sentiments": 0.10526315789473684
         },
         {
          "ratings": "5.0",
          "sentiments": 0
         },
         {
          "ratings": "5.0",
          "sentiments": 0.09706959706959706
         },
         {
          "ratings": "5.0",
          "sentiments": 0.01150333118418225
         },
         {
          "ratings": "5.0",
          "sentiments": 0.179004329004329
         },
         {
          "ratings": "5.0",
          "sentiments": 0.1
         },
         {
          "ratings": "5.0",
          "sentiments": 0.03537377450980392
         },
         {
          "ratings": "5.0",
          "sentiments": -0.03571428571428571
         },
         {
          "ratings": "5.0",
          "sentiments": 0
         },
         {
          "ratings": "5.0",
          "sentiments": 0
         },
         {
          "ratings": "5.0",
          "sentiments": 0
         },
         {
          "ratings": "5.0",
          "sentiments": 0.05
         },
         {
          "ratings": "5.0",
          "sentiments": -0.048451485857500906
         },
         {
          "ratings": "5.0",
          "sentiments": 0
         },
         {
          "ratings": "5.0",
          "sentiments": -0.1
         },
         {
          "ratings": "5.0",
          "sentiments": 0
         },
         {
          "ratings": "5.0",
          "sentiments": 0.020833333333333332
         },
         {
          "ratings": "5.0",
          "sentiments": 0.09523809523809523
         },
         {
          "ratings": "5.0",
          "sentiments": -0.2282608695652174
         },
         {
          "ratings": "5.0",
          "sentiments": 0.024870689655172418
         },
         {
          "ratings": "5.0",
          "sentiments": 1
         },
         {
          "ratings": "5.0",
          "sentiments": 0
         },
         {
          "ratings": "5.0",
          "sentiments": 0.19833333333333333
         },
         {
          "ratings": "5.0",
          "sentiments": -0.008116883116883116
         },
         {
          "ratings": "5.0",
          "sentiments": 0
         },
         {
          "ratings": "5.0",
          "sentiments": 0
         },
         {
          "ratings": "5.0",
          "sentiments": 0
         },
         {
          "ratings": "5.0",
          "sentiments": 0.14285714285714285
         },
         {
          "ratings": "5.0",
          "sentiments": 0.16
         },
         {
          "ratings": "5.0",
          "sentiments": 0.2857142857142857
         },
         {
          "ratings": "5.0",
          "sentiments": 0
         },
         {
          "ratings": "5.0",
          "sentiments": 0
         },
         {
          "ratings": "5.0",
          "sentiments": 0.23125
         },
         {
          "ratings": "5.0",
          "sentiments": 0.014768740031897926
         },
         {
          "ratings": "5.0",
          "sentiments": -0.050372699196228624
         },
         {
          "ratings": "5.0",
          "sentiments": 0.18030303030303033
         },
         {
          "ratings": "5.0",
          "sentiments": 0
         },
         {
          "ratings": "5.0",
          "sentiments": 0
         },
         {
          "ratings": "5.0",
          "sentiments": 0.14285714285714285
         },
         {
          "ratings": "5.0",
          "sentiments": 0
         },
         {
          "ratings": "5.0",
          "sentiments": 0.13043478260869565
         },
         {
          "ratings": "5.0",
          "sentiments": 0.25
         },
         {
          "ratings": "5.0",
          "sentiments": 0.125
         },
         {
          "ratings": "5.0",
          "sentiments": 0.4
         },
         {
          "ratings": "5.0",
          "sentiments": 0.03304602362506774
         },
         {
          "ratings": "5.0",
          "sentiments": 0
         },
         {
          "ratings": "5.0",
          "sentiments": 1
         },
         {
          "ratings": "5.0",
          "sentiments": 0.04178894518180232
         },
         {
          "ratings": "5.0",
          "sentiments": -0.5
         },
         {
          "ratings": "5.0",
          "sentiments": 0.3333333333333333
         },
         {
          "ratings": "5.0",
          "sentiments": 0
         },
         {
          "ratings": "5.0",
          "sentiments": -0.1388888888888889
         },
         {
          "ratings": "5.0",
          "sentiments": 0.3333333333333333
         },
         {
          "ratings": "5.0",
          "sentiments": 0.12698412698412698
         },
         {
          "ratings": "5.0",
          "sentiments": 0
         },
         {
          "ratings": "5.0",
          "sentiments": 0
         },
         {
          "ratings": "5.0",
          "sentiments": 0.375
         },
         {
          "ratings": "5.0",
          "sentiments": 0.1
         },
         {
          "ratings": "5.0",
          "sentiments": 0.6666666666666666
         },
         {
          "ratings": "5.0",
          "sentiments": 0
         },
         {
          "ratings": "5.0",
          "sentiments": 0.021152915711739245
         },
         {
          "ratings": "5.0",
          "sentiments": -0.0625
         },
         {
          "ratings": "5.0",
          "sentiments": 1
         },
         {
          "ratings": "5.0",
          "sentiments": 0
         },
         {
          "ratings": "5.0",
          "sentiments": 0.5
         },
         {
          "ratings": "5.0",
          "sentiments": -0.05555555555555555
         },
         {
          "ratings": "5.0",
          "sentiments": 0.1785919540229885
         },
         {
          "ratings": "5.0",
          "sentiments": 0.09419642857142857
         },
         {
          "ratings": "5.0",
          "sentiments": 0.25
         },
         {
          "ratings": "5.0",
          "sentiments": 0.05555555555555555
         },
         {
          "ratings": "5.0",
          "sentiments": 0
         },
         {
          "ratings": "5.0",
          "sentiments": 0.08333333333333333
         },
         {
          "ratings": "5.0",
          "sentiments": 0.14285714285714285
         },
         {
          "ratings": "5.0",
          "sentiments": 0.09090909090909091
         },
         {
          "ratings": "5.0",
          "sentiments": 0.11666666666666665
         },
         {
          "ratings": "5.0",
          "sentiments": 0.25
         },
         {
          "ratings": "5.0",
          "sentiments": 0.3333333333333333
         },
         {
          "ratings": "5.0",
          "sentiments": -0.1118421052631579
         },
         {
          "ratings": "5.0",
          "sentiments": 0.09771825396825397
         },
         {
          "ratings": "5.0",
          "sentiments": -0.25
         },
         {
          "ratings": "5.0",
          "sentiments": 0.05
         },
         {
          "ratings": "5.0",
          "sentiments": 0.25
         },
         {
          "ratings": "5.0",
          "sentiments": 0
         },
         {
          "ratings": "5.0",
          "sentiments": -0.2222222222222222
         },
         {
          "ratings": "5.0",
          "sentiments": 0.0625
         },
         {
          "ratings": "5.0",
          "sentiments": 0
         },
         {
          "ratings": "5.0",
          "sentiments": 0
         },
         {
          "ratings": "5.0",
          "sentiments": 0
         },
         {
          "ratings": "5.0",
          "sentiments": 0.25
         },
         {
          "ratings": "5.0",
          "sentiments": 0.125
         },
         {
          "ratings": "5.0",
          "sentiments": -0.043478260869565216
         },
         {
          "ratings": "5.0",
          "sentiments": 0.5
         },
         {
          "ratings": "5.0",
          "sentiments": 0.020613966038802643
         },
         {
          "ratings": "5.0",
          "sentiments": 0.25
         },
         {
          "ratings": "5.0",
          "sentiments": 0.3333333333333333
         },
         {
          "ratings": "5.0",
          "sentiments": 0
         },
         {
          "ratings": "5.0",
          "sentiments": 0
         },
         {
          "ratings": "5.0",
          "sentiments": 0
         },
         {
          "ratings": "5.0",
          "sentiments": 0.2074074074074074
         },
         {
          "ratings": "5.0",
          "sentiments": 0.14285714285714285
         },
         {
          "ratings": "5.0",
          "sentiments": 0.21929824561403508
         },
         {
          "ratings": "5.0",
          "sentiments": 0
         },
         {
          "ratings": "5.0",
          "sentiments": 0.3333333333333333
         },
         {
          "ratings": "5.0",
          "sentiments": 0.5
         },
         {
          "ratings": "5.0",
          "sentiments": 1
         },
         {
          "ratings": "5.0",
          "sentiments": 0.08888888888888889
         },
         {
          "ratings": "5.0",
          "sentiments": 0
         },
         {
          "ratings": "5.0",
          "sentiments": 0.04648846380657526
         },
         {
          "ratings": "5.0",
          "sentiments": 0.3333333333333333
         },
         {
          "ratings": "5.0",
          "sentiments": 0.5
         },
         {
          "ratings": "5.0",
          "sentiments": 0.02653188958001792
         },
         {
          "ratings": "5.0",
          "sentiments": 0.05555555555555555
         },
         {
          "ratings": "5.0",
          "sentiments": 0
         },
         {
          "ratings": "5.0",
          "sentiments": 0
         },
         {
          "ratings": "5.0",
          "sentiments": 0
         },
         {
          "ratings": "5.0",
          "sentiments": 0
         },
         {
          "ratings": "5.0",
          "sentiments": 0
         },
         {
          "ratings": "5.0",
          "sentiments": 0.015384615384615385
         },
         {
          "ratings": "5.0",
          "sentiments": 0
         },
         {
          "ratings": "5.0",
          "sentiments": -1
         },
         {
          "ratings": "5.0",
          "sentiments": 0.06060606060606061
         },
         {
          "ratings": "5.0",
          "sentiments": 0.0021589856561806094
         },
         {
          "ratings": "5.0",
          "sentiments": 1
         },
         {
          "ratings": "5.0",
          "sentiments": -0.03869047619047619
         },
         {
          "ratings": "5.0",
          "sentiments": 0
         },
         {
          "ratings": "5.0",
          "sentiments": 0.15789473684210525
         },
         {
          "ratings": "5.0",
          "sentiments": 0.001121774467362702
         },
         {
          "ratings": "5.0",
          "sentiments": 0.020833333333333332
         },
         {
          "ratings": "5.0",
          "sentiments": 0
         },
         {
          "ratings": "5.0",
          "sentiments": 0
         },
         {
          "ratings": "5.0",
          "sentiments": 0
         },
         {
          "ratings": "5.0",
          "sentiments": 0.25
         },
         {
          "ratings": "5.0",
          "sentiments": 0
         },
         {
          "ratings": "5.0",
          "sentiments": 0.09090909090909091
         },
         {
          "ratings": "5.0",
          "sentiments": 0.11309523809523808
         },
         {
          "ratings": "5.0",
          "sentiments": 0.08333333333333333
         },
         {
          "ratings": "5.0",
          "sentiments": 0.2857142857142857
         },
         {
          "ratings": "5.0",
          "sentiments": 0.1326388888888889
         },
         {
          "ratings": "5.0",
          "sentiments": 0.125
         },
         {
          "ratings": "5.0",
          "sentiments": 0
         },
         {
          "ratings": "5.0",
          "sentiments": -0.028011204481792715
         },
         {
          "ratings": "5.0",
          "sentiments": 0.032196969696969696
         },
         {
          "ratings": "5.0",
          "sentiments": 0.25
         },
         {
          "ratings": "5.0",
          "sentiments": 0
         },
         {
          "ratings": "5.0",
          "sentiments": 0.05089285714285714
         },
         {
          "ratings": "5.0",
          "sentiments": 0.10471177944862156
         },
         {
          "ratings": "5.0",
          "sentiments": 0
         },
         {
          "ratings": "5.0",
          "sentiments": 0.25
         },
         {
          "ratings": "5.0",
          "sentiments": 0
         },
         {
          "ratings": "5.0",
          "sentiments": 0
         },
         {
          "ratings": "5.0",
          "sentiments": -0.3333333333333333
         },
         {
          "ratings": "5.0",
          "sentiments": 0
         },
         {
          "ratings": "5.0",
          "sentiments": 0
         },
         {
          "ratings": "5.0",
          "sentiments": 0.14285714285714285
         },
         {
          "ratings": "5.0",
          "sentiments": 0.14285714285714285
         },
         {
          "ratings": "5.0",
          "sentiments": 0.05399719495091164
         },
         {
          "ratings": "5.0",
          "sentiments": 0.2
         },
         {
          "ratings": "5.0",
          "sentiments": 0
         },
         {
          "ratings": "5.0",
          "sentiments": 0.15
         },
         {
          "ratings": "5.0",
          "sentiments": 0
         },
         {
          "ratings": "5.0",
          "sentiments": 0.125
         },
         {
          "ratings": "5.0",
          "sentiments": 0.3333333333333333
         },
         {
          "ratings": "5.0",
          "sentiments": -0.07692307692307693
         },
         {
          "ratings": "5.0",
          "sentiments": 0
         },
         {
          "ratings": "5.0",
          "sentiments": 0.047619047619047616
         },
         {
          "ratings": "5.0",
          "sentiments": 0.019213734266665453
         },
         {
          "ratings": "5.0",
          "sentiments": 0.06241190979563072
         },
         {
          "ratings": "5.0",
          "sentiments": 0.043060240822732916
         },
         {
          "ratings": "5.0",
          "sentiments": 0.25
         },
         {
          "ratings": "5.0",
          "sentiments": 0
         },
         {
          "ratings": "5.0",
          "sentiments": 0
         },
         {
          "ratings": "5.0",
          "sentiments": -0.0030864197530864196
         },
         {
          "ratings": "5.0",
          "sentiments": 0.07145969498910676
         },
         {
          "ratings": "5.0",
          "sentiments": 0.07386363636363637
         },
         {
          "ratings": "5.0",
          "sentiments": 0.06060606060606061
         },
         {
          "ratings": "5.0",
          "sentiments": 0.3333333333333333
         },
         {
          "ratings": "5.0",
          "sentiments": 0.125
         },
         {
          "ratings": "5.0",
          "sentiments": 0.04520923520923521
         },
         {
          "ratings": "5.0",
          "sentiments": 0.0039000215470803698
         },
         {
          "ratings": "5.0",
          "sentiments": 0.03157649752918295
         },
         {
          "ratings": "5.0",
          "sentiments": 0.08294051627384962
         },
         {
          "ratings": "5.0",
          "sentiments": -0.003280281519068329
         },
         {
          "ratings": "5.0",
          "sentiments": 0.058823529411764705
         },
         {
          "ratings": "5.0",
          "sentiments": 0.05555555555555555
         },
         {
          "ratings": "5.0",
          "sentiments": 0
         },
         {
          "ratings": "5.0",
          "sentiments": 0.14285714285714285
         },
         {
          "ratings": "5.0",
          "sentiments": 0.09292929292929293
         },
         {
          "ratings": "5.0",
          "sentiments": 0.06153846153846154
         },
         {
          "ratings": "5.0",
          "sentiments": 0
         },
         {
          "ratings": "5.0",
          "sentiments": 0.05692640692640692
         },
         {
          "ratings": "5.0",
          "sentiments": 0.16666666666666666
         },
         {
          "ratings": "5.0",
          "sentiments": 0
         },
         {
          "ratings": "5.0",
          "sentiments": 0.1111111111111111
         },
         {
          "ratings": "5.0",
          "sentiments": 0
         },
         {
          "ratings": "5.0",
          "sentiments": 0
         },
         {
          "ratings": "5.0",
          "sentiments": 0.6666666666666666
         },
         {
          "ratings": "5.0",
          "sentiments": 0.07539682539682539
         },
         {
          "ratings": "5.0",
          "sentiments": -0.3
         },
         {
          "ratings": "5.0",
          "sentiments": 0.2
         },
         {
          "ratings": "5.0",
          "sentiments": 1
         },
         {
          "ratings": "5.0",
          "sentiments": 0.03571428571428571
         },
         {
          "ratings": "5.0",
          "sentiments": 0.0001460685284214678
         },
         {
          "ratings": "5.0",
          "sentiments": 0.04166666666666668
         },
         {
          "ratings": "5.0",
          "sentiments": 0.14285714285714285
         },
         {
          "ratings": "5.0",
          "sentiments": 0.16666666666666666
         },
         {
          "ratings": "5.0",
          "sentiments": 0
         },
         {
          "ratings": "5.0",
          "sentiments": 0.3333333333333333
         },
         {
          "ratings": "5.0",
          "sentiments": 0.14285714285714285
         },
         {
          "ratings": "5.0",
          "sentiments": 0.046153846153846156
         },
         {
          "ratings": "5.0",
          "sentiments": 0.2
         },
         {
          "ratings": "5.0",
          "sentiments": 0.2
         },
         {
          "ratings": "5.0",
          "sentiments": 0.023809523809523808
         },
         {
          "ratings": "5.0",
          "sentiments": 0
         },
         {
          "ratings": "5.0",
          "sentiments": 0.08928571428571427
         },
         {
          "ratings": "5.0",
          "sentiments": 0.005208333333333332
         },
         {
          "ratings": "5.0",
          "sentiments": 0.13846153846153847
         },
         {
          "ratings": "5.0",
          "sentiments": 0.05277777777777778
         },
         {
          "ratings": "5.0",
          "sentiments": 0.08333333333333333
         },
         {
          "ratings": "5.0",
          "sentiments": -0.22222222222222224
         },
         {
          "ratings": "5.0",
          "sentiments": 0.045454545454545456
         },
         {
          "ratings": "5.0",
          "sentiments": 0.3055555555555556
         },
         {
          "ratings": "5.0",
          "sentiments": 0.05892857142857143
         },
         {
          "ratings": "5.0",
          "sentiments": 0.2
         },
         {
          "ratings": "5.0",
          "sentiments": 0.25
         },
         {
          "ratings": "5.0",
          "sentiments": 0.05844155844155844
         },
         {
          "ratings": "5.0",
          "sentiments": 0
         },
         {
          "ratings": "5.0",
          "sentiments": 1
         },
         {
          "ratings": "5.0",
          "sentiments": 0
         },
         {
          "ratings": "5.0",
          "sentiments": 0.04761904761904762
         },
         {
          "ratings": "5.0",
          "sentiments": 0.1
         },
         {
          "ratings": "5.0",
          "sentiments": 0.3846153846153846
         },
         {
          "ratings": "5.0",
          "sentiments": 1
         },
         {
          "ratings": "5.0",
          "sentiments": 0.5
         },
         {
          "ratings": "5.0",
          "sentiments": 0
         },
         {
          "ratings": "5.0",
          "sentiments": 0.4
         },
         {
          "ratings": "5.0",
          "sentiments": -0.04888140082648092
         },
         {
          "ratings": "5.0",
          "sentiments": 0.2222222222222222
         },
         {
          "ratings": "5.0",
          "sentiments": 0.12222222222222223
         },
         {
          "ratings": "5.0",
          "sentiments": 0.04158215010141988
         },
         {
          "ratings": "5.0",
          "sentiments": 0
         },
         {
          "ratings": "5.0",
          "sentiments": 0
         },
         {
          "ratings": "5.0",
          "sentiments": 0.08823529411764706
         },
         {
          "ratings": "5.0",
          "sentiments": 0
         },
         {
          "ratings": "5.0",
          "sentiments": 0.1
         },
         {
          "ratings": "5.0",
          "sentiments": 0.01971758497493792
         },
         {
          "ratings": "5.0",
          "sentiments": 0.047619047619047616
         },
         {
          "ratings": "5.0",
          "sentiments": 0.14285714285714285
         },
         {
          "ratings": "5.0",
          "sentiments": 0.08309990662931839
         },
         {
          "ratings": "5.0",
          "sentiments": 0.012519755757079544
         },
         {
          "ratings": "5.0",
          "sentiments": -0.005714285714285716
         },
         {
          "ratings": "5.0",
          "sentiments": 0.2484848484848485
         },
         {
          "ratings": "5.0",
          "sentiments": 0.022417153996101363
         },
         {
          "ratings": "5.0",
          "sentiments": -0.05719298245614035
         },
         {
          "ratings": "5.0",
          "sentiments": 0.1336700336700337
         },
         {
          "ratings": "5.0",
          "sentiments": 0.05208333333333333
         },
         {
          "ratings": "5.0",
          "sentiments": 0.08333333333333333
         },
         {
          "ratings": "5.0",
          "sentiments": 0
         },
         {
          "ratings": "5.0",
          "sentiments": 0.07638888888888888
         },
         {
          "ratings": "5.0",
          "sentiments": 0.0625
         },
         {
          "ratings": "5.0",
          "sentiments": 0
         },
         {
          "ratings": "5.0",
          "sentiments": 0.06558069381598793
         },
         {
          "ratings": "5.0",
          "sentiments": 0
         },
         {
          "ratings": "5.0",
          "sentiments": -0.46
         },
         {
          "ratings": "5.0",
          "sentiments": -0.05714285714285714
         },
         {
          "ratings": "5.0",
          "sentiments": 0.5
         },
         {
          "ratings": "5.0",
          "sentiments": 0
         },
         {
          "ratings": "5.0",
          "sentiments": 0.045105820105820114
         },
         {
          "ratings": "5.0",
          "sentiments": 0.040249433106575964
         },
         {
          "ratings": "5.0",
          "sentiments": 0.5
         },
         {
          "ratings": "5.0",
          "sentiments": 0
         },
         {
          "ratings": "5.0",
          "sentiments": 0
         },
         {
          "ratings": "5.0",
          "sentiments": 0.05668896321070234
         },
         {
          "ratings": "5.0",
          "sentiments": -0.03333333333333333
         },
         {
          "ratings": "5.0",
          "sentiments": 0
         },
         {
          "ratings": "5.0",
          "sentiments": 0.23412698412698413
         },
         {
          "ratings": "5.0",
          "sentiments": 0.07100664376422505
         },
         {
          "ratings": "5.0",
          "sentiments": 0.125
         },
         {
          "ratings": "5.0",
          "sentiments": 0.03226495726495726
         },
         {
          "ratings": "5.0",
          "sentiments": 0.5
         },
         {
          "ratings": "5.0",
          "sentiments": 0.07142857142857142
         },
         {
          "ratings": "5.0",
          "sentiments": 0.05128205128205128
         },
         {
          "ratings": "5.0",
          "sentiments": 0.2
         },
         {
          "ratings": "5.0",
          "sentiments": 0.18333333333333335
         },
         {
          "ratings": "5.0",
          "sentiments": 0.16666666666666666
         },
         {
          "ratings": "5.0",
          "sentiments": 0.13214285714285715
         },
         {
          "ratings": "5.0",
          "sentiments": 1
         },
         {
          "ratings": "5.0",
          "sentiments": 0.04818181818181818
         },
         {
          "ratings": "5.0",
          "sentiments": 0.08823529411764706
         },
         {
          "ratings": "5.0",
          "sentiments": 0
         },
         {
          "ratings": "5.0",
          "sentiments": 0.08333333333333333
         },
         {
          "ratings": "5.0",
          "sentiments": 0.25
         },
         {
          "ratings": "5.0",
          "sentiments": 0.5
         },
         {
          "ratings": "5.0",
          "sentiments": 0
         },
         {
          "ratings": "5.0",
          "sentiments": 0.029673732700048486
         },
         {
          "ratings": "5.0",
          "sentiments": 0.07331642716258101
         },
         {
          "ratings": "5.0",
          "sentiments": 0.16666666666666666
         },
         {
          "ratings": "5.0",
          "sentiments": 0.07692307692307693
         },
         {
          "ratings": "5.0",
          "sentiments": 0.08630952380952381
         },
         {
          "ratings": "5.0",
          "sentiments": 0.04807867030089252
         },
         {
          "ratings": "5.0",
          "sentiments": 0.004972487570526786
         },
         {
          "ratings": "5.0",
          "sentiments": -1.5
         },
         {
          "ratings": "5.0",
          "sentiments": 0.06845632280396302
         },
         {
          "ratings": "5.0",
          "sentiments": -0.010695187165775402
         },
         {
          "ratings": "5.0",
          "sentiments": -0.03793290043290043
         },
         {
          "ratings": "5.0",
          "sentiments": 0.16666666666666666
         },
         {
          "ratings": "5.0",
          "sentiments": 0
         },
         {
          "ratings": "5.0",
          "sentiments": 0.16666666666666666
         },
         {
          "ratings": "5.0",
          "sentiments": 1
         },
         {
          "ratings": "5.0",
          "sentiments": -0.023569023569023573
         },
         {
          "ratings": "5.0",
          "sentiments": 0.25252525252525254
         },
         {
          "ratings": "5.0",
          "sentiments": 0.1625
         },
         {
          "ratings": "5.0",
          "sentiments": 0.21428571428571427
         },
         {
          "ratings": "5.0",
          "sentiments": 0.06849103277674706
         },
         {
          "ratings": "5.0",
          "sentiments": 0.09696969696969697
         },
         {
          "ratings": "5.0",
          "sentiments": 0.3333333333333333
         },
         {
          "ratings": "5.0",
          "sentiments": 0.5
         },
         {
          "ratings": "5.0",
          "sentiments": 0.25
         },
         {
          "ratings": "5.0",
          "sentiments": 0.25
         },
         {
          "ratings": "5.0",
          "sentiments": 0.10108932461873639
         },
         {
          "ratings": "5.0",
          "sentiments": 0.5
         },
         {
          "ratings": "5.0",
          "sentiments": 0
         },
         {
          "ratings": "5.0",
          "sentiments": 0.17857142857142855
         },
         {
          "ratings": "5.0",
          "sentiments": 0.025
         },
         {
          "ratings": "5.0",
          "sentiments": -0.08333333333333333
         },
         {
          "ratings": "5.0",
          "sentiments": -0.027777777777777776
         },
         {
          "ratings": "5.0",
          "sentiments": 1
         },
         {
          "ratings": "5.0",
          "sentiments": 0.0625
         },
         {
          "ratings": "5.0",
          "sentiments": 0.05698005698005698
         },
         {
          "ratings": "5.0",
          "sentiments": 0.06458333333333333
         },
         {
          "ratings": "5.0",
          "sentiments": 0.10719696969696971
         },
         {
          "ratings": "5.0",
          "sentiments": 0.125
         },
         {
          "ratings": "5.0",
          "sentiments": 0.1338095238095238
         },
         {
          "ratings": "5.0",
          "sentiments": 0.0018942021252945588
         },
         {
          "ratings": "5.0",
          "sentiments": 0.1407828282828283
         },
         {
          "ratings": "5.0",
          "sentiments": 0.09682539682539683
         },
         {
          "ratings": "5.0",
          "sentiments": 0.15873015873015872
         },
         {
          "ratings": "5.0",
          "sentiments": 0.16666666666666666
         },
         {
          "ratings": "5.0",
          "sentiments": 0.03273445448560656
         },
         {
          "ratings": "5.0",
          "sentiments": 0.019318087481859196
         },
         {
          "ratings": "5.0",
          "sentiments": 0.01961357965213613
         },
         {
          "ratings": "5.0",
          "sentiments": 0.14285714285714285
         },
         {
          "ratings": "5.0",
          "sentiments": 0.1
         },
         {
          "ratings": "5.0",
          "sentiments": 0.05247252747252747
         },
         {
          "ratings": "5.0",
          "sentiments": -0.004784688995215308
         },
         {
          "ratings": "5.0",
          "sentiments": 0.030303030303030304
         },
         {
          "ratings": "5.0",
          "sentiments": -0.008327324849063978
         },
         {
          "ratings": "5.0",
          "sentiments": 0.2222222222222222
         },
         {
          "ratings": "5.0",
          "sentiments": 0.3333333333333333
         },
         {
          "ratings": "5.0",
          "sentiments": 0
         },
         {
          "ratings": "5.0",
          "sentiments": 0.05555555555555555
         },
         {
          "ratings": "5.0",
          "sentiments": 0.09090909090909091
         },
         {
          "ratings": "5.0",
          "sentiments": 0
         },
         {
          "ratings": "5.0",
          "sentiments": -0.18638833605613375
         },
         {
          "ratings": "5.0",
          "sentiments": 0.05444444444444444
         },
         {
          "ratings": "5.0",
          "sentiments": 0
         },
         {
          "ratings": "5.0",
          "sentiments": 0
         },
         {
          "ratings": "5.0",
          "sentiments": 0.056868879970324276
         },
         {
          "ratings": "5.0",
          "sentiments": 0.2357142857142857
         },
         {
          "ratings": "5.0",
          "sentiments": 0
         },
         {
          "ratings": "5.0",
          "sentiments": -0.03742559523809523
         },
         {
          "ratings": "5.0",
          "sentiments": 0.16025641025641024
         },
         {
          "ratings": "5.0",
          "sentiments": 0.125
         },
         {
          "ratings": "5.0",
          "sentiments": 0.03125
         },
         {
          "ratings": "5.0",
          "sentiments": 0.017857142857142856
         },
         {
          "ratings": "5.0",
          "sentiments": 0.2
         },
         {
          "ratings": "5.0",
          "sentiments": 0.04411764705882353
         },
         {
          "ratings": "5.0",
          "sentiments": 0.25
         },
         {
          "ratings": "5.0",
          "sentiments": 0.041479925303454714
         },
         {
          "ratings": "5.0",
          "sentiments": 0
         },
         {
          "ratings": "5.0",
          "sentiments": 0.037037037037037035
         },
         {
          "ratings": "5.0",
          "sentiments": 0.09454545454545456
         },
         {
          "ratings": "5.0",
          "sentiments": 0.09090909090909091
         },
         {
          "ratings": "5.0",
          "sentiments": 0.1865079365079365
         },
         {
          "ratings": "5.0",
          "sentiments": 0.04
         },
         {
          "ratings": "5.0",
          "sentiments": -0.11538461538461539
         },
         {
          "ratings": "5.0",
          "sentiments": 0.02782608695652174
         },
         {
          "ratings": "5.0",
          "sentiments": 0.0011111111111111126
         },
         {
          "ratings": "5.0",
          "sentiments": -0.049663299663299666
         },
         {
          "ratings": "5.0",
          "sentiments": 0.11428571428571428
         },
         {
          "ratings": "5.0",
          "sentiments": 0.0625
         },
         {
          "ratings": "5.0",
          "sentiments": 0.08333333333333333
         },
         {
          "ratings": "5.0",
          "sentiments": 0.11968960863697706
         },
         {
          "ratings": "5.0",
          "sentiments": 0
         },
         {
          "ratings": "5.0",
          "sentiments": 0
         },
         {
          "ratings": "5.0",
          "sentiments": 0.03125472748679759
         },
         {
          "ratings": "5.0",
          "sentiments": 0.0038793734445908418
         },
         {
          "ratings": "5.0",
          "sentiments": 0.025911596434088396
         },
         {
          "ratings": "5.0",
          "sentiments": 0.2857142857142857
         },
         {
          "ratings": "5.0",
          "sentiments": 0.25
         },
         {
          "ratings": "5.0",
          "sentiments": 0.2909090909090909
         },
         {
          "ratings": "5.0",
          "sentiments": 0
         },
         {
          "ratings": "5.0",
          "sentiments": 0.09359605911330049
         },
         {
          "ratings": "5.0",
          "sentiments": 0
         },
         {
          "ratings": "5.0",
          "sentiments": 0.5
         },
         {
          "ratings": "5.0",
          "sentiments": 0
         },
         {
          "ratings": "5.0",
          "sentiments": 0.014492753623188406
         },
         {
          "ratings": "5.0",
          "sentiments": 1
         },
         {
          "ratings": "5.0",
          "sentiments": 0.125
         },
         {
          "ratings": "5.0",
          "sentiments": 1
         },
         {
          "ratings": "5.0",
          "sentiments": 0.2222222222222222
         },
         {
          "ratings": "5.0",
          "sentiments": 0.08946886446886446
         },
         {
          "ratings": "5.0",
          "sentiments": 0.05555555555555555
         },
         {
          "ratings": "5.0",
          "sentiments": 0
         },
         {
          "ratings": "5.0",
          "sentiments": 0.07142857142857142
         },
         {
          "ratings": "5.0",
          "sentiments": 0.17820512820512818
         },
         {
          "ratings": "5.0",
          "sentiments": 0.12681159420289856
         },
         {
          "ratings": "5.0",
          "sentiments": 0
         },
         {
          "ratings": "5.0",
          "sentiments": 0.044002699809151426
         },
         {
          "ratings": "5.0",
          "sentiments": 0.3333333333333333
         },
         {
          "ratings": "5.0",
          "sentiments": 0
         },
         {
          "ratings": "5.0",
          "sentiments": 0.1865079365079365
         },
         {
          "ratings": "5.0",
          "sentiments": 0.08333333333333333
         },
         {
          "ratings": "5.0",
          "sentiments": 0
         },
         {
          "ratings": "5.0",
          "sentiments": 0
         },
         {
          "ratings": "5.0",
          "sentiments": 0.04517543859649123
         },
         {
          "ratings": "5.0",
          "sentiments": 0.25
         },
         {
          "ratings": "5.0",
          "sentiments": 1
         },
         {
          "ratings": "5.0",
          "sentiments": 0.09523809523809523
         },
         {
          "ratings": "5.0",
          "sentiments": 0
         },
         {
          "ratings": "5.0",
          "sentiments": -0.031746031746031744
         },
         {
          "ratings": "5.0",
          "sentiments": 0
         },
         {
          "ratings": "5.0",
          "sentiments": 0.2
         },
         {
          "ratings": "5.0",
          "sentiments": -2
         },
         {
          "ratings": "5.0",
          "sentiments": 0.125
         },
         {
          "ratings": "5.0",
          "sentiments": 0.07196969696969698
         },
         {
          "ratings": "5.0",
          "sentiments": 0.1185897435897436
         },
         {
          "ratings": "5.0",
          "sentiments": 0
         },
         {
          "ratings": "5.0",
          "sentiments": 0.015151515151515152
         },
         {
          "ratings": "5.0",
          "sentiments": 0
         },
         {
          "ratings": "5.0",
          "sentiments": 0.5
         },
         {
          "ratings": "5.0",
          "sentiments": 0.08518518518518518
         },
         {
          "ratings": "5.0",
          "sentiments": -0.06277056277056275
         },
         {
          "ratings": "5.0",
          "sentiments": 0.2240740740740741
         },
         {
          "ratings": "5.0",
          "sentiments": 0.1388888888888889
         },
         {
          "ratings": "5.0",
          "sentiments": 0.5
         },
         {
          "ratings": "5.0",
          "sentiments": 0.5
         },
         {
          "ratings": "5.0",
          "sentiments": 0.29166666666666663
         },
         {
          "ratings": "5.0",
          "sentiments": -0.16666666666666666
         },
         {
          "ratings": "5.0",
          "sentiments": -0.059779202279202276
         },
         {
          "ratings": "5.0",
          "sentiments": 0.05
         },
         {
          "ratings": "5.0",
          "sentiments": 0.07142857142857142
         },
         {
          "ratings": "5.0",
          "sentiments": 0.027777777777777776
         },
         {
          "ratings": "5.0",
          "sentiments": 0.2058823529411765
         },
         {
          "ratings": "5.0",
          "sentiments": 0.07142857142857142
         },
         {
          "ratings": "5.0",
          "sentiments": 0
         },
         {
          "ratings": "5.0",
          "sentiments": 0.2222222222222222
         },
         {
          "ratings": "5.0",
          "sentiments": 0.08333333333333333
         },
         {
          "ratings": "5.0",
          "sentiments": 0
         },
         {
          "ratings": "5.0",
          "sentiments": 0.6666666666666666
         },
         {
          "ratings": "5.0",
          "sentiments": 0.17391304347826086
         },
         {
          "ratings": "5.0",
          "sentiments": -0.006666666666666665
         },
         {
          "ratings": "5.0",
          "sentiments": 0
         },
         {
          "ratings": "5.0",
          "sentiments": 0.15384615384615385
         },
         {
          "ratings": "5.0",
          "sentiments": 0
         },
         {
          "ratings": "5.0",
          "sentiments": 0.5
         },
         {
          "ratings": "5.0",
          "sentiments": -0.024999999999999998
         },
         {
          "ratings": "5.0",
          "sentiments": 0.09307359307359307
         },
         {
          "ratings": "5.0",
          "sentiments": 0
         },
         {
          "ratings": "5.0",
          "sentiments": 0.5
         },
         {
          "ratings": "5.0",
          "sentiments": 0.03333333333333333
         },
         {
          "ratings": "5.0",
          "sentiments": 0.05
         },
         {
          "ratings": "5.0",
          "sentiments": 0.02244668911335578
         },
         {
          "ratings": "5.0",
          "sentiments": -0.25
         },
         {
          "ratings": "5.0",
          "sentiments": -0.05
         },
         {
          "ratings": "5.0",
          "sentiments": 0.008868174590791228
         },
         {
          "ratings": "5.0",
          "sentiments": 0.01785714285714286
         },
         {
          "ratings": "5.0",
          "sentiments": 0.09946236559139784
         },
         {
          "ratings": "5.0",
          "sentiments": 0
         },
         {
          "ratings": "5.0",
          "sentiments": 0
         },
         {
          "ratings": "5.0",
          "sentiments": 0.06345124174071542
         },
         {
          "ratings": "5.0",
          "sentiments": 0
         },
         {
          "ratings": "5.0",
          "sentiments": 0
         },
         {
          "ratings": "5.0",
          "sentiments": 0.05
         },
         {
          "ratings": "5.0",
          "sentiments": 0
         },
         {
          "ratings": "5.0",
          "sentiments": 0.08333333333333333
         },
         {
          "ratings": "5.0",
          "sentiments": 0.14545454545454545
         },
         {
          "ratings": "5.0",
          "sentiments": 0
         },
         {
          "ratings": "5.0",
          "sentiments": 0.25
         },
         {
          "ratings": "5.0",
          "sentiments": 0.16666666666666666
         },
         {
          "ratings": "5.0",
          "sentiments": 0
         },
         {
          "ratings": "5.0",
          "sentiments": 0.1619047619047619
         },
         {
          "ratings": "5.0",
          "sentiments": 0.009278711484593836
         },
         {
          "ratings": "5.0",
          "sentiments": 0
         },
         {
          "ratings": "5.0",
          "sentiments": 0.1111111111111111
         },
         {
          "ratings": "5.0",
          "sentiments": 0
         },
         {
          "ratings": "5.0",
          "sentiments": 0.017311507936507934
         },
         {
          "ratings": "5.0",
          "sentiments": 0
         },
         {
          "ratings": "5.0",
          "sentiments": 0.047619047619047616
         },
         {
          "ratings": "5.0",
          "sentiments": -0.08333333333333333
         },
         {
          "ratings": "5.0",
          "sentiments": 0.03529657477025898
         },
         {
          "ratings": "5.0",
          "sentiments": -0.029411764705882353
         },
         {
          "ratings": "5.0",
          "sentiments": 0
         },
         {
          "ratings": "5.0",
          "sentiments": 0.12333333333333334
         },
         {
          "ratings": "5.0",
          "sentiments": 0.2
         },
         {
          "ratings": "5.0",
          "sentiments": 0.15
         },
         {
          "ratings": "5.0",
          "sentiments": 0
         },
         {
          "ratings": "5.0",
          "sentiments": 0.06923076923076923
         },
         {
          "ratings": "5.0",
          "sentiments": 0
         },
         {
          "ratings": "5.0",
          "sentiments": 0.25
         },
         {
          "ratings": "5.0",
          "sentiments": 0.125
         },
         {
          "ratings": "5.0",
          "sentiments": 0.1111111111111111
         },
         {
          "ratings": "5.0",
          "sentiments": 0.03333333333333333
         },
         {
          "ratings": "5.0",
          "sentiments": 0.09379074315514994
         },
         {
          "ratings": "5.0",
          "sentiments": 0
         },
         {
          "ratings": "5.0",
          "sentiments": 0.16666666666666666
         },
         {
          "ratings": "5.0",
          "sentiments": 0.5
         },
         {
          "ratings": "5.0",
          "sentiments": 0.03571428571428571
         },
         {
          "ratings": "5.0",
          "sentiments": 0
         },
         {
          "ratings": "5.0",
          "sentiments": 0.11666666666666668
         },
         {
          "ratings": "5.0",
          "sentiments": 0.1803030303030303
         },
         {
          "ratings": "5.0",
          "sentiments": 0.3333333333333333
         },
         {
          "ratings": "5.0",
          "sentiments": 0.023596491228070175
         },
         {
          "ratings": "5.0",
          "sentiments": 0.045454545454545456
         },
         {
          "ratings": "5.0",
          "sentiments": 0.028631553631553643
         },
         {
          "ratings": "5.0",
          "sentiments": 0.03893471393471393
         },
         {
          "ratings": "5.0",
          "sentiments": 0.16666666666666666
         },
         {
          "ratings": "5.0",
          "sentiments": 0.01818181818181818
         },
         {
          "ratings": "5.0",
          "sentiments": 0.10989010989010989
         },
         {
          "ratings": "5.0",
          "sentiments": 0.013437632651655734
         },
         {
          "ratings": "5.0",
          "sentiments": 0.3333333333333333
         },
         {
          "ratings": "5.0",
          "sentiments": -0.047619047619047616
         },
         {
          "ratings": "5.0",
          "sentiments": 0.125
         },
         {
          "ratings": "5.0",
          "sentiments": 0.16666666666666666
         },
         {
          "ratings": "5.0",
          "sentiments": 0.20238095238095238
         },
         {
          "ratings": "5.0",
          "sentiments": 0
         },
         {
          "ratings": "5.0",
          "sentiments": 0.125
         },
         {
          "ratings": "5.0",
          "sentiments": 0.3333333333333333
         },
         {
          "ratings": "5.0",
          "sentiments": 0.25
         },
         {
          "ratings": "5.0",
          "sentiments": 0.18181818181818182
         },
         {
          "ratings": "5.0",
          "sentiments": 0
         },
         {
          "ratings": "5.0",
          "sentiments": 0
         },
         {
          "ratings": "5.0",
          "sentiments": 0.07222222222222222
         },
         {
          "ratings": "5.0",
          "sentiments": 0.07267432950191571
         },
         {
          "ratings": "5.0",
          "sentiments": 0.21587301587301588
         },
         {
          "ratings": "5.0",
          "sentiments": 0
         },
         {
          "ratings": "5.0",
          "sentiments": 0.10714285714285714
         },
         {
          "ratings": "5.0",
          "sentiments": 0
         },
         {
          "ratings": "5.0",
          "sentiments": 0
         },
         {
          "ratings": "5.0",
          "sentiments": 0.2
         },
         {
          "ratings": "5.0",
          "sentiments": 0.16666666666666666
         },
         {
          "ratings": "5.0",
          "sentiments": 0.12
         },
         {
          "ratings": "5.0",
          "sentiments": 0.5
         },
         {
          "ratings": "5.0",
          "sentiments": 0.0038789682539682535
         },
         {
          "ratings": "5.0",
          "sentiments": 0.09642857142857142
         },
         {
          "ratings": "5.0",
          "sentiments": 0.057692307692307696
         },
         {
          "ratings": "5.0",
          "sentiments": 0
         },
         {
          "ratings": "5.0",
          "sentiments": 0
         },
         {
          "ratings": "5.0",
          "sentiments": 0.020400979491888585
         },
         {
          "ratings": "5.0",
          "sentiments": 0.25
         },
         {
          "ratings": "5.0",
          "sentiments": 0.07692307692307693
         },
         {
          "ratings": "5.0",
          "sentiments": 1
         },
         {
          "ratings": "5.0",
          "sentiments": 0.0076388888888888895
         },
         {
          "ratings": "5.0",
          "sentiments": 0.08750000000000001
         },
         {
          "ratings": "5.0",
          "sentiments": 0.041666666666666664
         },
         {
          "ratings": "5.0",
          "sentiments": 0.08125
         },
         {
          "ratings": "5.0",
          "sentiments": 0.052271802271802274
         },
         {
          "ratings": "5.0",
          "sentiments": 0.14285714285714285
         },
         {
          "ratings": "5.0",
          "sentiments": 0
         },
         {
          "ratings": "5.0",
          "sentiments": 0.25
         },
         {
          "ratings": "5.0",
          "sentiments": 1
         },
         {
          "ratings": "5.0",
          "sentiments": 0
         },
         {
          "ratings": "5.0",
          "sentiments": 0.023809523809523808
         },
         {
          "ratings": "5.0",
          "sentiments": 0
         },
         {
          "ratings": "5.0",
          "sentiments": 0.07948717948717948
         },
         {
          "ratings": "5.0",
          "sentiments": 0
         },
         {
          "ratings": "5.0",
          "sentiments": 0.3333333333333333
         },
         {
          "ratings": "5.0",
          "sentiments": 0.07692307692307693
         },
         {
          "ratings": "5.0",
          "sentiments": 0.16666666666666666
         },
         {
          "ratings": "5.0",
          "sentiments": 0
         },
         {
          "ratings": "5.0",
          "sentiments": 0.03571428571428571
         },
         {
          "ratings": "5.0",
          "sentiments": 0.06577380952380953
         },
         {
          "ratings": "5.0",
          "sentiments": 0
         },
         {
          "ratings": "5.0",
          "sentiments": -0.3333333333333333
         },
         {
          "ratings": "5.0",
          "sentiments": 0.2
         },
         {
          "ratings": "5.0",
          "sentiments": 0.06666666666666667
         },
         {
          "ratings": "5.0",
          "sentiments": 0
         },
         {
          "ratings": "5.0",
          "sentiments": 0
         },
         {
          "ratings": "5.0",
          "sentiments": 0.15745811051693406
         },
         {
          "ratings": "5.0",
          "sentiments": 0.07631578947368421
         },
         {
          "ratings": "5.0",
          "sentiments": 0.037037037037037035
         },
         {
          "ratings": "5.0",
          "sentiments": 0.22333333333333333
         },
         {
          "ratings": "5.0",
          "sentiments": 0.25
         },
         {
          "ratings": "5.0",
          "sentiments": 0
         },
         {
          "ratings": "5.0",
          "sentiments": 1
         },
         {
          "ratings": "5.0",
          "sentiments": 0.16279069767441862
         },
         {
          "ratings": "5.0",
          "sentiments": 0.07777777777777778
         },
         {
          "ratings": "5.0",
          "sentiments": 0
         },
         {
          "ratings": "5.0",
          "sentiments": 0.146011396011396
         },
         {
          "ratings": "5.0",
          "sentiments": -0.041666666666666664
         },
         {
          "ratings": "5.0",
          "sentiments": 0.13333333333333333
         },
         {
          "ratings": "5.0",
          "sentiments": 0.08
         },
         {
          "ratings": "5.0",
          "sentiments": 0.08928571428571427
         },
         {
          "ratings": "5.0",
          "sentiments": 0.06041666666666667
         },
         {
          "ratings": "5.0",
          "sentiments": 0
         },
         {
          "ratings": "5.0",
          "sentiments": 0
         },
         {
          "ratings": "5.0",
          "sentiments": 0.25
         },
         {
          "ratings": "5.0",
          "sentiments": 0.08846153846153847
         },
         {
          "ratings": "5.0",
          "sentiments": 0
         },
         {
          "ratings": "5.0",
          "sentiments": -0.25
         },
         {
          "ratings": "5.0",
          "sentiments": 0
         },
         {
          "ratings": "5.0",
          "sentiments": -0.009398496240601503
         },
         {
          "ratings": "5.0",
          "sentiments": 0.05635459311929899
         },
         {
          "ratings": "5.0",
          "sentiments": 1
         },
         {
          "ratings": "5.0",
          "sentiments": 1
         },
         {
          "ratings": "5.0",
          "sentiments": -0.023588317564788144
         },
         {
          "ratings": "5.0",
          "sentiments": 0.13333333333333333
         },
         {
          "ratings": "5.0",
          "sentiments": 0
         },
         {
          "ratings": "5.0",
          "sentiments": 1
         },
         {
          "ratings": "5.0",
          "sentiments": 0.12
         },
         {
          "ratings": "5.0",
          "sentiments": 0.015046296296296295
         },
         {
          "ratings": "5.0",
          "sentiments": 0.05515860313245934
         },
         {
          "ratings": "5.0",
          "sentiments": 0.5
         },
         {
          "ratings": "5.0",
          "sentiments": 0.5
         },
         {
          "ratings": "5.0",
          "sentiments": 0.11166600124212582
         },
         {
          "ratings": "5.0",
          "sentiments": 0
         },
         {
          "ratings": "5.0",
          "sentiments": 0.13846153846153847
         },
         {
          "ratings": "5.0",
          "sentiments": 0.3333333333333333
         },
         {
          "ratings": "5.0",
          "sentiments": 0.5
         },
         {
          "ratings": "5.0",
          "sentiments": 0.037037037037037035
         },
         {
          "ratings": "5.0",
          "sentiments": 0.2
         },
         {
          "ratings": "5.0",
          "sentiments": -0.3763146551724138
         },
         {
          "ratings": "5.0",
          "sentiments": 0.1590909090909091
         },
         {
          "ratings": "5.0",
          "sentiments": 0.05285714285714286
         },
         {
          "ratings": "5.0",
          "sentiments": 0
         },
         {
          "ratings": "5.0",
          "sentiments": 0.05555555555555555
         },
         {
          "ratings": "5.0",
          "sentiments": 0.043138478655483196
         },
         {
          "ratings": "5.0",
          "sentiments": 0.02782608695652174
         },
         {
          "ratings": "5.0",
          "sentiments": 0.08849206349206348
         },
         {
          "ratings": "5.0",
          "sentiments": 0.5
         },
         {
          "ratings": "5.0",
          "sentiments": 0
         },
         {
          "ratings": "5.0",
          "sentiments": 0.23076923076923078
         },
         {
          "ratings": "5.0",
          "sentiments": 0.25
         },
         {
          "ratings": "5.0",
          "sentiments": 0.05555555555555555
         },
         {
          "ratings": "5.0",
          "sentiments": 0.5
         },
         {
          "ratings": "5.0",
          "sentiments": 0
         },
         {
          "ratings": "5.0",
          "sentiments": 1
         },
         {
          "ratings": "5.0",
          "sentiments": 0
         },
         {
          "ratings": "5.0",
          "sentiments": 0.6
         },
         {
          "ratings": "5.0",
          "sentiments": -0.014285714285714285
         },
         {
          "ratings": "5.0",
          "sentiments": 0.1
         },
         {
          "ratings": "5.0",
          "sentiments": 0
         },
         {
          "ratings": "5.0",
          "sentiments": 0.14285714285714285
         },
         {
          "ratings": "5.0",
          "sentiments": 1
         },
         {
          "ratings": "5.0",
          "sentiments": 0.08476107226107227
         },
         {
          "ratings": "5.0",
          "sentiments": 0.3333333333333333
         },
         {
          "ratings": "5.0",
          "sentiments": 0.16666666666666666
         },
         {
          "ratings": "5.0",
          "sentiments": 0.16666666666666666
         },
         {
          "ratings": "5.0",
          "sentiments": 0
         },
         {
          "ratings": "5.0",
          "sentiments": 0.0991025641025641
         },
         {
          "ratings": "5.0",
          "sentiments": -0.06451612903225806
         },
         {
          "ratings": "5.0",
          "sentiments": 0.25
         },
         {
          "ratings": "5.0",
          "sentiments": 0.14285714285714285
         },
         {
          "ratings": "5.0",
          "sentiments": 0.044826127819548874
         },
         {
          "ratings": "5.0",
          "sentiments": 0
         },
         {
          "ratings": "5.0",
          "sentiments": 0
         },
         {
          "ratings": "5.0",
          "sentiments": 0.05555555555555555
         },
         {
          "ratings": "5.0",
          "sentiments": 0
         },
         {
          "ratings": "5.0",
          "sentiments": 0.2857142857142857
         },
         {
          "ratings": "5.0",
          "sentiments": 0.06474199500970472
         },
         {
          "ratings": "5.0",
          "sentiments": 0.25
         },
         {
          "ratings": "5.0",
          "sentiments": 0.25
         },
         {
          "ratings": "5.0",
          "sentiments": 0.5
         },
         {
          "ratings": "5.0",
          "sentiments": 0.222985347985348
         },
         {
          "ratings": "5.0",
          "sentiments": -0.006328884494974459
         },
         {
          "ratings": "5.0",
          "sentiments": 0.05
         },
         {
          "ratings": "5.0",
          "sentiments": 0.045454545454545456
         },
         {
          "ratings": "5.0",
          "sentiments": 1
         },
         {
          "ratings": "5.0",
          "sentiments": 1
         },
         {
          "ratings": "5.0",
          "sentiments": 0.125
         },
         {
          "ratings": "5.0",
          "sentiments": 0.14285714285714285
         },
         {
          "ratings": "5.0",
          "sentiments": 0.3333333333333333
         },
         {
          "ratings": "5.0",
          "sentiments": 0
         },
         {
          "ratings": "5.0",
          "sentiments": 0.02666666666666667
         },
         {
          "ratings": "5.0",
          "sentiments": -0.09873737373737373
         },
         {
          "ratings": "5.0",
          "sentiments": -0.06560846560846562
         },
         {
          "ratings": "5.0",
          "sentiments": 0.11616161616161617
         },
         {
          "ratings": "5.0",
          "sentiments": 0
         },
         {
          "ratings": "5.0",
          "sentiments": 0.5
         },
         {
          "ratings": "5.0",
          "sentiments": 0
         },
         {
          "ratings": "5.0",
          "sentiments": 0
         },
         {
          "ratings": "5.0",
          "sentiments": 0
         },
         {
          "ratings": "5.0",
          "sentiments": 0.032052353104984686
         },
         {
          "ratings": "5.0",
          "sentiments": 0.5
         },
         {
          "ratings": "5.0",
          "sentiments": 0.033405483405483404
         },
         {
          "ratings": "5.0",
          "sentiments": 0.07738095238095237
         },
         {
          "ratings": "5.0",
          "sentiments": 0.14285714285714285
         },
         {
          "ratings": "5.0",
          "sentiments": 0.16964285714285715
         },
         {
          "ratings": "5.0",
          "sentiments": 0.10555555555555556
         },
         {
          "ratings": "5.0",
          "sentiments": 0.1414141414141414
         },
         {
          "ratings": "5.0",
          "sentiments": 0.045238095238095244
         },
         {
          "ratings": "5.0",
          "sentiments": 0
         },
         {
          "ratings": "5.0",
          "sentiments": 0.06655844155844157
         },
         {
          "ratings": "5.0",
          "sentiments": 1
         },
         {
          "ratings": "5.0",
          "sentiments": 0
         },
         {
          "ratings": "5.0",
          "sentiments": 0
         },
         {
          "ratings": "5.0",
          "sentiments": 0
         },
         {
          "ratings": "5.0",
          "sentiments": 1
         },
         {
          "ratings": "5.0",
          "sentiments": 0
         },
         {
          "ratings": "5.0",
          "sentiments": 0.14285714285714285
         },
         {
          "ratings": "5.0",
          "sentiments": 0.5
         },
         {
          "ratings": "5.0",
          "sentiments": 0
         },
         {
          "ratings": "5.0",
          "sentiments": -0.021875
         },
         {
          "ratings": "5.0",
          "sentiments": 0
         },
         {
          "ratings": "5.0",
          "sentiments": 0.04327485380116959
         },
         {
          "ratings": "5.0",
          "sentiments": 0.16666666666666666
         },
         {
          "ratings": "5.0",
          "sentiments": 0.023595023595023596
         },
         {
          "ratings": "5.0",
          "sentiments": -0.15384615384615385
         },
         {
          "ratings": "5.0",
          "sentiments": 0.1
         },
         {
          "ratings": "5.0",
          "sentiments": 0.2857142857142857
         },
         {
          "ratings": "5.0",
          "sentiments": 0.075
         },
         {
          "ratings": "5.0",
          "sentiments": 0.06601731601731602
         },
         {
          "ratings": "5.0",
          "sentiments": 0.045454545454545456
         },
         {
          "ratings": "5.0",
          "sentiments": 0.014269003713975255
         },
         {
          "ratings": "5.0",
          "sentiments": 0.09090909090909091
         },
         {
          "ratings": "5.0",
          "sentiments": 0.14285714285714285
         },
         {
          "ratings": "5.0",
          "sentiments": 0
         },
         {
          "ratings": "5.0",
          "sentiments": 0.008223684210526314
         },
         {
          "ratings": "5.0",
          "sentiments": 0
         },
         {
          "ratings": "5.0",
          "sentiments": 0
         },
         {
          "ratings": "5.0",
          "sentiments": 0.3055555555555556
         },
         {
          "ratings": "5.0",
          "sentiments": 0
         },
         {
          "ratings": "5.0",
          "sentiments": -0.04240196078431372
         },
         {
          "ratings": "5.0",
          "sentiments": 1
         },
         {
          "ratings": "5.0",
          "sentiments": 0.06369047619047619
         },
         {
          "ratings": "5.0",
          "sentiments": 0
         },
         {
          "ratings": "5.0",
          "sentiments": 0.2
         },
         {
          "ratings": "5.0",
          "sentiments": 0.5
         },
         {
          "ratings": "5.0",
          "sentiments": 0
         },
         {
          "ratings": "5.0",
          "sentiments": 0
         },
         {
          "ratings": "5.0",
          "sentiments": 0.09090909090909091
         },
         {
          "ratings": "5.0",
          "sentiments": 0
         },
         {
          "ratings": "5.0",
          "sentiments": 0
         },
         {
          "ratings": "5.0",
          "sentiments": 0
         },
         {
          "ratings": "5.0",
          "sentiments": 0.6666666666666666
         },
         {
          "ratings": "5.0",
          "sentiments": 0.5
         },
         {
          "ratings": "5.0",
          "sentiments": -0.6590909090909091
         },
         {
          "ratings": "5.0",
          "sentiments": 0.1111111111111111
         },
         {
          "ratings": "5.0",
          "sentiments": 0.04175438596491228
         },
         {
          "ratings": "5.0",
          "sentiments": 0.16666666666666666
         },
         {
          "ratings": "5.0",
          "sentiments": -0.024942358366271407
         },
         {
          "ratings": "5.0",
          "sentiments": 0.2857142857142857
         },
         {
          "ratings": "5.0",
          "sentiments": 0.09166666666666667
         },
         {
          "ratings": "5.0",
          "sentiments": 0.13171122994652407
         },
         {
          "ratings": "5.0",
          "sentiments": 0
         },
         {
          "ratings": "5.0",
          "sentiments": 0.05555555555555555
         },
         {
          "ratings": "5.0",
          "sentiments": 0.009259259259259259
         },
         {
          "ratings": "5.0",
          "sentiments": 0.09523809523809523
         },
         {
          "ratings": "5.0",
          "sentiments": 0.15555555555555556
         },
         {
          "ratings": "5.0",
          "sentiments": -0.11764705882352941
         },
         {
          "ratings": "5.0",
          "sentiments": -0.125
         },
         {
          "ratings": "5.0",
          "sentiments": 0
         },
         {
          "ratings": "5.0",
          "sentiments": 1
         },
         {
          "ratings": "5.0",
          "sentiments": 0.5
         },
         {
          "ratings": "5.0",
          "sentiments": 0.0917989417989418
         },
         {
          "ratings": "5.0",
          "sentiments": 0.3333333333333333
         },
         {
          "ratings": "5.0",
          "sentiments": 0.01715735041634012
         },
         {
          "ratings": "5.0",
          "sentiments": 0.03571428571428571
         },
         {
          "ratings": "5.0",
          "sentiments": 0.0625
         },
         {
          "ratings": "5.0",
          "sentiments": 0.0625
         },
         {
          "ratings": "5.0",
          "sentiments": 0
         },
         {
          "ratings": "5.0",
          "sentiments": 0.25
         },
         {
          "ratings": "5.0",
          "sentiments": -0.011575091575091576
         },
         {
          "ratings": "5.0",
          "sentiments": -0.0013021222261191024
         },
         {
          "ratings": "5.0",
          "sentiments": 0.25
         },
         {
          "ratings": "5.0",
          "sentiments": 0
         },
         {
          "ratings": "5.0",
          "sentiments": 0.11363636363636363
         },
         {
          "ratings": "5.0",
          "sentiments": 0
         },
         {
          "ratings": "5.0",
          "sentiments": 0.035238095238095235
         },
         {
          "ratings": "5.0",
          "sentiments": 0.15000000000000002
         },
         {
          "ratings": "5.0",
          "sentiments": 0.08333333333333333
         },
         {
          "ratings": "5.0",
          "sentiments": 0.10683760683760683
         },
         {
          "ratings": "5.0",
          "sentiments": 0
         },
         {
          "ratings": "5.0",
          "sentiments": 0.08333333333333333
         },
         {
          "ratings": "5.0",
          "sentiments": 0.04580896686159844
         },
         {
          "ratings": "5.0",
          "sentiments": 0.058823529411764705
         },
         {
          "ratings": "5.0",
          "sentiments": 0.2
         },
         {
          "ratings": "5.0",
          "sentiments": 0.24583333333333335
         },
         {
          "ratings": "5.0",
          "sentiments": 0
         },
         {
          "ratings": "5.0",
          "sentiments": 0.06666666666666667
         },
         {
          "ratings": "5.0",
          "sentiments": 0
         },
         {
          "ratings": "5.0",
          "sentiments": 0.1349206349206349
         },
         {
          "ratings": "5.0",
          "sentiments": 0.016666666666666666
         },
         {
          "ratings": "5.0",
          "sentiments": 1
         },
         {
          "ratings": "5.0",
          "sentiments": 0
         },
         {
          "ratings": "5.0",
          "sentiments": 0
         },
         {
          "ratings": "5.0",
          "sentiments": 0.10795454545454546
         },
         {
          "ratings": "5.0",
          "sentiments": 0.16666666666666666
         },
         {
          "ratings": "5.0",
          "sentiments": 0.06439393939393939
         },
         {
          "ratings": "5.0",
          "sentiments": -0.09809384164222874
         },
         {
          "ratings": "5.0",
          "sentiments": 0.05890003716090673
         },
         {
          "ratings": "5.0",
          "sentiments": 0.1
         },
         {
          "ratings": "5.0",
          "sentiments": 0.09126984126984126
         },
         {
          "ratings": "5.0",
          "sentiments": 0.2
         },
         {
          "ratings": "5.0",
          "sentiments": 0.3333333333333333
         },
         {
          "ratings": "5.0",
          "sentiments": 0.3333333333333333
         },
         {
          "ratings": "5.0",
          "sentiments": -0.05555555555555555
         },
         {
          "ratings": "5.0",
          "sentiments": 0.029166666666666667
         },
         {
          "ratings": "5.0",
          "sentiments": 0.125
         },
         {
          "ratings": "5.0",
          "sentiments": 0.12166666666666666
         },
         {
          "ratings": "5.0",
          "sentiments": -0.125
         },
         {
          "ratings": "5.0",
          "sentiments": 0.0625
         },
         {
          "ratings": "5.0",
          "sentiments": 0.038461538461538464
         },
         {
          "ratings": "5.0",
          "sentiments": 0
         },
         {
          "ratings": "5.0",
          "sentiments": -0.5
         },
         {
          "ratings": "5.0",
          "sentiments": 0
         },
         {
          "ratings": "5.0",
          "sentiments": 0
         },
         {
          "ratings": "5.0",
          "sentiments": 0.009447415329768269
         },
         {
          "ratings": "5.0",
          "sentiments": 0.011111111111111108
         },
         {
          "ratings": "5.0",
          "sentiments": 0.06779963193006672
         },
         {
          "ratings": "5.0",
          "sentiments": 0.19090909090909092
         },
         {
          "ratings": "5.0",
          "sentiments": 0.013235294117647059
         },
         {
          "ratings": "5.0",
          "sentiments": 0.038461538461538464
         },
         {
          "ratings": "5.0",
          "sentiments": 0.5
         },
         {
          "ratings": "5.0",
          "sentiments": 0
         },
         {
          "ratings": "5.0",
          "sentiments": 0
         },
         {
          "ratings": "5.0",
          "sentiments": -0.023387096774193546
         },
         {
          "ratings": "5.0",
          "sentiments": -0.5
         },
         {
          "ratings": "5.0",
          "sentiments": 0.0642857142857143
         },
         {
          "ratings": "5.0",
          "sentiments": 0.07302664655605832
         },
         {
          "ratings": "5.0",
          "sentiments": -0.022727272727272728
         },
         {
          "ratings": "5.0",
          "sentiments": 0
         },
         {
          "ratings": "5.0",
          "sentiments": 0
         },
         {
          "ratings": "5.0",
          "sentiments": 0.3333333333333333
         },
         {
          "ratings": "5.0",
          "sentiments": 0.2857142857142857
         },
         {
          "ratings": "5.0",
          "sentiments": 0
         },
         {
          "ratings": "5.0",
          "sentiments": 0.08333333333333333
         },
         {
          "ratings": "5.0",
          "sentiments": 0.5
         },
         {
          "ratings": "5.0",
          "sentiments": 0.2222222222222222
         }
        ]
       },
       "encoding": {
        "color": {
         "field": "ratings",
         "type": "nominal"
        },
        "tooltip": [
         {
          "field": "ratings",
          "type": "nominal"
         },
         {
          "field": "sentiments",
          "type": "quantitative"
         }
        ],
        "x": {
         "field": "ratings",
         "type": "nominal"
        },
        "y": {
         "field": "sentiments",
         "type": "quantitative"
        }
       },
       "mark": {
        "size": 60,
        "type": "circle"
       },
       "selection": {
        "selector004": {
         "bind": "scales",
         "encodings": [
          "x",
          "y"
         ],
         "type": "interval"
        }
       }
      },
      "image/png": "[encoded data removed]",
      "text/plain": [
       "<VegaLite 4 object>\n",
       "\n",
       "If you see this message, it means the renderer has not been properly enabled\n",
       "for the frontend that you are using. For more information, see\n",
       "https://altair-viz.github.io/user_guide/troubleshooting.html\n"
      ]
     },
     "execution_count": 64,
     "metadata": {},
     "output_type": "execute_result"
    }
   ],
   "source": [
    "# is there any relationship btw review scores and sentiments?\n",
    "source = pd.DataFrame(\n",
    "    {\"ratings\": [str(e) for e in ratings], \"sentiments\": review_sentiments_with_negation}\n",
    ")\n",
    "\n",
    "chart4 = (\n",
    "    alt.Chart(source)\n",
    "    .mark_circle(size=60)\n",
    "    .encode(\n",
    "        x=\"ratings\", y=\"sentiments\", color=\"ratings\", tooltip=[\"ratings\", \"sentiments\"]\n",
    "    )\n",
    "    .interactive()\n",
    ")\n",
    "chart4"
   ]
  },
  {
   "cell_type": "code",
   "execution_count": null,
   "metadata": {},
   "outputs": [],
   "source": []
  },
  {
   "cell_type": "code",
   "execution_count": null,
   "metadata": {},
   "outputs": [],
   "source": []
  },
  {
   "cell_type": "markdown",
   "metadata": {},
   "source": [
    "## investigation..."
   ]
  },
  {
   "cell_type": "code",
   "execution_count": 60,
   "metadata": {},
   "outputs": [
    {
     "data": {
      "text/plain": [
       "['No issues.  Great game',\n",
       " 'If you have little kids, (not older, definately not teenagers) this game is very good for keeping the youngins interested, happy and is actually quite fun to play for those that are really too young to play playstation and xbox consoles. I good deal even at this price range to keep their attention for hours at a time.',\n",
       " 'No issues...',\n",
       " \"Bought for my adult son who is a South Park and video game fan. He can't stop playing it and has friends over who also have a great time playing it. No complaints from any of them. He couldn't be happier.\",\n",
       " \"Who doesn't love WindWaker! I myself am not a huge fan of Nintendo's creative choice to add a ton of bloom to the game. But I suppose that is more of a knock towards the Wii U's lack of horsepower than the game itself. Outside of that it is wonderful to have the game that myself and my family spent so many hours playing in HD!\"]"
      ]
     },
     "execution_count": 60,
     "metadata": {},
     "output_type": "execute_result"
    }
   ],
   "source": [
    "review_good_sentiment_bad = []\n",
    "review_bad_sentiment_good = []\n",
    "for i in range(len(reviews)):\n",
    "    sc = ratings[i]\n",
    "    rs = review_sentiments_with_negation[i]\n",
    "    # ss = summary_sentiments[i]\n",
    "    t = reviews[i]\n",
    "    if sc == 5 and rs < -0.2:\n",
    "        review_good_sentiment_bad.append(t)\n",
    "    if sc == 1 and rs > 0.3:\n",
    "        review_bad_sentiment_good.append(t)\n",
    "\n",
    "review_good_sentiment_bad[:5]"
   ]
  },
  {
   "cell_type": "code",
   "execution_count": 61,
   "metadata": {},
   "outputs": [
    {
     "data": {
      "text/plain": [
       "[\"Game will not load it always crashes at the menu screen idk why but it's the only game over ever had to do this.\",\n",
       " \"the game diden't play at all very disapointed feel lied to about condition waste of money so unhappy with this.\",\n",
       " 'this game was not bad to start 0ff with but when i tried to play it again it my monitor had a white line on the bottom oif the screen which covered up the list of hidden objects i was to look for and so this is why it will only get one star from me  very disappointed by this',\n",
       " 'the game cheats i shot a guy 4 times running for the alarm and he did  not die poor game design stealth sections do not work enemy spots all the tme run for alarm when shoot an enemy they yell to ruin your stealth thats cheating  you shoot the enemy and they cheat and do not die pc games do not belong on ps2 this game is garbage',\n",
       " 'Not recommended, not provide solutions to the concerns of a simple traking number that was canceled and have the obligcacin to provide it to the client and which is paid through the sale of the product.']"
      ]
     },
     "execution_count": 61,
     "metadata": {},
     "output_type": "execute_result"
    }
   ],
   "source": [
    "review_bad_sentiment_good[:5]"
   ]
  },
  {
   "cell_type": "markdown",
   "metadata": {},
   "source": [
    "## apply machine learning technique"
   ]
  },
  {
   "cell_type": "code",
   "execution_count": null,
   "metadata": {},
   "outputs": [],
   "source": []
  }
 ],
 "metadata": {
  "kernelspec": {
   "display_name": "Python 3",
   "language": "python",
   "name": "python3"
  },
  "language_info": {
   "codemirror_mode": {
    "name": "ipython",
    "version": 3
   },
   "file_extension": ".py",
   "mimetype": "text/x-python",
   "name": "python",
   "nbconvert_exporter": "python",
   "pygments_lexer": "ipython3",
   "version": "3.8.5"
  }
 },
 "nbformat": 4,
 "nbformat_minor": 4
}
